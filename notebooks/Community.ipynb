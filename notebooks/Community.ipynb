{
 "cells": [
  {
   "cell_type": "markdown",
   "id": "settled-boundary",
   "metadata": {},
   "source": [
    "# Society of Mind"
   ]
  },
  {
   "cell_type": "code",
   "execution_count": null,
   "id": "incomplete-marker",
   "metadata": {},
   "outputs": [],
   "source": [
    "import torch\n",
    "import numpy as np\n",
    "import torch.nn as nn\n",
    "import matplotlib.pyplot as plt\n",
    "from torchvision import datasets, transforms\n",
    "import yaml\n"
   ]
  },
  {
   "cell_type": "code",
   "execution_count": null,
   "id": "sunset-circle",
   "metadata": {},
   "outputs": [],
   "source": [
    "from community.data.datasets import get_datasets, Custom_EMNIST\n",
    "from community.common.init import init_community, init_optimizers\n",
    "from community.common.training import train_community"
   ]
  },
  {
   "cell_type": "code",
   "execution_count": null,
   "id": "59869309",
   "metadata": {},
   "outputs": [],
   "source": [
    "transform=transforms.Compose([\n",
    "        lambda img : transforms.functional.rotate(img, -90),\n",
    "        lambda img : transforms.functional.hflip(img),\n",
    "        transforms.ToTensor(),\n",
    "        transforms.Normalize((0.1307,), (0.3081,))\n",
    "        ])\n",
    "\n",
    "truncate = truncate=np.arange(10, 21)\n",
    "truncate = truncate[truncate != 18]\n",
    "\n",
    "emnist = Custom_EMNIST('../data/', train=False, data_type='byclass', truncate=truncate, download=True, transform=transform)"
   ]
  },
  {
   "cell_type": "code",
   "execution_count": null,
   "id": "3b238d9d",
   "metadata": {},
   "outputs": [],
   "source": [
    "emnist.targets"
   ]
  },
  {
   "cell_type": "code",
   "execution_count": null,
   "id": "85dedd56",
   "metadata": {},
   "outputs": [],
   "source": [
    "from community.common.utils import plot_grid\n",
    "data = [[emnist[i*10 + j][0] for i in range(10)] for j in range(10)]\n",
    "label = [[emnist[i*10 + j][1] for i in range(10)] for j in range(10)]\n",
    "\n",
    "plot_grid(data, label, figsize=(10, 10))"
   ]
  },
  {
   "cell_type": "code",
   "execution_count": null,
   "id": "3a79bfc3",
   "metadata": {},
   "outputs": [],
   "source": [
    "[[d[0] for d in data] for _ in range(2)]"
   ]
  },
  {
   "cell_type": "code",
   "execution_count": null,
   "id": "marine-winner",
   "metadata": {},
   "outputs": [],
   "source": [
    "import warnings\n",
    "#warnings.filterwarnings('ignore')"
   ]
  },
  {
   "cell_type": "code",
   "execution_count": null,
   "id": "independent-provincial",
   "metadata": {},
   "outputs": [],
   "source": [
    "%load_ext autoreload\n",
    "%autoreload 2"
   ]
  },
  {
   "cell_type": "code",
   "execution_count": null,
   "id": "binary-adjustment",
   "metadata": {},
   "outputs": [],
   "source": [
    "use_cuda = False\n",
    "device = torch.device(\"cuda\" if use_cuda else \"cpu\")\n",
    "batch_size = 256\n",
    "multi_loaders, double_loaders, single_loaders = get_datasets('../data', batch_size, use_cuda)"
   ]
  },
  {
   "cell_type": "markdown",
   "id": "6724a2cf-4b32-4128-a172-854a13510fe7",
   "metadata": {
    "jp-MarkdownHeadingCollapsed": true,
    "tags": []
   },
   "source": [
    "## Standard Community"
   ]
  },
  {
   "cell_type": "markdown",
   "id": "suspected-occasions",
   "metadata": {
    "jp-MarkdownHeadingCollapsed": true,
    "tags": []
   },
   "source": [
    "### Community Initialization"
   ]
  },
  {
   "cell_type": "code",
   "execution_count": null,
   "id": "acknowledged-sacramento",
   "metadata": {},
   "outputs": [],
   "source": [
    "agents_params_dict = {'n_agents' : 2,\n",
    "                         'n_in' : 784,\n",
    "                         'n_ins' : None,\n",
    "                         'n_hid' : 100,\n",
    "                         'n_layer' : 1,\n",
    "                         'n_out' : 10,\n",
    "                         'train_in_out': (True, False),\n",
    "                         'use_readout': True,\n",
    "                         'cell_type': str(nn.RNN),\n",
    "                         'use_bottleneck': False,\n",
    "                         'dropout': 0}\n",
    "\n",
    "p_con = 1e-3\n",
    "\n",
    "community = init_community(agents_params_dict, p_con, device=device)\n",
    "community.nb_connections"
   ]
  },
  {
   "cell_type": "code",
   "execution_count": null,
   "id": "creative-webcam",
   "metadata": {},
   "outputs": [],
   "source": [
    "params = lr, gamma = 1e-3, 0.95\n",
    "params_dict = {'lr' : lr, 'gamma' : gamma}\n",
    "\n",
    "deepR_params = l1, gdnoise, lr, gamma, cooling = 1e-5, 1e-3, 1e-3, 0.95, 0.95\n",
    "deepR_params_dict = {'l1' : l1, 'gdnoise' : gdnoise, 'lr' : lr, 'gamma' : gamma, 'cooling' : cooling}\n",
    "\n",
    "\n",
    "optimizers, schedulers = init_optimizers(community, params_dict, deepR_params_dict)"
   ]
  },
  {
   "cell_type": "code",
   "execution_count": null,
   "id": "restricted-measure",
   "metadata": {},
   "outputs": [],
   "source": [
    "n"
   ]
  },
  {
   "cell_type": "markdown",
   "id": "brief-voice",
   "metadata": {
    "jp-MarkdownHeadingCollapsed": true,
    "tags": []
   },
   "source": [
    "### Training"
   ]
  },
  {
   "cell_type": "code",
   "execution_count": null,
   "id": "accurate-vitamin",
   "metadata": {},
   "outputs": [],
   "source": [
    "training_dict = {\n",
    "    'n_epochs' : 2, \n",
    "    'task' : 'parity_digits',\n",
    "    'global_rewire' : True, \n",
    "    'check_gradients' : False, \n",
    "    'reg_factor' : 0.,\n",
    "    'train_connections' : True,\n",
    "    'global_rewire' : True,\n",
    "    'decision_params' : ('last', 'max'),\n",
    "    'early_stop' : True ,\n",
    "    'deepR_params_dict' : deepR_params_dict,\n",
    "}\n",
    "\n",
    "#pyaml.save(training_dict, '../community/common/default_train_dict.yml')\n",
    "\n",
    "train_out = train_community(community, *double_loaders, optimizers, \n",
    "                            schedulers=schedulers, config=training_dict, device=device)\n",
    "                            \n",
    "results = train_out"
   ]
  },
  {
   "cell_type": "code",
   "execution_count": null,
   "id": "072d70e3",
   "metadata": {},
   "outputs": [],
   "source": [
    "train_losses, train_accs, test_losses, test_accs, deciding_agents, best_state = list(results.values())"
   ]
  },
  {
   "cell_type": "markdown",
   "id": "3981ed3e",
   "metadata": {},
   "source": [
    "### Results"
   ]
  },
  {
   "cell_type": "code",
   "execution_count": null,
   "id": "20094959-4a01-4b87-b397-622a521efa17",
   "metadata": {},
   "outputs": [],
   "source": [
    "plt.plot(train_accs)\n",
    "m = 1\n",
    "epochs_slices = np.arange(0, len(train_accs)+1, m*len(double_loaders[0]))\n",
    "max_per_epoch = [np.max(train_accs[epochs_slices[e]:epochs_slices[e+1]]) for e in range(len(epochs_slices)-1)]\n",
    "#max_per_epoch.append(np.max(train_accs[epochs_slices[-1]:]))\n",
    "plt.plot(epochs_slices[1:], max_per_epoch)\n"
   ]
  },
  {
   "cell_type": "code",
   "execution_count": null,
   "id": "0c65d3f2",
   "metadata": {},
   "outputs": [],
   "source": [
    "plt.plot(train_losses)"
   ]
  },
  {
   "cell_type": "code",
   "execution_count": null,
   "id": "35471508",
   "metadata": {},
   "outputs": [],
   "source": [
    "import pyaml\n",
    "import yaml"
   ]
  },
  {
   "cell_type": "code",
   "execution_count": null,
   "id": "8151434d",
   "metadata": {},
   "outputs": [],
   "source": [
    "with open('../config.yml', 'r') as datafile : \n",
    "    config = yaml.safe_load(datafile)\n",
    "\n",
    "    "
   ]
  },
  {
   "cell_type": "code",
   "execution_count": null,
   "id": "dc4b561b",
   "metadata": {},
   "outputs": [],
   "source": [
    "filter_config = {k : v for (k, v) in config.items() if k in ['datasets']}\n",
    "filter_config"
   ]
  },
  {
   "cell_type": "code",
   "execution_count": null,
   "id": "ca028bb4",
   "metadata": {},
   "outputs": [],
   "source": [
    "from community.common.utils import get_wandb_artifact"
   ]
  },
  {
   "cell_type": "code",
   "execution_count": null,
   "id": "ce181950",
   "metadata": {},
   "outputs": [],
   "source": [
    "filter_config = {'datasets' : {\n",
    "                    'data_type' : 'multi'\n",
    "                },\n",
    "                'task' : 'parity_digits'\n",
    "}\n",
    "get_wandb_artifact(filter_config, 'funcspec', 'state_dicts', process_config=True, run_id='195cgoaq')"
   ]
  },
  {
   "cell_type": "code",
   "execution_count": null,
   "id": "fd110472",
   "metadata": {},
   "outputs": [],
   "source": [
    "! wandb login"
   ]
  }
 ],
 "metadata": {
  "kernelspec": {
   "display_name": "Python 3 (ipykernel)",
   "language": "python",
   "name": "python3"
  },
  "language_info": {
   "codemirror_mode": {
    "name": "ipython",
    "version": 3
   },
   "file_extension": ".py",
   "mimetype": "text/x-python",
   "name": "python",
   "nbconvert_exporter": "python",
   "pygments_lexer": "ipython3",
   "version": "3.10.4"
  }
 },
 "nbformat": 4,
 "nbformat_minor": 5
}
