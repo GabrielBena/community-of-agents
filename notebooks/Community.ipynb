{
 "cells": [
  {
   "cell_type": "markdown",
   "id": "settled-boundary",
   "metadata": {},
   "source": [
    "# Society of Mind"
   ]
  },
  {
   "cell_type": "code",
   "execution_count": 1,
   "id": "incomplete-marker",
   "metadata": {},
   "outputs": [],
   "source": [
    "import torch\n",
    "import numpy as np\n",
    "import torch.nn as nn\n",
    "import matplotlib.pyplot as plt\n",
    "from torchvision import datasets, transforms\n",
    "import yaml\n"
   ]
  },
  {
   "cell_type": "code",
   "execution_count": 2,
   "id": "sunset-circle",
   "metadata": {},
   "outputs": [],
   "source": [
    "from community.data.datasets import get_datasets\n",
    "from community.common.init import init_community, init_optimizers\n",
    "from community.common.training import train_community"
   ]
  },
  {
   "cell_type": "code",
   "execution_count": 3,
   "id": "marine-winner",
   "metadata": {},
   "outputs": [],
   "source": [
    "import warnings\n",
    "#warnings.filterwarnings('ignore')"
   ]
  },
  {
   "cell_type": "code",
   "execution_count": 4,
   "id": "independent-provincial",
   "metadata": {},
   "outputs": [],
   "source": [
    "%load_ext autoreload\n",
    "%autoreload 2"
   ]
  },
  {
   "cell_type": "code",
   "execution_count": 13,
   "id": "binary-adjustment",
   "metadata": {},
   "outputs": [],
   "source": [
    "use_cuda = False\n",
    "device = torch.device(\"cuda\" if use_cuda else \"cpu\")\n",
    "batch_size = 256\n",
    "multi_loaders, double_loaders, single_loaders = get_datasets('../data', batch_size, use_cuda)"
   ]
  },
  {
   "cell_type": "markdown",
   "id": "6724a2cf-4b32-4128-a172-854a13510fe7",
   "metadata": {
    "jp-MarkdownHeadingCollapsed": true,
    "tags": []
   },
   "source": [
    "## Standard Community"
   ]
  },
  {
   "cell_type": "markdown",
   "id": "suspected-occasions",
   "metadata": {
    "jp-MarkdownHeadingCollapsed": true,
    "tags": []
   },
   "source": [
    "### Community Initialization"
   ]
  },
  {
   "cell_type": "code",
   "execution_count": 14,
   "id": "acknowledged-sacramento",
   "metadata": {},
   "outputs": [
    {
     "data": {
      "text/plain": [
       "{'01': tensor(10), '10': tensor(10)}"
      ]
     },
     "execution_count": 14,
     "metadata": {},
     "output_type": "execute_result"
    }
   ],
   "source": [
    "agents_params_dict = {'n_agents' : 2,\n",
    "                         'n_in' : 784,\n",
    "                         'n_ins' : None,\n",
    "                         'n_hid' : 100,\n",
    "                         'n_layer' : 1,\n",
    "                         'n_out' : 10,\n",
    "                         'train_in_out': (True, False),\n",
    "                         'use_readout': True,\n",
    "                         'cell_type': str(nn.RNN),\n",
    "                         'use_bottleneck': False,\n",
    "                         'dropout': 0}\n",
    "\n",
    "p_con = 1e-3\n",
    "\n",
    "community = init_community(agents_params_dict, p_con, device=device)\n",
    "community.nb_connections"
   ]
  },
  {
   "cell_type": "code",
   "execution_count": 15,
   "id": "creative-webcam",
   "metadata": {},
   "outputs": [],
   "source": [
    "params = lr, gamma = 1e-3, 0.95\n",
    "params_dict = {'lr' : lr, 'gamma' : gamma}\n",
    "\n",
    "deepR_params = l1, gdnoise, lr, gamma, cooling = 1e-5, 1e-3, 1e-3, 0.95, 0.95\n",
    "deepR_params_dict = {'l1' : l1, 'gdnoise' : gdnoise, 'lr' : lr, 'gamma' : gamma, 'cooling' : cooling}\n",
    "\n",
    "\n",
    "optimizers, schedulers = init_optimizers(community, params_dict, deepR_params_dict)"
   ]
  },
  {
   "cell_type": "code",
   "execution_count": null,
   "id": "restricted-measure",
   "metadata": {},
   "outputs": [],
   "source": [
    "n"
   ]
  },
  {
   "cell_type": "markdown",
   "id": "brief-voice",
   "metadata": {
    "jp-MarkdownHeadingCollapsed": true,
    "tags": []
   },
   "source": [
    "### Training"
   ]
  },
  {
   "cell_type": "code",
   "execution_count": 16,
   "id": "accurate-vitamin",
   "metadata": {},
   "outputs": [
    {
     "data": {
      "application/vnd.jupyter.widget-view+json": {
       "model_id": "dafe44f694ff4442b4d1e059bb21915e",
       "version_major": 2,
       "version_minor": 0
      },
      "text/plain": [
       "Train Epoch::   0%|          | 0/2 [00:00<?, ?it/s]"
      ]
     },
     "metadata": {},
     "output_type": "display_data"
    },
    {
     "ename": "KeyboardInterrupt",
     "evalue": "",
     "output_type": "error",
     "traceback": [
      "\u001b[0;31m---------------------------------------------------------------------------\u001b[0m",
      "\u001b[0;31mKeyboardInterrupt\u001b[0m                         Traceback (most recent call last)",
      "\u001b[1;32m/home/gb21/Code/ANNs/community-of-agents/notebooks/Community.ipynb Cell 13'\u001b[0m in \u001b[0;36m<cell line: 16>\u001b[0;34m()\u001b[0m\n\u001b[1;32m      <a href='vscode-notebook-cell://ssh-remote%2Bblossom.ee.ic.ac.uk/home/gb21/Code/ANNs/community-of-agents/notebooks/Community.ipynb#ch0000012vscode-remote?line=0'>1</a>\u001b[0m training_dict \u001b[39m=\u001b[39m {\n\u001b[1;32m      <a href='vscode-notebook-cell://ssh-remote%2Bblossom.ee.ic.ac.uk/home/gb21/Code/ANNs/community-of-agents/notebooks/Community.ipynb#ch0000012vscode-remote?line=1'>2</a>\u001b[0m     \u001b[39m'\u001b[39m\u001b[39mn_epochs\u001b[39m\u001b[39m'\u001b[39m : \u001b[39m2\u001b[39m, \n\u001b[1;32m      <a href='vscode-notebook-cell://ssh-remote%2Bblossom.ee.ic.ac.uk/home/gb21/Code/ANNs/community-of-agents/notebooks/Community.ipynb#ch0000012vscode-remote?line=2'>3</a>\u001b[0m     \u001b[39m'\u001b[39m\u001b[39mtask\u001b[39m\u001b[39m'\u001b[39m : \u001b[39m'\u001b[39m\u001b[39mparity_digits\u001b[39m\u001b[39m'\u001b[39m,\n\u001b[0;32m   (...)\u001b[0m\n\u001b[1;32m     <a href='vscode-notebook-cell://ssh-remote%2Bblossom.ee.ic.ac.uk/home/gb21/Code/ANNs/community-of-agents/notebooks/Community.ipynb#ch0000012vscode-remote?line=10'>11</a>\u001b[0m     \u001b[39m'\u001b[39m\u001b[39mdeepR_params_dict\u001b[39m\u001b[39m'\u001b[39m : deepR_params_dict,\n\u001b[1;32m     <a href='vscode-notebook-cell://ssh-remote%2Bblossom.ee.ic.ac.uk/home/gb21/Code/ANNs/community-of-agents/notebooks/Community.ipynb#ch0000012vscode-remote?line=11'>12</a>\u001b[0m }\n\u001b[1;32m     <a href='vscode-notebook-cell://ssh-remote%2Bblossom.ee.ic.ac.uk/home/gb21/Code/ANNs/community-of-agents/notebooks/Community.ipynb#ch0000012vscode-remote?line=13'>14</a>\u001b[0m \u001b[39m#pyaml.save(training_dict, '../community/common/default_train_dict.yml')\u001b[39;00m\n\u001b[0;32m---> <a href='vscode-notebook-cell://ssh-remote%2Bblossom.ee.ic.ac.uk/home/gb21/Code/ANNs/community-of-agents/notebooks/Community.ipynb#ch0000012vscode-remote?line=15'>16</a>\u001b[0m train_out \u001b[39m=\u001b[39m train_community(community, \u001b[39m*\u001b[39;49mdouble_loaders, optimizers, \n\u001b[1;32m     <a href='vscode-notebook-cell://ssh-remote%2Bblossom.ee.ic.ac.uk/home/gb21/Code/ANNs/community-of-agents/notebooks/Community.ipynb#ch0000012vscode-remote?line=16'>17</a>\u001b[0m                             schedulers\u001b[39m=\u001b[39;49mschedulers, config\u001b[39m=\u001b[39;49mtraining_dict, device\u001b[39m=\u001b[39;49mdevice)\n\u001b[1;32m     <a href='vscode-notebook-cell://ssh-remote%2Bblossom.ee.ic.ac.uk/home/gb21/Code/ANNs/community-of-agents/notebooks/Community.ipynb#ch0000012vscode-remote?line=18'>19</a>\u001b[0m results \u001b[39m=\u001b[39m train_out\n",
      "File \u001b[0;32m~/Code/ANNs/community-of-agents/community/common/training.py:84\u001b[0m, in \u001b[0;36mtrain_community\u001b[0;34m(model, train_loader, test_loader, optimizers, schedulers, config, trials, use_tqdm, device)\u001b[0m\n\u001b[1;32m     <a href='file:///home/gb21/Code/ANNs/community-of-agents/community/common/training.py?line=80'>81</a>\u001b[0m \u001b[39mif\u001b[39;00m training : \n\u001b[1;32m     <a href='file:///home/gb21/Code/ANNs/community-of-agents/community/common/training.py?line=82'>83</a>\u001b[0m     model\u001b[39m.\u001b[39mtrain()        \n\u001b[0;32m---> <a href='file:///home/gb21/Code/ANNs/community-of-agents/community/common/training.py?line=83'>84</a>\u001b[0m     \u001b[39mfor\u001b[39;00m batch_idx, (data, target) \u001b[39min\u001b[39;00m \u001b[39menumerate\u001b[39m(train_loader):\n\u001b[1;32m     <a href='file:///home/gb21/Code/ANNs/community-of-agents/community/common/training.py?line=84'>85</a>\u001b[0m         \u001b[39mif\u001b[39;00m \u001b[39mtype\u001b[39m(data) \u001b[39mis\u001b[39;00m \u001b[39mlist\u001b[39m : \n\u001b[1;32m     <a href='file:///home/gb21/Code/ANNs/community-of-agents/community/common/training.py?line=85'>86</a>\u001b[0m             data, target \u001b[39m=\u001b[39m [d\u001b[39m.\u001b[39mto(device) \u001b[39mfor\u001b[39;00m d \u001b[39min\u001b[39;00m data], target\u001b[39m.\u001b[39mto(device)\n",
      "File \u001b[0;32m~/.conda/envs/community/lib/python3.10/site-packages/torch/utils/data/dataloader.py:530\u001b[0m, in \u001b[0;36m_BaseDataLoaderIter.__next__\u001b[0;34m(self)\u001b[0m\n\u001b[1;32m    <a href='file:///home/gb21/.conda/envs/community/lib/python3.10/site-packages/torch/utils/data/dataloader.py?line=527'>528</a>\u001b[0m \u001b[39mif\u001b[39;00m \u001b[39mself\u001b[39m\u001b[39m.\u001b[39m_sampler_iter \u001b[39mis\u001b[39;00m \u001b[39mNone\u001b[39;00m:\n\u001b[1;32m    <a href='file:///home/gb21/.conda/envs/community/lib/python3.10/site-packages/torch/utils/data/dataloader.py?line=528'>529</a>\u001b[0m     \u001b[39mself\u001b[39m\u001b[39m.\u001b[39m_reset()\n\u001b[0;32m--> <a href='file:///home/gb21/.conda/envs/community/lib/python3.10/site-packages/torch/utils/data/dataloader.py?line=529'>530</a>\u001b[0m data \u001b[39m=\u001b[39m \u001b[39mself\u001b[39;49m\u001b[39m.\u001b[39;49m_next_data()\n\u001b[1;32m    <a href='file:///home/gb21/.conda/envs/community/lib/python3.10/site-packages/torch/utils/data/dataloader.py?line=530'>531</a>\u001b[0m \u001b[39mself\u001b[39m\u001b[39m.\u001b[39m_num_yielded \u001b[39m+\u001b[39m\u001b[39m=\u001b[39m \u001b[39m1\u001b[39m\n\u001b[1;32m    <a href='file:///home/gb21/.conda/envs/community/lib/python3.10/site-packages/torch/utils/data/dataloader.py?line=531'>532</a>\u001b[0m \u001b[39mif\u001b[39;00m \u001b[39mself\u001b[39m\u001b[39m.\u001b[39m_dataset_kind \u001b[39m==\u001b[39m _DatasetKind\u001b[39m.\u001b[39mIterable \u001b[39mand\u001b[39;00m \\\n\u001b[1;32m    <a href='file:///home/gb21/.conda/envs/community/lib/python3.10/site-packages/torch/utils/data/dataloader.py?line=532'>533</a>\u001b[0m         \u001b[39mself\u001b[39m\u001b[39m.\u001b[39m_IterableDataset_len_called \u001b[39mis\u001b[39;00m \u001b[39mnot\u001b[39;00m \u001b[39mNone\u001b[39;00m \u001b[39mand\u001b[39;00m \\\n\u001b[1;32m    <a href='file:///home/gb21/.conda/envs/community/lib/python3.10/site-packages/torch/utils/data/dataloader.py?line=533'>534</a>\u001b[0m         \u001b[39mself\u001b[39m\u001b[39m.\u001b[39m_num_yielded \u001b[39m>\u001b[39m \u001b[39mself\u001b[39m\u001b[39m.\u001b[39m_IterableDataset_len_called:\n",
      "File \u001b[0;32m~/.conda/envs/community/lib/python3.10/site-packages/torch/utils/data/dataloader.py:570\u001b[0m, in \u001b[0;36m_SingleProcessDataLoaderIter._next_data\u001b[0;34m(self)\u001b[0m\n\u001b[1;32m    <a href='file:///home/gb21/.conda/envs/community/lib/python3.10/site-packages/torch/utils/data/dataloader.py?line=567'>568</a>\u001b[0m \u001b[39mdef\u001b[39;00m \u001b[39m_next_data\u001b[39m(\u001b[39mself\u001b[39m):\n\u001b[1;32m    <a href='file:///home/gb21/.conda/envs/community/lib/python3.10/site-packages/torch/utils/data/dataloader.py?line=568'>569</a>\u001b[0m     index \u001b[39m=\u001b[39m \u001b[39mself\u001b[39m\u001b[39m.\u001b[39m_next_index()  \u001b[39m# may raise StopIteration\u001b[39;00m\n\u001b[0;32m--> <a href='file:///home/gb21/.conda/envs/community/lib/python3.10/site-packages/torch/utils/data/dataloader.py?line=569'>570</a>\u001b[0m     data \u001b[39m=\u001b[39m \u001b[39mself\u001b[39;49m\u001b[39m.\u001b[39;49m_dataset_fetcher\u001b[39m.\u001b[39;49mfetch(index)  \u001b[39m# may raise StopIteration\u001b[39;00m\n\u001b[1;32m    <a href='file:///home/gb21/.conda/envs/community/lib/python3.10/site-packages/torch/utils/data/dataloader.py?line=570'>571</a>\u001b[0m     \u001b[39mif\u001b[39;00m \u001b[39mself\u001b[39m\u001b[39m.\u001b[39m_pin_memory:\n\u001b[1;32m    <a href='file:///home/gb21/.conda/envs/community/lib/python3.10/site-packages/torch/utils/data/dataloader.py?line=571'>572</a>\u001b[0m         data \u001b[39m=\u001b[39m _utils\u001b[39m.\u001b[39mpin_memory\u001b[39m.\u001b[39mpin_memory(data)\n",
      "File \u001b[0;32m~/.conda/envs/community/lib/python3.10/site-packages/torch/utils/data/_utils/fetch.py:49\u001b[0m, in \u001b[0;36m_MapDatasetFetcher.fetch\u001b[0;34m(self, possibly_batched_index)\u001b[0m\n\u001b[1;32m     <a href='file:///home/gb21/.conda/envs/community/lib/python3.10/site-packages/torch/utils/data/_utils/fetch.py?line=46'>47</a>\u001b[0m \u001b[39mdef\u001b[39;00m \u001b[39mfetch\u001b[39m(\u001b[39mself\u001b[39m, possibly_batched_index):\n\u001b[1;32m     <a href='file:///home/gb21/.conda/envs/community/lib/python3.10/site-packages/torch/utils/data/_utils/fetch.py?line=47'>48</a>\u001b[0m     \u001b[39mif\u001b[39;00m \u001b[39mself\u001b[39m\u001b[39m.\u001b[39mauto_collation:\n\u001b[0;32m---> <a href='file:///home/gb21/.conda/envs/community/lib/python3.10/site-packages/torch/utils/data/_utils/fetch.py?line=48'>49</a>\u001b[0m         data \u001b[39m=\u001b[39m [\u001b[39mself\u001b[39m\u001b[39m.\u001b[39mdataset[idx] \u001b[39mfor\u001b[39;00m idx \u001b[39min\u001b[39;00m possibly_batched_index]\n\u001b[1;32m     <a href='file:///home/gb21/.conda/envs/community/lib/python3.10/site-packages/torch/utils/data/_utils/fetch.py?line=49'>50</a>\u001b[0m     \u001b[39melse\u001b[39;00m:\n\u001b[1;32m     <a href='file:///home/gb21/.conda/envs/community/lib/python3.10/site-packages/torch/utils/data/_utils/fetch.py?line=50'>51</a>\u001b[0m         data \u001b[39m=\u001b[39m \u001b[39mself\u001b[39m\u001b[39m.\u001b[39mdataset[possibly_batched_index]\n",
      "File \u001b[0;32m~/.conda/envs/community/lib/python3.10/site-packages/torch/utils/data/_utils/fetch.py:49\u001b[0m, in \u001b[0;36m<listcomp>\u001b[0;34m(.0)\u001b[0m\n\u001b[1;32m     <a href='file:///home/gb21/.conda/envs/community/lib/python3.10/site-packages/torch/utils/data/_utils/fetch.py?line=46'>47</a>\u001b[0m \u001b[39mdef\u001b[39;00m \u001b[39mfetch\u001b[39m(\u001b[39mself\u001b[39m, possibly_batched_index):\n\u001b[1;32m     <a href='file:///home/gb21/.conda/envs/community/lib/python3.10/site-packages/torch/utils/data/_utils/fetch.py?line=47'>48</a>\u001b[0m     \u001b[39mif\u001b[39;00m \u001b[39mself\u001b[39m\u001b[39m.\u001b[39mauto_collation:\n\u001b[0;32m---> <a href='file:///home/gb21/.conda/envs/community/lib/python3.10/site-packages/torch/utils/data/_utils/fetch.py?line=48'>49</a>\u001b[0m         data \u001b[39m=\u001b[39m [\u001b[39mself\u001b[39;49m\u001b[39m.\u001b[39;49mdataset[idx] \u001b[39mfor\u001b[39;00m idx \u001b[39min\u001b[39;00m possibly_batched_index]\n\u001b[1;32m     <a href='file:///home/gb21/.conda/envs/community/lib/python3.10/site-packages/torch/utils/data/_utils/fetch.py?line=49'>50</a>\u001b[0m     \u001b[39melse\u001b[39;00m:\n\u001b[1;32m     <a href='file:///home/gb21/.conda/envs/community/lib/python3.10/site-packages/torch/utils/data/_utils/fetch.py?line=50'>51</a>\u001b[0m         data \u001b[39m=\u001b[39m \u001b[39mself\u001b[39m\u001b[39m.\u001b[39mdataset[possibly_batched_index]\n",
      "File \u001b[0;32m~/Code/ANNs/community-of-agents/community/data/datasets.py:67\u001b[0m, in \u001b[0;36mDoubleMNIST.__getitem__\u001b[0;34m(self, index)\u001b[0m\n\u001b[1;32m     <a href='file:///home/gb21/Code/ANNs/community-of-agents/community/data/datasets.py?line=63'>64</a>\u001b[0m index_2 \u001b[39m=\u001b[39m \u001b[39mself\u001b[39m\u001b[39m.\u001b[39msecondary_index[index_1]\n\u001b[1;32m     <a href='file:///home/gb21/Code/ANNs/community-of-agents/community/data/datasets.py?line=65'>66</a>\u001b[0m digit_1, target_1 \u001b[39m=\u001b[39m \u001b[39mself\u001b[39m\u001b[39m.\u001b[39mmnist_dataset[index_1]\n\u001b[0;32m---> <a href='file:///home/gb21/Code/ANNs/community-of-agents/community/data/datasets.py?line=66'>67</a>\u001b[0m digit_2, target_2 \u001b[39m=\u001b[39m \u001b[39mself\u001b[39;49m\u001b[39m.\u001b[39;49mmnist_dataset[index_2]\n\u001b[1;32m     <a href='file:///home/gb21/Code/ANNs/community-of-agents/community/data/datasets.py?line=68'>69</a>\u001b[0m \u001b[39mif\u001b[39;00m \u001b[39mself\u001b[39m\u001b[39m.\u001b[39mpermute : \n\u001b[1;32m     <a href='file:///home/gb21/Code/ANNs/community-of-agents/community/data/datasets.py?line=69'>70</a>\u001b[0m     target_1, target_2 \u001b[39m=\u001b[39m \u001b[39mself\u001b[39m\u001b[39m.\u001b[39mpermutation[target_1],  \u001b[39mself\u001b[39m\u001b[39m.\u001b[39mpermutation[target_2]\n",
      "File \u001b[0;32m~/.conda/envs/community/lib/python3.10/site-packages/torchvision/datasets/mnist.py:145\u001b[0m, in \u001b[0;36mMNIST.__getitem__\u001b[0;34m(self, index)\u001b[0m\n\u001b[1;32m    <a href='file:///home/gb21/.conda/envs/community/lib/python3.10/site-packages/torchvision/datasets/mnist.py?line=141'>142</a>\u001b[0m img \u001b[39m=\u001b[39m Image\u001b[39m.\u001b[39mfromarray(img\u001b[39m.\u001b[39mnumpy(), mode\u001b[39m=\u001b[39m\u001b[39m\"\u001b[39m\u001b[39mL\u001b[39m\u001b[39m\"\u001b[39m)\n\u001b[1;32m    <a href='file:///home/gb21/.conda/envs/community/lib/python3.10/site-packages/torchvision/datasets/mnist.py?line=143'>144</a>\u001b[0m \u001b[39mif\u001b[39;00m \u001b[39mself\u001b[39m\u001b[39m.\u001b[39mtransform \u001b[39mis\u001b[39;00m \u001b[39mnot\u001b[39;00m \u001b[39mNone\u001b[39;00m:\n\u001b[0;32m--> <a href='file:///home/gb21/.conda/envs/community/lib/python3.10/site-packages/torchvision/datasets/mnist.py?line=144'>145</a>\u001b[0m     img \u001b[39m=\u001b[39m \u001b[39mself\u001b[39;49m\u001b[39m.\u001b[39;49mtransform(img)\n\u001b[1;32m    <a href='file:///home/gb21/.conda/envs/community/lib/python3.10/site-packages/torchvision/datasets/mnist.py?line=146'>147</a>\u001b[0m \u001b[39mif\u001b[39;00m \u001b[39mself\u001b[39m\u001b[39m.\u001b[39mtarget_transform \u001b[39mis\u001b[39;00m \u001b[39mnot\u001b[39;00m \u001b[39mNone\u001b[39;00m:\n\u001b[1;32m    <a href='file:///home/gb21/.conda/envs/community/lib/python3.10/site-packages/torchvision/datasets/mnist.py?line=147'>148</a>\u001b[0m     target \u001b[39m=\u001b[39m \u001b[39mself\u001b[39m\u001b[39m.\u001b[39mtarget_transform(target)\n",
      "File \u001b[0;32m~/.conda/envs/community/lib/python3.10/site-packages/torchvision/transforms/transforms.py:95\u001b[0m, in \u001b[0;36mCompose.__call__\u001b[0;34m(self, img)\u001b[0m\n\u001b[1;32m     <a href='file:///home/gb21/.conda/envs/community/lib/python3.10/site-packages/torchvision/transforms/transforms.py?line=92'>93</a>\u001b[0m \u001b[39mdef\u001b[39;00m \u001b[39m__call__\u001b[39m(\u001b[39mself\u001b[39m, img):\n\u001b[1;32m     <a href='file:///home/gb21/.conda/envs/community/lib/python3.10/site-packages/torchvision/transforms/transforms.py?line=93'>94</a>\u001b[0m     \u001b[39mfor\u001b[39;00m t \u001b[39min\u001b[39;00m \u001b[39mself\u001b[39m\u001b[39m.\u001b[39mtransforms:\n\u001b[0;32m---> <a href='file:///home/gb21/.conda/envs/community/lib/python3.10/site-packages/torchvision/transforms/transforms.py?line=94'>95</a>\u001b[0m         img \u001b[39m=\u001b[39m t(img)\n\u001b[1;32m     <a href='file:///home/gb21/.conda/envs/community/lib/python3.10/site-packages/torchvision/transforms/transforms.py?line=95'>96</a>\u001b[0m     \u001b[39mreturn\u001b[39;00m img\n",
      "File \u001b[0;32m~/.conda/envs/community/lib/python3.10/site-packages/torchvision/transforms/transforms.py:135\u001b[0m, in \u001b[0;36mToTensor.__call__\u001b[0;34m(self, pic)\u001b[0m\n\u001b[1;32m    <a href='file:///home/gb21/.conda/envs/community/lib/python3.10/site-packages/torchvision/transforms/transforms.py?line=126'>127</a>\u001b[0m \u001b[39mdef\u001b[39;00m \u001b[39m__call__\u001b[39m(\u001b[39mself\u001b[39m, pic):\n\u001b[1;32m    <a href='file:///home/gb21/.conda/envs/community/lib/python3.10/site-packages/torchvision/transforms/transforms.py?line=127'>128</a>\u001b[0m     \u001b[39m\"\"\"\u001b[39;00m\n\u001b[1;32m    <a href='file:///home/gb21/.conda/envs/community/lib/python3.10/site-packages/torchvision/transforms/transforms.py?line=128'>129</a>\u001b[0m \u001b[39m    Args:\u001b[39;00m\n\u001b[1;32m    <a href='file:///home/gb21/.conda/envs/community/lib/python3.10/site-packages/torchvision/transforms/transforms.py?line=129'>130</a>\u001b[0m \u001b[39m        pic (PIL Image or numpy.ndarray): Image to be converted to tensor.\u001b[39;00m\n\u001b[0;32m   (...)\u001b[0m\n\u001b[1;32m    <a href='file:///home/gb21/.conda/envs/community/lib/python3.10/site-packages/torchvision/transforms/transforms.py?line=132'>133</a>\u001b[0m \u001b[39m        Tensor: Converted image.\u001b[39;00m\n\u001b[1;32m    <a href='file:///home/gb21/.conda/envs/community/lib/python3.10/site-packages/torchvision/transforms/transforms.py?line=133'>134</a>\u001b[0m \u001b[39m    \"\"\"\u001b[39;00m\n\u001b[0;32m--> <a href='file:///home/gb21/.conda/envs/community/lib/python3.10/site-packages/torchvision/transforms/transforms.py?line=134'>135</a>\u001b[0m     \u001b[39mreturn\u001b[39;00m F\u001b[39m.\u001b[39;49mto_tensor(pic)\n",
      "File \u001b[0;32m~/.conda/envs/community/lib/python3.10/site-packages/torchvision/transforms/functional.py:147\u001b[0m, in \u001b[0;36mto_tensor\u001b[0;34m(pic)\u001b[0m\n\u001b[1;32m    <a href='file:///home/gb21/.conda/envs/community/lib/python3.10/site-packages/torchvision/transforms/functional.py?line=144'>145</a>\u001b[0m \u001b[39m# handle PIL Image\u001b[39;00m\n\u001b[1;32m    <a href='file:///home/gb21/.conda/envs/community/lib/python3.10/site-packages/torchvision/transforms/functional.py?line=145'>146</a>\u001b[0m mode_to_nptype \u001b[39m=\u001b[39m {\u001b[39m\"\u001b[39m\u001b[39mI\u001b[39m\u001b[39m\"\u001b[39m: np\u001b[39m.\u001b[39mint32, \u001b[39m\"\u001b[39m\u001b[39mI;16\u001b[39m\u001b[39m\"\u001b[39m: np\u001b[39m.\u001b[39mint16, \u001b[39m\"\u001b[39m\u001b[39mF\u001b[39m\u001b[39m\"\u001b[39m: np\u001b[39m.\u001b[39mfloat32}\n\u001b[0;32m--> <a href='file:///home/gb21/.conda/envs/community/lib/python3.10/site-packages/torchvision/transforms/functional.py?line=146'>147</a>\u001b[0m img \u001b[39m=\u001b[39m torch\u001b[39m.\u001b[39mfrom_numpy(np\u001b[39m.\u001b[39;49marray(pic, mode_to_nptype\u001b[39m.\u001b[39;49mget(pic\u001b[39m.\u001b[39;49mmode, np\u001b[39m.\u001b[39;49muint8), copy\u001b[39m=\u001b[39;49m\u001b[39mTrue\u001b[39;49;00m))\n\u001b[1;32m    <a href='file:///home/gb21/.conda/envs/community/lib/python3.10/site-packages/torchvision/transforms/functional.py?line=148'>149</a>\u001b[0m \u001b[39mif\u001b[39;00m pic\u001b[39m.\u001b[39mmode \u001b[39m==\u001b[39m \u001b[39m\"\u001b[39m\u001b[39m1\u001b[39m\u001b[39m\"\u001b[39m:\n\u001b[1;32m    <a href='file:///home/gb21/.conda/envs/community/lib/python3.10/site-packages/torchvision/transforms/functional.py?line=149'>150</a>\u001b[0m     img \u001b[39m=\u001b[39m \u001b[39m255\u001b[39m \u001b[39m*\u001b[39m img\n",
      "File \u001b[0;32m~/.conda/envs/community/lib/python3.10/site-packages/PIL/Image.py:677\u001b[0m, in \u001b[0;36mImage.__array__\u001b[0;34m(self, dtype)\u001b[0m\n\u001b[1;32m    <a href='file:///home/gb21/.conda/envs/community/lib/python3.10/site-packages/PIL/Image.py?line=673'>674</a>\u001b[0m \u001b[39melse\u001b[39;00m:\n\u001b[1;32m    <a href='file:///home/gb21/.conda/envs/community/lib/python3.10/site-packages/PIL/Image.py?line=674'>675</a>\u001b[0m     new[\u001b[39m\"\u001b[39m\u001b[39mdata\u001b[39m\u001b[39m\"\u001b[39m] \u001b[39m=\u001b[39m \u001b[39mself\u001b[39m\u001b[39m.\u001b[39mtobytes()\n\u001b[0;32m--> <a href='file:///home/gb21/.conda/envs/community/lib/python3.10/site-packages/PIL/Image.py?line=676'>677</a>\u001b[0m \u001b[39mreturn\u001b[39;00m np\u001b[39m.\u001b[39;49marray(\u001b[39mself\u001b[39;49m\u001b[39m.\u001b[39;49m_ArrayData(new), dtype)\n",
      "\u001b[0;31mKeyboardInterrupt\u001b[0m: "
     ]
    }
   ],
   "source": [
    "training_dict = {\n",
    "    'n_epochs' : 2, \n",
    "    'task' : 'parity_digits',\n",
    "    'global_rewire' : True, \n",
    "    'check_gradients' : False, \n",
    "    'reg_factor' : 0.,\n",
    "    'train_connections' : True,\n",
    "    'global_rewire' : True,\n",
    "    'decision_params' : ('last', 'max'),\n",
    "    'early_stop' : True ,\n",
    "    'deepR_params_dict' : deepR_params_dict,\n",
    "}\n",
    "\n",
    "#pyaml.save(training_dict, '../community/common/default_train_dict.yml')\n",
    "\n",
    "train_out = train_community(community, *double_loaders, optimizers, \n",
    "                            schedulers=schedulers, config=training_dict, device=device)\n",
    "                            \n",
    "results = train_out"
   ]
  },
  {
   "cell_type": "code",
   "execution_count": null,
   "id": "072d70e3",
   "metadata": {},
   "outputs": [],
   "source": [
    "train_losses, train_accs, test_losses, test_accs, deciding_agents, best_state = list(results.values())"
   ]
  },
  {
   "cell_type": "markdown",
   "id": "3981ed3e",
   "metadata": {},
   "source": [
    "### Results"
   ]
  },
  {
   "cell_type": "code",
   "execution_count": null,
   "id": "20094959-4a01-4b87-b397-622a521efa17",
   "metadata": {},
   "outputs": [],
   "source": [
    "plt.plot(train_accs)\n",
    "m = 1\n",
    "epochs_slices = np.arange(0, len(train_accs)+1, m*len(double_loaders[0]))\n",
    "max_per_epoch = [np.max(train_accs[epochs_slices[e]:epochs_slices[e+1]]) for e in range(len(epochs_slices)-1)]\n",
    "#max_per_epoch.append(np.max(train_accs[epochs_slices[-1]:]))\n",
    "plt.plot(epochs_slices[1:], max_per_epoch)\n"
   ]
  },
  {
   "cell_type": "code",
   "execution_count": null,
   "id": "0c65d3f2",
   "metadata": {},
   "outputs": [],
   "source": [
    "plt.plot(train_losses)"
   ]
  }
 ],
 "metadata": {
  "kernelspec": {
   "display_name": "Python 3 (ipykernel)",
   "language": "python",
   "name": "python3"
  },
  "language_info": {
   "codemirror_mode": {
    "name": "ipython",
    "version": 3
   },
   "file_extension": ".py",
   "mimetype": "text/x-python",
   "name": "python",
   "nbconvert_exporter": "python",
   "pygments_lexer": "ipython3",
   "version": "3.10.4"
  }
 },
 "nbformat": 4,
 "nbformat_minor": 5
}
