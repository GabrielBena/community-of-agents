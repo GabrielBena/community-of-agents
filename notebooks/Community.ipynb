{
 "cells": [
  {
   "cell_type": "markdown",
   "id": "settled-boundary",
   "metadata": {},
   "source": [
    "# Society of Mind"
   ]
  },
  {
   "cell_type": "code",
   "execution_count": 1,
   "id": "incomplete-marker",
   "metadata": {},
   "outputs": [],
   "source": [
    "import torch\n",
    "import numpy as np\n",
    "import torch.nn as nn\n",
    "import matplotlib.pyplot as plt\n",
    "from torchvision import datasets, transforms\n",
    "import yaml\n"
   ]
  },
  {
   "cell_type": "code",
   "execution_count": 2,
   "id": "sunset-circle",
   "metadata": {},
   "outputs": [],
   "source": [
    "from community.data.datasets import DoubleMNIST\n",
    "from community.common.init import init_community, init_optimizers\n",
    "from community.common.training import train_community"
   ]
  },
  {
   "cell_type": "code",
   "execution_count": 3,
   "id": "marine-winner",
   "metadata": {},
   "outputs": [],
   "source": [
    "import warnings\n",
    "#warnings.filterwarnings('ignore')"
   ]
  },
  {
   "cell_type": "code",
   "execution_count": 4,
   "id": "independent-provincial",
   "metadata": {},
   "outputs": [],
   "source": [
    "%load_ext autoreload\n",
    "%autoreload 2"
   ]
  },
  {
   "cell_type": "code",
   "execution_count": 5,
   "id": "binary-adjustment",
   "metadata": {},
   "outputs": [],
   "source": [
    "use_cuda = False\n",
    "device = torch.device(\"cuda\" if use_cuda else \"cpu\")\n",
    "batch_size = 256\n",
    "train_kwargs = {'batch_size': batch_size}\n",
    "test_kwargs = {'batch_size': batch_size}\n",
    "if use_cuda:\n",
    "    cuda_kwargs = {'num_workers': 0,\n",
    "                   'pin_memory': True,\n",
    "                   'shuffle': True}\n",
    "    train_kwargs.update(cuda_kwargs)\n",
    "    test_kwargs.update(cuda_kwargs)\n",
    "transform=transforms.Compose([\n",
    "    transforms.ToTensor(),\n",
    "    transforms.Normalize((0.1307,), (0.3081,))\n",
    "    ])\n",
    "\n",
    "root = '../data/'\n",
    "\n",
    "dataset1 = datasets.MNIST(root, train=True, download=False,\n",
    "                   transform=transform)\n",
    "dataset2 = datasets.MNIST(root, train=False,\n",
    "                   transform=transform)\n",
    "\n",
    "double_dataset1 = DoubleMNIST(root, fix_asym=False)\n",
    "double_dataset2 = DoubleMNIST(root, train=False, fix_asym=False)\n",
    "\n",
    "train_loader = torch.utils.data.DataLoader(dataset1,**train_kwargs)\n",
    "test_loader = torch.utils.data.DataLoader(dataset2, **test_kwargs)\n",
    "train_loader.n_classes, test_loader.n_classes = 10, 10\n",
    "\n",
    "double_train_loader = torch.utils.data.DataLoader(double_dataset1,**train_kwargs)\n",
    "double_test_loader = torch.utils.data.DataLoader(double_dataset2, **test_kwargs)\n",
    "double_train_loader.single_loader, double_test_loader.single_loader = train_loader, test_loader\n",
    "double_train_loader.n_classes, double_test_loader.n_classes = 100, 100\n",
    "\n",
    "sub_train_loader = torch.utils.data.DataLoader(torch.utils.data.Subset(dataset1, np.arange(batch_size)),**train_kwargs)\n",
    "sub_test_loader = torch.utils.data.DataLoader(torch.utils.data.Subset(dataset2, np.arange(batch_size)),**train_kwargs)\n",
    "\n",
    "dtype = torch.float32\n"
   ]
  },
  {
   "cell_type": "markdown",
   "id": "6724a2cf-4b32-4128-a172-854a13510fe7",
   "metadata": {
    "jp-MarkdownHeadingCollapsed": true,
    "tags": []
   },
   "source": [
    "## Standard Community"
   ]
  },
  {
   "cell_type": "markdown",
   "id": "suspected-occasions",
   "metadata": {
    "jp-MarkdownHeadingCollapsed": true,
    "tags": []
   },
   "source": [
    "### Community Initialization"
   ]
  },
  {
   "cell_type": "code",
   "execution_count": 6,
   "id": "acknowledged-sacramento",
   "metadata": {},
   "outputs": [
    {
     "data": {
      "text/plain": [
       "{'01': tensor(10), '10': tensor(10)}"
      ]
     },
     "execution_count": 6,
     "metadata": {},
     "output_type": "execute_result"
    }
   ],
   "source": [
    "agents_params_dict = {'n_agents' : 2,\n",
    "                         'n_in' : 784,\n",
    "                         'n_ins' : None,\n",
    "                         'n_hid' : 100,\n",
    "                         'n_layer' : 1,\n",
    "                         'n_out' : 10,\n",
    "                         'train_in_out': (True, False),\n",
    "                         'use_readout': True,\n",
    "                         'cell_type': str(nn.RNN),\n",
    "                         'use_bottleneck': False,\n",
    "                         'dropout': 0}\n",
    "\n",
    "p_con = 1e-3\n",
    "\n",
    "community = init_community(agents_params_dict, p_con, device=device)\n",
    "community.nb_connections"
   ]
  },
  {
   "cell_type": "code",
   "execution_count": 7,
   "id": "creative-webcam",
   "metadata": {},
   "outputs": [],
   "source": [
    "params = lr, gamma = 1e-3, 0.95\n",
    "params_dict = {'lr' : lr, 'gamma' : gamma}\n",
    "\n",
    "deepR_params = l1, gdnoise, lr, gamma, cooling = 1e-5, 1e-3, 1e-3, 0.95, 0.95\n",
    "deepR_params_dict = {'l1' : l1, 'gdnoise' : gdnoise, 'lr' : lr, 'gamma' : gamma, 'cooling' : cooling}\n",
    "\n",
    "\n",
    "optimizers, schedulers = init_optimizers(community, params_dict, deepR_params_dict)"
   ]
  },
  {
   "cell_type": "code",
   "execution_count": 8,
   "id": "restricted-measure",
   "metadata": {},
   "outputs": [
    {
     "ename": "NameError",
     "evalue": "name 'n' is not defined",
     "output_type": "error",
     "traceback": [
      "\u001b[0;31m---------------------------------------------------------------------------\u001b[0m",
      "\u001b[0;31mNameError\u001b[0m                                 Traceback (most recent call last)",
      "\u001b[1;32m/home/gbena/Code/ANNs/community/notebooks/Community.ipynb Cell 11'\u001b[0m in \u001b[0;36m<cell line: 1>\u001b[0;34m()\u001b[0m\n\u001b[0;32m----> <a href='vscode-notebook-cell:/home/gbena/Code/ANNs/community/notebooks/Community.ipynb#ch0000011?line=0'>1</a>\u001b[0m n\n",
      "\u001b[0;31mNameError\u001b[0m: name 'n' is not defined"
     ]
    }
   ],
   "source": [
    "n"
   ]
  },
  {
   "cell_type": "markdown",
   "id": "brief-voice",
   "metadata": {
    "jp-MarkdownHeadingCollapsed": true,
    "tags": []
   },
   "source": [
    "### Training"
   ]
  },
  {
   "cell_type": "code",
   "execution_count": 15,
   "id": "accurate-vitamin",
   "metadata": {},
   "outputs": [
    {
     "data": {
      "application/vnd.jupyter.widget-view+json": {
       "model_id": "9bb28f4906284ecd94dd6903a0c7cff8",
       "version_major": 2,
       "version_minor": 0
      },
      "text/plain": [
       "Train Epoch::   0%|          | 0/1 [00:00<?, ?it/s]"
      ]
     },
     "metadata": {},
     "output_type": "display_data"
    }
   ],
   "source": [
    "training_dict = {\n",
    "    'n_epochs' : 2, \n",
    "    'task' : 'parity_digits',\n",
    "    'global_rewire' : True, \n",
    "    'check_gradients' : False, \n",
    "    'reg_factor' : 0.,\n",
    "    'train_connections' : True,\n",
    "    'global_rewire' : True,\n",
    "    'decision_params' : ('last', 'max'),\n",
    "    'early_stop' : True ,\n",
    "    'deepR_params_dict' : deepR_params_dict,\n",
    "}\n",
    "\n",
    "#pyaml.save(training_dict, '../community/common/default_train_dict.yml')\n",
    "\n",
    "\n",
    "train_out = train_community(community, double_train_loader, double_test_loader, optimizers, \n",
    "                            schedulers=schedulers, config=training_dict, device=device)\n",
    "                            \n",
    "results = train_out"
   ]
  },
  {
   "cell_type": "code",
   "execution_count": 17,
   "id": "072d70e3",
   "metadata": {},
   "outputs": [],
   "source": [
    "\n",
    "train_losses, train_accs, test_losses, test_accs, deciding_agents, best_state = list(results.values())"
   ]
  },
  {
   "cell_type": "code",
   "execution_count": 20,
   "id": "4cba047c",
   "metadata": {},
   "outputs": [
    {
     "data": {
      "text/plain": [
       "(1, 39, 256)"
      ]
     },
     "execution_count": 20,
     "metadata": {},
     "output_type": "execute_result"
    }
   ],
   "source": [
    "deciding_agents.shape"
   ]
  },
  {
   "cell_type": "markdown",
   "id": "3981ed3e",
   "metadata": {},
   "source": [
    "### Results"
   ]
  },
  {
   "cell_type": "code",
   "execution_count": 27,
   "id": "20094959-4a01-4b87-b397-622a521efa17",
   "metadata": {},
   "outputs": [
    {
     "data": {
      "text/plain": [
       "[<matplotlib.lines.Line2D at 0x7f3ba80d4a90>]"
      ]
     },
     "execution_count": 27,
     "metadata": {},
     "output_type": "execute_result"
    },
    {
     "data": {
      "image/png": "[encoded data removed]",
      "text/plain": [
       "<Figure size 432x288 with 1 Axes>"
      ]
     },
     "metadata": {
      "needs_background": "light"
     },
     "output_type": "display_data"
    }
   ],
   "source": [
    "plt.plot(train_accs)\n",
    "m = 1\n",
    "epochs_slices = np.arange(0, len(train_accs)+1, m*len(train_loader))\n",
    "max_per_epoch = [np.max(train_accs[epochs_slices[e]:epochs_slices[e+1]]) for e in range(len(epochs_slices)-1)]\n",
    "#max_per_epoch.append(np.max(train_accs[epochs_slices[-1]:]))\n",
    "plt.plot(epochs_slices[1:], max_per_epoch)\n"
   ]
  }
 ],
 "metadata": {
  "kernelspec": {
   "display_name": "Python 3 (ipykernel)",
   "language": "python",
   "name": "python3"
  },
  "language_info": {
   "codemirror_mode": {
    "name": "ipython",
    "version": 3
   },
   "file_extension": ".py",
   "mimetype": "text/x-python",
   "name": "python",
   "nbconvert_exporter": "python",
   "pygments_lexer": "ipython3",
   "version": "3.10.4"
  }
 },
 "nbformat": 4,
 "nbformat_minor": 5
}
