{
 "cells": [
  {
   "cell_type": "markdown",
   "id": "settled-boundary",
   "metadata": {
    "tags": []
   },
   "source": [
    "# Society of Mind"
   ]
  },
  {
   "cell_type": "code",
   "execution_count": 1,
   "id": "incomplete-marker",
   "metadata": {},
   "outputs": [],
   "source": [
    "import torch\n",
    "import numpy as np\n",
    "import numpy.random as rd\n",
    "import time\n",
    "import argparse\n",
    "import torch.nn as nn\n",
    "import torch.nn.functional as F\n",
    "import torch.optim as optim\n",
    "from torch.autograd import Variable\n",
    "from torch.utils.data import Dataset, DataLoader\n",
    "\n",
    "import functools\n",
    "\n",
    "import matplotlib.pyplot as plt\n",
    "from scipy.optimize import fsolve\n",
    "\n",
    "from torchvision import datasets, transforms\n",
    "\n",
    "import copy\n",
    "from torch.optim.lr_scheduler import StepLR\n",
    "\n",
    "from tqdm import tqdm\n",
    "#from tqdm.notebook import tqdm, trange\n",
    "\n",
    "from torchviz import make_dot\n",
    "\n",
    "import os, sys"
   ]
  },
  {
   "cell_type": "code",
   "execution_count": 2,
   "id": "sunset-circle",
   "metadata": {},
   "outputs": [],
   "source": [
    "sys.path.append('../')\n",
    "from dual_models import *\n",
    "from common.models import *\n",
    "from common.decision import *\n",
    "from common.training import *\n",
    "from common.utils_diverse import *\n",
    "from dual_utils import *"
   ]
  },
  {
   "cell_type": "code",
   "execution_count": 3,
   "id": "marine-winner",
   "metadata": {},
   "outputs": [],
   "source": [
    "import warnings\n",
    "#warnings.filterwarnings('ignore')"
   ]
  },
  {
   "cell_type": "code",
   "execution_count": 4,
   "id": "independent-provincial",
   "metadata": {},
   "outputs": [],
   "source": [
    "%load_ext autoreload\n",
    "%autoreload 2\n",
    "%aimport -dual_models\n"
   ]
  },
  {
   "cell_type": "code",
   "execution_count": 5,
   "id": "binary-adjustment",
   "metadata": {},
   "outputs": [],
   "source": [
    "use_cuda = True\n",
    "device = torch.device(\"cuda\" if use_cuda else \"cpu\")\n",
    "batch_size = 256\n",
    "train_kwargs = {'batch_size': batch_size}\n",
    "test_kwargs = {'batch_size': 256}\n",
    "if use_cuda:\n",
    "    cuda_kwargs = {'num_workers': 0,\n",
    "                   'pin_memory': True,\n",
    "                   'shuffle': True}\n",
    "    train_kwargs.update(cuda_kwargs)\n",
    "    test_kwargs.update(cuda_kwargs)\n",
    "transform=transforms.Compose([\n",
    "    transforms.ToTensor(),\n",
    "    transforms.Normalize((0.1307,), (0.3081,))\n",
    "    ])\n",
    "\n",
    "dataset1 = datasets.MNIST('/home/gb21/Code/ANNs/Data/MNIST', train=True, download=False,\n",
    "                   transform=transform)\n",
    "dataset2 = datasets.MNIST('/home/gb21/Code/ANNs/Data/MNIST', train=False,\n",
    "                   transform=transform)\n",
    "\n",
    "double_dataset1 = DoubleMNIST(asym=False)\n",
    "double_dataset2 = DoubleMNIST(train=False, asym=False)\n",
    "\n",
    "train_loader = torch.utils.data.DataLoader(dataset1,**train_kwargs)\n",
    "test_loader = torch.utils.data.DataLoader(dataset2, **test_kwargs)\n",
    "train_loader.n_classes, test_loader.n_classes = 10, 10\n",
    "\n",
    "double_train_loader = torch.utils.data.DataLoader(double_dataset1,**train_kwargs)\n",
    "double_test_loader = torch.utils.data.DataLoader(double_dataset2, **test_kwargs)\n",
    "double_train_loader.single_loader, double_test_loader.single_loader = train_loader, test_loader\n",
    "double_train_loader.n_classes, double_test_loader.n_classes = 100, 100\n",
    "\n",
    "\n",
    "sub_train_loader = torch.utils.data.DataLoader(torch.utils.data.Subset(dataset1, np.arange(batch_size)),**train_kwargs)\n",
    "sub_test_loader = torch.utils.data.DataLoader(torch.utils.data.Subset(dataset2, np.arange(batch_size)),**train_kwargs)\n",
    "\n",
    "dtype = torch.float32\n"
   ]
  },
  {
   "cell_type": "markdown",
   "id": "2b3a56ea-7c20-4052-8627-b5ce7407926b",
   "metadata": {
    "tags": []
   },
   "source": [
    "## Conv Community : "
   ]
  },
  {
   "cell_type": "code",
   "execution_count": 6,
   "id": "1b7a72da-002d-4539-bae5-90c44cd5a94e",
   "metadata": {},
   "outputs": [],
   "source": [
    "#loaders = double_train_loader, double_test_loader\n",
    "loaders = train_loader, test_loader\n",
    "data, target = next(iter(loaders[0]))\n",
    "data = temporal_data(data, flatten=False).to(device)\n",
    "\n",
    "n_hid = 25\n",
    "\n",
    "p_global = 0.2\n",
    "p_connect = p_global/2\n",
    "#p_connect = 10*1/n_hid**2\n",
    "n_out = 10\n",
    "n_out_sup = 90\n",
    "n_agents = 8\n",
    "\n",
    "community = ConvCommunity(data[0][0].shape, Nhid=[4, n_agents], kernel_size=[7, 5, 3], num_conv_layers=2, \n",
    "                          n_hid=n_hid, n_out=n_out, p_connect=p_connect, pool_size = [2, 2, 1],\n",
    "                          decouple=False, distance_based_sparsity=False, cell_type=nn.GRU,\n",
    "                          use_deciding_agent=False, use_sparse_readout=False,\n",
    "                          ).to(device)\n"
   ]
  },
  {
   "cell_type": "code",
   "execution_count": 7,
   "id": "75320e54-dd8a-4e4e-9c17-a5dddc3113df",
   "metadata": {},
   "outputs": [],
   "source": [
    "params = lr, gamma = 1e-3, 0.9\n",
    "params_dict = {'lr' : lr, 'gamma' : gamma}\n",
    "\n",
    "deepR_params = l1, gdnoise, lr, gamma, cooling = 1e-5, 1e-3, 1e-3, 0.95, 0.95\n",
    "deepR_params_dict = {'l1' : l1, 'gdnoise' : gdnoise, 'lr' : lr, 'gamma' : gamma, 'cooling' : cooling}\n",
    "\n",
    "optimizers, schedulers = init_optimizers(community, params_dict, deepR_params_dict)"
   ]
  },
  {
   "cell_type": "code",
   "execution_count": 8,
   "id": "6ca4e1ba-be3e-47b1-8415-420892194017",
   "metadata": {},
   "outputs": [
    {
     "ename": "NameError",
     "evalue": "name 'n' is not defined",
     "output_type": "error",
     "traceback": [
      "\u001b[0;31m---------------------------------------------------------------------------\u001b[0m",
      "\u001b[0;31mNameError\u001b[0m                                 Traceback (most recent call last)",
      "\u001b[0;32m/tmp/ipykernel_29782/1249512285.py\u001b[0m in \u001b[0;36m<module>\u001b[0;34m\u001b[0m\n\u001b[0;32m----> 1\u001b[0;31m \u001b[0mn\u001b[0m\u001b[0;34m\u001b[0m\u001b[0;34m\u001b[0m\u001b[0m\n\u001b[0m",
      "\u001b[0;31mNameError\u001b[0m: name 'n' is not defined"
     ]
    }
   ],
   "source": [
    "n"
   ]
  },
  {
   "cell_type": "code",
   "execution_count": null,
   "id": "f3e39a72-eba7-46bf-af0c-1d8195d1c5a2",
   "metadata": {
    "tags": []
   },
   "outputs": [
    {
     "data": {
      "application/vnd.jupyter.widget-view+json": {
       "model_id": "d13d4c59d4ca4c81b06e5a6687f4543b",
       "version_major": 2,
       "version_minor": 0
      },
      "text/plain": [
       "  0%|          | 0/1 [00:00<?, ?it/s]"
      ]
     },
     "metadata": {},
     "output_type": "display_data"
    },
    {
     "ename": "KeyboardInterrupt",
     "evalue": "",
     "output_type": "error",
     "traceback": [
      "\u001b[0;31m---------------------------------------------------------------------------\u001b[0m",
      "\u001b[0;31mKeyboardInterrupt\u001b[0m                         Traceback (most recent call last)",
      "\u001b[0;32m/tmp/ipykernel_88989/1953077241.py\u001b[0m in \u001b[0;36m<module>\u001b[0;34m\u001b[0m\n\u001b[1;32m      3\u001b[0m \u001b[0mtask\u001b[0m\u001b[0;34m=\u001b[0m\u001b[0;34m'none'\u001b[0m\u001b[0;34m\u001b[0m\u001b[0;34m\u001b[0m\u001b[0m\n\u001b[1;32m      4\u001b[0m \u001b[0;34m\u001b[0m\u001b[0m\n\u001b[0;32m----> 5\u001b[0;31m train_out = train_community(community, device, *loaders, optimizers, \n\u001b[0m\u001b[1;32m      6\u001b[0m                             \u001b[0mschedulers\u001b[0m\u001b[0;34m=\u001b[0m\u001b[0mschedulers\u001b[0m\u001b[0;34m,\u001b[0m \u001b[0mn_epochs\u001b[0m\u001b[0;34m=\u001b[0m\u001b[0mn_epochs\u001b[0m\u001b[0;34m,\u001b[0m \u001b[0mglobal_rewire\u001b[0m\u001b[0;34m=\u001b[0m\u001b[0;32mTrue\u001b[0m\u001b[0;34m,\u001b[0m\u001b[0;34m\u001b[0m\u001b[0;34m\u001b[0m\u001b[0m\n\u001b[1;32m      7\u001b[0m                             \u001b[0mtask\u001b[0m\u001b[0;34m=\u001b[0m\u001b[0mtask\u001b[0m\u001b[0;34m,\u001b[0m \u001b[0mdecision_params\u001b[0m\u001b[0;34m=\u001b[0m\u001b[0mdecision_params\u001b[0m\u001b[0;34m,\u001b[0m \u001b[0mdata_mode\u001b[0m\u001b[0;34m=\u001b[0m\u001b[0;34m'fixed'\u001b[0m\u001b[0;34m,\u001b[0m\u001b[0;34m\u001b[0m\u001b[0;34m\u001b[0m\u001b[0m\n",
      "\u001b[0;32m~/Code/ANNs/society_of_mind/dual_process/../common/training.py\u001b[0m in \u001b[0;36mtrain_community\u001b[0;34m(model, device, train_loader, test_loader, optimizers, schedulers, n_epochs, task, decision_params, data_mode, continual_settings, params_dict, deepR_params_dict, masks_params_dict, train_connections, global_rewire, check_gradients, save_graph, reg_loss, trials, use_tqdm)\u001b[0m\n\u001b[1;32m    135\u001b[0m         \u001b[0;32mif\u001b[0m \u001b[0mtraining\u001b[0m \u001b[0;34m:\u001b[0m\u001b[0;34m\u001b[0m\u001b[0;34m\u001b[0m\u001b[0m\n\u001b[1;32m    136\u001b[0m             \u001b[0mmodel\u001b[0m\u001b[0;34m.\u001b[0m\u001b[0mtrain\u001b[0m\u001b[0;34m(\u001b[0m\u001b[0;34m)\u001b[0m\u001b[0;34m\u001b[0m\u001b[0;34m\u001b[0m\u001b[0m\n\u001b[0;32m--> 137\u001b[0;31m             \u001b[0;32mfor\u001b[0m \u001b[0mbatch_idx\u001b[0m\u001b[0;34m,\u001b[0m \u001b[0;34m(\u001b[0m\u001b[0mdata\u001b[0m\u001b[0;34m,\u001b[0m \u001b[0mtarget\u001b[0m\u001b[0;34m)\u001b[0m \u001b[0;32min\u001b[0m \u001b[0menumerate\u001b[0m\u001b[0;34m(\u001b[0m\u001b[0mtrain_loader\u001b[0m\u001b[0;34m)\u001b[0m\u001b[0;34m:\u001b[0m\u001b[0;34m\u001b[0m\u001b[0;34m\u001b[0m\u001b[0m\n\u001b[0m\u001b[1;32m    138\u001b[0m                 \u001b[0mdata\u001b[0m\u001b[0;34m,\u001b[0m \u001b[0mtarget\u001b[0m \u001b[0;34m=\u001b[0m \u001b[0mdata\u001b[0m\u001b[0;34m.\u001b[0m\u001b[0mto\u001b[0m\u001b[0;34m(\u001b[0m\u001b[0mdevice\u001b[0m\u001b[0;34m)\u001b[0m\u001b[0;34m,\u001b[0m \u001b[0mtarget\u001b[0m\u001b[0;34m.\u001b[0m\u001b[0mto\u001b[0m\u001b[0;34m(\u001b[0m\u001b[0mdevice\u001b[0m\u001b[0;34m)\u001b[0m\u001b[0;34m\u001b[0m\u001b[0;34m\u001b[0m\u001b[0m\n\u001b[1;32m    139\u001b[0m                 \u001b[0;32mif\u001b[0m \u001b[0mdata_mode\u001b[0m\u001b[0;34m==\u001b[0m\u001b[0;34m'fixed'\u001b[0m \u001b[0;34m:\u001b[0m\u001b[0;34m\u001b[0m\u001b[0;34m\u001b[0m\u001b[0m\n",
      "\u001b[0;32m~/.conda/envs/GWT/lib/python3.9/site-packages/torch/utils/data/dataloader.py\u001b[0m in \u001b[0;36m__next__\u001b[0;34m(self)\u001b[0m\n\u001b[1;32m    519\u001b[0m             \u001b[0;32mif\u001b[0m \u001b[0mself\u001b[0m\u001b[0;34m.\u001b[0m\u001b[0m_sampler_iter\u001b[0m \u001b[0;32mis\u001b[0m \u001b[0;32mNone\u001b[0m\u001b[0;34m:\u001b[0m\u001b[0;34m\u001b[0m\u001b[0;34m\u001b[0m\u001b[0m\n\u001b[1;32m    520\u001b[0m                 \u001b[0mself\u001b[0m\u001b[0;34m.\u001b[0m\u001b[0m_reset\u001b[0m\u001b[0;34m(\u001b[0m\u001b[0;34m)\u001b[0m\u001b[0;34m\u001b[0m\u001b[0;34m\u001b[0m\u001b[0m\n\u001b[0;32m--> 521\u001b[0;31m             \u001b[0mdata\u001b[0m \u001b[0;34m=\u001b[0m \u001b[0mself\u001b[0m\u001b[0;34m.\u001b[0m\u001b[0m_next_data\u001b[0m\u001b[0;34m(\u001b[0m\u001b[0;34m)\u001b[0m\u001b[0;34m\u001b[0m\u001b[0;34m\u001b[0m\u001b[0m\n\u001b[0m\u001b[1;32m    522\u001b[0m             \u001b[0mself\u001b[0m\u001b[0;34m.\u001b[0m\u001b[0m_num_yielded\u001b[0m \u001b[0;34m+=\u001b[0m \u001b[0;36m1\u001b[0m\u001b[0;34m\u001b[0m\u001b[0;34m\u001b[0m\u001b[0m\n\u001b[1;32m    523\u001b[0m             \u001b[0;32mif\u001b[0m \u001b[0mself\u001b[0m\u001b[0;34m.\u001b[0m\u001b[0m_dataset_kind\u001b[0m \u001b[0;34m==\u001b[0m \u001b[0m_DatasetKind\u001b[0m\u001b[0;34m.\u001b[0m\u001b[0mIterable\u001b[0m \u001b[0;32mand\u001b[0m\u001b[0;31m \u001b[0m\u001b[0;31m\\\u001b[0m\u001b[0;34m\u001b[0m\u001b[0;34m\u001b[0m\u001b[0m\n",
      "\u001b[0;32m~/.conda/envs/GWT/lib/python3.9/site-packages/torch/utils/data/dataloader.py\u001b[0m in \u001b[0;36m_next_data\u001b[0;34m(self)\u001b[0m\n\u001b[1;32m    559\u001b[0m     \u001b[0;32mdef\u001b[0m \u001b[0m_next_data\u001b[0m\u001b[0;34m(\u001b[0m\u001b[0mself\u001b[0m\u001b[0;34m)\u001b[0m\u001b[0;34m:\u001b[0m\u001b[0;34m\u001b[0m\u001b[0;34m\u001b[0m\u001b[0m\n\u001b[1;32m    560\u001b[0m         \u001b[0mindex\u001b[0m \u001b[0;34m=\u001b[0m \u001b[0mself\u001b[0m\u001b[0;34m.\u001b[0m\u001b[0m_next_index\u001b[0m\u001b[0;34m(\u001b[0m\u001b[0;34m)\u001b[0m  \u001b[0;31m# may raise StopIteration\u001b[0m\u001b[0;34m\u001b[0m\u001b[0;34m\u001b[0m\u001b[0m\n\u001b[0;32m--> 561\u001b[0;31m         \u001b[0mdata\u001b[0m \u001b[0;34m=\u001b[0m \u001b[0mself\u001b[0m\u001b[0;34m.\u001b[0m\u001b[0m_dataset_fetcher\u001b[0m\u001b[0;34m.\u001b[0m\u001b[0mfetch\u001b[0m\u001b[0;34m(\u001b[0m\u001b[0mindex\u001b[0m\u001b[0;34m)\u001b[0m  \u001b[0;31m# may raise StopIteration\u001b[0m\u001b[0;34m\u001b[0m\u001b[0;34m\u001b[0m\u001b[0m\n\u001b[0m\u001b[1;32m    562\u001b[0m         \u001b[0;32mif\u001b[0m \u001b[0mself\u001b[0m\u001b[0;34m.\u001b[0m\u001b[0m_pin_memory\u001b[0m\u001b[0;34m:\u001b[0m\u001b[0;34m\u001b[0m\u001b[0;34m\u001b[0m\u001b[0m\n\u001b[1;32m    563\u001b[0m             \u001b[0mdata\u001b[0m \u001b[0;34m=\u001b[0m \u001b[0m_utils\u001b[0m\u001b[0;34m.\u001b[0m\u001b[0mpin_memory\u001b[0m\u001b[0;34m.\u001b[0m\u001b[0mpin_memory\u001b[0m\u001b[0;34m(\u001b[0m\u001b[0mdata\u001b[0m\u001b[0;34m)\u001b[0m\u001b[0;34m\u001b[0m\u001b[0;34m\u001b[0m\u001b[0m\n",
      "\u001b[0;32m~/.conda/envs/GWT/lib/python3.9/site-packages/torch/utils/data/_utils/fetch.py\u001b[0m in \u001b[0;36mfetch\u001b[0;34m(self, possibly_batched_index)\u001b[0m\n\u001b[1;32m     47\u001b[0m     \u001b[0;32mdef\u001b[0m \u001b[0mfetch\u001b[0m\u001b[0;34m(\u001b[0m\u001b[0mself\u001b[0m\u001b[0;34m,\u001b[0m \u001b[0mpossibly_batched_index\u001b[0m\u001b[0;34m)\u001b[0m\u001b[0;34m:\u001b[0m\u001b[0;34m\u001b[0m\u001b[0;34m\u001b[0m\u001b[0m\n\u001b[1;32m     48\u001b[0m         \u001b[0;32mif\u001b[0m \u001b[0mself\u001b[0m\u001b[0;34m.\u001b[0m\u001b[0mauto_collation\u001b[0m\u001b[0;34m:\u001b[0m\u001b[0;34m\u001b[0m\u001b[0;34m\u001b[0m\u001b[0m\n\u001b[0;32m---> 49\u001b[0;31m             \u001b[0mdata\u001b[0m \u001b[0;34m=\u001b[0m \u001b[0;34m[\u001b[0m\u001b[0mself\u001b[0m\u001b[0;34m.\u001b[0m\u001b[0mdataset\u001b[0m\u001b[0;34m[\u001b[0m\u001b[0midx\u001b[0m\u001b[0;34m]\u001b[0m \u001b[0;32mfor\u001b[0m \u001b[0midx\u001b[0m \u001b[0;32min\u001b[0m \u001b[0mpossibly_batched_index\u001b[0m\u001b[0;34m]\u001b[0m\u001b[0;34m\u001b[0m\u001b[0;34m\u001b[0m\u001b[0m\n\u001b[0m\u001b[1;32m     50\u001b[0m         \u001b[0;32melse\u001b[0m\u001b[0;34m:\u001b[0m\u001b[0;34m\u001b[0m\u001b[0;34m\u001b[0m\u001b[0m\n\u001b[1;32m     51\u001b[0m             \u001b[0mdata\u001b[0m \u001b[0;34m=\u001b[0m \u001b[0mself\u001b[0m\u001b[0;34m.\u001b[0m\u001b[0mdataset\u001b[0m\u001b[0;34m[\u001b[0m\u001b[0mpossibly_batched_index\u001b[0m\u001b[0;34m]\u001b[0m\u001b[0;34m\u001b[0m\u001b[0;34m\u001b[0m\u001b[0m\n",
      "\u001b[0;32m~/.conda/envs/GWT/lib/python3.9/site-packages/torch/utils/data/_utils/fetch.py\u001b[0m in \u001b[0;36m<listcomp>\u001b[0;34m(.0)\u001b[0m\n\u001b[1;32m     47\u001b[0m     \u001b[0;32mdef\u001b[0m \u001b[0mfetch\u001b[0m\u001b[0;34m(\u001b[0m\u001b[0mself\u001b[0m\u001b[0;34m,\u001b[0m \u001b[0mpossibly_batched_index\u001b[0m\u001b[0;34m)\u001b[0m\u001b[0;34m:\u001b[0m\u001b[0;34m\u001b[0m\u001b[0;34m\u001b[0m\u001b[0m\n\u001b[1;32m     48\u001b[0m         \u001b[0;32mif\u001b[0m \u001b[0mself\u001b[0m\u001b[0;34m.\u001b[0m\u001b[0mauto_collation\u001b[0m\u001b[0;34m:\u001b[0m\u001b[0;34m\u001b[0m\u001b[0;34m\u001b[0m\u001b[0m\n\u001b[0;32m---> 49\u001b[0;31m             \u001b[0mdata\u001b[0m \u001b[0;34m=\u001b[0m \u001b[0;34m[\u001b[0m\u001b[0mself\u001b[0m\u001b[0;34m.\u001b[0m\u001b[0mdataset\u001b[0m\u001b[0;34m[\u001b[0m\u001b[0midx\u001b[0m\u001b[0;34m]\u001b[0m \u001b[0;32mfor\u001b[0m \u001b[0midx\u001b[0m \u001b[0;32min\u001b[0m \u001b[0mpossibly_batched_index\u001b[0m\u001b[0;34m]\u001b[0m\u001b[0;34m\u001b[0m\u001b[0;34m\u001b[0m\u001b[0m\n\u001b[0m\u001b[1;32m     50\u001b[0m         \u001b[0;32melse\u001b[0m\u001b[0;34m:\u001b[0m\u001b[0;34m\u001b[0m\u001b[0;34m\u001b[0m\u001b[0m\n\u001b[1;32m     51\u001b[0m             \u001b[0mdata\u001b[0m \u001b[0;34m=\u001b[0m \u001b[0mself\u001b[0m\u001b[0;34m.\u001b[0m\u001b[0mdataset\u001b[0m\u001b[0;34m[\u001b[0m\u001b[0mpossibly_batched_index\u001b[0m\u001b[0;34m]\u001b[0m\u001b[0;34m\u001b[0m\u001b[0;34m\u001b[0m\u001b[0m\n",
      "\u001b[0;32m~/.conda/envs/GWT/lib/python3.9/site-packages/torchvision/datasets/mnist.py\u001b[0m in \u001b[0;36m__getitem__\u001b[0;34m(self, index)\u001b[0m\n\u001b[1;32m    132\u001b[0m \u001b[0;34m\u001b[0m\u001b[0m\n\u001b[1;32m    133\u001b[0m         \u001b[0;32mif\u001b[0m \u001b[0mself\u001b[0m\u001b[0;34m.\u001b[0m\u001b[0mtransform\u001b[0m \u001b[0;32mis\u001b[0m \u001b[0;32mnot\u001b[0m \u001b[0;32mNone\u001b[0m\u001b[0;34m:\u001b[0m\u001b[0;34m\u001b[0m\u001b[0;34m\u001b[0m\u001b[0m\n\u001b[0;32m--> 134\u001b[0;31m             \u001b[0mimg\u001b[0m \u001b[0;34m=\u001b[0m \u001b[0mself\u001b[0m\u001b[0;34m.\u001b[0m\u001b[0mtransform\u001b[0m\u001b[0;34m(\u001b[0m\u001b[0mimg\u001b[0m\u001b[0;34m)\u001b[0m\u001b[0;34m\u001b[0m\u001b[0;34m\u001b[0m\u001b[0m\n\u001b[0m\u001b[1;32m    135\u001b[0m \u001b[0;34m\u001b[0m\u001b[0m\n\u001b[1;32m    136\u001b[0m         \u001b[0;32mif\u001b[0m \u001b[0mself\u001b[0m\u001b[0;34m.\u001b[0m\u001b[0mtarget_transform\u001b[0m \u001b[0;32mis\u001b[0m \u001b[0;32mnot\u001b[0m \u001b[0;32mNone\u001b[0m\u001b[0;34m:\u001b[0m\u001b[0;34m\u001b[0m\u001b[0;34m\u001b[0m\u001b[0m\n",
      "\u001b[0;32m~/.conda/envs/GWT/lib/python3.9/site-packages/torchvision/transforms/transforms.py\u001b[0m in \u001b[0;36m__call__\u001b[0;34m(self, img)\u001b[0m\n\u001b[1;32m     59\u001b[0m     \u001b[0;32mdef\u001b[0m \u001b[0m__call__\u001b[0m\u001b[0;34m(\u001b[0m\u001b[0mself\u001b[0m\u001b[0;34m,\u001b[0m \u001b[0mimg\u001b[0m\u001b[0;34m)\u001b[0m\u001b[0;34m:\u001b[0m\u001b[0;34m\u001b[0m\u001b[0;34m\u001b[0m\u001b[0m\n\u001b[1;32m     60\u001b[0m         \u001b[0;32mfor\u001b[0m \u001b[0mt\u001b[0m \u001b[0;32min\u001b[0m \u001b[0mself\u001b[0m\u001b[0;34m.\u001b[0m\u001b[0mtransforms\u001b[0m\u001b[0;34m:\u001b[0m\u001b[0;34m\u001b[0m\u001b[0;34m\u001b[0m\u001b[0m\n\u001b[0;32m---> 61\u001b[0;31m             \u001b[0mimg\u001b[0m \u001b[0;34m=\u001b[0m \u001b[0mt\u001b[0m\u001b[0;34m(\u001b[0m\u001b[0mimg\u001b[0m\u001b[0;34m)\u001b[0m\u001b[0;34m\u001b[0m\u001b[0;34m\u001b[0m\u001b[0m\n\u001b[0m\u001b[1;32m     62\u001b[0m         \u001b[0;32mreturn\u001b[0m \u001b[0mimg\u001b[0m\u001b[0;34m\u001b[0m\u001b[0;34m\u001b[0m\u001b[0m\n\u001b[1;32m     63\u001b[0m \u001b[0;34m\u001b[0m\u001b[0m\n",
      "\u001b[0;32m~/.conda/envs/GWT/lib/python3.9/site-packages/torchvision/transforms/transforms.py\u001b[0m in \u001b[0;36m__call__\u001b[0;34m(self, pic)\u001b[0m\n\u001b[1;32m     96\u001b[0m             \u001b[0mTensor\u001b[0m\u001b[0;34m:\u001b[0m \u001b[0mConverted\u001b[0m \u001b[0mimage\u001b[0m\u001b[0;34m.\u001b[0m\u001b[0;34m\u001b[0m\u001b[0;34m\u001b[0m\u001b[0m\n\u001b[1;32m     97\u001b[0m         \"\"\"\n\u001b[0;32m---> 98\u001b[0;31m         \u001b[0;32mreturn\u001b[0m \u001b[0mF\u001b[0m\u001b[0;34m.\u001b[0m\u001b[0mto_tensor\u001b[0m\u001b[0;34m(\u001b[0m\u001b[0mpic\u001b[0m\u001b[0;34m)\u001b[0m\u001b[0;34m\u001b[0m\u001b[0;34m\u001b[0m\u001b[0m\n\u001b[0m\u001b[1;32m     99\u001b[0m \u001b[0;34m\u001b[0m\u001b[0m\n\u001b[1;32m    100\u001b[0m     \u001b[0;32mdef\u001b[0m \u001b[0m__repr__\u001b[0m\u001b[0;34m(\u001b[0m\u001b[0mself\u001b[0m\u001b[0;34m)\u001b[0m\u001b[0;34m:\u001b[0m\u001b[0;34m\u001b[0m\u001b[0;34m\u001b[0m\u001b[0m\n",
      "\u001b[0;32m~/.conda/envs/GWT/lib/python3.9/site-packages/torchvision/transforms/functional.py\u001b[0m in \u001b[0;36mto_tensor\u001b[0;34m(pic)\u001b[0m\n\u001b[1;32m    148\u001b[0m     \u001b[0mimg\u001b[0m \u001b[0;34m=\u001b[0m \u001b[0mimg\u001b[0m\u001b[0;34m.\u001b[0m\u001b[0mpermute\u001b[0m\u001b[0;34m(\u001b[0m\u001b[0;34m(\u001b[0m\u001b[0;36m2\u001b[0m\u001b[0;34m,\u001b[0m \u001b[0;36m0\u001b[0m\u001b[0;34m,\u001b[0m \u001b[0;36m1\u001b[0m\u001b[0;34m)\u001b[0m\u001b[0;34m)\u001b[0m\u001b[0;34m.\u001b[0m\u001b[0mcontiguous\u001b[0m\u001b[0;34m(\u001b[0m\u001b[0;34m)\u001b[0m\u001b[0;34m\u001b[0m\u001b[0;34m\u001b[0m\u001b[0m\n\u001b[1;32m    149\u001b[0m     \u001b[0;32mif\u001b[0m \u001b[0misinstance\u001b[0m\u001b[0;34m(\u001b[0m\u001b[0mimg\u001b[0m\u001b[0;34m,\u001b[0m \u001b[0mtorch\u001b[0m\u001b[0;34m.\u001b[0m\u001b[0mByteTensor\u001b[0m\u001b[0;34m)\u001b[0m\u001b[0;34m:\u001b[0m\u001b[0;34m\u001b[0m\u001b[0;34m\u001b[0m\u001b[0m\n\u001b[0;32m--> 150\u001b[0;31m         \u001b[0;32mreturn\u001b[0m \u001b[0mimg\u001b[0m\u001b[0;34m.\u001b[0m\u001b[0mto\u001b[0m\u001b[0;34m(\u001b[0m\u001b[0mdtype\u001b[0m\u001b[0;34m=\u001b[0m\u001b[0mdefault_float_dtype\u001b[0m\u001b[0;34m)\u001b[0m\u001b[0;34m.\u001b[0m\u001b[0mdiv\u001b[0m\u001b[0;34m(\u001b[0m\u001b[0;36m255\u001b[0m\u001b[0;34m)\u001b[0m\u001b[0;34m\u001b[0m\u001b[0;34m\u001b[0m\u001b[0m\n\u001b[0m\u001b[1;32m    151\u001b[0m     \u001b[0;32melse\u001b[0m\u001b[0;34m:\u001b[0m\u001b[0;34m\u001b[0m\u001b[0;34m\u001b[0m\u001b[0m\n\u001b[1;32m    152\u001b[0m         \u001b[0;32mreturn\u001b[0m \u001b[0mimg\u001b[0m\u001b[0;34m\u001b[0m\u001b[0;34m\u001b[0m\u001b[0m\n",
      "\u001b[0;31mKeyboardInterrupt\u001b[0m: "
     ]
    }
   ],
   "source": [
    "n_epochs = 1\n",
    "decision_params = ('last', 'max')\n",
    "task='none'\n",
    "\n",
    "train_out = train_community(community, device, *loaders, optimizers, \n",
    "                            schedulers=schedulers, n_epochs=n_epochs, global_rewire=True, \n",
    "                            task=task, decision_params=decision_params, data_mode='fixed',\n",
    "                            deepR_params_dict=deepR_params_dict, trials = (True, True))\n",
    "                            \n",
    "(train_losses, train_accs), (test_losses, test_accs), deciding_agents, nb_reconnect, nb_connections, best_state = train_out"
   ]
  },
  {
   "cell_type": "code",
   "execution_count": null,
   "id": "f868e75f-7f85-469f-b586-1191d9681ead",
   "metadata": {
    "tags": []
   },
   "outputs": [
    {
     "ename": "NameError",
     "evalue": "name 'nb_connections' is not defined",
     "output_type": "error",
     "traceback": [
      "\u001b[0;31m---------------------------------------------------------------------------\u001b[0m",
      "\u001b[0;31mNameError\u001b[0m                                 Traceback (most recent call last)",
      "\u001b[0;32m/tmp/ipykernel_88989/1373739910.py\u001b[0m in \u001b[0;36m<module>\u001b[0;34m\u001b[0m\n\u001b[1;32m      4\u001b[0m     \u001b[0;32mfor\u001b[0m \u001b[0mn2\u001b[0m \u001b[0;32min\u001b[0m \u001b[0mrange\u001b[0m\u001b[0;34m(\u001b[0m\u001b[0mcommunity\u001b[0m\u001b[0;34m.\u001b[0m\u001b[0mn_agents\u001b[0m\u001b[0;34m)\u001b[0m \u001b[0;34m:\u001b[0m\u001b[0;34m\u001b[0m\u001b[0;34m\u001b[0m\u001b[0m\n\u001b[1;32m      5\u001b[0m         \u001b[0;32mif\u001b[0m \u001b[0mn1\u001b[0m \u001b[0;34m!=\u001b[0m \u001b[0mn2\u001b[0m \u001b[0;34m:\u001b[0m\u001b[0;34m\u001b[0m\u001b[0;34m\u001b[0m\u001b[0m\n\u001b[0;32m----> 6\u001b[0;31m             \u001b[0mplt\u001b[0m\u001b[0;34m.\u001b[0m\u001b[0mplot\u001b[0m\u001b[0;34m(\u001b[0m\u001b[0mget_connects\u001b[0m\u001b[0;34m(\u001b[0m\u001b[0mstr\u001b[0m\u001b[0;34m(\u001b[0m\u001b[0mn1\u001b[0m\u001b[0;34m)\u001b[0m \u001b[0;34m+\u001b[0m \u001b[0mstr\u001b[0m\u001b[0;34m(\u001b[0m\u001b[0mn2\u001b[0m\u001b[0;34m)\u001b[0m\u001b[0;34m)\u001b[0m\u001b[0;34m,\u001b[0m \u001b[0mlabel\u001b[0m \u001b[0;34m=\u001b[0m \u001b[0;34mf'{n1} -> {n2} active connections'\u001b[0m\u001b[0;34m)\u001b[0m\u001b[0;34m\u001b[0m\u001b[0;34m\u001b[0m\u001b[0m\n\u001b[0m\u001b[1;32m      7\u001b[0m \u001b[0;34m\u001b[0m\u001b[0m\n\u001b[1;32m      8\u001b[0m \u001b[0;31m#plt.plot(get_connects('readout'), label = 'Readout active connections', linestyle='--')\u001b[0m\u001b[0;34m\u001b[0m\u001b[0;34m\u001b[0m\u001b[0m\n",
      "\u001b[0;32m/tmp/ipykernel_88989/1373739910.py\u001b[0m in \u001b[0;36m<lambda>\u001b[0;34m(tag)\u001b[0m\n\u001b[1;32m      1\u001b[0m \u001b[0mplt\u001b[0m\u001b[0;34m.\u001b[0m\u001b[0mfigure\u001b[0m\u001b[0;34m(\u001b[0m\u001b[0;36m1\u001b[0m\u001b[0;34m,\u001b[0m \u001b[0mfigsize\u001b[0m\u001b[0;34m=\u001b[0m\u001b[0;34m(\u001b[0m\u001b[0;36m10\u001b[0m\u001b[0;34m,\u001b[0m \u001b[0;36m5\u001b[0m\u001b[0;34m)\u001b[0m\u001b[0;34m)\u001b[0m\u001b[0;34m\u001b[0m\u001b[0;34m\u001b[0m\u001b[0m\n\u001b[0;32m----> 2\u001b[0;31m \u001b[0mget_connects\u001b[0m \u001b[0;34m=\u001b[0m \u001b[0;32mlambda\u001b[0m \u001b[0mtag\u001b[0m \u001b[0;34m:\u001b[0m \u001b[0;34m[\u001b[0m\u001b[0mcon\u001b[0m\u001b[0;34m[\u001b[0m\u001b[0mtag\u001b[0m\u001b[0;34m]\u001b[0m \u001b[0;32mfor\u001b[0m \u001b[0mcon\u001b[0m \u001b[0;32min\u001b[0m \u001b[0mnb_connections\u001b[0m\u001b[0;34m]\u001b[0m\u001b[0;34m\u001b[0m\u001b[0;34m\u001b[0m\u001b[0m\n\u001b[0m\u001b[1;32m      3\u001b[0m \u001b[0;32mfor\u001b[0m \u001b[0mn1\u001b[0m \u001b[0;32min\u001b[0m \u001b[0mrange\u001b[0m\u001b[0;34m(\u001b[0m\u001b[0mcommunity\u001b[0m\u001b[0;34m.\u001b[0m\u001b[0mn_agents\u001b[0m\u001b[0;34m)\u001b[0m \u001b[0;34m:\u001b[0m\u001b[0;34m\u001b[0m\u001b[0;34m\u001b[0m\u001b[0m\n\u001b[1;32m      4\u001b[0m     \u001b[0;32mfor\u001b[0m \u001b[0mn2\u001b[0m \u001b[0;32min\u001b[0m \u001b[0mrange\u001b[0m\u001b[0;34m(\u001b[0m\u001b[0mcommunity\u001b[0m\u001b[0;34m.\u001b[0m\u001b[0mn_agents\u001b[0m\u001b[0;34m)\u001b[0m \u001b[0;34m:\u001b[0m\u001b[0;34m\u001b[0m\u001b[0;34m\u001b[0m\u001b[0m\n\u001b[1;32m      5\u001b[0m         \u001b[0;32mif\u001b[0m \u001b[0mn1\u001b[0m \u001b[0;34m!=\u001b[0m \u001b[0mn2\u001b[0m \u001b[0;34m:\u001b[0m\u001b[0;34m\u001b[0m\u001b[0;34m\u001b[0m\u001b[0m\n",
      "\u001b[0;31mNameError\u001b[0m: name 'nb_connections' is not defined"
     ]
    },
    {
     "data": {
      "text/plain": [
       "<Figure size 720x360 with 0 Axes>"
      ]
     },
     "metadata": {},
     "output_type": "display_data"
    }
   ],
   "source": [
    "plt.figure(1, figsize=(10, 5))\n",
    "get_connects = lambda tag : [con[tag] for con in nb_connections]\n",
    "for n1 in range(community.n_agents) : \n",
    "    for n2 in range(community.n_agents) :\n",
    "        if n1 != n2 : \n",
    "            plt.plot(get_connects(str(n1) + str(n2)), label = f'{n1} -> {n2} active connections')\n",
    "            \n",
    "#plt.plot(get_connects('readout'), label = 'Readout active connections', linestyle='--')\n",
    "for ag in community.agents : \n",
    "    #plt.plot(get_connects('conv-'+ag.tag), label = f'Agent {ag.tag} Read-in active connections', linestyle='--')\n",
    "    ''\n",
    "plt.legend()"
   ]
  },
  {
   "cell_type": "code",
   "execution_count": null,
   "id": "d4d2cf6e-1167-4c22-815f-feb86e70a8a6",
   "metadata": {},
   "outputs": [],
   "source": [
    "plt.plot(torch.mean(torch.stack(deciding_agents).float(), axis=-1).cpu())\n",
    "plt.title(f'Mean = {torch.mean(torch.stack(deciding_agents).float())}')\n",
    "plt.show()"
   ]
  },
  {
   "cell_type": "markdown",
   "id": "23ce9552-c306-487e-81f7-892fe4ff49a1",
   "metadata": {
    "tags": []
   },
   "source": [
    "## SupSup Community    "
   ]
  },
  {
   "cell_type": "markdown",
   "id": "44086f86-ab92-4f47-be9f-97da9b2ea7f3",
   "metadata": {
    "tags": []
   },
   "source": [
    "### Init"
   ]
  },
  {
   "cell_type": "code",
   "execution_count": 9,
   "id": "ec6401e4-947d-463f-bde8-3aba44a0764c",
   "metadata": {},
   "outputs": [],
   "source": [
    "#loaders = double_train_loader, double_test_loader\n",
    "loaders = train_loader, test_loader\n",
    "\n",
    "data, target = next(iter(loaders[0]))\n",
    "data = temporal_data(data, flatten=False).to(device)\n",
    "\n",
    "n_hid = 25\n",
    "\n",
    "p_global = 0.2\n",
    "p_connect = p_global/2\n",
    "#p_connect = 10*1/n_hid**2\n",
    "n_out = 10\n",
    "n_out_sup = 90\n",
    "n_agents = 8\n",
    "#mask_samples = batch_size // 8\n",
    "mask_samples = 0\n",
    "\n",
    "community = SupSupCommunity(data[0][0].shape, Nhid=[4, n_agents], kernel_size=[7, 5, 3], num_conv_layers=2, \n",
    "                          n_hid=n_hid, n_out=n_out, p_connect=p_connect, pool_size = [2, 2, 1], n_out_sup=n_out_sup,\n",
    "                          decouple=False, distance_based_sparsity=False, cell_type=nn.GRU,\n",
    "                          use_deciding_agent=False, use_sparse_readout=False, temporal_masks=False,\n",
    "                          mask_samples=mask_samples).to(device)\n",
    "\n",
    "#community(data, 'skip');"
   ]
  },
  {
   "cell_type": "code",
   "execution_count": 10,
   "id": "8611806b-102a-4490-9667-ae79c8c1e7d8",
   "metadata": {},
   "outputs": [],
   "source": [
    "params = lr, gamma = 1e-4, 0.95\n",
    "params_dict = {'lr' : lr, 'gamma' : gamma}\n",
    "\n",
    "deepR_params = l1, gdnoise, lr, gamma, cooling = 1e-5, 1e-5, 1e-3, 0.95, 0.99\n",
    "deepR_params_dict = {'l1' : l1, 'gdnoise' : gdnoise, 'lr' : lr, 'gamma' : gamma, 'cooling' : cooling}\n",
    "\n",
    "optimizers, schedulers = init_optimizers(community, params_dict, deepR_params_dict)"
   ]
  },
  {
   "cell_type": "markdown",
   "id": "e7bc1b9c-cdc6-4cec-b8eb-9e78085833c3",
   "metadata": {
    "tags": []
   },
   "source": [
    "### Training"
   ]
  },
  {
   "cell_type": "code",
   "execution_count": 11,
   "id": "33cc167a-f2af-4efa-acf3-d49234ee25f6",
   "metadata": {
    "tags": []
   },
   "outputs": [
    {
     "data": {
      "application/vnd.jupyter.widget-view+json": {
       "model_id": "7f3102086ec64079961473efa0131fc0",
       "version_major": 2,
       "version_minor": 0
      },
      "text/plain": [
       "  0%|          | 0/2 [00:00<?, ?it/s]"
      ]
     },
     "metadata": {},
     "output_type": "display_data"
    },
    {
     "name": "stdout",
     "output_type": "stream",
     "text": [
      "------Finished------\n"
     ]
    }
   ],
   "source": [
    "decision_params = ('last', 'sum') \n",
    "mask_params_dict = {'lr' : 5e-1, 'gamma' : 0.9}\n",
    "\n",
    "global_task = 'none'\n",
    "continual_task, n_tasks = 'sequential', 10\n",
    "#continual_task, n_tasks = 'none', 0\n",
    "\n",
    "n_epochs = n_tasks//5\n",
    "\n",
    "continual_settings = {'task' : continual_task, 'n_tasks' : n_tasks, 'infer_task' : (False, False),\n",
    "                      'sequential' : True, 'pretrain' : False, 'change_mode' : 'acc', 'fix_learning' : False}\n",
    "#continual_settings = {}\n",
    "    \n",
    "train_out = train_community(community, device, *loaders, optimizers, \n",
    "                            schedulers=schedulers, n_epochs=n_epochs, global_rewire=True,\n",
    "                            task=global_task, decision_params=decision_params, data_mode='fixed', check_gradients=False,\n",
    "                            params_dict = params_dict, deepR_params_dict=deepR_params_dict, masks_params_dict=mask_params_dict,\n",
    "                            trials = (True, True), train_connections=True, reg_loss=False, continual_settings=continual_settings)\n",
    "\n",
    "        \n",
    "(train_losses, train_accs), (test_losses, test_accs), deciding_agents, nb_reconnect, nb_connections, best_state, (nb_examples_tasks, first_epoch, first_masks) = train_out\n",
    "#torch.save(best_state, 'SupSupCommunity_5ag_100perms')"
   ]
  },
  {
   "cell_type": "code",
   "execution_count": 12,
   "id": "214604c2-3753-4a70-b2f5-2c2706ba32f8",
   "metadata": {
    "tags": []
   },
   "outputs": [
    {
     "name": "stderr",
     "output_type": "stream",
     "text": [
      "No artists with labels found to put in legend.  Note that artists whose label start with an underscore are ignored when legend() is called with no argument.\n"
     ]
    },
    {
     "data": {
      "image/png": "[encoded data removed]",
      "text/plain": [
       "<Figure size 432x288 with 2 Axes>"
      ]
     },
     "metadata": {
      "needs_background": "light"
     },
     "output_type": "display_data"
    }
   ],
   "source": [
    "fig, axs = plt.subplots(2, 1)\n",
    "plot_running_data(test_accs, axs[0], m=1, label='Test')\n",
    "plot_running_data(train_accs, axs[1], m=1, label='Train')\n"
   ]
  },
  {
   "cell_type": "code",
   "execution_count": null,
   "id": "b0536a0c-9f00-48c5-adf9-fc1492441d4f",
   "metadata": {},
   "outputs": [],
   "source": [
    "#sup_sup_load_dict(community, 'SupSupCommunity_5ag_100perms', data)"
   ]
  },
  {
   "cell_type": "code",
   "execution_count": 13,
   "id": "8b1af2ac-f3a9-4fd8-ab06-4bba8437fbb6",
   "metadata": {
    "tags": []
   },
   "outputs": [
    {
     "ename": "RuntimeError",
     "evalue": "CUDA error: invalid configuration argument\nCUDA kernel errors might be asynchronously reported at some other API call,so the stacktrace below might be incorrect.\nFor debugging consider passing CUDA_LAUNCH_BLOCKING=1.",
     "output_type": "error",
     "traceback": [
      "\u001b[0;31m---------------------------------------------------------------------------\u001b[0m",
      "\u001b[0;31mRuntimeError\u001b[0m                              Traceback (most recent call last)",
      "\u001b[0;32m/tmp/ipykernel_29782/3830365961.py\u001b[0m in \u001b[0;36m<module>\u001b[0;34m\u001b[0m\n\u001b[1;32m      1\u001b[0m \u001b[0mcontinual_settings_test\u001b[0m \u001b[0;34m=\u001b[0m \u001b[0;34m{\u001b[0m\u001b[0;34m'task'\u001b[0m \u001b[0;34m:\u001b[0m \u001b[0mcontinual_task\u001b[0m\u001b[0;34m,\u001b[0m \u001b[0;34m'n_tasks'\u001b[0m \u001b[0;34m:\u001b[0m \u001b[0mn_tasks\u001b[0m\u001b[0;34m,\u001b[0m \u001b[0;34m'infer_task'\u001b[0m \u001b[0;34m:\u001b[0m \u001b[0;34m(\u001b[0m\u001b[0;32mFalse\u001b[0m\u001b[0;34m,\u001b[0m \u001b[0;32mFalse\u001b[0m\u001b[0;34m)\u001b[0m\u001b[0;34m}\u001b[0m\u001b[0;34m\u001b[0m\u001b[0;34m\u001b[0m\u001b[0m\n\u001b[0;32m----> 2\u001b[0;31m test_out = test_community(community, device, loaders[1],\n\u001b[0m\u001b[1;32m      3\u001b[0m                             \u001b[0mdecision_params\u001b[0m\u001b[0;34m,\u001b[0m \u001b[0mtask\u001b[0m\u001b[0;34m=\u001b[0m\u001b[0mglobal_task\u001b[0m\u001b[0;34m,\u001b[0m\u001b[0;34m\u001b[0m\u001b[0;34m\u001b[0m\u001b[0m\n\u001b[1;32m      4\u001b[0m                             continual_settings=continual_settings_test)\n\u001b[1;32m      5\u001b[0m \u001b[0;34m\u001b[0m\u001b[0m\n",
      "\u001b[0;32m~/Code/ANNs/society_of_mind/dual_process/../common/training.py\u001b[0m in \u001b[0;36mtest_community\u001b[0;34m(model, device, test_loader, decision_params, task, data_mode, n_steps, verbose, seed, continual_settings)\u001b[0m\n\u001b[1;32m    391\u001b[0m                     \u001b[0moutput\u001b[0m\u001b[0;34m,\u001b[0m \u001b[0m_\u001b[0m \u001b[0;34m=\u001b[0m \u001b[0mmodel\u001b[0m\u001b[0;34m(\u001b[0m\u001b[0mdata\u001b[0m\u001b[0;34m,\u001b[0m \u001b[0mimposed_mask\u001b[0m\u001b[0;34m)\u001b[0m\u001b[0;34m\u001b[0m\u001b[0;34m\u001b[0m\u001b[0m\n\u001b[1;32m    392\u001b[0m                 \u001b[0;32melse\u001b[0m \u001b[0;34m:\u001b[0m\u001b[0;34m\u001b[0m\u001b[0;34m\u001b[0m\u001b[0m\n\u001b[0;32m--> 393\u001b[0;31m                     \u001b[0moutput\u001b[0m\u001b[0;34m,\u001b[0m \u001b[0m_\u001b[0m \u001b[0;34m=\u001b[0m \u001b[0mmodel\u001b[0m\u001b[0;34m(\u001b[0m\u001b[0mdata\u001b[0m\u001b[0;34m,\u001b[0m \u001b[0mtask_id\u001b[0m\u001b[0;34m=\u001b[0m\u001b[0mstr\u001b[0m\u001b[0;34m(\u001b[0m\u001b[0mseed\u001b[0m\u001b[0;34m)\u001b[0m\u001b[0;34m)\u001b[0m\u001b[0;34m\u001b[0m\u001b[0;34m\u001b[0m\u001b[0m\n\u001b[0m\u001b[1;32m    394\u001b[0m             \u001b[0;32melse\u001b[0m \u001b[0;34m:\u001b[0m\u001b[0;34m\u001b[0m\u001b[0;34m\u001b[0m\u001b[0m\n\u001b[1;32m    395\u001b[0m                 \u001b[0moutput\u001b[0m\u001b[0;34m,\u001b[0m \u001b[0m_\u001b[0m \u001b[0;34m=\u001b[0m \u001b[0mmodel\u001b[0m\u001b[0;34m(\u001b[0m\u001b[0mdata\u001b[0m\u001b[0;34m)\u001b[0m\u001b[0;34m\u001b[0m\u001b[0;34m\u001b[0m\u001b[0m\n",
      "\u001b[0;32m~/.conda/envs/GWT/lib/python3.9/site-packages/torch/nn/modules/module.py\u001b[0m in \u001b[0;36m_call_impl\u001b[0;34m(self, *input, **kwargs)\u001b[0m\n\u001b[1;32m   1100\u001b[0m         if not (self._backward_hooks or self._forward_hooks or self._forward_pre_hooks or _global_backward_hooks\n\u001b[1;32m   1101\u001b[0m                 or _global_forward_hooks or _global_forward_pre_hooks):\n\u001b[0;32m-> 1102\u001b[0;31m             \u001b[0;32mreturn\u001b[0m \u001b[0mforward_call\u001b[0m\u001b[0;34m(\u001b[0m\u001b[0;34m*\u001b[0m\u001b[0minput\u001b[0m\u001b[0;34m,\u001b[0m \u001b[0;34m**\u001b[0m\u001b[0mkwargs\u001b[0m\u001b[0;34m)\u001b[0m\u001b[0;34m\u001b[0m\u001b[0;34m\u001b[0m\u001b[0m\n\u001b[0m\u001b[1;32m   1103\u001b[0m         \u001b[0;31m# Do not call functions when jit is used\u001b[0m\u001b[0;34m\u001b[0m\u001b[0;34m\u001b[0m\u001b[0m\n\u001b[1;32m   1104\u001b[0m         \u001b[0mfull_backward_hooks\u001b[0m\u001b[0;34m,\u001b[0m \u001b[0mnon_full_backward_hooks\u001b[0m \u001b[0;34m=\u001b[0m \u001b[0;34m[\u001b[0m\u001b[0;34m]\u001b[0m\u001b[0;34m,\u001b[0m \u001b[0;34m[\u001b[0m\u001b[0;34m]\u001b[0m\u001b[0;34m\u001b[0m\u001b[0;34m\u001b[0m\u001b[0m\n",
      "\u001b[0;32m~/Code/ANNs/society_of_mind/dual_process/dual_models.py\u001b[0m in \u001b[0;36mforward\u001b[0;34m(self, x, task_id)\u001b[0m\n\u001b[1;32m    318\u001b[0m                 \u001b[0mself\u001b[0m\u001b[0;34m.\u001b[0m\u001b[0moutput_masks\u001b[0m \u001b[0;34m=\u001b[0m \u001b[0mtorch\u001b[0m\u001b[0;34m.\u001b[0m\u001b[0mcat\u001b[0m\u001b[0;34m(\u001b[0m\u001b[0;34m[\u001b[0m\u001b[0mself\u001b[0m\u001b[0;34m.\u001b[0m\u001b[0moutput_masks\u001b[0m\u001b[0;34m,\u001b[0m \u001b[0mbatch_mask\u001b[0m\u001b[0;34m(\u001b[0m\u001b[0mdeterministic_masks\u001b[0m\u001b[0;34m[\u001b[0m\u001b[0;36m0\u001b[0m\u001b[0;34m]\u001b[0m\u001b[0;34m)\u001b[0m\u001b[0;34m]\u001b[0m\u001b[0;34m,\u001b[0m \u001b[0;34m-\u001b[0m\u001b[0;36m1\u001b[0m\u001b[0;34m)\u001b[0m\u001b[0;34m\u001b[0m\u001b[0;34m\u001b[0m\u001b[0m\n\u001b[1;32m    319\u001b[0m \u001b[0;34m\u001b[0m\u001b[0m\n\u001b[0;32m--> 320\u001b[0;31m         \u001b[0;32mreturn\u001b[0m \u001b[0msuper\u001b[0m\u001b[0;34m(\u001b[0m\u001b[0;34m)\u001b[0m\u001b[0;34m.\u001b[0m\u001b[0mforward\u001b[0m\u001b[0;34m(\u001b[0m\u001b[0mx\u001b[0m\u001b[0;34m,\u001b[0m \u001b[0msupsup\u001b[0m\u001b[0;34m=\u001b[0m\u001b[0;34m(\u001b[0m\u001b[0mtask_id\u001b[0m \u001b[0;34m!=\u001b[0m \u001b[0;34m'skip'\u001b[0m\u001b[0;34m)\u001b[0m\u001b[0;34m,\u001b[0m \u001b[0mtemporal_masks\u001b[0m\u001b[0;34m=\u001b[0m\u001b[0mself\u001b[0m\u001b[0;34m.\u001b[0m\u001b[0mtemporal_masks\u001b[0m\u001b[0;34m)\u001b[0m\u001b[0;34m\u001b[0m\u001b[0;34m\u001b[0m\u001b[0m\n\u001b[0m\u001b[1;32m    321\u001b[0m \u001b[0;34m\u001b[0m\u001b[0m\n\u001b[1;32m    322\u001b[0m \u001b[0;31m# ------ Attention Based Models ------\u001b[0m\u001b[0;34m\u001b[0m\u001b[0;34m\u001b[0m\u001b[0m\n",
      "\u001b[0;32m~/Code/ANNs/society_of_mind/dual_process/../common/models.py\u001b[0m in \u001b[0;36mforward\u001b[0;34m(self, x, supsup, temporal_masks)\u001b[0m\n\u001b[1;32m    686\u001b[0m                 \u001b[0;32melse\u001b[0m \u001b[0;34m:\u001b[0m\u001b[0;34m\u001b[0m\u001b[0;34m\u001b[0m\u001b[0m\n\u001b[1;32m    687\u001b[0m                     \u001b[0muse_ag\u001b[0m \u001b[0;34m=\u001b[0m \u001b[0mself\u001b[0m\u001b[0;34m.\u001b[0m\u001b[0moutput_masks\u001b[0m\u001b[0;34m[\u001b[0m\u001b[0mi\u001b[0m\u001b[0;34m]\u001b[0m \u001b[0;32mif\u001b[0m \u001b[0msupsup\u001b[0m \u001b[0;32melse\u001b[0m \u001b[0mtorch\u001b[0m\u001b[0;34m.\u001b[0m\u001b[0mtensor\u001b[0m\u001b[0;34m(\u001b[0m\u001b[0;36m1\u001b[0m\u001b[0;34m)\u001b[0m\u001b[0;34m\u001b[0m\u001b[0;34m\u001b[0m\u001b[0m\n\u001b[0;32m--> 688\u001b[0;31m                     \u001b[0mout\u001b[0m\u001b[0;34m,\u001b[0m \u001b[0mh\u001b[0m \u001b[0;34m=\u001b[0m \u001b[0mouts\u001b[0m \u001b[0;34m=\u001b[0m \u001b[0mag1\u001b[0m\u001b[0;34m(\u001b[0m\u001b[0minputs\u001b[0m\u001b[0;34m)\u001b[0m\u001b[0;34m\u001b[0m\u001b[0;34m\u001b[0m\u001b[0m\n\u001b[0m\u001b[1;32m    689\u001b[0m                     \u001b[0;31m#out, h = self.mask_mult(outs[0], use_ag), outs[1]\u001b[0m\u001b[0;34m\u001b[0m\u001b[0;34m\u001b[0m\u001b[0m\n\u001b[1;32m    690\u001b[0m \u001b[0;34m\u001b[0m\u001b[0m\n",
      "\u001b[0;32m~/.conda/envs/GWT/lib/python3.9/site-packages/torch/nn/modules/module.py\u001b[0m in \u001b[0;36m_call_impl\u001b[0;34m(self, *input, **kwargs)\u001b[0m\n\u001b[1;32m   1100\u001b[0m         if not (self._backward_hooks or self._forward_hooks or self._forward_pre_hooks or _global_backward_hooks\n\u001b[1;32m   1101\u001b[0m                 or _global_forward_hooks or _global_forward_pre_hooks):\n\u001b[0;32m-> 1102\u001b[0;31m             \u001b[0;32mreturn\u001b[0m \u001b[0mforward_call\u001b[0m\u001b[0;34m(\u001b[0m\u001b[0;34m*\u001b[0m\u001b[0minput\u001b[0m\u001b[0;34m,\u001b[0m \u001b[0;34m**\u001b[0m\u001b[0mkwargs\u001b[0m\u001b[0;34m)\u001b[0m\u001b[0;34m\u001b[0m\u001b[0;34m\u001b[0m\u001b[0m\n\u001b[0m\u001b[1;32m   1103\u001b[0m         \u001b[0;31m# Do not call functions when jit is used\u001b[0m\u001b[0;34m\u001b[0m\u001b[0;34m\u001b[0m\u001b[0m\n\u001b[1;32m   1104\u001b[0m         \u001b[0mfull_backward_hooks\u001b[0m\u001b[0;34m,\u001b[0m \u001b[0mnon_full_backward_hooks\u001b[0m \u001b[0;34m=\u001b[0m \u001b[0;34m[\u001b[0m\u001b[0;34m]\u001b[0m\u001b[0;34m,\u001b[0m \u001b[0;34m[\u001b[0m\u001b[0;34m]\u001b[0m\u001b[0;34m\u001b[0m\u001b[0;34m\u001b[0m\u001b[0m\n",
      "\u001b[0;32m~/Code/ANNs/society_of_mind/dual_process/../common/models.py\u001b[0m in \u001b[0;36mforward\u001b[0;34m(self, x_in, x_h, x_connect, softmax)\u001b[0m\n\u001b[1;32m    116\u001b[0m \u001b[0;34m\u001b[0m\u001b[0m\n\u001b[1;32m    117\u001b[0m         \u001b[0;32mif\u001b[0m \u001b[0mx_h\u001b[0m \u001b[0;32mis\u001b[0m \u001b[0;32mNone\u001b[0m \u001b[0;34m:\u001b[0m\u001b[0;34m\u001b[0m\u001b[0;34m\u001b[0m\u001b[0m\n\u001b[0;32m--> 118\u001b[0;31m             \u001b[0mx\u001b[0m\u001b[0;34m,\u001b[0m \u001b[0mh\u001b[0m \u001b[0;34m=\u001b[0m \u001b[0mself\u001b[0m\u001b[0;34m.\u001b[0m\u001b[0mcell\u001b[0m\u001b[0;34m(\u001b[0m\u001b[0mx_in\u001b[0m\u001b[0;34m)\u001b[0m\u001b[0;34m\u001b[0m\u001b[0;34m\u001b[0m\u001b[0m\n\u001b[0m\u001b[1;32m    119\u001b[0m \u001b[0;34m\u001b[0m\u001b[0m\n\u001b[1;32m    120\u001b[0m         \u001b[0;32melse\u001b[0m\u001b[0;34m:\u001b[0m\u001b[0;34m\u001b[0m\u001b[0;34m\u001b[0m\u001b[0m\n",
      "\u001b[0;32m~/.conda/envs/GWT/lib/python3.9/site-packages/torch/nn/modules/module.py\u001b[0m in \u001b[0;36m_call_impl\u001b[0;34m(self, *input, **kwargs)\u001b[0m\n\u001b[1;32m   1100\u001b[0m         if not (self._backward_hooks or self._forward_hooks or self._forward_pre_hooks or _global_backward_hooks\n\u001b[1;32m   1101\u001b[0m                 or _global_forward_hooks or _global_forward_pre_hooks):\n\u001b[0;32m-> 1102\u001b[0;31m             \u001b[0;32mreturn\u001b[0m \u001b[0mforward_call\u001b[0m\u001b[0;34m(\u001b[0m\u001b[0;34m*\u001b[0m\u001b[0minput\u001b[0m\u001b[0;34m,\u001b[0m \u001b[0;34m**\u001b[0m\u001b[0mkwargs\u001b[0m\u001b[0;34m)\u001b[0m\u001b[0;34m\u001b[0m\u001b[0;34m\u001b[0m\u001b[0m\n\u001b[0m\u001b[1;32m   1103\u001b[0m         \u001b[0;31m# Do not call functions when jit is used\u001b[0m\u001b[0;34m\u001b[0m\u001b[0;34m\u001b[0m\u001b[0m\n\u001b[1;32m   1104\u001b[0m         \u001b[0mfull_backward_hooks\u001b[0m\u001b[0;34m,\u001b[0m \u001b[0mnon_full_backward_hooks\u001b[0m \u001b[0;34m=\u001b[0m \u001b[0;34m[\u001b[0m\u001b[0;34m]\u001b[0m\u001b[0;34m,\u001b[0m \u001b[0;34m[\u001b[0m\u001b[0;34m]\u001b[0m\u001b[0;34m\u001b[0m\u001b[0;34m\u001b[0m\u001b[0m\n",
      "\u001b[0;32m~/.conda/envs/GWT/lib/python3.9/site-packages/torch/nn/modules/rnn.py\u001b[0m in \u001b[0;36mforward\u001b[0;34m(self, input, hx)\u001b[0m\n\u001b[1;32m    847\u001b[0m         \u001b[0mself\u001b[0m\u001b[0;34m.\u001b[0m\u001b[0mcheck_forward_args\u001b[0m\u001b[0;34m(\u001b[0m\u001b[0minput\u001b[0m\u001b[0;34m,\u001b[0m \u001b[0mhx\u001b[0m\u001b[0;34m,\u001b[0m \u001b[0mbatch_sizes\u001b[0m\u001b[0;34m)\u001b[0m\u001b[0;34m\u001b[0m\u001b[0;34m\u001b[0m\u001b[0m\n\u001b[1;32m    848\u001b[0m         \u001b[0;32mif\u001b[0m \u001b[0mbatch_sizes\u001b[0m \u001b[0;32mis\u001b[0m \u001b[0;32mNone\u001b[0m\u001b[0;34m:\u001b[0m\u001b[0;34m\u001b[0m\u001b[0;34m\u001b[0m\u001b[0m\n\u001b[0;32m--> 849\u001b[0;31m             result = _VF.gru(input, hx, self._flat_weights, self.bias, self.num_layers,\n\u001b[0m\u001b[1;32m    850\u001b[0m                              self.dropout, self.training, self.bidirectional, self.batch_first)\n\u001b[1;32m    851\u001b[0m         \u001b[0;32melse\u001b[0m\u001b[0;34m:\u001b[0m\u001b[0;34m\u001b[0m\u001b[0;34m\u001b[0m\u001b[0m\n",
      "\u001b[0;31mRuntimeError\u001b[0m: CUDA error: invalid configuration argument\nCUDA kernel errors might be asynchronously reported at some other API call,so the stacktrace below might be incorrect.\nFor debugging consider passing CUDA_LAUNCH_BLOCKING=1."
     ]
    }
   ],
   "source": [
    "continual_settings_test = {'task' : continual_task, 'n_tasks' : n_tasks, 'infer_task' : (False, False)}\n",
    "test_out = test_community(community, device, loaders[1],\n",
    "                            decision_params, task=global_task,\n",
    "                            continual_settings=continual_settings_test)\n",
    "\n",
    "desc, test_loss, acc, acc_per_seed = test_out\n",
    "np.array(list(acc_per_seed.values())).mean(), acc_per_seed"
   ]
  },
  {
   "cell_type": "markdown",
   "id": "5ed9a292-7f67-4b30-9255-bd3c067a6d07",
   "metadata": {
    "jp-MarkdownHeadingCollapsed": true,
    "tags": []
   },
   "source": [
    "### Task Performance Grid"
   ]
  },
  {
   "cell_type": "code",
   "execution_count": null,
   "id": "1e60bde6-b841-4d05-8988-8b55480babc2",
   "metadata": {
    "tags": []
   },
   "outputs": [
    {
     "data": {
      "application/vnd.jupyter.widget-view+json": {
       "model_id": "826dad23067c46e5816823b728c21996",
       "version_major": 2,
       "version_minor": 0
      },
      "text/plain": [
       "  0%|          | 0/4 [00:00<?, ?it/s]"
      ]
     },
     "metadata": {},
     "output_type": "display_data"
    }
   ],
   "source": [
    "acc_totals = {}\n",
    "for task in tqdm(sorted(community.task_ints)) :\n",
    "    task_id = str(task)\n",
    "    continual_settings_test = {'task' : continual_task, 'n_tasks' : n_tasks, 'infer_task' : (False, True), 'imposed_mask' : task_id}\n",
    "    test_out = test_community(community, device, loaders[1],\n",
    "                                decision_params, task=global_task,\n",
    "                                continual_settings=continual_settings_test)\n",
    "\n",
    "    desc, test_loss, acc, acc_per_seed = test_out\n",
    "    acc_per_seed = {key : acc_per_seed[key] for key in sorted(acc_per_seed.keys(), key=lambda s : int(s))}\n",
    "    acc_totals[task_id] = acc_per_seed"
   ]
  },
  {
   "cell_type": "code",
   "execution_count": null,
   "id": "08316d23-dba7-4a9f-a730-70f7300fdd89",
   "metadata": {
    "tags": []
   },
   "outputs": [
    {
     "data": {
      "image/png": "[encoded data removed]",
      "text/plain": [
       "<Figure size 576x288 with 2 Axes>"
      ]
     },
     "metadata": {
      "needs_background": "light"
     },
     "output_type": "display_data"
    }
   ],
   "source": [
    "acc_totals_np = np.array([np.array(list(acc_per_seed.values())) for acc_per_seed in acc_totals.values()])\n",
    "plt.figure(figsize=(8, 4))\n",
    "X, Y = np.arange(n_tasks), np.arange(n_tasks)\n",
    "#X, Y = np.meshgrid(X, X)\n",
    "Z = acc_totals_np\n",
    "plt.contour(X, Y, Z, 3)\n",
    "plt.colorbar()\n",
    "#plt.legend()\n",
    "plt.show()"
   ]
  },
  {
   "cell_type": "code",
   "execution_count": null,
   "id": "5dced033-f4b8-4673-b7d4-f480ca3cd901",
   "metadata": {},
   "outputs": [
    {
     "data": {
      "text/plain": [
       "<matplotlib.colorbar.Colorbar at 0x7f40103d2c10>"
      ]
     },
     "execution_count": 30,
     "metadata": {},
     "output_type": "execute_result"
    },
    {
     "data": {
      "image/png": "[encoded data removed]",
      "text/plain": [
       "<Figure size 432x288 with 2 Axes>"
      ]
     },
     "metadata": {
      "needs_background": "light"
     },
     "output_type": "display_data"
    }
   ],
   "source": [
    "extent = [0, 1, 1, 0]\n",
    "plt.imshow(Z, origin='lower', extent=extent)\n",
    "plt.colorbar()"
   ]
  },
  {
   "cell_type": "markdown",
   "id": "19e073c2-9e6e-4dba-9314-5b072f50eb7a",
   "metadata": {
    "jp-MarkdownHeadingCollapsed": true,
    "tags": []
   },
   "source": [
    "### Task Inference"
   ]
  },
  {
   "cell_type": "code",
   "execution_count": null,
   "id": "abe64010-de2d-467c-b018-8e47807e6c1b",
   "metadata": {
    "jupyter": {
     "source_hidden": true
    },
    "tags": []
   },
   "outputs": [
    {
     "data": {
      "image/png": "[encoded data removed]",
      "text/plain": [
       "<Figure size 432x288 with 11 Axes>"
      ]
     },
     "metadata": {
      "needs_background": "light"
     },
     "output_type": "display_data"
    },
    {
     "ename": "RuntimeError",
     "evalue": "stack expects a non-empty TensorList",
     "output_type": "error",
     "traceback": [
      "\u001b[0;31m---------------------------------------------------------------------------\u001b[0m",
      "\u001b[0;31mRuntimeError\u001b[0m                              Traceback (most recent call last)",
      "\u001b[0;32m/tmp/ipykernel_88989/3970754771.py\u001b[0m in \u001b[0;36m<module>\u001b[0;34m\u001b[0m\n\u001b[1;32m      7\u001b[0m \u001b[0mplot_grid\u001b[0m\u001b[0;34m(\u001b[0m\u001b[0mc_data\u001b[0m\u001b[0;34m[\u001b[0m\u001b[0;36m0\u001b[0m\u001b[0;34m,\u001b[0m \u001b[0;34m:\u001b[0m\u001b[0;36m10\u001b[0m\u001b[0;34m,\u001b[0m \u001b[0;34m...\u001b[0m\u001b[0;34m]\u001b[0m\u001b[0;34m.\u001b[0m\u001b[0mcpu\u001b[0m\u001b[0;34m(\u001b[0m\u001b[0;34m)\u001b[0m\u001b[0;34m)\u001b[0m\u001b[0;34m\u001b[0m\u001b[0;34m\u001b[0m\u001b[0m\n\u001b[1;32m      8\u001b[0m \u001b[0;34m\u001b[0m\u001b[0m\n\u001b[0;32m----> 9\u001b[0;31m \u001b[0mpred\u001b[0m\u001b[0;34m,\u001b[0m \u001b[0mconfidence\u001b[0m\u001b[0;34m,\u001b[0m \u001b[0mlogits\u001b[0m\u001b[0;34m,\u001b[0m \u001b[0mentropy\u001b[0m\u001b[0;34m,\u001b[0m \u001b[0mg\u001b[0m \u001b[0;34m=\u001b[0m \u001b[0moneshot_task_inference\u001b[0m\u001b[0;34m(\u001b[0m\u001b[0mcommunity\u001b[0m\u001b[0;34m,\u001b[0m \u001b[0mc_data\u001b[0m\u001b[0;34m,\u001b[0m \u001b[0mnum_examples\u001b[0m\u001b[0;34m=\u001b[0m\u001b[0mnum_examples\u001b[0m\u001b[0;34m,\u001b[0m \u001b[0mshots\u001b[0m\u001b[0;34m=\u001b[0m\u001b[0;36m1\u001b[0m\u001b[0;34m,\u001b[0m \u001b[0me_function\u001b[0m\u001b[0;34m=\u001b[0m\u001b[0;36m0\u001b[0m\u001b[0;34m)\u001b[0m\u001b[0;34m\u001b[0m\u001b[0;34m\u001b[0m\u001b[0m\n\u001b[0m\u001b[1;32m     10\u001b[0m \u001b[0mpred\u001b[0m \u001b[0;34m=\u001b[0m \u001b[0mint\u001b[0m\u001b[0;34m(\u001b[0m\u001b[0mpred\u001b[0m\u001b[0;34m)\u001b[0m\u001b[0;34m\u001b[0m\u001b[0;34m\u001b[0m\u001b[0m\n\u001b[1;32m     11\u001b[0m \u001b[0;34m\u001b[0m\u001b[0m\n",
      "\u001b[0;32m~/Code/ANNs/society_of_mind/dual_process/dual_utils.py\u001b[0m in \u001b[0;36moneshot_task_inference\u001b[0;34m(model, batch, shots, num_examples, eps, e_function)\u001b[0m\n\u001b[1;32m     25\u001b[0m         \u001b[0;32mfor\u001b[0m \u001b[0m_\u001b[0m \u001b[0;32min\u001b[0m \u001b[0mrange\u001b[0m\u001b[0;34m(\u001b[0m\u001b[0mshots\u001b[0m\u001b[0;34m)\u001b[0m \u001b[0;34m:\u001b[0m\u001b[0;34m\u001b[0m\u001b[0;34m\u001b[0m\u001b[0m\n\u001b[1;32m     26\u001b[0m \u001b[0;34m\u001b[0m\u001b[0m\n\u001b[0;32m---> 27\u001b[0;31m             \u001b[0mlogits\u001b[0m\u001b[0;34m,\u001b[0m \u001b[0m_\u001b[0m \u001b[0;34m=\u001b[0m \u001b[0mmodel\u001b[0m\u001b[0;34m.\u001b[0m\u001b[0mforward\u001b[0m\u001b[0;34m(\u001b[0m\u001b[0mdata\u001b[0m\u001b[0;34m,\u001b[0m \u001b[0;34m'-1'\u001b[0m\u001b[0;34m)\u001b[0m\u001b[0;34m\u001b[0m\u001b[0;34m\u001b[0m\u001b[0m\n\u001b[0m\u001b[1;32m     28\u001b[0m             \u001b[0mlogits\u001b[0m \u001b[0;34m=\u001b[0m \u001b[0mlogits\u001b[0m\u001b[0;34m[\u001b[0m\u001b[0;34m-\u001b[0m\u001b[0;36m1\u001b[0m\u001b[0;34m]\u001b[0m\u001b[0;34m.\u001b[0m\u001b[0msum\u001b[0m\u001b[0;34m(\u001b[0m\u001b[0;36m0\u001b[0m\u001b[0;34m)\u001b[0m\u001b[0;34m\u001b[0m\u001b[0;34m\u001b[0m\u001b[0m\n\u001b[1;32m     29\u001b[0m             \u001b[0;31m# Entropy of logits\u001b[0m\u001b[0;34m\u001b[0m\u001b[0;34m\u001b[0m\u001b[0m\n",
      "\u001b[0;32m~/Code/ANNs/society_of_mind/dual_process/dual_models.py\u001b[0m in \u001b[0;36mforward\u001b[0;34m(self, x, task_id)\u001b[0m\n\u001b[1;32m    289\u001b[0m             \u001b[0;31m#alpha_mask = self.alphas>0\u001b[0m\u001b[0;34m\u001b[0m\u001b[0;34m\u001b[0m\u001b[0m\n\u001b[1;32m    290\u001b[0m \u001b[0;34m\u001b[0m\u001b[0m\n\u001b[0;32m--> 291\u001b[0;31m             self.output_masks = (torch.stack([self.get_output_mask(t, n_samples)[0]*a*(a>0.)\n\u001b[0m\u001b[1;32m    292\u001b[0m                         for t, a in zip(self.task_ids, self.alphas)])).sum(0)\n\u001b[1;32m    293\u001b[0m \u001b[0;34m\u001b[0m\u001b[0m\n",
      "\u001b[0;31mRuntimeError\u001b[0m: stack expects a non-empty TensorList"
     ]
    }
   ],
   "source": [
    "seed = 10\n",
    "data, label = next(iter(loaders[0]))\n",
    "data = temporal_data(data, 5, False).to(device)\n",
    "num_examples = 10\n",
    "\n",
    "c_data, target = get_continual_task(data, label, continual_task, 10, seed, n_tasks=n_tasks+5)\n",
    "plot_grid(c_data[0, :10, ...].cpu())\n",
    "\n",
    "pred, confidence, logits, entropy, g = oneshot_task_inference(community, c_data, num_examples=num_examples, shots=1, e_function=0)\n",
    "pred = int(pred)\n",
    "\n",
    "metric = lambda : (-g.squeeze()).cpu().data.numpy()\n",
    "\n",
    "plt.figure(1)\n",
    "plt.plot(range(n_tasks), metric())\n",
    "plt.plot(seed, metric()[seed], 'ro', label='seed')\n",
    "plt.plot(pred, metric()[pred], 'go', label='pred')\n",
    "plt.xticks(range(n_tasks))\n",
    "plt.show()\n",
    "\n",
    "pred, confidence, logits, entropy, g = oneshot_task_inference(community, c_data, num_examples=num_examples, shots=1, e_function=1)\n",
    "pred = int(pred)\n",
    "\n",
    "plt.figure(2)\n",
    "plt.plot(range(n_tasks), metric())\n",
    "plt.plot(seed, metric()[seed], 'ro', label='seed')\n",
    "plt.plot(pred, metric()[pred], 'go', label='pred')\n",
    "plt.xticks(range(n_tasks))\n",
    "plt.show()\n",
    "\n",
    "get_logits = lambda s : community(c_data[:, :num_examples], str(s))[0][-1].sum(0)\n",
    "cross_entropies = [F.cross_entropy(get_logits(s), target[:num_examples]).cpu().data.item() for s in range(32)]\n",
    "\n",
    "plt.figure(3)\n",
    "plt.plot(cross_entropies)\n",
    "plt.plot(seed, cross_entropies[seed], 'ro', label='seed')\n",
    "plt.plot(pred, cross_entropies[pred], 'go', label='pred')\n",
    "plt.xticks(range(n_tasks))\n",
    "plt.show()\n",
    "\n",
    "entropies = [get_entropy(get_logits(s), 10).cpu().data.item() for s in range(32)]\n",
    "plt.figure(4)\n",
    "plt.plot(entropies)\n",
    "plt.plot(seed, entropies[seed], 'ro', label='seed')\n",
    "plt.plot(pred, entropies[pred], 'go', label='pred')\n",
    "plt.xticks(range(n_tasks))\n",
    "plt.show()\n"
   ]
  },
  {
   "cell_type": "code",
   "execution_count": null,
   "id": "4a499234-d034-4dce-a6e5-818c6c1bc655",
   "metadata": {
    "jupyter": {
     "source_hidden": true
    },
    "tags": []
   },
   "outputs": [],
   "source": [
    "seed = 1\n",
    "data, label = next(iter(loaders[0]))\n",
    "data = new_data(data, 5, False).to(device)\n",
    "num_examples = -1\n",
    "\n",
    "c_data, target = get_continual_task(data, label, continual_task, 10, seed, n_tasks=n_tasks+5)\n",
    "\n",
    "pred, grads = binary_task_inference(community, c_data, num_examples=num_examples, e_function=1)\n",
    "pred = int(pred)\n",
    "for i, g in enumerate(grads) : \n",
    "    plt.figure(i)\n",
    "    plt.plot(g)\n",
    "    plt.plot(seed, g[seed], 'ro', label='seed')\n",
    "    plt.plot(pred, g[pred], 'go', label='pred')\n",
    "    #plt.xticks(range(n_tasks))\n",
    "    plt.show()"
   ]
  },
  {
   "cell_type": "code",
   "execution_count": null,
   "id": "9b962045-97b3-4cd0-ab85-3c8c124ac82b",
   "metadata": {
    "tags": []
   },
   "outputs": [],
   "source": [
    "from tqdm.notebook import tqdm\n",
    "\n",
    "def test_os_task_inference(community, shots=1, num_examples=5, n_tests=100) : \n",
    "    total, correct = 0, 0\n",
    "    for _ in tqdm(range(n_tests)) : \n",
    "        data, label = next(iter(loaders[0]))\n",
    "        data = new_data(data, 5, False).to(device)\n",
    "        for seed in community.task_ids : \n",
    "            c_data, target = get_continual_task(data, label, continual_task, 10, seed, n_tasks=n_tasks+5)\n",
    "            #community(data, str(task))\n",
    "            total +=1\n",
    "            correct += oneshot_task_inference(community, c_data, shots, num_examples, e_function=0)[0] == seed\n",
    "\n",
    "    return correct/n_tests, correct/total\n",
    "\n",
    "def test_bin_task_inference(community, num_examples=5, n_tests=100) : \n",
    "    total, correct = 0, 0\n",
    "    for _ in tqdm(range(n_tests)) : \n",
    "        data, label = next(iter(loaders[0]))\n",
    "        data = new_data(data, 5, False).to(device)\n",
    "        for seed in community.task_ids : \n",
    "            c_data, target = get_continual_task(data, label, continual_task, 10, seed, n_tasks=n_tasks+5)\n",
    "            #community(data, str(task))\n",
    "            total +=1\n",
    "            correct += binary_task_inference(community, c_data, num_examples)[0] == seed\n",
    "\n",
    "    return correct/n_tests, correct/total\n",
    "\n",
    "#print(test_bin_task_inference(community, n_tests=3, num_examples=1))\n",
    "print(test_os_task_inference(community, n_tests=50, num_examples=1))\n"
   ]
  },
  {
   "cell_type": "markdown",
   "id": "f4ec46c0-3ba6-4af9-a497-c835494d77d6",
   "metadata": {
    "tags": []
   },
   "source": [
    "### Mask Plots"
   ]
  },
  {
   "cell_type": "code",
   "execution_count": null,
   "id": "3a073e7a-517c-4a7a-8ba7-34c0e6fcc9f3",
   "metadata": {
    "tags": []
   },
   "outputs": [
    {
     "data": {
      "image/png": "[encoded data removed]",
      "text/plain": [
       "<Figure size 648x288 with 4 Axes>"
      ]
     },
     "metadata": {
      "needs_background": "light"
     },
     "output_type": "display_data"
    }
   ],
   "source": [
    "tasks = lambda model : list(model.connection_scores.keys())\n",
    "n_samples = 0\n",
    "\n",
    "def plot_connections_masks(community, n_samples=1) : \n",
    "    n_tasks = len(community.task_ids)\n",
    "    n_1 = int(np.sqrt(n_tasks)) #+ 1\n",
    "    n_2 = n_tasks//n_1 +1\n",
    "    \n",
    "    fig = plt.figure(figsize=(n_2*3, n_1*2))\n",
    "    subnets_total = []\n",
    "    for task_id in tasks(community) : \n",
    "        task = int(task_id)\n",
    "        ax = fig.add_subplot(n_1 , n_2, task+1)# , sharex=True, sharey=True)\n",
    "        subnet, _ = community.get_connection_mask(task_id, n_samples=n_samples)\n",
    "        \n",
    "        if community.temporal_masks : \n",
    "            subnet = subnet.reshape(-1, subnet.shape[-1])\n",
    "            \n",
    "        elif len(subnet.shape)>2 : subnet = subnet.mean(0)\n",
    "\n",
    "        subnets_total.append(subnet)\n",
    "        \n",
    "        ax.imshow(subnet.cpu().data.numpy())\n",
    "        ax.set_title(f'Task {task}, {np.around(subnet.mean().cpu().item(), 2)}')\n",
    "        ax.set_axis_off()\n",
    "    fig.tight_layout()\n",
    "    fig.suptitle('Connection Masks')\n",
    "    fig.show()\n",
    "\n",
    "def plot_output_masks(community, n_samples=1) : \n",
    "    n_tasks = len(community.task_ids)\n",
    "    n_1 = int(np.sqrt(n_tasks)) #+ 1\n",
    "    n_2 = n_tasks//n_1 #+ 1\n",
    "    \n",
    "    if n_1*n_2 != n_tasks : \n",
    "        n_2 += 1\n",
    "\n",
    "    ims = {}\n",
    "    fig = plt.figure(figsize=(n_2*3.5, n_1*2))\n",
    "    subnets_total = []\n",
    "    for task_id in tasks(community) : \n",
    "        task = int(task_id)\n",
    "        \n",
    "        #subnet = community.get_output_mask(task_id, n_samples=n_samples)[0].unsqueeze(0)\n",
    "        subnet = (community.get_connection_mask(task_id, n_samples)[0]).diag().unsqueeze(0)\n",
    "        \n",
    "        if len(subnet.shape)>2 : subnet = subnet.mean(1)\n",
    "        subnets_total.append(subnet)\n",
    "        try : \n",
    "            first_mask = first_masks['Output'][task_id].unsqueeze(0)\n",
    "            #subnet = torch.cat([first_mask, torch.zeros_like(first_mask), subnet])\n",
    "        except NameError : \n",
    "            pass\n",
    "        \n",
    "        ax = fig.add_subplot(n_1 , n_2, task+1)# , sharex=True, sharey=True)\n",
    "        im = ax.imshow(subnet.cpu().data.numpy(), cmap='viridis', vmin=0, vmax=1)\n",
    "        try : \n",
    "            ax.set_title(f'Task {task}, Agent : {np.around(subnet.argmax().cpu().item(), 2)}, Acc : {acc_per_seed[task_id]:.2f}')\n",
    "        except NameError : \n",
    "            ax.set_title(f'Task {task}, Agent : {np.around(subnet.argmax().cpu().item(), 2)}')\n",
    "        ax.set_axis_off()\n",
    "        \n",
    "    used_agents = np.sort([s.argmax().cpu().item() for s in subnets_total])\n",
    "    unique = len(torch.unique_consecutive(torch.stack(subnets_total)[:, 0, :], dim=0))/len(subnets_total)*100\n",
    "    fig.suptitle(f'Output Masks, Unique = {unique}%')\n",
    "    fig.tight_layout()\n",
    "    cbar = fig.colorbar(im, ax=fig.axes, shrink=0.95)\n",
    "    cbar.set_ticks([0, 1])\n",
    "    cbar.set_ticklabels(['OFF', 'ON'])\n",
    "    \n",
    "    fig.show()\n",
    "    return subnets_total\n",
    "    \n",
    "subnets_total = plot_connections_masks(community, n_samples)\n",
    "#subnets_total = plot_output_masks(community, 1)\n",
    "#subnets_total = plot_output_masks(community, n_samples)\n",
    " "
   ]
  },
  {
   "cell_type": "code",
   "execution_count": null,
   "id": "30a6641a-3efc-47e2-944a-cbf2370daa91",
   "metadata": {
    "jupyter": {
     "source_hidden": true
    },
    "tags": []
   },
   "outputs": [],
   "source": [
    "conn_list = [community.get_connection_mask(t, 0)[0].cpu().data.view(1, -1, 8) for t in community.task_ids]\n",
    "connected_from = lambda mask : mask.diag()\n",
    "out_list = [connected_from(community.get_connection_mask(t, 0)[0]).unsqueeze(0).unsqueeze(0).cpu().data for t in community.task_ids]\n",
    "rows = 5\n",
    "grid = lambda c_list : [c_list[i::rows] for i in range(rows)]\n",
    "plot_grid(grid(conn_list), figsize=(30, 10))\n",
    "plot_grid(grid(out_list), figsize=(30, 10))"
   ]
  },
  {
   "cell_type": "code",
   "execution_count": null,
   "id": "cf7a5b1c-ec77-47ed-827b-45ac7d137e85",
   "metadata": {},
   "outputs": [],
   "source": [
    "deciding_agents = {}\n",
    "n_tests = 10\n",
    "for _ in tqdm(range(n_tests)) : \n",
    "    for seed in community.task_ids : \n",
    "        data, label = next(iter(loaders[0]))\n",
    "        data = new_data(data, 5, False).to(device)\n",
    "        c_data, target = get_continual_task(data, label, continual_task, 10, seed, n_tasks=n_tasks+5)\n",
    "        outputs, _ = community(data, str(task))\n",
    "        _, deciding_ags = get_decision(outputs, *decision_params)\n",
    "        try : \n",
    "            deciding_agents[seed] += deciding_ags.float().mean()/n_tests\n",
    "        except KeyError : \n",
    "            deciding_agents[seed] = deciding_ags.float().mean()/n_tests\n",
    "        "
   ]
  },
  {
   "cell_type": "code",
   "execution_count": null,
   "id": "dbbef589-e045-4a9a-baf4-95617b451fb4",
   "metadata": {
    "tags": []
   },
   "outputs": [],
   "source": [
    "datas = []\n",
    "labels = []\n",
    "\n",
    "data, label = next(iter(loaders[0]))\n",
    "data = new_data(data, 5, False).to(device)\n",
    "label = label.to(device)\n",
    "\n",
    "for task in range(n_tasks) : \n",
    "    c_data, c_target = get_continual_task(data, label, continual_task, 10, task, n_tasks)\n",
    "    #print(c_target)\n",
    "    c_data = c_data[-1][0].cpu()\n",
    "    if len(c_data)>1 : \n",
    "        c_data = c_data.view(1, -1, c_data.shape[-1])\n",
    "        \n",
    "    datas.append(c_data)\n",
    "    labels.append(c_target[0].cpu().data.item())\n",
    "    \n",
    "plot_grid(datas, labels=labels)"
   ]
  },
  {
   "cell_type": "code",
   "execution_count": null,
   "id": "98a06818-3882-4ae4-9863-0180a1c6caf7",
   "metadata": {},
   "outputs": [],
   "source": [
    "data.shape"
   ]
  },
  {
   "cell_type": "markdown",
   "id": "b03e44de-af2d-495b-b66b-31359d22d6a6",
   "metadata": {
    "jp-MarkdownHeadingCollapsed": true,
    "tags": []
   },
   "source": [
    "## Global Workspace"
   ]
  },
  {
   "cell_type": "code",
   "execution_count": null,
   "id": "82cee36f-6146-4f68-b26d-6bdedf5418e5",
   "metadata": {},
   "outputs": [],
   "source": [
    "data, target = next(iter(double_train_loader))\n",
    "data = new_data(data, 2, False).to(device)\n",
    "\n",
    "n_hid = 50\n",
    "n_out = 10\n",
    "\n",
    "community = GlobalWorkspaceCommunity(data[0][0].shape, Nhid=[2, 4], kernel_size=[7, 5], num_conv_layers=2,\n",
    "                                     n_hid=n_hid, n_out=n_out, p_connect=1, pool_size = [2],\n",
    "                                     decouple=False, distance_based_sparsity=True, cell_type=nn.GRU,\n",
    "                                     use_deciding_agent=False, use_sparse_readout=True, use_attention=True).to(device)\n",
    "#community.nb_connection"
   ]
  },
  {
   "cell_type": "code",
   "execution_count": null,
   "id": "5deab7ca-6347-4474-ad06-6125996cdc72",
   "metadata": {
    "tags": []
   },
   "outputs": [],
   "source": [
    "community"
   ]
  },
  {
   "cell_type": "code",
   "execution_count": null,
   "id": "bee404b2-be99-4bbd-aac5-7c559726bacf",
   "metadata": {
    "tags": []
   },
   "outputs": [],
   "source": [
    "output, (states, scores) = community(data)"
   ]
  },
  {
   "cell_type": "code",
   "execution_count": null,
   "id": "02e940cf-301f-4eac-bcdb-4ccf71a517a2",
   "metadata": {},
   "outputs": [],
   "source": [
    "output.shape"
   ]
  },
  {
   "cell_type": "code",
   "execution_count": null,
   "id": "36dc96ba-93d3-414d-bc71-f9871f3e08ec",
   "metadata": {},
   "outputs": [],
   "source": [
    "params = lr, gamma = 1e-4, 0.9\n",
    "params_dict = {'lr' : lr, 'gamma' : gamma}\n",
    "\n",
    "deepR_params = l1, gdnoise, lr, gamma, cooling = 1e-5, 1e-3, 1e-3, 0.95, 0.95\n",
    "deepR_params_dict = {'l1' : l1, 'gdnoise' : gdnoise, 'lr' : lr, 'gamma' : gamma, 'cooling' : cooling}\n",
    "\n",
    "optimizers, schedulers = init_optimizers(community, params_dict, deepR_params_dict)"
   ]
  },
  {
   "cell_type": "code",
   "execution_count": null,
   "id": "74e7fb4b-0df9-48f3-91b4-7e409abd3bb4",
   "metadata": {
    "tags": []
   },
   "outputs": [],
   "source": [
    "n_epochs = 20\n",
    "decision_params = ('last', 'max')\n",
    "\n",
    "train_out = train_community(community, device, double_train_loader, double_test_loader, optimizers, \n",
    "                            schedulers=schedulers, n_epochs=n_epochs, global_rewire=True, \n",
    "                            task='parity_digits', decision_params=decision_params, data_mode='fixed',\n",
    "                            deepR_params_dict=deepR_params_dict, trials = (True, True), train_connections=True)\n",
    "                            \n",
    "(train_losses, train_accs), (test_losses, test_accs), deciding_agents, nb_reconnect, nb_connections, best_state = train_out"
   ]
  },
  {
   "cell_type": "code",
   "execution_count": null,
   "id": "6d2dad4e-9d02-470e-997c-24dbc998d102",
   "metadata": {
    "tags": []
   },
   "outputs": [],
   "source": [
    "from torch.profiler import profile, record_function, ProfilerActivity\n",
    "with profile(activities=[\n",
    "    ProfilerActivity.CPU, ProfilerActivity.CUDA]) as prof:\n",
    "    \n",
    "    train_out = train_community(community, device, sub_train_loader, sub_test_loader, optimizers, \n",
    "                            schedulers=schedulers, n_epochs=n_epochs, global_rewire=True, \n",
    "                            task='parity_digits_100', decision_params=decision_params, data_mode='fixed',\n",
    "                            deepR_params_dict=deepR_params_dict, trials = (True, True), train_connections=True)\n",
    "\n",
    "print(prof.key_averages().table(sort_by=\"cuda_time_total\", row_limit=10))"
   ]
  },
  {
   "cell_type": "code",
   "execution_count": null,
   "id": "7231ced4-e023-426c-ab37-28fbea3045bb",
   "metadata": {},
   "outputs": [],
   "source": [
    "plt.plot(test_accs)"
   ]
  },
  {
   "cell_type": "code",
   "execution_count": null,
   "id": "2bf9233a-001c-4b7b-a966-60582e2346b3",
   "metadata": {
    "tags": []
   },
   "outputs": [],
   "source": [
    "make_dot(output[0], dict(community.named_parameters())).render('graphs/GlobalWorkspace')"
   ]
  },
  {
   "cell_type": "markdown",
   "id": "7916088e-604c-49bd-9dee-f03a4d7f9312",
   "metadata": {
    "tags": []
   },
   "source": [
    "## Profiling"
   ]
  },
  {
   "cell_type": "code",
   "execution_count": null,
   "id": "324bc30f-b17c-4131-9b69-c7e9f114c53c",
   "metadata": {},
   "outputs": [],
   "source": [
    "gpu_profile_path = '/home/gb21/Code/SNNs/packages/gpu_memory_profiling/'\n",
    "sys.path.append(gpu_profile_path)\n",
    "from gpu_profile import gpu_profile"
   ]
  },
  {
   "cell_type": "code",
   "execution_count": null,
   "id": "85472a9e-4f68-41bb-a71c-65dcace610a2",
   "metadata": {
    "tags": []
   },
   "outputs": [],
   "source": [
    "os.environ['CUDA_VISIBLE_DEVICES']='1'\n",
    "os.environ['GPU_DEBUG']='0'\n",
    "\n",
    "sys.settrace(gpu_profile)\n",
    "\n",
    "params = lr, gamma = 1e-6, 0.99\n",
    "params_dict = {'lr' : lr, 'gamma' : gamma}\n",
    "\n",
    "deepR_params = l1, gdnoise, lr, gamma, cooling = 1e-5, 1e-3, 5e-4, 0.99, 0.99\n",
    "deepR_params_dict = {'l1' : l1, 'gdnoise' : gdnoise, 'lr' : lr, 'gamma' : gamma, 'cooling' : cooling}\n",
    "\n",
    "optimizers, schedulers = init_optimizers(community, params_dict, deepR_params_dict)\n",
    "                                         \n",
    "n_epochs = 100\n",
    "decision_params = ('last', 'max') \n",
    "\n",
    "train_out = train_community(community, device, train_loader, test_loader, optimizers, \n",
    "                            schedulers=schedulers, n_epochs=n_epochs, global_rewire=False, n_perm=200,\n",
    "                            task='0', decision_params=decision_params, data_mode='fixed', check_gradients=False,\n",
    "                            params_dict = params_dict, deepR_params_dict=deepR_params_dict,\n",
    "                            trials = (True, True), train_connections=True)\n",
    "                            \n",
    "(train_losses, train_accs), (test_losses, test_accs), deciding_agents, nb_reconnect, nb_connections, best_state = train_out                                         "
   ]
  },
  {
   "cell_type": "code",
   "execution_count": null,
   "id": "8847bd90-e882-4a49-9c7f-5c3206834172",
   "metadata": {},
   "outputs": [],
   "source": []
  },
  {
   "cell_type": "code",
   "execution_count": null,
   "id": "287bafea-7b4a-4d55-8019-d9fb2519952e",
   "metadata": {},
   "outputs": [],
   "source": []
  }
 ],
 "metadata": {
  "kernelspec": {
   "display_name": "Python 3 (ipykernel)",
   "language": "python",
   "name": "python3"
  },
  "language_info": {
   "codemirror_mode": {
    "name": "ipython",
    "version": 3
   },
   "file_extension": ".py",
   "mimetype": "text/x-python",
   "name": "python",
   "nbconvert_exporter": "python",
   "pygments_lexer": "ipython3",
   "version": "3.9.7"
  }
 },
 "nbformat": 4,
 "nbformat_minor": 5
}
