{
 "cells": [
  {
   "cell_type": "markdown",
   "id": "e8e78a87",
   "metadata": {},
   "source": [
    "# Functional Specialization metrics"
   ]
  },
  {
   "cell_type": "markdown",
   "id": "7d3d8167",
   "metadata": {},
   "source": [
    "### Imports"
   ]
  },
  {
   "cell_type": "code",
   "execution_count": null,
   "id": "1dcd8bc3-0f1d-4f38-91b2-9ffd07c1231f",
   "metadata": {},
   "outputs": [],
   "source": [
    "import torch.nn as nn\n",
    "import torch\n",
    "#from tqdm import tqdm, trange\n",
    "from tqdm.notebook import tqdm as tqdm_n"
   ]
  },
  {
   "cell_type": "code",
   "execution_count": null,
   "id": "f9cd2ca6-12b5-4b34-a40c-69492598cf30",
   "metadata": {},
   "outputs": [],
   "source": [
    "from community.data.datasets import get_datasets\n",
    "from community.data.process import temporal_data\n",
    "from community.common.init import init_community, init_optimizers\n",
    "from community.common.utils import plot_grid\n",
    "from community.common.training import train_community\n",
    "from community.funcspec.correlation import fixed_information_data, get_pearson_metrics, compute_correlation_metric, plot_correlations\n",
    "from community.funcspec.bottleneck import readout_retrain, compute_bottleneck_metrics\n",
    "from community.funcspec.masks import train_and_get_mask_metric, compute_mask_metric"
   ]
  },
  {
   "cell_type": "code",
   "execution_count": null,
   "id": "e5135646-b809-4acb-a9b0-f1b7d556aa6f",
   "metadata": {},
   "outputs": [],
   "source": [
    "import warnings\n",
    "#warnings.filterwarnings('ignore')"
   ]
  },
  {
   "cell_type": "code",
   "execution_count": null,
   "id": "c39c8f15-7356-41b2-b511-2ee8bc67dd5e",
   "metadata": {},
   "outputs": [],
   "source": [
    "%load_ext autoreload\n",
    "%aimport community.funcspec.masks\n",
    "%autoreload 2\n",
    "\n"
   ]
  },
  {
   "cell_type": "markdown",
   "id": "7d4e8a5c-2e98-46d1-a6e6-60342af998c4",
   "metadata": {
    "tags": []
   },
   "source": [
    "# Datasets"
   ]
  },
  {
   "cell_type": "code",
   "execution_count": null,
   "id": "c13f7607-ce05-4247-83d5-2109fdd73c93",
   "metadata": {},
   "outputs": [],
   "source": [
    "use_cuda = False\n",
    "device = torch.device(\"cuda\" if use_cuda else \"cpu\")\n",
    "batch_size = 256\n",
    "multi_loaders, double_loaders, single_loaders = get_datasets('../data', batch_size, use_cuda)"
   ]
  },
  {
   "cell_type": "markdown",
   "id": "19d95b9b-b5b1-44cc-9cd6-40952d8c99e5",
   "metadata": {
    "tags": []
   },
   "source": [
    "### Community Initialization"
   ]
  },
  {
   "cell_type": "code",
   "execution_count": null,
   "id": "a32c3a62-e622-4b92-b3dc-d322720da8d9",
   "metadata": {
    "tags": []
   },
   "outputs": [],
   "source": [
    "agents_params_dict = {'n_agents' : 2,\n",
    "                         'n_in' : 784,\n",
    "                         'n_ins' : None,\n",
    "                         'n_hid' : 100,\n",
    "                         'n_layer' : 1,\n",
    "                         'n_out' : 10,\n",
    "                         'train_in_out': (True, False),\n",
    "                         'use_readout': True,\n",
    "                         'cell_type': str(nn.RNN),\n",
    "                         'use_bottleneck': False,\n",
    "                         'dropout': 0}\n",
    "\n",
    "p_con = 1e-3\n",
    "\n",
    "community = init_community(agents_params_dict, p_con, device=device, use_deepR=False)\n",
    "community.nb_connections"
   ]
  },
  {
   "cell_type": "code",
   "execution_count": null,
   "id": "c4efa3da-1f93-410e-a5ee-0603f0fe43a4",
   "metadata": {
    "tags": []
   },
   "outputs": [],
   "source": [
    "params = lr, gamma = 1e-3, 0.95\n",
    "params_dict = {'lr' : lr, 'gamma' : gamma}\n",
    "\n",
    "deepR_params = l1, gdnoise, lr, gamma, cooling = 1e-5, 1e-3, 1e-3, 0.95, 0.95\n",
    "deepR_params_dict = {'l1' : l1, 'gdnoise' : gdnoise, 'lr' : lr, 'gamma' : gamma, 'cooling' : cooling}\n",
    "\n",
    "optimizers, schedulers = init_optimizers(community, params_dict, deepR_params_dict)"
   ]
  },
  {
   "cell_type": "code",
   "execution_count": null,
   "id": "b43a437e-6c1a-4cdb-853e-52ff469bf242",
   "metadata": {},
   "outputs": [],
   "source": [
    "n"
   ]
  },
  {
   "cell_type": "code",
   "execution_count": null,
   "id": "d26e7029",
   "metadata": {},
   "outputs": [],
   "source": [
    "data, target = next(iter(multi_loaders[0]))\n",
    "d = 0\n",
    "plot_grid([data[i, :, ...].reshape(1, 56, 28) for i in range(10)], [target[i] for i in range(10)], figsize=(20, 2))\n",
    "#data_t, target_t = varying_temporal_data(data, target, 5, False, True)\n",
    "#plot([[dt[:, i, ...].reshape(1, 56, 28) for dt in data_t] for i in range(2)], [[t[i, 1] for t in target_t] for i in range(2)], figsize=(10, 12))"
   ]
  },
  {
   "cell_type": "markdown",
   "id": "2d404ee4-b375-4eff-a42b-9896c3a47616",
   "metadata": {
    "jp-MarkdownHeadingCollapsed": true,
    "tags": []
   },
   "source": [
    "## Training"
   ]
  },
  {
   "cell_type": "code",
   "execution_count": null,
   "id": "b9ecc2c5-8acc-4662-8c7d-035c5a1eb90b",
   "metadata": {
    "tags": []
   },
   "outputs": [],
   "source": [
    "training_dict = {\n",
    "    'n_epochs' : 5, \n",
    "    'task' : 'parity_digits',\n",
    "    'global_rewire' : True, \n",
    "    'check_gradients' : False, \n",
    "    'reg_factor' : 0.,\n",
    "    'train_connections' : True,\n",
    "    'decision_params' : ('last', 'max'),\n",
    "    'early_stop' : True ,\n",
    "    'deepR_params_dict' : deepR_params_dict,\n",
    "}\n",
    "\n",
    "#pyaml.save(training_dict, '../community/common/default_train_dict.yml')\n",
    "\n",
    "train_out = train_community(community, *multi_loaders, optimizers, \n",
    "                            schedulers=schedulers, config=training_dict, device=device)\n",
    "                            \n",
    "results = train_out"
   ]
  },
  {
   "cell_type": "markdown",
   "id": "932ea708-b52b-4713-98a2-516e5de72796",
   "metadata": {
    "tags": []
   },
   "source": [
    "# Metrics"
   ]
  },
  {
   "cell_type": "markdown",
   "id": "e94bfb55-3bf9-4ed9-b064-f8f00ffe6dfd",
   "metadata": {
    "tags": []
   },
   "source": [
    "### Correlation "
   ]
  },
  {
   "cell_type": "code",
   "execution_count": null,
   "id": "3d644bf5",
   "metadata": {},
   "outputs": [],
   "source": [
    "datas, label = next(iter(multi_loaders[0]))\n",
    "datas = temporal_data(datas).to(device)\n",
    "fixed_datas = fixed_information_data(datas, label, 'label', i=1)\n",
    "fixed_datas = [[d.reshape(1, 56, 28) for d in data[0, :, :10, :].transpose(0, 1).cpu()] for data in fixed_datas]\n",
    "labels = [[]]\n",
    "plot_grid(fixed_datas, figsize=(10, 1*len(fixed_datas)))"
   ]
  },
  {
   "cell_type": "code",
   "execution_count": null,
   "id": "6a6898df",
   "metadata": {},
   "outputs": [],
   "source": [
    "corrs = get_pearson_metrics(community, multi_loaders, use_tqdm=False, device=device)"
   ]
  },
  {
   "cell_type": "code",
   "execution_count": null,
   "id": "d9ebabf6",
   "metadata": {},
   "outputs": [],
   "source": [
    "corrs.shape"
   ]
  },
  {
   "cell_type": "code",
   "execution_count": null,
   "id": "68d5eaa5",
   "metadata": {},
   "outputs": [],
   "source": [
    "from community.common.utils import get_wandb_artifact\n",
    "community_states, *_ = get_wandb_artifact(name='state_dicts', project='funcspec')"
   ]
  },
  {
   "cell_type": "code",
   "execution_count": null,
   "id": "875a425d",
   "metadata": {},
   "outputs": [],
   "source": [
    "correlations = {}\n",
    "for p_con, states in tqdm_n(community_states.items()) : \n",
    "    correlations[p_con] = []\n",
    "    for state in states[:] : \n",
    "        community.load_state_dict(state) \n",
    "        correlations[p_con].append(get_pearson_metrics(community, multi_loaders, use_tqdm=False, device=device))\n",
    "    correlations[p_con] = np.array(correlations[p_con])"
   ]
  },
  {
   "cell_type": "code",
   "execution_count": null,
   "id": "c6900025",
   "metadata": {},
   "outputs": [],
   "source": [
    "pearson_correlations = {}\n",
    "pearson_correlations['Pearson_Label'] = correlations"
   ]
  },
  {
   "cell_type": "code",
   "execution_count": null,
   "id": "7c4a8661",
   "metadata": {},
   "outputs": [],
   "source": [
    "plot_correlations(pearson_correlations)"
   ]
  },
  {
   "cell_type": "markdown",
   "id": "a3449f73",
   "metadata": {},
   "source": [
    "### Bottleneck"
   ]
  },
  {
   "cell_type": "code",
   "execution_count": null,
   "id": "5b5a3053",
   "metadata": {},
   "outputs": [],
   "source": [
    "bottleneck_metric = readout_retrain(community, multi_loaders, device=device, use_tqdm=True, n_epochs=1)"
   ]
  },
  {
   "cell_type": "code",
   "execution_count": null,
   "id": "b04c2e7e",
   "metadata": {},
   "outputs": [],
   "source": [
    "bottleneck_metric['accs'].mean(0).max(-1)"
   ]
  },
  {
   "cell_type": "markdown",
   "id": "407083e2",
   "metadata": {},
   "source": [
    "### Weight Masks"
   ]
  },
  {
   "cell_type": "code",
   "execution_count": null,
   "id": "0ee4cf79",
   "metadata": {},
   "outputs": [],
   "source": [
    "masks_metric = train_and_get_mask_metric(community, 0.1, multi_loaders, device=device, n_tests=1)"
   ]
  },
  {
   "cell_type": "code",
   "execution_count": null,
   "id": "d1dd9b7f",
   "metadata": {},
   "outputs": [],
   "source": [
    "masks_prop, masks_accs, _, masks_states = masks_metric"
   ]
  },
  {
   "cell_type": "code",
   "execution_count": null,
   "id": "8082665b",
   "metadata": {},
   "outputs": [],
   "source": [
    "masks_accs.shape"
   ]
  },
  {
   "cell_type": "code",
   "execution_count": null,
   "id": "7eaddfb1",
   "metadata": {},
   "outputs": [],
   "source": [
    "from community.common.utils import get_wandb_runs\n",
    "import wandb, torch, numpy as np"
   ]
  },
  {
   "cell_type": "code",
   "execution_count": null,
   "id": "61ab1ff7",
   "metadata": {},
   "outputs": [],
   "source": [
    "runs = get_wandb_runs(run_id=None)\n",
    "metric_path = runs[0].config['saves']['metrics_save_path'] + 'Masks'\n",
    "mask_metric = torch.load(metric_path)\n",
    "wandb.run = runs[-1]"
   ]
  },
  {
   "cell_type": "code",
   "execution_count": null,
   "id": "ba1089ee",
   "metadata": {},
   "outputs": [],
   "source": [
    "from community.funcspec.masks import plot_mask_metric, get_metrics_from_saved_masks"
   ]
  },
  {
   "cell_type": "code",
   "execution_count": null,
   "id": "8c44d556",
   "metadata": {},
   "outputs": [],
   "source": [
    "mask_metric = get_metrics_from_saved_masks(mask_metric, sparsities=[0.2])"
   ]
  },
  {
   "cell_type": "code",
   "execution_count": null,
   "id": "003a50a4",
   "metadata": {},
   "outputs": [],
   "source": [
    "plot_mask_metric(mask_metric)"
   ]
  },
  {
   "cell_type": "markdown",
   "id": "dd8f2b1b",
   "metadata": {},
   "source": [
    "# New Polygon Task"
   ]
  },
  {
   "cell_type": "code",
   "execution_count": null,
   "id": "9587e00b",
   "metadata": {},
   "outputs": [],
   "source": [
    "from math import radians, pi, cos, sin\n",
    "import numpy as np\n",
    "def draw_polygon(sides, x0, y0, r=1, rotate=0):\n",
    "    \"\"\"Draw an n-sided regular polygon.\n",
    "\n",
    "    Args:\n",
    "        sides (int): Number of polygon sides.\n",
    "        x0, y0 (int): Coordinates of center point.\n",
    "        r (int): Radius.\n",
    "        color (int): RGB565 color value.\n",
    "        rotate (Optional float): Rotation in degrees relative to origin.\n",
    "    Note:\n",
    "        The center point is the center of the x0,y0 pixel.\n",
    "        Since pixels are not divisible, the radius is integer rounded\n",
    "        up to complete on a full pixel.  Therefore diameter = 2 x r + 1.\n",
    "    \"\"\"\n",
    "    coords = []\n",
    "    theta = pi/2\n",
    "    n = sides +1\n",
    "    for s in range(n):\n",
    "        t = 2.0 * pi * s / sides + theta\n",
    "        coords.append([r * cos(t) + x0, r * sin(t) + y0])\n",
    "\n",
    "    # Cast to python float first to fix rounding errors\n",
    "    #self.draw_lines(coords, color=color) \n",
    "    return np.array(coords)\n"
   ]
  },
  {
   "cell_type": "code",
   "execution_count": null,
   "id": "f7f622ea",
   "metadata": {},
   "outputs": [],
   "source": [
    "poly"
   ]
  },
  {
   "cell_type": "code",
   "execution_count": null,
   "id": "240679d2",
   "metadata": {},
   "outputs": [],
   "source": [
    "poly = draw_polygon(15, 0, 0)\n",
    "fig  = plt.figure(figsize=(.7, .7))\n",
    "plt.plot(poly[:, 0], poly[:, 1], linewidth=.1)\n",
    "plt.axis('off')\n",
    "plt.tight_layout(pad=0.)\n",
    "plt.savefig('poly.png')\n",
    "#rs = Resize((28, 28), interpolation=InterpolationMode.HAMMING)\n",
    "poly_tensor = TF.to_tensor(Image.open('poly.png'))[:1]\n",
    "print(poly_tensor.shape)\n",
    "pad = (poly_tensor.shape[1] - 28) // 2\n",
    "digits = TF.normalize(TF.pad(next(iter(single_loaders[0]))[0][0], [pad, pad], fill=0), 1, 1)\n",
    "print(digits.shape)\n",
    "poly_tensor = TF.normalize(TF.resize(poly_tensor, digits.shape[1]), 1, 1)\n"
   ]
  },
  {
   "cell_type": "code",
   "execution_count": null,
   "id": "c83d5cd9",
   "metadata": {},
   "outputs": [],
   "source": [
    "final = (1 - poly_tensor.data.numpy() + digits.data.numpy())[0]\n",
    "plt.imshow(final)"
   ]
  },
  {
   "cell_type": "code",
   "execution_count": null,
   "id": "e4444860",
   "metadata": {},
   "outputs": [],
   "source": [
    "digits.max()"
   ]
  },
  {
   "cell_type": "code",
   "execution_count": null,
   "id": "45dfb5ef",
   "metadata": {},
   "outputs": [],
   "source": [
    "from PIL import Image\n",
    "import torchvision.transforms.functional as TF\n",
    "from torchvision.transforms import ToTensor, Resize, InterpolationMode, Pad"
   ]
  },
  {
   "cell_type": "code",
   "execution_count": null,
   "id": "4a1c1bdd",
   "metadata": {},
   "outputs": [],
   "source": []
  },
  {
   "cell_type": "code",
   "execution_count": null,
   "id": "7e4d9492",
   "metadata": {},
   "outputs": [],
   "source": [
    "poly = pat.RegularPolygon((0, 0), 10)\n",
    "plt.plot(poly)"
   ]
  },
  {
   "cell_type": "code",
   "execution_count": null,
   "id": "83e3ad2d",
   "metadata": {},
   "outputs": [],
   "source": [
    "plt.scatter(poly.get_path()"
   ]
  },
  {
   "cell_type": "code",
   "execution_count": null,
   "id": "56bd4f7e",
   "metadata": {},
   "outputs": [],
   "source": [
    "attrib"
   ]
  }
 ],
 "metadata": {
  "kernelspec": {
   "display_name": "Python 3 (ipykernel)",
   "language": "python",
   "name": "python3"
  },
  "language_info": {
   "codemirror_mode": {
    "name": "ipython",
    "version": 3
   },
   "file_extension": ".py",
   "mimetype": "text/x-python",
   "name": "python",
   "nbconvert_exporter": "python",
   "pygments_lexer": "ipython3",
   "version": "3.10.4"
  }
 },
 "nbformat": 4,
 "nbformat_minor": 5
}
