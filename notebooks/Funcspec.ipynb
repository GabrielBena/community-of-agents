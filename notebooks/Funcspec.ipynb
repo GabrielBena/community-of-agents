{
 "cells": [
  {
   "cell_type": "markdown",
   "id": "e8e78a87",
   "metadata": {},
   "source": [
    "# Functional Specialization metrics"
   ]
  },
  {
   "cell_type": "markdown",
   "id": "7d3d8167",
   "metadata": {},
   "source": [
    "### Imports"
   ]
  },
  {
   "cell_type": "code",
   "execution_count": 1,
   "id": "1dcd8bc3-0f1d-4f38-91b2-9ffd07c1231f",
   "metadata": {},
   "outputs": [],
   "source": [
    "import torch.nn as nn\n",
    "import torch\n",
    "#from tqdm import tqdm, trange\n",
    "from tqdm.notebook import tqdm as tqdm_n"
   ]
  },
  {
   "cell_type": "code",
   "execution_count": 2,
   "id": "f9cd2ca6-12b5-4b34-a40c-69492598cf30",
   "metadata": {},
   "outputs": [],
   "source": [
    "from community.data.datasets import get_datasets\n",
    "from community.data.process import temporal_data\n",
    "from community.common.init import init_community, init_optimizers\n",
    "from community.common.utils import plot_grid\n",
    "from community.common.training import train_community\n",
    "from community.funcspec.metrics.correlation import fixed_information_data, get_pearson_metrics, compute_correlation_metric\n",
    "from community.funcspec.metrics.bottleneck import readout_retrain, compute_bottleneck_metrics\n",
    "from community.funcspec.metrics.masks import train_and_get_mask_metric, compute_mask_metric"
   ]
  },
  {
   "cell_type": "code",
   "execution_count": 3,
   "id": "e5135646-b809-4acb-a9b0-f1b7d556aa6f",
   "metadata": {},
   "outputs": [],
   "source": [
    "import warnings\n",
    "#warnings.filterwarnings('ignore')"
   ]
  },
  {
   "cell_type": "code",
   "execution_count": 4,
   "id": "c39c8f15-7356-41b2-b511-2ee8bc67dd5e",
   "metadata": {},
   "outputs": [],
   "source": [
    "%load_ext autoreload\n",
    "%autoreload 2\n",
    "%aimport community.funcspec.metrics.masks\n",
    "\n"
   ]
  },
  {
   "cell_type": "markdown",
   "id": "7d4e8a5c-2e98-46d1-a6e6-60342af998c4",
   "metadata": {
    "tags": []
   },
   "source": [
    "# Datasets"
   ]
  },
  {
   "cell_type": "code",
   "execution_count": 5,
   "id": "c13f7607-ce05-4247-83d5-2109fdd73c93",
   "metadata": {},
   "outputs": [],
   "source": [
    "use_cuda = False\n",
    "device = torch.device(\"cuda\" if use_cuda else \"cpu\")\n",
    "batch_size = 32\n",
    "multi_loaders, double_loaders, single_loaders = get_datasets('../data', batch_size, use_cuda)"
   ]
  },
  {
   "cell_type": "markdown",
   "id": "19d95b9b-b5b1-44cc-9cd6-40952d8c99e5",
   "metadata": {
    "tags": []
   },
   "source": [
    "### Community Initialization"
   ]
  },
  {
   "cell_type": "code",
   "execution_count": 6,
   "id": "a32c3a62-e622-4b92-b3dc-d322720da8d9",
   "metadata": {
    "tags": []
   },
   "outputs": [
    {
     "data": {
      "text/plain": [
       "{'01': tensor(10), '10': tensor(10)}"
      ]
     },
     "execution_count": 6,
     "metadata": {},
     "output_type": "execute_result"
    }
   ],
   "source": [
    "agents_params_dict = {'n_agents' : 2,\n",
    "                         'n_in' : 784,\n",
    "                         'n_ins' : None,\n",
    "                         'n_hid' : 100,\n",
    "                         'n_layer' : 1,\n",
    "                         'n_out' : 10,\n",
    "                         'train_in_out': (True, False),\n",
    "                         'use_readout': True,\n",
    "                         'cell_type': str(nn.RNN),\n",
    "                         'use_bottleneck': False,\n",
    "                         'dropout': 0}\n",
    "\n",
    "p_con = 1e-3\n",
    "\n",
    "community = init_community(agents_params_dict, p_con, device=device)\n",
    "community.nb_connections"
   ]
  },
  {
   "cell_type": "code",
   "execution_count": 7,
   "id": "c4efa3da-1f93-410e-a5ee-0603f0fe43a4",
   "metadata": {
    "tags": []
   },
   "outputs": [],
   "source": [
    "params = lr, gamma = 1e-3, 0.95\n",
    "params_dict = {'lr' : lr, 'gamma' : gamma}\n",
    "\n",
    "deepR_params = l1, gdnoise, lr, gamma, cooling = 1e-5, 1e-3, 1e-3, 0.95, 0.95\n",
    "deepR_params_dict = {'l1' : l1, 'gdnoise' : gdnoise, 'lr' : lr, 'gamma' : gamma, 'cooling' : cooling}\n",
    "\n",
    "optimizers, schedulers = init_optimizers(community, params_dict, deepR_params_dict)"
   ]
  },
  {
   "cell_type": "code",
   "execution_count": 8,
   "id": "b43a437e-6c1a-4cdb-853e-52ff469bf242",
   "metadata": {},
   "outputs": [
    {
     "ename": "NameError",
     "evalue": "name 'n' is not defined",
     "output_type": "error",
     "traceback": [
      "\u001b[0;31m---------------------------------------------------------------------------\u001b[0m",
      "\u001b[0;31mNameError\u001b[0m                                 Traceback (most recent call last)",
      "\u001b[1;32m/home/gbena/Code/ANNs/community/notebooks/Funcspec.ipynb Cell 12'\u001b[0m in \u001b[0;36m<cell line: 1>\u001b[0;34m()\u001b[0m\n\u001b[0;32m----> <a href='vscode-notebook-cell:/home/gbena/Code/ANNs/community/notebooks/Funcspec.ipynb#ch0000013?line=0'>1</a>\u001b[0m n\n",
      "\u001b[0;31mNameError\u001b[0m: name 'n' is not defined"
     ]
    }
   ],
   "source": [
    "n"
   ]
  },
  {
   "cell_type": "code",
   "execution_count": null,
   "id": "d26e7029",
   "metadata": {},
   "outputs": [],
   "source": [
    "data, target = next(iter(multi_loaders[1]))\n",
    "d = 0\n",
    "plot_grid([data[i, :, ...].reshape(1, 56, 28) for i in range(10)], [target[i] for i in range(10)], figsize=(20, 2))\n",
    "#data_t, target_t = varying_temporal_data(data, target, 5, False, True)\n",
    "#plot([[dt[:, i, ...].reshape(1, 56, 28) for dt in data_t] for i in range(2)], [[t[i, 1] for t in target_t] for i in range(2)], figsize=(10, 12))"
   ]
  },
  {
   "cell_type": "markdown",
   "id": "2d404ee4-b375-4eff-a42b-9896c3a47616",
   "metadata": {
    "jp-MarkdownHeadingCollapsed": true,
    "tags": []
   },
   "source": [
    "## Training"
   ]
  },
  {
   "cell_type": "code",
   "execution_count": null,
   "id": "b9ecc2c5-8acc-4662-8c7d-035c5a1eb90b",
   "metadata": {
    "tags": []
   },
   "outputs": [
    {
     "data": {
      "application/vnd.jupyter.widget-view+json": {
       "model_id": "f66b65e0d0f544ba814c0a0c832f82e0",
       "version_major": 2,
       "version_minor": 0
      },
      "text/plain": [
       "Train Epoch::   0%|          | 0/5 [00:00<?, ?it/s]"
      ]
     },
     "metadata": {},
     "output_type": "display_data"
    },
    {
     "ename": "KeyboardInterrupt",
     "evalue": "",
     "output_type": "error",
     "traceback": [
      "\u001b[0;31m---------------------------------------------------------------------------\u001b[0m",
      "\u001b[0;31mKeyboardInterrupt\u001b[0m                         Traceback (most recent call last)",
      "\u001b[1;32m/home/gbena/Code/ANNs/community/notebooks/Funcspec.ipynb Cell 15'\u001b[0m in \u001b[0;36m<cell line: 15>\u001b[0;34m()\u001b[0m\n\u001b[1;32m      <a href='vscode-notebook-cell:/home/gbena/Code/ANNs/community/notebooks/Funcspec.ipynb#ch0000016?line=0'>1</a>\u001b[0m training_dict \u001b[39m=\u001b[39m {\n\u001b[1;32m      <a href='vscode-notebook-cell:/home/gbena/Code/ANNs/community/notebooks/Funcspec.ipynb#ch0000016?line=1'>2</a>\u001b[0m     \u001b[39m'\u001b[39m\u001b[39mn_epochs\u001b[39m\u001b[39m'\u001b[39m : \u001b[39m5\u001b[39m, \n\u001b[1;32m      <a href='vscode-notebook-cell:/home/gbena/Code/ANNs/community/notebooks/Funcspec.ipynb#ch0000016?line=2'>3</a>\u001b[0m     \u001b[39m'\u001b[39m\u001b[39mtask\u001b[39m\u001b[39m'\u001b[39m : \u001b[39m'\u001b[39m\u001b[39mparity_digits\u001b[39m\u001b[39m'\u001b[39m,\n\u001b[0;32m   (...)\u001b[0m\n\u001b[1;32m     <a href='vscode-notebook-cell:/home/gbena/Code/ANNs/community/notebooks/Funcspec.ipynb#ch0000016?line=9'>10</a>\u001b[0m     \u001b[39m'\u001b[39m\u001b[39mdeepR_params_dict\u001b[39m\u001b[39m'\u001b[39m : deepR_params_dict,\n\u001b[1;32m     <a href='vscode-notebook-cell:/home/gbena/Code/ANNs/community/notebooks/Funcspec.ipynb#ch0000016?line=10'>11</a>\u001b[0m }\n\u001b[1;32m     <a href='vscode-notebook-cell:/home/gbena/Code/ANNs/community/notebooks/Funcspec.ipynb#ch0000016?line=12'>13</a>\u001b[0m \u001b[39m#pyaml.save(training_dict, '../community/common/default_train_dict.yml')\u001b[39;00m\n\u001b[0;32m---> <a href='vscode-notebook-cell:/home/gbena/Code/ANNs/community/notebooks/Funcspec.ipynb#ch0000016?line=14'>15</a>\u001b[0m train_out \u001b[39m=\u001b[39m train_community(community, \u001b[39m*\u001b[39;49mmulti_loaders, optimizers, \n\u001b[1;32m     <a href='vscode-notebook-cell:/home/gbena/Code/ANNs/community/notebooks/Funcspec.ipynb#ch0000016?line=15'>16</a>\u001b[0m                             schedulers\u001b[39m=\u001b[39;49mschedulers, config\u001b[39m=\u001b[39;49mtraining_dict, device\u001b[39m=\u001b[39;49mdevice)\n\u001b[1;32m     <a href='vscode-notebook-cell:/home/gbena/Code/ANNs/community/notebooks/Funcspec.ipynb#ch0000016?line=17'>18</a>\u001b[0m results \u001b[39m=\u001b[39m train_out\n",
      "File \u001b[0;32m~/Code/ANNs/community/community/common/training.py:93\u001b[0m, in \u001b[0;36mtrain_community\u001b[0;34m(model, train_loader, test_loader, optimizers, schedulers, config, trials, use_tqdm, device)\u001b[0m\n\u001b[1;32m     <a href='file:///home/gbena/Code/ANNs/community/community/common/training.py?line=87'>88</a>\u001b[0m     data, target \u001b[39m=\u001b[39m data\u001b[39m.\u001b[39mto(device), target\u001b[39m.\u001b[39mto(device)\n\u001b[1;32m     <a href='file:///home/gbena/Code/ANNs/community/community/common/training.py?line=89'>90</a>\u001b[0m \u001b[39m#Forward pass\u001b[39;00m\n\u001b[1;32m     <a href='file:///home/gbena/Code/ANNs/community/community/common/training.py?line=90'>91</a>\u001b[0m \n\u001b[1;32m     <a href='file:///home/gbena/Code/ANNs/community/community/common/training.py?line=91'>92</a>\u001b[0m \u001b[39m#Task Selection\u001b[39;00m\n\u001b[0;32m---> <a href='file:///home/gbena/Code/ANNs/community/community/common/training.py?line=92'>93</a>\u001b[0m data, target \u001b[39m=\u001b[39m process_data(data, target, task, conv_com)\n\u001b[1;32m     <a href='file:///home/gbena/Code/ANNs/community/community/common/training.py?line=94'>95</a>\u001b[0m optimizer_agents\u001b[39m.\u001b[39mzero_grad()\n\u001b[1;32m     <a href='file:///home/gbena/Code/ANNs/community/community/common/training.py?line=95'>96</a>\u001b[0m \u001b[39mif\u001b[39;00m optimizer_connections : optimizer_connections\u001b[39m.\u001b[39mzero_grad()\n",
      "File \u001b[0;32m~/Code/ANNs/community/community/data/process.py:77\u001b[0m, in \u001b[0;36mprocess_data\u001b[0;34m(data, target, task, conv_com, varying_temporal)\u001b[0m\n\u001b[1;32m     <a href='file:///home/gbena/Code/ANNs/community/community/data/process.py?line=74'>75</a>\u001b[0m \u001b[39melse\u001b[39;00m : \n\u001b[1;32m     <a href='file:///home/gbena/Code/ANNs/community/community/data/process.py?line=75'>76</a>\u001b[0m     \u001b[39mif\u001b[39;00m \u001b[39mnot\u001b[39;00m varying_temporal : \n\u001b[0;32m---> <a href='file:///home/gbena/Code/ANNs/community/community/data/process.py?line=76'>77</a>\u001b[0m         data \u001b[39m=\u001b[39m temporal_data(data, n_steps\u001b[39m=\u001b[39;49m\u001b[39m5\u001b[39;49m, conv_com\u001b[39m=\u001b[39;49mconv_com)  \n\u001b[1;32m     <a href='file:///home/gbena/Code/ANNs/community/community/data/process.py?line=77'>78</a>\u001b[0m     \u001b[39melse\u001b[39;00m : \n\u001b[1;32m     <a href='file:///home/gbena/Code/ANNs/community/community/data/process.py?line=78'>79</a>\u001b[0m         data, target \u001b[39m=\u001b[39m varying_temporal_data(data, target, n_steps\u001b[39m=\u001b[39m\u001b[39m5\u001b[39m, conv_com\u001b[39m=\u001b[39mconv_com, transpose_and_cat\u001b[39m=\u001b[39m\u001b[39mTrue\u001b[39;00m)   \n",
      "File \u001b[0;32m~/Code/ANNs/community/community/data/process.py:18\u001b[0m, in \u001b[0;36mtemporal_data\u001b[0;34m(data, n_steps, conv_com)\u001b[0m\n\u001b[1;32m     <a href='file:///home/gbena/Code/ANNs/community/community/data/process.py?line=14'>15</a>\u001b[0m         data \u001b[39m=\u001b[39m data\u001b[39m.\u001b[39mflatten(start_dim\u001b[39m=\u001b[39m\u001b[39m2\u001b[39m)\n\u001b[1;32m     <a href='file:///home/gbena/Code/ANNs/community/community/data/process.py?line=16'>17</a>\u001b[0m data \u001b[39m=\u001b[39m [data \u001b[39mfor\u001b[39;00m _ \u001b[39min\u001b[39;00m \u001b[39mrange\u001b[39m(n_steps)]\n\u001b[0;32m---> <a href='file:///home/gbena/Code/ANNs/community/community/data/process.py?line=17'>18</a>\u001b[0m \u001b[39mif\u001b[39;00m \u001b[39mnot\u001b[39;00m is_list : data \u001b[39m=\u001b[39m torch\u001b[39m.\u001b[39;49mstack(data)\n\u001b[1;32m     <a href='file:///home/gbena/Code/ANNs/community/community/data/process.py?line=18'>19</a>\u001b[0m \u001b[39mif\u001b[39;00m \u001b[39mnot\u001b[39;00m is_list \u001b[39mand\u001b[39;00m \u001b[39mlen\u001b[39m(data\u001b[39m.\u001b[39mshape) \u001b[39m>\u001b[39m \u001b[39m3\u001b[39m \u001b[39mand\u001b[39;00m \u001b[39mnot\u001b[39;00m conv_com: \n\u001b[1;32m     <a href='file:///home/gbena/Code/ANNs/community/community/data/process.py?line=19'>20</a>\u001b[0m     data \u001b[39m=\u001b[39m data\u001b[39m.\u001b[39mtranspose(\u001b[39m1\u001b[39m, \u001b[39m2\u001b[39m)\n",
      "\u001b[0;31mKeyboardInterrupt\u001b[0m: "
     ]
    }
   ],
   "source": [
    "training_dict = {\n",
    "    'n_epochs' : 5, \n",
    "    'task' : 'parity_digits',\n",
    "    'global_rewire' : True, \n",
    "    'check_gradients' : False, \n",
    "    'reg_factor' : 0.,\n",
    "    'train_connections' : True,\n",
    "    'decision_params' : ('last', 'max'),\n",
    "    'early_stop' : True ,\n",
    "    'deepR_params_dict' : deepR_params_dict,\n",
    "}\n",
    "\n",
    "#pyaml.save(training_dict, '../community/common/default_train_dict.yml')\n",
    "\n",
    "train_out = train_community(community, *multi_loaders, optimizers, \n",
    "                            schedulers=schedulers, config=training_dict, device=device)\n",
    "                            \n",
    "results = train_out"
   ]
  },
  {
   "cell_type": "markdown",
   "id": "932ea708-b52b-4713-98a2-516e5de72796",
   "metadata": {
    "tags": []
   },
   "source": [
    "# Metrics"
   ]
  },
  {
   "cell_type": "markdown",
   "id": "e94bfb55-3bf9-4ed9-b064-f8f00ffe6dfd",
   "metadata": {
    "tags": []
   },
   "source": [
    "### Correlation "
   ]
  },
  {
   "cell_type": "code",
   "execution_count": null,
   "id": "3d644bf5",
   "metadata": {},
   "outputs": [],
   "source": [
    "datas, label = next(iter(multi_loaders[0]))\n",
    "datas = temporal_data(datas).to(device)\n",
    "fixed_datas = fixed_information_data(datas, label, 'label', i=1)\n",
    "fixed_datas = [[d.reshape(1, 56, 28) for d in data[0, :, :3, :].transpose(0, 1).cpu()] for data in fixed_datas]\n",
    "labels = [[]]\n",
    "plot_grid(fixed_datas, figsize=(3, 1*len(fixed_datas)))"
   ]
  },
  {
   "cell_type": "code",
   "execution_count": null,
   "id": "875a425d",
   "metadata": {},
   "outputs": [],
   "source": [
    "correlations = get_pearson_metrics(community, multi_loaders, use_tqdm=True, device=device)"
   ]
  },
  {
   "cell_type": "code",
   "execution_count": null,
   "id": "ab931137",
   "metadata": {},
   "outputs": [],
   "source": [
    "correlations.mean(-1).mean(-1)"
   ]
  },
  {
   "cell_type": "markdown",
   "id": "a3449f73",
   "metadata": {},
   "source": [
    "### Bottleneck"
   ]
  },
  {
   "cell_type": "code",
   "execution_count": null,
   "id": "5b5a3053",
   "metadata": {},
   "outputs": [],
   "source": [
    "bottleneck_metric = readout_retrain(community, multi_loaders, device=device, use_tqdm=True, n_epochs=1)"
   ]
  },
  {
   "cell_type": "code",
   "execution_count": null,
   "id": "b04c2e7e",
   "metadata": {},
   "outputs": [],
   "source": [
    "bottleneck_metric['accs'].mean(0).max(-1)"
   ]
  },
  {
   "cell_type": "markdown",
   "id": "407083e2",
   "metadata": {},
   "source": [
    "### Weight Masks"
   ]
  },
  {
   "cell_type": "code",
   "execution_count": 9,
   "id": "0ee4cf79",
   "metadata": {},
   "outputs": [
    {
     "data": {
      "application/vnd.jupyter.widget-view+json": {
       "model_id": "4f59d4c089ba4831925da53f1394cd9e",
       "version_major": 2,
       "version_minor": 0
      },
      "text/plain": [
       "Metric Trials :   0%|          | 0/1 [00:00<?, ?it/s]"
      ]
     },
     "metadata": {},
     "output_type": "display_data"
    },
    {
     "data": {
      "application/vnd.jupyter.widget-view+json": {
       "model_id": "3bf6a59c3f2b43ffbc9e869ec394a381",
       "version_major": 2,
       "version_minor": 0
      },
      "text/plain": [
       "Train Epoch::   0%|          | 0/1 [00:00<?, ?it/s]"
      ]
     },
     "metadata": {},
     "output_type": "display_data"
    },
    {
     "data": {
      "application/vnd.jupyter.widget-view+json": {
       "model_id": "f6e931fd3bf9422e88abe751e48fa657",
       "version_major": 2,
       "version_minor": 0
      },
      "text/plain": [
       "Train Epoch::   0%|          | 0/1 [00:00<?, ?it/s]"
      ]
     },
     "metadata": {},
     "output_type": "display_data"
    }
   ],
   "source": [
    "masks_metric = train_and_get_mask_metric(community, 0.1, multi_loaders, device=device, notebook=True, n_tests=1)"
   ]
  },
  {
   "cell_type": "code",
   "execution_count": 11,
   "id": "7eaddfb1",
   "metadata": {},
   "outputs": [
    {
     "data": {
      "text/plain": [
       "array([[[0.90414041, 0.09585959],\n",
       "        [0.        , 1.        ]]])"
      ]
     },
     "execution_count": 11,
     "metadata": {},
     "output_type": "execute_result"
    }
   ],
   "source": [
    "masks_metric[0]"
   ]
  }
 ],
 "metadata": {
  "kernelspec": {
   "display_name": "Python 3 (ipykernel)",
   "language": "python",
   "name": "python3"
  },
  "language_info": {
   "codemirror_mode": {
    "name": "ipython",
    "version": 3
   },
   "file_extension": ".py",
   "mimetype": "text/x-python",
   "name": "python",
   "nbconvert_exporter": "python",
   "pygments_lexer": "ipython3",
   "version": "3.10.4"
  }
 },
 "nbformat": 4,
 "nbformat_minor": 5
}
