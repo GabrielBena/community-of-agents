{
 "cells": [
  {
   "cell_type": "markdown",
   "id": "e8e78a87",
   "metadata": {},
   "source": [
    "# Functional Specialization metrics"
   ]
  },
  {
   "cell_type": "markdown",
   "id": "7d3d8167",
   "metadata": {},
   "source": [
    "### Imports"
   ]
  },
  {
   "cell_type": "code",
   "execution_count": null,
   "id": "1dcd8bc3-0f1d-4f38-91b2-9ffd07c1231f",
   "metadata": {},
   "outputs": [],
   "source": [
    "import torch.nn as nn\n",
    "import torch\n",
    "import numpy as np\n",
    "#from tqdm import tqdm, trange\n",
    "from tqdm.notebook import tqdm as tqdm_n"
   ]
  },
  {
   "cell_type": "code",
   "execution_count": null,
   "id": "f9cd2ca6-12b5-4b34-a40c-69492598cf30",
   "metadata": {},
   "outputs": [],
   "source": [
    "from community.data.datasets import get_datasets\n",
    "from community.data.process import temporal_data\n",
    "from community.common.init import init_community, init_optimizers\n",
    "from community.common.utils import plot_grid\n",
    "from community.common.training import train_community\n"
   ]
  },
  {
   "cell_type": "code",
   "execution_count": null,
   "id": "e5135646-b809-4acb-a9b0-f1b7d556aa6f",
   "metadata": {},
   "outputs": [],
   "source": [
    "import warnings\n",
    "#warnings.filterwarnings('ignore')"
   ]
  },
  {
   "cell_type": "code",
   "execution_count": null,
   "id": "c39c8f15-7356-41b2-b511-2ee8bc67dd5e",
   "metadata": {},
   "outputs": [],
   "source": [
    "%load_ext autoreload\n",
    "%aimport community.funcspec.masks\n",
    "%autoreload 2\n",
    "\n"
   ]
  },
  {
   "cell_type": "markdown",
   "id": "7d4e8a5c-2e98-46d1-a6e6-60342af998c4",
   "metadata": {
    "tags": []
   },
   "source": [
    "# Datasets"
   ]
  },
  {
   "cell_type": "code",
   "execution_count": null,
   "id": "c13f7607-ce05-4247-83d5-2109fdd73c93",
   "metadata": {},
   "outputs": [],
   "source": [
    "use_cuda = False\n",
    "device = torch.device(\"cuda\" if use_cuda else \"cpu\")\n",
    "batch_size = 256\n",
    "multi_loaders, double_loaders_dig, double_loaders_letters, single_loaders, letters = get_datasets('../data', batch_size, use_cuda, fix_asym=True)\n",
    "loaders = double_loaders_letters"
   ]
  },
  {
   "cell_type": "code",
   "execution_count": null,
   "id": "bb0c7f1c",
   "metadata": {},
   "outputs": [],
   "source": [
    "targets = torch.cat([t for _, t in loaders[1]])\n",
    "uniques, counts = targets.unique(dim=0, return_counts=True)\n",
    "counts, counts.shape, targets.shape"
   ]
  },
  {
   "cell_type": "markdown",
   "id": "19d95b9b-b5b1-44cc-9cd6-40952d8c99e5",
   "metadata": {
    "tags": []
   },
   "source": [
    "### Community Initialization"
   ]
  },
  {
   "cell_type": "code",
   "execution_count": 62,
   "id": "a32c3a62-e622-4b92-b3dc-d322720da8d9",
   "metadata": {
    "tags": []
   },
   "outputs": [
    {
     "name": "stdout",
     "output_type": "stream",
     "text": [
      "{'01': tensor(500), '10': tensor(500)}\n"
     ]
    }
   ],
   "source": [
    "agents_params_dict = {'n_agents' : 2,\n",
    "                         'n_in' : 784,\n",
    "                         'n_ins' : None,\n",
    "                         'n_hid' : 50,\n",
    "                         'n_layer' : 1,\n",
    "                         'n_out' : 10,\n",
    "                         'train_in_out': (True, True),\n",
    "                         'use_readout': True,\n",
    "                         'cell_type': str(nn.RNN),\n",
    "                         'use_bottleneck': True,\n",
    "                         'ag_dropout': 0.05}\n",
    "\n",
    "com_dropout = 0.2\n",
    "\n",
    "p_con = 500 * 1 / agents_params_dict['n_hid']**2\n",
    "\n",
    "community = init_community(agents_params_dict, p_con, device=device, use_deepR=False, com_dropout=com_dropout)\n",
    "print(community.nb_connections)\n",
    "params = lr, gamma = 1e-3, 0.95\n",
    "params_dict = {'lr' : lr, 'gamma' : gamma}\n",
    "\n",
    "deepR_params = l1, gdnoise, lr, gamma, cooling = 1e-5, 1e-3, 1e-3, 0.95, 0.95\n",
    "deepR_params_dict = {'l1' : l1, 'gdnoise' : gdnoise, 'lr' : lr, 'gamma' : gamma, 'cooling' : cooling}\n",
    "\n",
    "optimizers, schedulers = init_optimizers(community, params_dict, deepR_params_dict)"
   ]
  },
  {
   "cell_type": "code",
   "execution_count": 47,
   "id": "f0a0e12b",
   "metadata": {},
   "outputs": [
    {
     "data": {
      "text/plain": [
       "0.2"
      ]
     },
     "execution_count": 47,
     "metadata": {},
     "output_type": "execute_result"
    }
   ],
   "source": [
    "p_con"
   ]
  },
  {
   "cell_type": "markdown",
   "id": "2d404ee4-b375-4eff-a42b-9896c3a47616",
   "metadata": {
    "jp-MarkdownHeadingCollapsed": true,
    "tags": []
   },
   "source": [
    "## Training"
   ]
  },
  {
   "cell_type": "code",
   "execution_count": 63,
   "id": "b9ecc2c5-8acc-4662-8c7d-035c5a1eb90b",
   "metadata": {
    "tags": []
   },
   "outputs": [
    {
     "data": {
      "application/vnd.jupyter.widget-view+json": {
       "model_id": "161edff40f6448a7a3ba7b34f2d23e49",
       "version_major": 2,
       "version_minor": 0
      },
      "text/plain": [
       "Train Epoch::   0%|          | 0/12 [00:00<?, ?it/s]"
      ]
     },
     "metadata": {},
     "output_type": "display_data"
    }
   ],
   "source": [
    "training_dict = {\n",
    "    'n_epochs' : 10 + int(p_con*10), \n",
    "    'task' : 'parity_digits',\n",
    "    'global_rewire' : True, \n",
    "    'check_gradients' : False, \n",
    "    'reg_factor' : 0.,\n",
    "    'train_connections' : True,\n",
    "    'decision_params' : ('last', 'max'),\n",
    "    'stopping_acc' : .9 ,\n",
    "    'early_stop' : True,\n",
    "    'deepR_params_dict' : deepR_params_dict,\n",
    "}\n",
    "\n",
    "#pyaml.save(training_dict, '../community/common/default_train_dict.yml')\n",
    "\n",
    "train_out = train_community(community, *loaders, optimizers, \n",
    "                            schedulers=schedulers, config=training_dict,\n",
    "                            trials=(True, True), device=device)\n",
    "\n",
    "results = train_out\n",
    "community.best_acc = results['test_accs'].max()"
   ]
  },
  {
   "cell_type": "code",
   "execution_count": null,
   "id": "25133418",
   "metadata": {},
   "outputs": [],
   "source": [
    "results['deciding_agents'].mean(-1).mean(-1)"
   ]
  },
  {
   "cell_type": "code",
   "execution_count": 64,
   "id": "70123c61",
   "metadata": {},
   "outputs": [
    {
     "data": {
      "text/plain": [
       "array([0.6553125 , 0.79179687, 0.83515625, 0.84828125, 0.86070313,\n",
       "       0.86765625, 0.87625   , 0.88070313, 0.87984375, 0.88617188,\n",
       "       0.891875  , 0.8928125 ])"
      ]
     },
     "execution_count": 64,
     "metadata": {},
     "output_type": "execute_result"
    }
   ],
   "source": [
    "results['test_accs']"
   ]
  },
  {
   "cell_type": "markdown",
   "id": "932ea708-b52b-4713-98a2-516e5de72796",
   "metadata": {
    "tags": []
   },
   "source": [
    "# Metrics"
   ]
  },
  {
   "cell_type": "markdown",
   "id": "e94bfb55-3bf9-4ed9-b064-f8f00ffe6dfd",
   "metadata": {
    "tags": []
   },
   "source": [
    "### Correlation "
   ]
  },
  {
   "cell_type": "code",
   "execution_count": null,
   "id": "f4deb37c",
   "metadata": {},
   "outputs": [],
   "source": [
    "from community.funcspec.correlation import fixed_information_data, get_pearson_metrics, compute_correlation_metric, plot_correlations, v_pearsonr, get_correlation"
   ]
  },
  {
   "cell_type": "code",
   "execution_count": null,
   "id": "3d644bf5",
   "metadata": {},
   "outputs": [],
   "source": [
    "datas, label = next(iter(loaders[1]))\n",
    "datas = temporal_data(datas).to(device)\n",
    "fixed_data = fixed_information_data(datas, label, fixed=0, fixed_mode='label')\n",
    "fixed_datas = [[d.reshape(1, 56, 28) for d in data[0, :, :10, :].transpose(0, 1).cpu()] for data in fixed_data]\n",
    "labels = [[]]\n",
    "plot_grid(fixed_datas, figsize=(10, 1*len(fixed_datas)))"
   ]
  },
  {
   "cell_type": "code",
   "execution_count": null,
   "id": "6a6898df",
   "metadata": {},
   "outputs": [],
   "source": [
    "corrs = get_pearson_metrics(community, loaders, use_tqdm=True, device=device)"
   ]
  },
  {
   "cell_type": "code",
   "execution_count": null,
   "id": "d9dbcd9d",
   "metadata": {},
   "outputs": [],
   "source": [
    "corrs.mean(-1).mean(-1)"
   ]
  },
  {
   "cell_type": "code",
   "execution_count": null,
   "id": "d9ebabf6",
   "metadata": {},
   "outputs": [],
   "source": [
    "diff = lambda n : (corrs.mean(-1).mean(-1)[n, n] - corrs.mean(-1).mean(-1)[1-n, n]) / (corrs.mean(-1).mean(-1)[n, n] + corrs.mean(-1).mean(-1)[1-n, n])\n",
    "[diff(n) for n in range(2)] "
   ]
  },
  {
   "cell_type": "code",
   "execution_count": null,
   "id": "68d5eaa5",
   "metadata": {},
   "outputs": [],
   "source": [
    "from community.common.utils import get_wandb_artifact\n",
    "community_states, *_ = get_wandb_artifact(name='state_dicts', project='funcspec')"
   ]
  },
  {
   "cell_type": "code",
   "execution_count": null,
   "id": "875a425d",
   "metadata": {},
   "outputs": [],
   "source": [
    "correlations = {}\n",
    "for p_con, states in tqdm_n(community_states.items()) : \n",
    "    correlations[p_con] = []\n",
    "    for state in states[:] : \n",
    "        community.load_state_dict(state) \n",
    "        correlations[p_con].append(get_pearson_metrics(community, multi_loaders, use_tqdm=False, device=device))\n",
    "    correlations[p_con] = np.array(correlations[p_con])"
   ]
  },
  {
   "cell_type": "code",
   "execution_count": null,
   "id": "c6900025",
   "metadata": {},
   "outputs": [],
   "source": [
    "pearson_correlations = {}\n",
    "pearson_correlations['Pearson_Label'] = correlations"
   ]
  },
  {
   "cell_type": "code",
   "execution_count": null,
   "id": "7c4a8661",
   "metadata": {},
   "outputs": [],
   "source": [
    "plot_correlations(pearson_correlations)"
   ]
  },
  {
   "cell_type": "markdown",
   "id": "a3449f73",
   "metadata": {},
   "source": [
    "### Bottleneck"
   ]
  },
  {
   "cell_type": "code",
   "execution_count": null,
   "id": "1b065d99",
   "metadata": {},
   "outputs": [],
   "source": [
    "from community.funcspec.bottleneck import readout_retrain, compute_bottleneck_metrics\n"
   ]
  },
  {
   "cell_type": "code",
   "execution_count": null,
   "id": "5b5a3053",
   "metadata": {},
   "outputs": [],
   "source": [
    "bottleneck_metric = readout_retrain(community, loaders, device=device, use_tqdm=True, n_epochs=10, n_tests=1, train_all_param=False)"
   ]
  },
  {
   "cell_type": "code",
   "execution_count": null,
   "id": "e6171151",
   "metadata": {},
   "outputs": [],
   "source": [
    "community.agents[1].readout.weight"
   ]
  },
  {
   "cell_type": "code",
   "execution_count": null,
   "id": "efb8aad4",
   "metadata": {},
   "outputs": [],
   "source": [
    "bottleneck_metric['accs']"
   ]
  },
  {
   "cell_type": "markdown",
   "id": "407083e2",
   "metadata": {},
   "source": [
    "### Weight Masks"
   ]
  },
  {
   "cell_type": "code",
   "execution_count": null,
   "id": "140c2ab3",
   "metadata": {},
   "outputs": [],
   "source": [
    "from community.funcspec.masks import train_and_get_mask_metric, compute_mask_metric, Mask_Community, get_proportions, get_proportions_per_agent, train_mask, find_optimal_sparsity"
   ]
  },
  {
   "cell_type": "code",
   "execution_count": null,
   "id": "4620fbc1",
   "metadata": {},
   "outputs": [],
   "source": [
    "masked_community, test_loss, test_accs, best_state = train_mask(community, 0.1, 0, loaders, use_tqdm=True)"
   ]
  },
  {
   "cell_type": "code",
   "execution_count": null,
   "id": "0ee4cf79",
   "metadata": {},
   "outputs": [],
   "source": [
    "masks_metric = train_and_get_mask_metric(community, .5, loaders, device=device, n_tests=1, n_epochs=2, use_tqdm=True, use_optimal_sparsity=True)"
   ]
  },
  {
   "cell_type": "code",
   "execution_count": null,
   "id": "957c3ad1",
   "metadata": {},
   "outputs": [],
   "source": [
    "diff = lambda n : (masks_metric['proportions'][0][n, n] - masks_metric['proportions'][0][1-n, n]) / (masks_metric['proportions'][0][n, n] + masks_metric['proportions'][0][1-n, n])\n",
    "[diff(n) for n in range(2)] "
   ]
  },
  {
   "cell_type": "code",
   "execution_count": null,
   "id": "88d53d5b",
   "metadata": {},
   "outputs": [],
   "source": [
    "masks_metric['test_accs']"
   ]
  },
  {
   "cell_type": "code",
   "execution_count": null,
   "id": "fb819785",
   "metadata": {},
   "outputs": [],
   "source": [
    "masks_metric['sparsities'].mean(0)"
   ]
  },
  {
   "cell_type": "markdown",
   "id": "f1de03cb",
   "metadata": {},
   "source": [
    "## WandB Loading"
   ]
  },
  {
   "cell_type": "code",
   "execution_count": 9,
   "id": "7eaddfb1",
   "metadata": {},
   "outputs": [],
   "source": [
    "from community.common.wandb_utils import get_wandb_runs, get_wandb_artifact\n",
    "import wandb, torch, numpy as np"
   ]
  },
  {
   "cell_type": "code",
   "execution_count": 21,
   "id": "61ab1ff7",
   "metadata": {},
   "outputs": [
    {
     "name": "stdout",
     "output_type": "stream",
     "text": [
      "Found 16 runs, returning...\n",
      "Warning : 16 runs found for current filters\n",
      "Warning : 2 runs containing wanted artifact, taking last one by default as no run id or precise name is specified\n"
     ]
    }
   ],
   "source": [
    "#runs = get_wandb_runs(run_id=None)\n",
    "artifacts = get_wandb_artifact(project='funcspec', name='all_results')"
   ]
  },
  {
   "cell_type": "code",
   "execution_count": 20,
   "id": "48916068",
   "metadata": {},
   "outputs": [
    {
     "data": {
      "text/plain": [
       "{0.0004: array([[0.68913522, 0.61625586],\n",
       "        [0.38977652, 0.43961567]]),\n",
       " 0.0028: array([[0.74053665, 0.61810281],\n",
       "        [0.46858397, 0.49160229]]),\n",
       " 0.02: array([[0.51784033, 0.37991701],\n",
       "        [0.53182244, 0.5562143 ]]),\n",
       " 0.1413: array([[       nan, 0.48647937],\n",
       "        [       nan, 0.48874858]]),\n",
       " 0.999: array([[0.66787579,        nan],\n",
       "        [0.806576  ,        nan]])}"
      ]
     },
     "execution_count": 20,
     "metadata": {},
     "output_type": "execute_result"
    }
   ],
   "source": [
    "artifacts[0]['Correlation']"
   ]
  },
  {
   "cell_type": "code",
   "execution_count": null,
   "id": "ba1089ee",
   "metadata": {},
   "outputs": [],
   "source": [
    "from community.funcspec.masks import plot_mask_metric, get_metrics_from_saved_masks"
   ]
  },
  {
   "cell_type": "code",
   "execution_count": null,
   "id": "8c44d556",
   "metadata": {},
   "outputs": [],
   "source": [
    "mask_metric = get_metrics_from_saved_masks(mask_metric, sparsities=[0.2])"
   ]
  },
  {
   "cell_type": "code",
   "execution_count": null,
   "id": "003a50a4",
   "metadata": {},
   "outputs": [],
   "source": [
    "plot_mask_metric(mask_metric)"
   ]
  },
  {
   "cell_type": "markdown",
   "id": "dd8f2b1b",
   "metadata": {},
   "source": [
    "# New Polygon Task"
   ]
  },
  {
   "cell_type": "code",
   "execution_count": null,
   "id": "9587e00b",
   "metadata": {},
   "outputs": [],
   "source": [
    "from math import radians, pi, cos, sin\n",
    "import numpy as np\n",
    "def draw_polygon(sides, x0, y0, r=1, rotate=0):\n",
    "    \"\"\"Draw an n-sided regular polygon.\n",
    "\n",
    "    Args:\n",
    "        sides (int): Number of polygon sides.\n",
    "        x0, y0 (int): Coordinates of center point.\n",
    "        r (int): Radius.\n",
    "        color (int): RGB565 color value.\n",
    "        rotate (Optional float): Rotation in degrees relative to origin.\n",
    "    Note:\n",
    "        The center point is the center of the x0,y0 pixel.\n",
    "        Since pixels are not divisible, the radius is integer rounded\n",
    "        up to complete on a full pixel.  Therefore diameter = 2 x r + 1.\n",
    "    \"\"\"\n",
    "    coords = []\n",
    "    theta = pi/2\n",
    "    n = sides +1\n",
    "    for s in range(n):\n",
    "        t = 2.0 * pi * s / sides + theta\n",
    "        coords.append([r * cos(t) + x0, r * sin(t) + y0])\n",
    "\n",
    "    # Cast to python float first to fix rounding errors\n",
    "    #self.draw_lines(coords, color=color) \n",
    "    return np.array(coords)\n"
   ]
  },
  {
   "cell_type": "code",
   "execution_count": null,
   "id": "f7f622ea",
   "metadata": {},
   "outputs": [],
   "source": [
    "poly"
   ]
  },
  {
   "cell_type": "code",
   "execution_count": null,
   "id": "240679d2",
   "metadata": {},
   "outputs": [],
   "source": [
    "poly = draw_polygon(15, 0, 0)\n",
    "fig  = plt.figure(figsize=(.7, .7))\n",
    "plt.plot(poly[:, 0], poly[:, 1], linewidth=.1)\n",
    "plt.axis('off')\n",
    "plt.tight_layout(pad=0.)\n",
    "plt.savefig('poly.png')\n",
    "#rs = Resize((28, 28), interpolation=InterpolationMode.HAMMING)\n",
    "poly_tensor = TF.to_tensor(Image.open('poly.png'))[:1]\n",
    "print(poly_tensor.shape)\n",
    "pad = (poly_tensor.shape[1] - 28) // 2\n",
    "digits = TF.normalize(TF.pad(next(iter(single_loaders[0]))[0][0], [pad, pad], fill=0), 1, 1)\n",
    "print(digits.shape)\n",
    "poly_tensor = TF.normalize(TF.resize(poly_tensor, digits.shape[1]), 1, 1)\n"
   ]
  },
  {
   "cell_type": "code",
   "execution_count": null,
   "id": "c83d5cd9",
   "metadata": {},
   "outputs": [],
   "source": [
    "final = (1 - poly_tensor.data.numpy() + digits.data.numpy())[0]\n",
    "plt.imshow(final)"
   ]
  },
  {
   "cell_type": "code",
   "execution_count": null,
   "id": "e4444860",
   "metadata": {},
   "outputs": [],
   "source": [
    "digits.max()"
   ]
  },
  {
   "cell_type": "code",
   "execution_count": null,
   "id": "45dfb5ef",
   "metadata": {},
   "outputs": [],
   "source": [
    "from PIL import Image\n",
    "import torchvision.transforms.functional as TF\n",
    "from torchvision.transforms import ToTensor, Resize, InterpolationMode, Pad"
   ]
  },
  {
   "cell_type": "code",
   "execution_count": null,
   "id": "4a1c1bdd",
   "metadata": {},
   "outputs": [],
   "source": []
  },
  {
   "cell_type": "code",
   "execution_count": null,
   "id": "7e4d9492",
   "metadata": {},
   "outputs": [],
   "source": [
    "poly = pat.RegularPolygon((0, 0), 10)\n",
    "plt.plot(poly)"
   ]
  },
  {
   "cell_type": "code",
   "execution_count": null,
   "id": "83e3ad2d",
   "metadata": {},
   "outputs": [],
   "source": [
    "plt.scatter(poly.get_path()"
   ]
  },
  {
   "cell_type": "markdown",
   "id": "446950d9",
   "metadata": {},
   "source": [
    "# Others\n"
   ]
  },
  {
   "cell_type": "code",
   "execution_count": null,
   "id": "2c0d5dca",
   "metadata": {},
   "outputs": [],
   "source": [
    "from community.common.wandb_utils import get_wandb_runs\n"
   ]
  },
  {
   "cell_type": "code",
   "execution_count": null,
   "id": "28c4cb34",
   "metadata": {},
   "outputs": [],
   "source": [
    "metrics = torch.load('/home/gb21/Code/ANNs/community-of-agents/wandb/latest-run/files/single/metrics/metric_results')\n",
    "training = torch.load('/home/gb21/Code/ANNs/community-of-agents/wandb/latest-run/files/single/training/training_results')"
   ]
  },
  {
   "cell_type": "code",
   "execution_count": null,
   "id": "a305e8d6",
   "metadata": {},
   "outputs": [],
   "source": [
    "community.load_state_dict(training[0.1][True]['best_state'])"
   ]
  },
  {
   "cell_type": "code",
   "execution_count": null,
   "id": "eac58e59",
   "metadata": {},
   "outputs": [],
   "source": [
    "corrs = get_pearson_metrics(community, multi_loaders, device=device, use_tqdm=True, n_tests=128)"
   ]
  },
  {
   "cell_type": "code",
   "execution_count": null,
   "id": "d7cd159d",
   "metadata": {},
   "outputs": [],
   "source": [
    "cor = corrs.mean(-1).mean(-1)\n",
    "cor"
   ]
  },
  {
   "cell_type": "code",
   "execution_count": null,
   "id": "db3def18",
   "metadata": {},
   "outputs": [],
   "source": [
    "cor = metrics['Correlation'][0.1]\n",
    "bot = metrics['Bottleneck'][0.1]\n",
    "mask = metrics['Masks'][0.1]"
   ]
  },
  {
   "cell_type": "code",
   "execution_count": null,
   "id": "550171fe",
   "metadata": {},
   "outputs": [],
   "source": [
    "bottleneck = readout_retrain(community, multi_loaders, n_epochs=1, n_tests=1, use_tqdm=True, device=device)"
   ]
  },
  {
   "cell_type": "code",
   "execution_count": null,
   "id": "7787d359",
   "metadata": {},
   "outputs": [],
   "source": [
    "bot = bottleneck['accs'].mean(0).max(-1)"
   ]
  },
  {
   "cell_type": "code",
   "execution_count": null,
   "id": "f12f9e89",
   "metadata": {},
   "outputs": [],
   "source": [
    "i = 1\n",
    "(cor[i, i] - cor[1-i, i])/ (cor[0, i] + cor[1, i])"
   ]
  },
  {
   "cell_type": "code",
   "execution_count": null,
   "id": "d6e73291",
   "metadata": {},
   "outputs": [],
   "source": [
    "ag_metric = lambda metric, ag : (metric[ag, ag], metric[1-ag, ag])\n",
    "diff_metric = lambda metric, ag : ((ag_metric(metric, ag)[0]-ag_metric(metric, ag)[1])/(ag_metric(metric, ag)[0]+ag_metric(metric, ag)[1]))\n"
   ]
  },
  {
   "cell_type": "code",
   "execution_count": null,
   "id": "7cc6bf9d",
   "metadata": {},
   "outputs": [],
   "source": [
    "mask"
   ]
  }
 ],
 "metadata": {
  "interpreter": {
   "hash": "5c46eabf39b4d4e6cb6668853226ee702b3f0cb279968f228c052b13b97983d9"
  },
  "kernelspec": {
   "display_name": "Python 3.10.4 ('community')",
   "language": "python",
   "name": "python3"
  },
  "language_info": {
   "codemirror_mode": {
    "name": "ipython",
    "version": 3
   },
   "file_extension": ".py",
   "mimetype": "text/x-python",
   "name": "python",
   "nbconvert_exporter": "python",
   "pygments_lexer": "ipython3",
   "version": "3.10.4"
  }
 },
 "nbformat": 4,
 "nbformat_minor": 5
}
