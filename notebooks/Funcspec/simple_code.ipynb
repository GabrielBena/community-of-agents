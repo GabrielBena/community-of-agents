{
 "cells": [
  {
   "cell_type": "markdown",
   "metadata": {},
   "source": [
    "# Minimal Implementation for Dynamics of Specialization"
   ]
  },
  {
   "cell_type": "code",
   "execution_count": 96,
   "metadata": {},
   "outputs": [],
   "source": [
    "import torch.nn as nn\n",
    "import torch\n",
    "import numpy as np\n",
    "from tqdm.notebook import tqdm as tqdm_n\n",
    "import matplotlib.pyplot as plt\n",
    "from itertools import product"
   ]
  },
  {
   "cell_type": "markdown",
   "metadata": {},
   "source": [
    "## Models"
   ]
  },
  {
   "cell_type": "code",
   "execution_count": 100,
   "metadata": {},
   "outputs": [],
   "source": [
    "def state_mask(n_agents, n_0, n_1):\n",
    "    # Mask for the state to state connections between layers\n",
    "    mask = torch.eye(n_agents)\n",
    "    mask = mask.repeat_interleave(n_0, 0).repeat_interleave(n_1, 1)\n",
    "    return mask\n",
    "\n",
    "def sparse_mask(sparsity, n_in, n_out):\n",
    "    nb_non_zero = int(sparsity * n_in * n_out)\n",
    "    w_mask = np.zeros((n_in, n_out), dtype=bool)\n",
    "    # ind_in = rd.choice(np.arange(in_features),size=self.nb_non_zero)\n",
    "    # ind_out = rd.choice(np.arange(out_features),size=self.nb_non_zero)\n",
    "\n",
    "    ind_in, ind_out = np.unravel_index(\n",
    "        np.random.choice(\n",
    "            np.arange(n_in * n_out), nb_non_zero, replace=False\n",
    "        ),\n",
    "        (n_in, n_out),\n",
    "    )\n",
    "    w_mask[ind_in, ind_out] = True\n",
    "    w_mask = torch.tensor(w_mask)\n",
    "    return w_mask\n",
    "\n",
    "def comms_mask(sparsity, n_agents, n_hidden): \n",
    "    mask = torch.zeros((n_agents*n_hidden, n_agents*n_hidden))\n",
    "    for i, j in product(range(n_agents), repeat=2):\n",
    "        if i != j:\n",
    "            mask[i*n_hidden:(i+1)*n_hidden, j*n_hidden:(j+1)*n_hidden] = sparse_mask(sparsity, n_hidden, n_hidden)\n",
    "    return mask\n",
    "\n",
    "class masked_RNN(nn.RNN):\n",
    "    def __init__(self, *args, masks, **kwargs):\n",
    "        super().__init__(*args, **kwargs)\n",
    "        [self.register_buffer(n, m) for n, m in masks.items()]\n",
    "\n",
    "    def forward(self, input, hx=None):\n",
    "        for n, p in self.named_parameters():\n",
    "            if \"weight_hh\" in n:\n",
    "                # print(p.shape, self.comms_mask.shape)\n",
    "                p.data *= self.comms_mask\n",
    "            elif \"weight_ih\" in n and n[-1] != \"0\":\n",
    "                # print(p.shape, self.input_mask.shape)\n",
    "                p.data *= self.state_mask\n",
    "            elif \"weight_ih\" in n and n[-1] == \"0\":\n",
    "                # print(p.shape, self.input_mask.shape)\n",
    "                p.data *= self.input_mask\n",
    "\n",
    "        return super().forward(input, hx=hx)\n",
    "\n",
    "\n",
    "class Community(nn.Module):\n",
    "    def __init__(\n",
    "        self,\n",
    "        agents_configs,\n",
    "        connections_config,\n",
    "        input_config,\n",
    "        readout_config,\n",
    "    ) -> None:\n",
    "        super().__init__()\n",
    "\n",
    "        self.is_community = True\n",
    "        self.input_size, self.common_input = [\n",
    "            input_config[k] for k in [\"input_size\", \"common_input\"]\n",
    "        ]\n",
    "        self.n_agents, self.hidden_size, self.n_layers = [\n",
    "            agents_configs[k] for k in [\"n_agents\", \"hidden_size\", \"n_layers\"]\n",
    "        ]\n",
    "        self.sparsity = connections_config[\"sparsity\"]\n",
    "        self.output_size, self.common_readout = [\n",
    "            readout_config[k] for k in [\"output_size\", \"common_readout\"]\n",
    "        ]\n",
    "\n",
    "        self.masks = {\n",
    "            \"input_mask\": state_mask(self.n_agents, self.hidden_size, self.input_size),\n",
    "            \"state_mask\": state_mask(self.n_agents, self.hidden_size, self.hidden_size),\n",
    "            \"comms_mask\": comms_mask(self.sparsity, self.n_agents, self.hidden_size),\n",
    "            \"output_mask\": state_mask(\n",
    "                self.n_agents, self.output_size, self.hidden_size\n",
    "            ),\n",
    "        }\n",
    "\n",
    "        self.core = masked_RNN(\n",
    "            input_size=self.input_size * self.n_agents,\n",
    "            hidden_size=self.hidden_size * self.n_agents,\n",
    "            num_layers=self.n_layers,\n",
    "            batch_first=False,\n",
    "            bias=False,\n",
    "            masks=self.masks,\n",
    "        )\n",
    "\n",
    "        [self.register_buffer(n, m) for n, m in self.masks.items()]\n",
    "\n",
    "        if self.common_readout:\n",
    "            self.readout = nn.Linear(self.n_agents * self.hidden_size, self.output_size)\n",
    "        else:\n",
    "            self.readout = nn.Linear(\n",
    "                self.n_agents * self.hidden_size, self.output_size * self.n_agents\n",
    "            )\n",
    "\n",
    "    def forward(self, input):\n",
    "        output, states = self.core(input)\n",
    "        output = self.readout(output)\n",
    "        if not self.common_readout:\n",
    "            self.readout.weight.data *= self.output_mask\n",
    "            output = torch.stack(output.split(self.output_size, -1), 1)\n",
    "\n",
    "        return output, states"
   ]
  },
  {
   "cell_type": "markdown",
   "metadata": {},
   "source": [
    "## Data"
   ]
  },
  {
   "cell_type": "markdown",
   "metadata": {},
   "source": [
    "### Datasets"
   ]
  },
  {
   "cell_type": "code",
   "execution_count": 3,
   "metadata": {},
   "outputs": [],
   "source": [
    "from community.data.datasets.generate import get_datasets_symbols, get_datasets_alphabet\n",
    "from community.data.process import temporal_data"
   ]
  },
  {
   "cell_type": "code",
   "execution_count": 4,
   "metadata": {},
   "outputs": [],
   "source": [
    "use_cuda = False\n",
    "device = torch.device(\"cuda\" if use_cuda else \"cpu\")\n",
    "batch_size = 512"
   ]
  },
  {
   "cell_type": "code",
   "execution_count": 111,
   "metadata": {},
   "outputs": [],
   "source": [
    "n_agents = 2\n",
    "n_classes_per_digit = 10\n",
    "n_classes = n_classes_per_digit * n_agents\n",
    "nb_steps = 2\n",
    "\n",
    "data_config = {\n",
    "    \"batch_size\": 512,\n",
    "    \"data_size\": None,  # np.array([30000, 5000]) ,\n",
    "    \"input_size\": 28,\n",
    "    \"common_input\": True,\n",
    "    \"use_cuda\": use_cuda,\n",
    "    \"fix_asym\": True,\n",
    "    \"permute_dataset\": False,\n",
    "    \"seed\": np.random.randint(100),\n",
    "    \"data_type\": \"double_digits\",\n",
    "    \"n_digits\": n_agents,\n",
    "    \"n_classes\": n_classes,\n",
    "    \"n_classes_per_digit\": n_classes_per_digit,\n",
    "    \"symbol_config\": {},\n",
    "    \"split_classes\": True,\n",
    "    \"nb_steps\": nb_steps,\n",
    "    \"cov_ratio\": 1,\n",
    "    \"noise_ratio\": None,\n",
    "    \"random_start\": False,\n",
    "}\n",
    "\n",
    "if \"digits\" in data_config[\"data_type\"]:\n",
    "    n_classes_per_digit = min(n_classes_per_digit, 10)\n",
    "    n_classes = n_classes_per_digit * n_agents\n",
    "    data_config[\"n_classes_per_digit\"] = n_classes_per_digit"
   ]
  },
  {
   "cell_type": "code",
   "execution_count": 112,
   "metadata": {},
   "outputs": [],
   "source": [
    "all_data = get_datasets_alphabet(\"../../data/\", data_config)\n",
    "datasets, loaders = all_data[data_config[\"data_type\"]]"
   ]
  },
  {
   "cell_type": "code",
   "execution_count": 113,
   "metadata": {},
   "outputs": [
    {
     "data": {
      "text/plain": [
       "tensor(0.)"
      ]
     },
     "execution_count": 113,
     "metadata": {},
     "output_type": "execute_result"
    }
   ],
   "source": [
    "(datasets[0].data[1][:, 0] == datasets[0].data[1][:, 1]).float().mean()"
   ]
  },
  {
   "cell_type": "code",
   "execution_count": 114,
   "metadata": {},
   "outputs": [],
   "source": [
    "def process_data(\n",
    "    data,\n",
    "    n_steps=2,\n",
    "    common_input=True,\n",
    "    flatten=True,\n",
    "    noise_ratio=None,\n",
    "    random_start=False,\n",
    "):\n",
    "    start_times = None\n",
    "    data, start_times = temporal_data(\n",
    "        data,\n",
    "        n_steps=n_steps,\n",
    "        flatten=flatten,\n",
    "        noise_ratio=noise_ratio,\n",
    "        random_start=random_start,\n",
    "    )\n",
    "\n",
    "    if common_input:\n",
    "        data = data.transpose(1, 2)\n",
    "        data = data.reshape(data.shape[0], data.shape[1], -1)\n",
    "\n",
    "    return data, start_times"
   ]
  },
  {
   "cell_type": "markdown",
   "metadata": {},
   "source": [
    "## Init"
   ]
  },
  {
   "cell_type": "code",
   "execution_count": 165,
   "metadata": {},
   "outputs": [],
   "source": [
    "task = 'parity-digits-both'\n",
    "\n",
    "agents_config = {\"n_agents\": 2, \"hidden_size\": 25, \"n_layers\": 1}\n",
    "connections_config = {\"sparsity\": 10 / agents_config['hidden_size']**2}\n",
    "input_config = {\"input_size\": data_config[\"input_size\"] ** 2, \"common_input\": False}\n",
    "readout_config = {\n",
    "    \"output_size\": data_config[\"n_classes_per_digit\"] * (1 + (task == \"sum\")),\n",
    "    \"common_readout\": False,\n",
    "}\n",
    "\n",
    "decision = ['last', 'max']\n",
    "\n",
    "model = Community(agents_config, connections_config, input_config, readout_config)\n",
    "optimizer = torch.optim.Adam(model.parameters(), lr=1e-3)"
   ]
  },
  {
   "cell_type": "code",
   "execution_count": 166,
   "metadata": {},
   "outputs": [
    {
     "data": {
      "text/plain": [
       "torch.Size([2, 2, 512, 10])"
      ]
     },
     "execution_count": 166,
     "metadata": {},
     "output_type": "execute_result"
    }
   ],
   "source": [
    "data, target = next(iter(loaders[1]))\n",
    "data, _ = process_data(data)\n",
    "data.shape\n",
    "out, states = model(data)\n",
    "out.shape\n"
   ]
  },
  {
   "cell_type": "code",
   "execution_count": 167,
   "metadata": {},
   "outputs": [
    {
     "data": {
      "text/plain": [
       "<matplotlib.image.AxesImage at 0x7fd5cc9d5720>"
      ]
     },
     "execution_count": 167,
     "metadata": {},
     "output_type": "execute_result"
    },
    {
     "data": {
      "image/png": "[encoded data removed]",
      "text/plain": [
       "<Figure size 640x480 with 1 Axes>"
      ]
     },
     "metadata": {},
     "output_type": "display_data"
    }
   ],
   "source": [
    "plt.imshow(model.core.weight_hh_l0.abs().cpu().data.numpy())"
   ]
  },
  {
   "cell_type": "markdown",
   "metadata": {},
   "source": [
    "## Training"
   ]
  },
  {
   "cell_type": "code",
   "execution_count": 169,
   "metadata": {},
   "outputs": [],
   "source": [
    "from community.data.tasks import get_task_target\n",
    "from community.common.decision import get_decision\n",
    "from community.common.training import get_acc, get_loss\n",
    "from community.utils.nested import nested_mean, nested_sup, nested_round\n",
    "import copy"
   ]
  },
  {
   "cell_type": "code",
   "execution_count": 175,
   "metadata": {},
   "outputs": [
    {
     "ename": "TypeError",
     "evalue": "len() of a 0-d tensor",
     "output_type": "error",
     "traceback": [
      "\u001b[0;31m---------------------------------------------------------------------------\u001b[0m",
      "\u001b[0;31mTypeError\u001b[0m                                 Traceback (most recent call last)",
      "\u001b[1;32m/home/gb21/Code/ANNs/community-of-agents/notebooks/Funcspec/simple_code.ipynb Cell 19\u001b[0m line \u001b[0;36m3\n\u001b[1;32m      <a href='vscode-notebook-cell://ssh-remote%2B7b22686f73744e616d65223a22626c6f73736f6d2e65652e69632e61632e756b222c2275736572223a2267623231227d/home/gb21/Code/ANNs/community-of-agents/notebooks/Funcspec/simple_code.ipynb#Y106sdnNjb2RlLXJlbW90ZQ%3D%3D?line=0'>1</a>\u001b[0m output, _ \u001b[39m=\u001b[39m get_decision(out, \u001b[39m*\u001b[39mdecision)\n\u001b[1;32m      <a href='vscode-notebook-cell://ssh-remote%2B7b22686f73744e616d65223a22626c6f73736f6d2e65652e69632e61632e756b222c2275736572223a2267623231227d/home/gb21/Code/ANNs/community-of-agents/notebooks/Funcspec/simple_code.ipynb#Y106sdnNjb2RlLXJlbW90ZQ%3D%3D?line=1'>2</a>\u001b[0m t_target \u001b[39m=\u001b[39m get_task_target(target, task, data_config[\u001b[39m\"\u001b[39m\u001b[39mn_classes_per_digit\u001b[39m\u001b[39m\"\u001b[39m])\n\u001b[0;32m----> <a href='vscode-notebook-cell://ssh-remote%2B7b22686f73744e616d65223a22626c6f73736f6d2e65652e69632e61632e756b222c2275736572223a2267623231227d/home/gb21/Code/ANNs/community-of-agents/notebooks/Funcspec/simple_code.ipynb#Y106sdnNjb2RlLXJlbW90ZQ%3D%3D?line=2'>3</a>\u001b[0m get_acc(output, t_target)\n",
      "File \u001b[0;32m~/Code/ANNs/community-of-agents/community/common/training.py:99\u001b[0m, in \u001b[0;36mget_acc\u001b[0;34m(output, t_target, both, keep_all)\u001b[0m\n\u001b[1;32m     96\u001b[0m             acc \u001b[39m=\u001b[39m [get_acc(o, t_target, keep_all\u001b[39m=\u001b[39mkeep_all) \u001b[39mfor\u001b[39;00m o \u001b[39min\u001b[39;00m output]\n\u001b[1;32m     98\u001b[0m     \u001b[39melse\u001b[39;00m:\n\u001b[0;32m---> 99\u001b[0m         acc \u001b[39m=\u001b[39m [get_acc(o, t_target, keep_all\u001b[39m=\u001b[39mkeep_all) \u001b[39mfor\u001b[39;00m o \u001b[39min\u001b[39;00m output]\n\u001b[1;32m    101\u001b[0m \u001b[39mreturn\u001b[39;00m np\u001b[39m.\u001b[39marray(acc)\n",
      "File \u001b[0;32m~/Code/ANNs/community-of-agents/community/common/training.py:99\u001b[0m, in \u001b[0;36m<listcomp>\u001b[0;34m(.0)\u001b[0m\n\u001b[1;32m     96\u001b[0m             acc \u001b[39m=\u001b[39m [get_acc(o, t_target, keep_all\u001b[39m=\u001b[39mkeep_all) \u001b[39mfor\u001b[39;00m o \u001b[39min\u001b[39;00m output]\n\u001b[1;32m     98\u001b[0m     \u001b[39melse\u001b[39;00m:\n\u001b[0;32m---> 99\u001b[0m         acc \u001b[39m=\u001b[39m [get_acc(o, t_target, keep_all\u001b[39m=\u001b[39;49mkeep_all) \u001b[39mfor\u001b[39;00m o \u001b[39min\u001b[39;00m output]\n\u001b[1;32m    101\u001b[0m \u001b[39mreturn\u001b[39;00m np\u001b[39m.\u001b[39marray(acc)\n",
      "File \u001b[0;32m~/Code/ANNs/community-of-agents/community/common/training.py:99\u001b[0m, in \u001b[0;36mget_acc\u001b[0;34m(output, t_target, both, keep_all)\u001b[0m\n\u001b[1;32m     96\u001b[0m             acc \u001b[39m=\u001b[39m [get_acc(o, t_target, keep_all\u001b[39m=\u001b[39mkeep_all) \u001b[39mfor\u001b[39;00m o \u001b[39min\u001b[39;00m output]\n\u001b[1;32m     98\u001b[0m     \u001b[39melse\u001b[39;00m:\n\u001b[0;32m---> 99\u001b[0m         acc \u001b[39m=\u001b[39m [get_acc(o, t_target, keep_all\u001b[39m=\u001b[39mkeep_all) \u001b[39mfor\u001b[39;00m o \u001b[39min\u001b[39;00m output]\n\u001b[1;32m    101\u001b[0m \u001b[39mreturn\u001b[39;00m np\u001b[39m.\u001b[39marray(acc)\n",
      "File \u001b[0;32m~/Code/ANNs/community-of-agents/community/common/training.py:99\u001b[0m, in \u001b[0;36m<listcomp>\u001b[0;34m(.0)\u001b[0m\n\u001b[1;32m     96\u001b[0m             acc \u001b[39m=\u001b[39m [get_acc(o, t_target, keep_all\u001b[39m=\u001b[39mkeep_all) \u001b[39mfor\u001b[39;00m o \u001b[39min\u001b[39;00m output]\n\u001b[1;32m     98\u001b[0m     \u001b[39melse\u001b[39;00m:\n\u001b[0;32m---> 99\u001b[0m         acc \u001b[39m=\u001b[39m [get_acc(o, t_target, keep_all\u001b[39m=\u001b[39;49mkeep_all) \u001b[39mfor\u001b[39;00m o \u001b[39min\u001b[39;00m output]\n\u001b[1;32m    101\u001b[0m \u001b[39mreturn\u001b[39;00m np\u001b[39m.\u001b[39marray(acc)\n",
      "File \u001b[0;32m~/Code/ANNs/community-of-agents/community/common/training.py:69\u001b[0m, in \u001b[0;36mget_acc\u001b[0;34m(output, t_target, both, keep_all)\u001b[0m\n\u001b[1;32m     67\u001b[0m \u001b[39melse\u001b[39;00m:\n\u001b[1;32m     68\u001b[0m     n_tasks \u001b[39m=\u001b[39m \u001b[39mlen\u001b[39m(t_target)\n\u001b[0;32m---> 69\u001b[0m     n_out \u001b[39m=\u001b[39m \u001b[39mlen\u001b[39;49m(output)\n\u001b[1;32m     71\u001b[0m     \u001b[39mif\u001b[39;00m n_out \u001b[39m==\u001b[39m n_tasks:\n\u001b[1;32m     72\u001b[0m         \u001b[39mtry\u001b[39;00m:\n",
      "File \u001b[0;32m~/.conda/envs/community/lib/python3.10/site-packages/torch/_tensor.py:904\u001b[0m, in \u001b[0;36mTensor.__len__\u001b[0;34m(self)\u001b[0m\n\u001b[1;32m    902\u001b[0m     \u001b[39mreturn\u001b[39;00m handle_torch_function(Tensor\u001b[39m.\u001b[39m\u001b[39m__len__\u001b[39m, (\u001b[39mself\u001b[39m,), \u001b[39mself\u001b[39m)\n\u001b[1;32m    903\u001b[0m \u001b[39mif\u001b[39;00m \u001b[39mself\u001b[39m\u001b[39m.\u001b[39mdim() \u001b[39m==\u001b[39m \u001b[39m0\u001b[39m:\n\u001b[0;32m--> 904\u001b[0m     \u001b[39mraise\u001b[39;00m \u001b[39mTypeError\u001b[39;00m(\u001b[39m\"\u001b[39m\u001b[39mlen() of a 0-d tensor\u001b[39m\u001b[39m\"\u001b[39m)\n\u001b[1;32m    905\u001b[0m \u001b[39mif\u001b[39;00m torch\u001b[39m.\u001b[39m_C\u001b[39m.\u001b[39m_get_tracing_state():\n\u001b[1;32m    906\u001b[0m     warnings\u001b[39m.\u001b[39mwarn(\n\u001b[1;32m    907\u001b[0m         \u001b[39m\"\u001b[39m\u001b[39mUsing len to get tensor shape might cause the trace to be incorrect. \u001b[39m\u001b[39m\"\u001b[39m\n\u001b[1;32m    908\u001b[0m         \u001b[39m\"\u001b[39m\u001b[39mRecommended usage would be tensor.shape[0]. \u001b[39m\u001b[39m\"\u001b[39m\n\u001b[0;32m   (...)\u001b[0m\n\u001b[1;32m    912\u001b[0m         stacklevel\u001b[39m=\u001b[39m\u001b[39m2\u001b[39m,\n\u001b[1;32m    913\u001b[0m     )\n",
      "\u001b[0;31mTypeError\u001b[0m: len() of a 0-d tensor"
     ]
    }
   ],
   "source": [
    "output, _ = get_decision(out, *decision)\n",
    "t_target = get_task_target(target, task, data_config[\"n_classes_per_digit\"])\n",
    "get_acc(output, t_target)"
   ]
  },
  {
   "cell_type": "code",
   "execution_count": 177,
   "metadata": {},
   "outputs": [
    {
     "data": {
      "text/plain": [
       "torch.Size([2, 512])"
      ]
     },
     "execution_count": 177,
     "metadata": {},
     "output_type": "execute_result"
    }
   ],
   "source": [
    "t_target.shape"
   ]
  },
  {
   "cell_type": "code",
   "execution_count": 149,
   "metadata": {},
   "outputs": [],
   "source": [
    "training_config = {\n",
    "    \"n_epochs\": 30,\n",
    "    \"task\": \"parity-digits\",\n",
    "}\n",
    "config = {\n",
    "    \"agents\": agents_config,\n",
    "    \"connections\": connections_config,\n",
    "    \"input\": input_config,\n",
    "    \"readout\": readout_config,\n",
    "    \"data\": data_config,\n",
    "    \"decision\": decision,\n",
    "    \"training\": training_config,\n",
    "}"
   ]
  },
  {
   "cell_type": "code",
   "execution_count": 150,
   "metadata": {},
   "outputs": [],
   "source": [
    "def test_community(model, device, test_loader, config, show_all_acc=False):\n",
    "\n",
    "    model.eval()\n",
    "    test_loss = 0\n",
    "    correct = 0\n",
    "    acc = 0\n",
    "    deciding_agents = []\n",
    "\n",
    "    decision = config[\"decision\"]\n",
    "    task = config['training'][\"task\"]\n",
    "\n",
    "    with torch.no_grad() : \n",
    "        for data, target in test_loader:\n",
    "            \n",
    "            data, _ = process_data(\n",
    "                    data,\n",
    "                )\n",
    "            t_target = get_task_target(target, task, n_classes_per_digit)\n",
    "            output, _ = model(data)\n",
    "\n",
    "            if decision is not None:\n",
    "                output, deciding_ags = get_decision(output, *decision, target=t_target)\n",
    "                both = decision[1] == \"both\"\n",
    "            else:\n",
    "                deciding_ags = None\n",
    "                both = False\n",
    "\n",
    "            try:\n",
    "                if (\n",
    "                    deciding_ags is not None\n",
    "                    and test_loader.batch_size in deciding_ags.shape\n",
    "                ):\n",
    "                    deciding_agents.append(deciding_ags.cpu().data.numpy())\n",
    "            except AttributeError:\n",
    "                deciding_ags = None\n",
    "\n",
    "            complete_loss = get_loss(output, t_target, both=both)\n",
    "            loss = nested_mean(complete_loss)\n",
    "\n",
    "            test_loss += loss\n",
    "            test_acc = get_acc(output, t_target, both=both)\n",
    "            acc += test_acc\n",
    "\n",
    "    test_loss /= len(test_loader)\n",
    "    acc /= len(test_loader)\n",
    "\n",
    "    deciding_agents = np.array(deciding_agents)\n",
    "\n",
    "    desc = str(\n",
    "        \" | Test set: Loss: {:.3f}, Accuracy: {}%\".format(\n",
    "            test_loss,\n",
    "            np.round(100 * np.mean(acc)) if not show_all_acc else nested_round(acc),\n",
    "        )\n",
    "    )\n",
    "\n",
    "    return desc, test_loss.cpu().data.item(), acc, deciding_agents\n",
    "            \n",
    "\n",
    "def train_community(\n",
    "    model,\n",
    "    train_loader,\n",
    "    test_loader,\n",
    "    optimizer,\n",
    "    config,\n",
    "    schedulers=None,\n",
    "    n_epochs=None,\n",
    "    use_tqdm=True,\n",
    "    trials=(True, True),\n",
    "    show_all_acc=False,\n",
    "):\n",
    "    n_epochs = config['training'][\"n_epochs\"] if n_epochs is None else n_epochs\n",
    "    task = config['training'][\"task\"]\n",
    "    decision = config[\"decision\"]\n",
    "\n",
    "    descs = [\"\" for _ in range(2)]\n",
    "    desc = lambda descs: descs[0] + descs[1]\n",
    "    train_losses, train_accs = [], []\n",
    "    test_accs, test_losses = [], []\n",
    "    deciding_agents = []\n",
    "    best_loss, best_acc = 1e10, 0.0\n",
    "    training, testing = trials\n",
    "    pbar = range(n_epochs + 1)\n",
    "    if use_tqdm:\n",
    "        pbar = tqdm_n(pbar, position=0, leave=None, desc=\"Train Epoch:\")\n",
    "\n",
    "    torch.compile(model)\n",
    "\n",
    "    for epoch in pbar:\n",
    "        if training and epoch > 0:\n",
    "            model.train()\n",
    "            for batch_idx, (data, target) in enumerate(train_loader):\n",
    "                if type(data) is list:\n",
    "                    data, target = [d.to(device) for d in data], target.to(device)\n",
    "                else:\n",
    "                    data, target = data.to(device), target.to(device)\n",
    "\n",
    "                # Forward pass\n",
    "\n",
    "                # Task Selection\n",
    "                data, _ = process_data(\n",
    "                    data,\n",
    "                )\n",
    "                t_target = get_task_target(target, task, n_classes_per_digit)\n",
    "\n",
    "                optimizer.zero_grad()\n",
    "\n",
    "                output, _ = model(data)\n",
    "                if decision is not None:\n",
    "                    output, deciding_ags = get_decision(\n",
    "                        output, *decision, target=t_target\n",
    "                    )\n",
    "                    both = decision[1] == \"both\"\n",
    "                else:\n",
    "                    deciding_ags = None\n",
    "                    both = False\n",
    "\n",
    "                try:\n",
    "                    if (\n",
    "                        deciding_ags is not None\n",
    "                        and train_loader.batch_size in deciding_ags.shape\n",
    "                    ):\n",
    "                        deciding_agents.append(deciding_ags.cpu().data.numpy())\n",
    "                except AttributeError:\n",
    "                    deciding_ags = None\n",
    "\n",
    "                complete_loss = get_loss(output, t_target, both=both)\n",
    "                loss = nested_mean(complete_loss)\n",
    "\n",
    "                acc = get_acc(output, t_target, both=both)\n",
    "\n",
    "                train_accs.append(acc)\n",
    "\n",
    "                loss.backward()\n",
    "                train_losses.append(loss.cpu().data.item())\n",
    "\n",
    "                # Apply gradients on agents weights\n",
    "                optimizer.step()\n",
    "                descs[0] = str(\n",
    "                    \"Train Epoch: {} [{}/{} ({:.0f}%)] Loss: {:.3f}, Accuracy: {}, Dec : {:.3f}%\".format(\n",
    "                        epoch,\n",
    "                        batch_idx * train_loader.batch_size,\n",
    "                        len(train_loader.dataset),\n",
    "                        100.0 * batch_idx / len(train_loader),\n",
    "                        torch.round(complete_loss.mean(-1), decimals=1).data\n",
    "                        if False\n",
    "                        else torch.round(loss, decimals=1).item(),\n",
    "                        np.round(100 * np.mean(acc))\n",
    "                        if not show_all_acc\n",
    "                        else nested_round(acc),\n",
    "                        np.mean(deciding_agents),\n",
    "                    )\n",
    "                )\n",
    "\n",
    "                if use_tqdm:\n",
    "                    pbar.set_description(desc(descs))\n",
    "\n",
    "        if testing:\n",
    "            descs[1], loss, acc, _ = test_community(\n",
    "                model,\n",
    "                device,\n",
    "                test_loader,\n",
    "                config,\n",
    "                show_all_acc,\n",
    "            )\n",
    "            if loss < best_loss:\n",
    "                best_loss = loss\n",
    "                best_state = copy.deepcopy(model.state_dict())\n",
    "                best_acc = acc\n",
    "\n",
    "            test_losses.append(loss)\n",
    "            test_accs.append(acc)\n",
    "\n",
    "            if use_tqdm:\n",
    "                pbar.set_description(desc(descs))\n",
    "\n",
    "        if schedulers is not None:\n",
    "            for sch in schedulers:\n",
    "                if sch:\n",
    "                    sch.step()\n",
    "\n",
    "        results = {\n",
    "            \"train_losses\": np.array(train_losses),\n",
    "            \"train_accs\": np.array(train_accs),\n",
    "            \"test_losses\": np.array(test_losses),\n",
    "            \"test_accs\": np.array(test_accs),\n",
    "            \"deciding_agents\": np.array(deciding_agents),\n",
    "            \"best_state\": best_state,\n",
    "        }\n",
    "\n",
    "    return results\n"
   ]
  },
  {
   "cell_type": "code",
   "execution_count": 151,
   "metadata": {},
   "outputs": [
    {
     "data": {
      "application/vnd.jupyter.widget-view+json": {
       "model_id": "62d08c0869164080a5ffc0892a7c3ce4",
       "version_major": 2,
       "version_minor": 0
      },
      "text/plain": [
       "Train Epoch::   0%|          | 0/31 [00:00<?, ?it/s]"
      ]
     },
     "metadata": {},
     "output_type": "display_data"
    }
   ],
   "source": [
    "train_results = train_community(model, *loaders, optimizer, config)"
   ]
  },
  {
   "cell_type": "code",
   "execution_count": 152,
   "metadata": {},
   "outputs": [
    {
     "data": {
      "text/plain": [
       "[<matplotlib.lines.Line2D at 0x7fd5ccc82d40>]"
      ]
     },
     "execution_count": 152,
     "metadata": {},
     "output_type": "execute_result"
    },
    {
     "data": {
      "image/png": "[encoded data removed]",
      "text/plain": [
       "<Figure size 640x480 with 1 Axes>"
      ]
     },
     "metadata": {},
     "output_type": "display_data"
    }
   ],
   "source": [
    "plt.plot(train_results['test_accs'])"
   ]
  }
 ],
 "metadata": {
  "kernelspec": {
   "display_name": "community",
   "language": "python",
   "name": "python3"
  },
  "language_info": {
   "codemirror_mode": {
    "name": "ipython",
    "version": 3
   },
   "file_extension": ".py",
   "mimetype": "text/x-python",
   "name": "python",
   "nbconvert_exporter": "python",
   "pygments_lexer": "ipython3",
   "version": "3.10.9"
  },
  "orig_nbformat": 4
 },
 "nbformat": 4,
 "nbformat_minor": 2
}
