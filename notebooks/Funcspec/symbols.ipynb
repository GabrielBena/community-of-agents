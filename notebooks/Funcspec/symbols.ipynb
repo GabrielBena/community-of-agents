{
   "cells": [
      {
         "cell_type": "markdown",
         "metadata": {},
         "source": [
            "## Import"
         ]
      },
      {
         "cell_type": "code",
         "execution_count": 2,
         "metadata": {},
         "outputs": [],
         "source": [
            "import torch.nn as nn\n",
            "import torch\n",
            "import numpy as np\n",
            "from tqdm.notebook import tqdm as tqdm_n\n",
            "import matplotlib.pyplot as plt\n",
            "import seaborn as sns\n",
            "from torchsummary import summary\n",
            "from copy import copy, deepcopy\n",
            "from tqdm.notebook import tqdm, trange\n",
            "\n",
            "# import ray\n"
         ]
      },
      {
         "cell_type": "code",
         "execution_count": 3,
         "metadata": {},
         "outputs": [],
         "source": [
            "import torch"
         ]
      },
      {
         "cell_type": "code",
         "execution_count": 4,
         "metadata": {},
         "outputs": [],
         "source": [
            "%load_ext autoreload\n",
            "%autoreload 2"
         ]
      },
      {
         "cell_type": "markdown",
         "metadata": {},
         "source": [
            "## Data"
         ]
      },
      {
         "cell_type": "markdown",
         "metadata": {},
         "source": [
            "### Datasets"
         ]
      },
      {
         "cell_type": "code",
         "execution_count": 8,
         "metadata": {},
         "outputs": [],
         "source": [
            "from community.data.datasets.generate import get_datasets_symbols, get_datasets_alphabet\n",
            "from community.utils.plotting import plot_grid, create_gifs\n",
            "from community.data.tasks import get_task_target, get_factors_list\n",
            "from community.utils.configs import configure_readouts\n",
            "from community.utils.others import nested_shape, nested_len\n",
            "from community.common.models.ensembles import Community\n"
         ]
      },
      {
         "cell_type": "code",
         "execution_count": 9,
         "metadata": {},
         "outputs": [],
         "source": [
            "use_cuda = False\n",
            "device = torch.device(\"cuda\" if use_cuda else \"cpu\")\n",
            "batch_size = 512"
         ]
      },
      {
         "cell_type": "code",
         "execution_count": 212,
         "metadata": {},
         "outputs": [],
         "source": [
            "use_symbols = False\n",
            "\n",
            "n_agents = 2\n",
            "n_classes_per_digit = 8\n",
            "n_classes = n_classes_per_digit * n_agents\n",
            "\n",
            "data_config = {\n",
            "    \"batch_size\": 256,\n",
            "    \"data_sizes\": None,  # np.array([30000, 5000]) ,\n",
            "    \"input_size\": 28,\n",
            "    \"common_input\": False,\n",
            "    \"use_cuda\": use_cuda,\n",
            "    \"fix_asym\": False,\n",
            "    \"permute_dataset\": True,\n",
            "    \"seed\": np.random.randint(100),\n",
            "    \"data_type\": \"symbols\" if use_symbols else 'double_d',\n",
            "    'n_digits' : n_agents,\n",
            "    \"n_classes\": n_classes,\n",
            "    \"n_classes_per_digit\": n_classes_per_digit,\n",
            "    \"symbol_config\": {},\n",
            "    \"split_classes\": True,\n",
            "    'nb_steps' : 3\n",
            "}\n",
            "\n",
            "if use_symbols:\n",
            "\n",
            "    symbol_config = {\n",
            "        \"data_sizes\": np.array([60000, 10000]) // 2 ,\n",
            "        \"nb_steps\": data_config['nb_steps'],\n",
            "        \"n_symbols\": n_classes - 1,\n",
            "        \"symbol_type\": \"mod_5\",\n",
            "        \"input_size\": 60,\n",
            "        \"static\": True,\n",
            "        \"n_diff_symbols\": n_agents,\n",
            "        \"parallel\": False,\n",
            "        \"adjust_probas\": False,\n",
            "        'random_transform' : True\n",
            "    }\n",
            "\n",
            "    if symbol_config[\"static\"]:\n",
            "        #symbol_config[\"nb_steps\"] = 10\n",
            "        symbol_config[\"data_size\"] = [d for d in symbol_config[\"data_sizes\"]]\n",
            "\n",
            "    n_bits = np.ceil(np.log2(n_classes)).astype(int)\n",
            "\n",
            "    data_config[\"symbol_config\"] = symbol_config\n",
            "    data_config[\"input_size\"] = symbol_config[\"input_size\"]\n",
            "    data_config[\"data_type\"] = \"symbols\"\n",
            "    # loaders, datasets = get_datasets_symbols(data_config, batch_size, use_cuda, plot=True)"
         ]
      },
      {
         "cell_type": "code",
         "execution_count": 216,
         "metadata": {},
         "outputs": [],
         "source": [
            "if use_symbols:\n",
            "    loaders, datasets = get_datasets_symbols(\n",
            "        data_config, batch_size, use_cuda, plot=True\n",
            "    )\n",
            "else:\n",
            "\n",
            "    all_loaders = get_datasets_alphabet(\"../../data/\", data_config)\n",
            "    loaders = all_loaders[\n",
            "        [\"multi\", \"double_d\", \"double_l\", \"single_d\" \"single_l\"].index(\n",
            "            data_config[\"data_type\"]\n",
            "        )\n",
            "    ]\n",
            "    \n",
            "    datasets = [l.dataset for l in loaders]"
         ]
      },
      {
         "attachments": {},
         "cell_type": "markdown",
         "metadata": {},
         "source": [
            "### Plot / stats"
         ]
      },
      {
         "cell_type": "code",
         "execution_count": 217,
         "metadata": {},
         "outputs": [
            {
               "data": {
                  "image/png": "[encoded data removed]",
                  "text/plain": [
                     "<Figure size 3000x2000 with 10 Axes>"
                  ]
               },
               "metadata": {},
               "output_type": "display_data"
            }
         ],
         "source": [
            "if use_symbols:\n",
            "    data, targets = datasets[0].data[:-1]\n",
            "    s = 50\n",
            "    fig, axs = plt.subplots(1, 5, figsize=(30, 20))\n",
            "    for i, ax in enumerate(axs):\n",
            "        if not data_config[\"common_input\"]:\n",
            "            ax.imshow(data[i + s][-1].reshape(120, 60))\n",
            "            ax.set_title(targets[i + s].data.numpy())\n",
            "        else:\n",
            "            ax.imshow(data[i + s][-1].reshape(60, 60))\n",
            "            ax.set_title(targets[i + s].data.numpy())\n",
            "else:\n",
            "    s = 0\n",
            "    data, targets = next(iter(loaders[1]))\n",
            "    fig, axs = plt.subplots(1, 10, figsize=(30, 20))\n",
            "    for i, ax in enumerate(axs):\n",
            "        if data_config[\"data_type\"] in [\"double_d\", \"double_l\", \"multi\"]:\n",
            "            ax.imshow(data[i + s].reshape(2 * 28, 28))\n",
            "            ax.set_title(targets[i + s].data.numpy())\n",
            "        else:\n",
            "            ax.imshow(data[i + s].reshape(28, 28))\n",
            "            ax.set_title(targets[i + s].data.numpy())"
         ]
      },
      {
         "cell_type": "code",
         "execution_count": null,
         "metadata": {},
         "outputs": [
            {
               "data": {
                  "image/png": "[encoded data removed]",
                  "text/plain": [
                     "<Figure size 640x480 with 4 Axes>"
                  ]
               },
               "metadata": {},
               "output_type": "display_data"
            }
         ],
         "source": [
            "from itertools import product\n",
            "pairs = torch.tensor(list(product(torch.arange(n_classes_per_digit), repeat=2)), dtype=int)\n",
            "fig, axs = plt.subplots(2, 2)\n",
            "n_bits = int(np.log2(n_classes_per_digit))\n",
            "for task, ax in zip(['bitxor'] + [f\"bitxor-last-{i}\" for i in range(1, n_bits)], axs.flatten()) : \n",
            "    xor = get_task_target(pairs, task, n_classes_per_digit).reshape(n_classes_per_digit, n_classes_per_digit)\n",
            "    ax.imshow(xor)"
         ]
      },
      {
         "cell_type": "code",
         "execution_count": 218,
         "metadata": {},
         "outputs": [
            {
               "name": "stdout",
               "output_type": "stream",
               "text": [
                  "(tensor([0, 1, 2, 3, 4, 5, 6, 7]), tensor([11846, 13484, 11916, 12262, 11684, 10842, 11836, 12530]))\n",
                  "(tensor([0, 1, 2, 3, 4, 5, 6, 7]), tensor([6036, 6030, 5968, 6028, 5965, 6021, 6135, 6017]))\n",
                  "[tensor(5923), tensor(5923)]\n"
               ]
            }
         ],
         "source": [
            "all_targets = datasets[0].data[1]\n",
            "print(all_targets.unique(return_counts=True))\n",
            "task = \"bitxor\"\n",
            "t_targets = get_task_target(all_targets, task, n_classes_per_digit)\n",
            "print(t_targets.unique(return_counts=True))\n",
            "print([(t_targets == t).sum() for t in all_targets.T])"
         ]
      },
      {
         "cell_type": "code",
         "execution_count": 11,
         "metadata": {},
         "outputs": [],
         "source": [
            "if False:\n",
            "\n",
            "    task = \"parity-equal\"\n",
            "\n",
            "    uniques, unique_counts = all_targets.unique(dim=0, return_counts=True)\n",
            "    task_t = get_task_target(all_targets, task, n_classes_per_digit)\n",
            "    task_t.unique(dim=0, return_counts=True), (all_targets[:, 0] == task_t).unique(\n",
            "        dim=0, return_counts=True\n",
            "    ), (all_targets[:, 1] == task_t).unique(dim=0, return_counts=True)\n",
            "    digits_in = lambda d1, d2: (torch.tensor([d1, d2]) == uniques).all(1).any()\n",
            "    digits_idx = (\n",
            "        lambda d1, d2: (torch.tensor([d1, d2]) == uniques).all(1).float().argmax()\n",
            "    )\n",
            "    counts = np.zeros((n_classes_per_digit + 1, n_classes_per_digit + 1))\n",
            "    targets = np.zeros((n_classes_per_digit + 1, n_classes_per_digit + 1), dtype=object)\n",
            "\n",
            "    for d1 in range(n_classes_per_digit):\n",
            "        counts[d1, -1] = (\n",
            "            (all_targets[:, 0] == task_t)[all_targets[:, 0] == d1]\n",
            "        ).sum()  # unique_counts[(uniques == d1)[:, 0]].sum()\n",
            "        targets[d1, -1] = str(counts[d1, -1])\n",
            "        for d2 in range(n_classes_per_digit):\n",
            "            if digits_in(d1, d2):\n",
            "                counts[d1, d2] = unique_counts[digits_idx(d1, d2)]\n",
            "                targets[\n",
            "                    d1, d2\n",
            "                ] = f\"{get_task_target(uniques, task, n_classes_per_digit)[digits_idx(d1, d2)].cpu().data.item()} | {unique_counts[digits_idx(d1, d2)]}\"\n",
            "            else:\n",
            "                counts[d1, d2] = -0.1\n",
            "                targets[d1, d2] = \"X\"\n",
            "            counts[-1, d2] = (\n",
            "                (all_targets[:, 1] == task_t)[all_targets[:, 1] == d2]\n",
            "            ).sum()  # unique_counts[(uniques == d2)[:, 1]].sum()\n",
            "            targets[-1, d2] = str(counts[-1, d2])\n",
            "\n",
            "    counts[-1, -1] = unique_counts.sum().cpu().data.item()\n",
            "    targets[-1, -1] = str(\n",
            "        f\"D0 : {(all_targets[:, 0] == task_t).unique(dim=0, return_counts=True)[1][1]} \\n\"\n",
            "        + f\"D1 : {(all_targets[:, 1] == task_t).unique(dim=0, return_counts=True)[1][1]}\"\n",
            "    )\n",
            "\n",
            "    plt.figure(figsize=(10, 10), dpi=100)\n",
            "    ax = sns.heatmap(\n",
            "        counts, cmap=\"inferno\", annot=targets, annot_kws={\"fontsize\": 8}, fmt=\"s\"\n",
            "    )\n",
            "    ax.set_title(\"Number of examples and global targets\")\n",
            "\n",
            "    ax.set_xlabel(\"Digit received by Agent 1\")\n",
            "    ax.set_ylabel(\"Digit received by Agent 0\")\n",
            "    ax.set_xticklabels([str(i) for i in range(n_classes_per_digit)] + [\"dig=global\"])\n",
            "    ax.set_yticklabels([str(i) for i in range(n_classes_per_digit)] + [\"dig=global\"])\n",
            "\n",
            "    plt.show()"
         ]
      },
      {
         "cell_type": "markdown",
         "metadata": {},
         "source": [
            "## Init"
         ]
      },
      {
         "cell_type": "code",
         "execution_count": 219,
         "metadata": {},
         "outputs": [],
         "source": [
            "from community.funcspec.single_model_loop import (\n",
            "    init_and_train,\n",
            "    train_and_compute_metrics,\n",
            "    train_community,\n",
            "    init_community,\n",
            "    init_optimizers,\n",
            ")\n",
            "from community.common.models.ensembles import Community\n",
            "from community.data.process import process_data\n",
            "from community.utils.configs import get_training_dict,configure_readouts, configure_single_readout\n",
            "import yaml\n",
            "from yaml.loader import SafeLoader\n",
            "\n",
            "with open(\"../../latest_config.yml\", \"r\") as config_file:\n",
            "    config = yaml.load(config_file, SafeLoader)"
         ]
      },
      {
         "cell_type": "markdown",
         "metadata": {},
         "source": [
            "try shared goals with sum\n",
            "\n",
            "Implement a task str-parsing function"
         ]
      },
      {
         "cell_type": "code",
         "execution_count": 220,
         "metadata": {},
         "outputs": [
            {
               "name": "stdout",
               "output_type": "stream",
               "text": [
                  "Training 2 agents of size 10 on task all using separate readout and decision ['last', 'both'], with 0.0 connections and [8, 8] outputs\n"
               ]
            }
         ],
         "source": [
            "with open(\"../../latest_config.yml\", \"r\") as config_file:\n",
            "    config = yaml.load(config_file, SafeLoader)\n",
            "\n",
            "# task = config[\"task\"] = [ str(i) for i in range(n_agents)]  # \"family\"  # [[str(i), str((i+1)%3)] for i in range(3)]\n",
            "# task = config[\"task\"] = [['0', '1'], ['1', '2'], ['0', '2']] #\"both\"\n",
            "\n",
            "config[\"datasets\"] = data_config\n",
            "\n",
            "#task = config[\"task\"] = [\"bitxor\", 'bitxor-last-2', 'bitxor-last-1', 'bitxor-first-2', 'bitxor-first-1']\n",
            "#task =  config[\"task\"] = ['parity', '0', '1']\n",
            "task = config['task'] = 'all'\n",
            "\n",
            "config[\"model\"][\"agents\"][\"n_in\"] = data_config[\"input_size\"] ** 2 * (\n",
            "    1 + data_config[\"common_input\"] * (1 - use_symbols)\n",
            ")\n",
            "\n",
            "n_hidden = config[\"model\"][\"agents\"][\"n_hidden\"] = 10\n",
            "config[\"model\"][\"agents\"][\"n_bot\"] = 5\n",
            "\n",
            "config[\"model\"][\"n_agents\"] = n_agents\n",
            "\n",
            "common_readout = config[\"model\"]['readout'][\"common_readout\"] = False\n",
            "config[\"model\"]['readout'][\"n_hid\"] = 30\n",
            "config['model']['readout']['readout_from'] = None \n",
            "\n",
            "readout_config = configure_readouts(config)\n",
            "config['model']['readout'].update(readout_config)\n",
            "\n",
            "sparsity = config[\"model\"][\"connections\"][\"sparsity\"] = 0 / n_hidden**2  # .005\n",
            "config[\"model\"][\"connections\"][\"comms_out_scale\"] = 1\n",
            "config[\"model\"][\"connections\"][\"comms_start\"] = \"start\"\n",
            "config[\"model\"][\"connections\"][\"binarize\"] = False\n",
            "\n",
            "\n",
            "decision = config[\"training\"][\"decision\"] = [\n",
            "    \"last\",\n",
            "    \"both\" if common_readout else \"both\",\n",
            "]\n",
            "\n",
            "n_epochs = config[\"training\"][\"n_epochs\"] = 15\n",
            "\n",
            "print(\n",
            "    f'Training {n_agents} agents of size {n_hidden} on task {task} using {\"common\"*common_readout + \"separate\"*(1-common_readout)} readout and decision {decision}, with {sparsity * n_hidden**2} connections and { config[\"model\"][\"readout\"][\"n_out\"] } outputs'\n",
            ")"
         ]
      },
      {
         "cell_type": "code",
         "execution_count": 221,
         "metadata": {},
         "outputs": [],
         "source": [
            "#config['model']['agents']['n_readouts'] = 3"
         ]
      },
      {
         "cell_type": "code",
         "execution_count": 226,
         "metadata": {},
         "outputs": [
            {
               "data": {
                  "text/plain": [
                     "{}"
                  ]
               },
               "execution_count": 226,
               "metadata": {},
               "output_type": "execute_result"
            }
         ],
         "source": [
            "community = init_community(config[\"model\"], device=device)\n",
            "\n",
            "reg_readout = 0\n",
            "\n",
            "if not reg_readout:\n",
            "    optimizer = torch.optim.Adam(community.parameters(), lr=1e-3)\n",
            "\n",
            "else:\n",
            "    optimizer = torch.optim.AdamW(\n",
            "        [p for n, p in community.named_parameters() if \"readout\" not in n], lr=1e-3\n",
            "    )\n",
            "    optimizer.add_param_group(\n",
            "        {\n",
            "            \"params\": [p for n, p in community.named_parameters() if \"readout\" in n],\n",
            "            \"lr\": 1e-3,\n",
            "            \"weight_decay\": reg_readout,\n",
            "        }\n",
            "    )\n",
            "\n",
            "config[\"use_tqdm\"] = True\n",
            "community.nb_connections\n"
         ]
      },
      {
         "cell_type": "code",
         "execution_count": 228,
         "metadata": {},
         "outputs": [],
         "source": [
            "for n, p in community.named_parameters() : \n",
            "    if 'agents.0' in n : \n",
            "        p.requires_grad = False"
         ]
      },
      {
         "cell_type": "code",
         "execution_count": 229,
         "metadata": {},
         "outputs": [
            {
               "name": "stdout",
               "output_type": "stream",
               "text": [
                  "torch.Size([3, 2, 2, 256, 8]) torch.Size([2, 3])\n"
               ]
            }
         ],
         "source": [
            "data, target = next(iter(loaders[0]))\n",
            "data, target = process_data(\n",
            "    data,\n",
            "    target,\n",
            "    symbols=use_symbols,\n",
            "    task=task,\n",
            "    n_steps=3,\n",
            "    common_input=config[\"datasets\"][\"common_input\"],\n",
            ")\n",
            "data, target = data.to(device), target.to(device)\n",
            "\n",
            "out, states, ag_outs, fconns = community(data)\n",
            "\n",
            "try : \n",
            "    print(out.shape, fconns.shape)\n",
            "except AttributeError : \n",
            "    print(nested_shape(out))\n",
            "#print(data.shape)"
         ]
      },
      {
         "cell_type": "markdown",
         "metadata": {},
         "source": [
            "## Training"
         ]
      },
      {
         "cell_type": "code",
         "execution_count": 230,
         "metadata": {},
         "outputs": [
            {
               "data": {
                  "application/vnd.jupyter.widget-view+json": {
                     "model_id": "bab57685f03447b28e4512c0beddf286",
                     "version_major": 2,
                     "version_minor": 0
                  },
                  "text/plain": [
                     "Train Epoch::   0%|          | 0/10 [00:00<?, ?it/s]"
                  ]
               },
               "metadata": {},
               "output_type": "display_data"
            },
            {
               "ename": "KeyboardInterrupt",
               "evalue": "",
               "output_type": "error",
               "traceback": [
                  "\u001b[0;31m---------------------------------------------------------------------------\u001b[0m",
                  "\u001b[0;31mKeyError\u001b[0m                                  Traceback (most recent call last)",
                  "Cell \u001b[0;32mIn[230], line 23\u001b[0m\n\u001b[1;32m     22\u001b[0m saved_results \u001b[39m=\u001b[39m torch\u001b[39m.\u001b[39mload(\u001b[39m\"\u001b[39m\u001b[39msaves/results\u001b[39m\u001b[39m\"\u001b[39m)\n\u001b[0;32m---> 23\u001b[0m train_results \u001b[39m=\u001b[39m saved_results[\u001b[39mstr\u001b[39;49m(config)]\n\u001b[1;32m     25\u001b[0m \u001b[39mif\u001b[39;00m model_load:\n",
                  "\u001b[0;31mKeyError\u001b[0m: '{\\'data_regen\\': False, \\'datasets\\': {\\'batch_size\\': 256, \\'data_sizes\\': None, \\'input_size\\': 28, \\'common_input\\': False, \\'use_cuda\\': False, \\'fix_asym\\': False, \\'permute_dataset\\': True, \\'seed\\': 21, \\'data_type\\': \\'double_d\\', \\'n_digits\\': 2, \\'n_classes\\': 16, \\'n_classes_per_digit\\': 8, \\'symbol_config\\': {}, \\'split_classes\\': True, \\'nb_steps\\': 3}, \\'debug_run\\': True, \\'metrics\\': {\\'chosen_timesteps\\': [\\'mid-\\', \\'last\\']}, \\'metrics_only\\': False, \\'model\\': {\\'agents\\': {\\'ag_dropout\\': 0.0, \\'cell_type\\': \"<class \\'torch.nn.modules.rnn.RNN\\'>\", \\'n_bot\\': 5, \\'n_hidden\\': 10, \\'n_in\\': 784, \\'n_layers\\': 1, \\'train_in_out\\': [True, True]}, \\'connections\\': {\\'binarize\\': False, \\'comms_dropout\\': 0.0, \\'comms_out_scale\\': 1, \\'comms_start\\': \\'start\\', \\'global_rewire\\': False, \\'sparsity\\': 0.0, \\'use_deepR\\': False}, \\'n_agents\\': 2, \\'readout\\': {\\'common_readout\\': False, \\'n_hid\\': 30, \\'readout_from\\': None, \\'n_readouts\\': 2, \\'n_out\\': [8, 8]}}, \\'n_tests\\': 1, \\'optimization\\': {\\'agents\\': {\\'gamma\\': 0.95, \\'lr\\': 0.001, \\'reg_readout\\': None}, \\'connections\\': {\\'cooling\\': 0.95, \\'gamma\\': 0.95, \\'gdnoise\\': 0.001, \\'global_rewire\\': False, \\'l1\\': 1e-05, \\'lr\\': 0.001}}, \\'task\\': \\'all\\', \\'training\\': {\\'decision\\': [\\'last\\', \\'both\\'], \\'early_stop\\': False, \\'force_connections\\': False, \\'inverse_task\\': False, \\'n_epochs\\': 15, \\'stopping_acc\\': 0.95}, \\'use_tqdm\\': True, \\'varying_params_local\\': {}, \\'varying_params_sweep\\': {}}'",
                  "\nDuring handling of the above exception, another exception occurred:\n",
                  "\u001b[0;31mKeyboardInterrupt\u001b[0m                         Traceback (most recent call last)",
                  "Cell \u001b[0;32mIn[230], line 45\u001b[0m\n\u001b[1;32m     42\u001b[0m         torch\u001b[39m.\u001b[39msave(saved_results, \u001b[39m\"\u001b[39m\u001b[39msaves/resuls\u001b[39m\u001b[39m\"\u001b[39m)\n\u001b[1;32m     44\u001b[0m \u001b[39mexcept\u001b[39;00m (\u001b[39mKeyError\u001b[39;00m, \u001b[39mRuntimeError\u001b[39;00m) \u001b[39mas\u001b[39;00m e:\n\u001b[0;32m---> 45\u001b[0m     train_results \u001b[39m=\u001b[39m train()\n\u001b[1;32m     46\u001b[0m     saved_results[\u001b[39mstr\u001b[39m(config)] \u001b[39m=\u001b[39m train_results\n\u001b[1;32m     47\u001b[0m     \u001b[39mif\u001b[39;00m model_save:\n",
                  "Cell \u001b[0;32mIn[230], line 10\u001b[0m, in \u001b[0;36mtrain\u001b[0;34m(community, optimizers, n_epochs, test)\u001b[0m\n\u001b[1;32m      7\u001b[0m \u001b[39mdef\u001b[39;00m \u001b[39mtrain\u001b[39m(\n\u001b[1;32m      8\u001b[0m     community\u001b[39m=\u001b[39mcommunity, optimizers\u001b[39m=\u001b[39m[optimizer, \u001b[39mNone\u001b[39;00m], n_epochs\u001b[39m=\u001b[39mn_epochs, test\u001b[39m=\u001b[39m\u001b[39mFalse\u001b[39;00m\n\u001b[1;32m      9\u001b[0m ):\n\u001b[0;32m---> 10\u001b[0m     \u001b[39mreturn\u001b[39;00m train_community(\n\u001b[1;32m     11\u001b[0m         community,\n\u001b[1;32m     12\u001b[0m         \u001b[39m*\u001b[39;49mloaders,\n\u001b[1;32m     13\u001b[0m         optimizers\u001b[39m=\u001b[39;49moptimizers,\n\u001b[1;32m     14\u001b[0m         config\u001b[39m=\u001b[39;49mget_training_dict(config),\n\u001b[1;32m     15\u001b[0m         n_epochs\u001b[39m=\u001b[39;49mn_epochs \u001b[39mif\u001b[39;49;00m \u001b[39mnot\u001b[39;49;00m test \u001b[39melse\u001b[39;49;00m \u001b[39m1\u001b[39;49m,\n\u001b[1;32m     16\u001b[0m         trials\u001b[39m=\u001b[39;49m(\u001b[39mnot\u001b[39;49;00m test, \u001b[39mTrue\u001b[39;49;00m),\n\u001b[1;32m     17\u001b[0m         show_all_acc\u001b[39m=\u001b[39;49m\u001b[39mTrue\u001b[39;49;00m,\n\u001b[1;32m     18\u001b[0m         use_tqdm\u001b[39m=\u001b[39;49m\u001b[39mnot\u001b[39;49;00m test,\n\u001b[1;32m     19\u001b[0m         device\u001b[39m=\u001b[39;49mdevice\n\u001b[1;32m     20\u001b[0m     )\n",
                  "File \u001b[0;32m~/Code/ANNs/community-of-agents/community/common/training.py:250\u001b[0m, in \u001b[0;36mtrain_community\u001b[0;34m(model, train_loader, test_loader, optimizers, schedulers, config, n_epochs, trials, joint_training, use_tqdm, device, show_all_acc)\u001b[0m\n\u001b[1;32m    247\u001b[0m \u001b[39mif\u001b[39;00m training:\n\u001b[1;32m    249\u001b[0m     model\u001b[39m.\u001b[39mtrain()\n\u001b[0;32m--> 250\u001b[0m     \u001b[39mfor\u001b[39;00m batch_idx, (data, target) \u001b[39min\u001b[39;00m \u001b[39menumerate\u001b[39m(train_loader):\n\u001b[1;32m    252\u001b[0m         \u001b[39mif\u001b[39;00m \u001b[39mtype\u001b[39m(data) \u001b[39mis\u001b[39;00m \u001b[39mlist\u001b[39m:\n\u001b[1;32m    253\u001b[0m             data, target \u001b[39m=\u001b[39m [d\u001b[39m.\u001b[39mto(device) \u001b[39mfor\u001b[39;00m d \u001b[39min\u001b[39;00m data], target\u001b[39m.\u001b[39mto(device)\n",
                  "File \u001b[0;32m~/.conda/envs/community/lib/python3.10/site-packages/torch/utils/data/dataloader.py:635\u001b[0m, in \u001b[0;36m_BaseDataLoaderIter.__next__\u001b[0;34m(self)\u001b[0m\n\u001b[1;32m    632\u001b[0m \u001b[39mif\u001b[39;00m \u001b[39mself\u001b[39m\u001b[39m.\u001b[39m_sampler_iter \u001b[39mis\u001b[39;00m \u001b[39mNone\u001b[39;00m:\n\u001b[1;32m    633\u001b[0m     \u001b[39m# TODO(https://github.com/pytorch/pytorch/issues/76750)\u001b[39;00m\n\u001b[1;32m    634\u001b[0m     \u001b[39mself\u001b[39m\u001b[39m.\u001b[39m_reset()  \u001b[39m# type: ignore[call-arg]\u001b[39;00m\n\u001b[0;32m--> 635\u001b[0m data \u001b[39m=\u001b[39m \u001b[39mself\u001b[39;49m\u001b[39m.\u001b[39;49m_next_data()\n\u001b[1;32m    636\u001b[0m \u001b[39mself\u001b[39m\u001b[39m.\u001b[39m_num_yielded \u001b[39m+\u001b[39m\u001b[39m=\u001b[39m \u001b[39m1\u001b[39m\n\u001b[1;32m    637\u001b[0m \u001b[39mif\u001b[39;00m \u001b[39mself\u001b[39m\u001b[39m.\u001b[39m_dataset_kind \u001b[39m==\u001b[39m _DatasetKind\u001b[39m.\u001b[39mIterable \u001b[39mand\u001b[39;00m \\\n\u001b[1;32m    638\u001b[0m         \u001b[39mself\u001b[39m\u001b[39m.\u001b[39m_IterableDataset_len_called \u001b[39mis\u001b[39;00m \u001b[39mnot\u001b[39;00m \u001b[39mNone\u001b[39;00m \u001b[39mand\u001b[39;00m \\\n\u001b[1;32m    639\u001b[0m         \u001b[39mself\u001b[39m\u001b[39m.\u001b[39m_num_yielded \u001b[39m>\u001b[39m \u001b[39mself\u001b[39m\u001b[39m.\u001b[39m_IterableDataset_len_called:\n",
                  "File \u001b[0;32m~/.conda/envs/community/lib/python3.10/site-packages/torch/utils/data/dataloader.py:679\u001b[0m, in \u001b[0;36m_SingleProcessDataLoaderIter._next_data\u001b[0;34m(self)\u001b[0m\n\u001b[1;32m    677\u001b[0m \u001b[39mdef\u001b[39;00m \u001b[39m_next_data\u001b[39m(\u001b[39mself\u001b[39m):\n\u001b[1;32m    678\u001b[0m     index \u001b[39m=\u001b[39m \u001b[39mself\u001b[39m\u001b[39m.\u001b[39m_next_index()  \u001b[39m# may raise StopIteration\u001b[39;00m\n\u001b[0;32m--> 679\u001b[0m     data \u001b[39m=\u001b[39m \u001b[39mself\u001b[39;49m\u001b[39m.\u001b[39;49m_dataset_fetcher\u001b[39m.\u001b[39;49mfetch(index)  \u001b[39m# may raise StopIteration\u001b[39;00m\n\u001b[1;32m    680\u001b[0m     \u001b[39mif\u001b[39;00m \u001b[39mself\u001b[39m\u001b[39m.\u001b[39m_pin_memory:\n\u001b[1;32m    681\u001b[0m         data \u001b[39m=\u001b[39m _utils\u001b[39m.\u001b[39mpin_memory\u001b[39m.\u001b[39mpin_memory(data, \u001b[39mself\u001b[39m\u001b[39m.\u001b[39m_pin_memory_device)\n",
                  "File \u001b[0;32m~/.conda/envs/community/lib/python3.10/site-packages/torch/utils/data/_utils/fetch.py:58\u001b[0m, in \u001b[0;36m_MapDatasetFetcher.fetch\u001b[0;34m(self, possibly_batched_index)\u001b[0m\n\u001b[1;32m     56\u001b[0m         data \u001b[39m=\u001b[39m \u001b[39mself\u001b[39m\u001b[39m.\u001b[39mdataset\u001b[39m.\u001b[39m__getitems__(possibly_batched_index)\n\u001b[1;32m     57\u001b[0m     \u001b[39melse\u001b[39;00m:\n\u001b[0;32m---> 58\u001b[0m         data \u001b[39m=\u001b[39m [\u001b[39mself\u001b[39m\u001b[39m.\u001b[39mdataset[idx] \u001b[39mfor\u001b[39;00m idx \u001b[39min\u001b[39;00m possibly_batched_index]\n\u001b[1;32m     59\u001b[0m \u001b[39melse\u001b[39;00m:\n\u001b[1;32m     60\u001b[0m     data \u001b[39m=\u001b[39m \u001b[39mself\u001b[39m\u001b[39m.\u001b[39mdataset[possibly_batched_index]\n",
                  "File \u001b[0;32m~/.conda/envs/community/lib/python3.10/site-packages/torch/utils/data/_utils/fetch.py:58\u001b[0m, in \u001b[0;36m<listcomp>\u001b[0;34m(.0)\u001b[0m\n\u001b[1;32m     56\u001b[0m         data \u001b[39m=\u001b[39m \u001b[39mself\u001b[39m\u001b[39m.\u001b[39mdataset\u001b[39m.\u001b[39m__getitems__(possibly_batched_index)\n\u001b[1;32m     57\u001b[0m     \u001b[39melse\u001b[39;00m:\n\u001b[0;32m---> 58\u001b[0m         data \u001b[39m=\u001b[39m [\u001b[39mself\u001b[39;49m\u001b[39m.\u001b[39;49mdataset[idx] \u001b[39mfor\u001b[39;00m idx \u001b[39min\u001b[39;00m possibly_batched_index]\n\u001b[1;32m     59\u001b[0m \u001b[39melse\u001b[39;00m:\n\u001b[1;32m     60\u001b[0m     data \u001b[39m=\u001b[39m \u001b[39mself\u001b[39m\u001b[39m.\u001b[39mdataset[possibly_batched_index]\n",
                  "File \u001b[0;32m~/Code/ANNs/community-of-agents/community/data/datasets/mnist.py:241\u001b[0m, in \u001b[0;36mDoubleMNIST.__getitem__\u001b[0;34m(self, index)\u001b[0m\n\u001b[1;32m    238\u001b[0m index_2 \u001b[39m=\u001b[39m \u001b[39mself\u001b[39m\u001b[39m.\u001b[39msecondary_index[index_1]\n\u001b[1;32m    240\u001b[0m digit_1, target_1 \u001b[39m=\u001b[39m \u001b[39mself\u001b[39m\u001b[39m.\u001b[39mmnist_dataset[index_1]\n\u001b[0;32m--> 241\u001b[0m digit_2, target_2 \u001b[39m=\u001b[39m \u001b[39mself\u001b[39;49m\u001b[39m.\u001b[39;49mmnist_dataset[index_2]\n\u001b[1;32m    243\u001b[0m \u001b[39mif\u001b[39;00m \u001b[39mself\u001b[39m\u001b[39m.\u001b[39mpermute:\n\u001b[1;32m    244\u001b[0m     target_1, target_2 \u001b[39m=\u001b[39m \u001b[39mself\u001b[39m\u001b[39m.\u001b[39mpermutation[target_1], \u001b[39mself\u001b[39m\u001b[39m.\u001b[39mpermutation[target_2]\n",
                  "File \u001b[0;32m~/Code/ANNs/community-of-agents/community/data/datasets/mnist.py:93\u001b[0m, in \u001b[0;36mCustom_MNIST.__getitem__\u001b[0;34m(self, index, get_all)\u001b[0m\n\u001b[1;32m     91\u001b[0m img \u001b[39m=\u001b[39m Image\u001b[39m.\u001b[39mfromarray(img\u001b[39m.\u001b[39mnumpy(), mode\u001b[39m=\u001b[39m\u001b[39m\"\u001b[39m\u001b[39mL\u001b[39m\u001b[39m\"\u001b[39m)\n\u001b[1;32m     92\u001b[0m \u001b[39mif\u001b[39;00m \u001b[39mself\u001b[39m\u001b[39m.\u001b[39mtransform \u001b[39mis\u001b[39;00m \u001b[39mnot\u001b[39;00m \u001b[39mNone\u001b[39;00m:\n\u001b[0;32m---> 93\u001b[0m     img \u001b[39m=\u001b[39m \u001b[39mself\u001b[39;49m\u001b[39m.\u001b[39;49mtransform(img)\n\u001b[1;32m     94\u001b[0m \u001b[39mif\u001b[39;00m \u001b[39mself\u001b[39m\u001b[39m.\u001b[39mtarget_transform \u001b[39mis\u001b[39;00m \u001b[39mnot\u001b[39;00m \u001b[39mNone\u001b[39;00m:\n\u001b[1;32m     95\u001b[0m     target \u001b[39m=\u001b[39m \u001b[39mself\u001b[39m\u001b[39m.\u001b[39mtarget_transform(target)\n",
                  "File \u001b[0;32m~/.conda/envs/community/lib/python3.10/site-packages/torchvision/transforms/transforms.py:95\u001b[0m, in \u001b[0;36mCompose.__call__\u001b[0;34m(self, img)\u001b[0m\n\u001b[1;32m     93\u001b[0m \u001b[39mdef\u001b[39;00m \u001b[39m__call__\u001b[39m(\u001b[39mself\u001b[39m, img):\n\u001b[1;32m     94\u001b[0m     \u001b[39mfor\u001b[39;00m t \u001b[39min\u001b[39;00m \u001b[39mself\u001b[39m\u001b[39m.\u001b[39mtransforms:\n\u001b[0;32m---> 95\u001b[0m         img \u001b[39m=\u001b[39m t(img)\n\u001b[1;32m     96\u001b[0m     \u001b[39mreturn\u001b[39;00m img\n",
                  "File \u001b[0;32m~/.conda/envs/community/lib/python3.10/site-packages/torch/nn/modules/module.py:1488\u001b[0m, in \u001b[0;36mModule._call_impl\u001b[0;34m(self, *args, **kwargs)\u001b[0m\n\u001b[1;32m   1483\u001b[0m \u001b[39m# If we don't have any hooks, we want to skip the rest of the logic in\u001b[39;00m\n\u001b[1;32m   1484\u001b[0m \u001b[39m# this function, and just call forward.\u001b[39;00m\n\u001b[1;32m   1485\u001b[0m \u001b[39mif\u001b[39;00m \u001b[39mnot\u001b[39;00m (\u001b[39mself\u001b[39m\u001b[39m.\u001b[39m_backward_hooks \u001b[39mor\u001b[39;00m \u001b[39mself\u001b[39m\u001b[39m.\u001b[39m_backward_pre_hooks \u001b[39mor\u001b[39;00m \u001b[39mself\u001b[39m\u001b[39m.\u001b[39m_forward_hooks \u001b[39mor\u001b[39;00m \u001b[39mself\u001b[39m\u001b[39m.\u001b[39m_forward_pre_hooks\n\u001b[1;32m   1486\u001b[0m         \u001b[39mor\u001b[39;00m _global_backward_pre_hooks \u001b[39mor\u001b[39;00m _global_backward_hooks\n\u001b[1;32m   1487\u001b[0m         \u001b[39mor\u001b[39;00m _global_forward_hooks \u001b[39mor\u001b[39;00m _global_forward_pre_hooks):\n\u001b[0;32m-> 1488\u001b[0m     \u001b[39mreturn\u001b[39;00m forward_call(\u001b[39m*\u001b[39;49margs, \u001b[39m*\u001b[39;49m\u001b[39m*\u001b[39;49mkwargs)\n\u001b[1;32m   1489\u001b[0m \u001b[39m# Do not call functions when jit is used\u001b[39;00m\n\u001b[1;32m   1490\u001b[0m full_backward_hooks, non_full_backward_hooks \u001b[39m=\u001b[39m [], []\n",
                  "File \u001b[0;32m~/.conda/envs/community/lib/python3.10/site-packages/torchvision/transforms/transforms.py:262\u001b[0m, in \u001b[0;36mNormalize.forward\u001b[0;34m(self, tensor)\u001b[0m\n\u001b[1;32m    259\u001b[0m     \u001b[39mself\u001b[39m\u001b[39m.\u001b[39mstd \u001b[39m=\u001b[39m std\n\u001b[1;32m    260\u001b[0m     \u001b[39mself\u001b[39m\u001b[39m.\u001b[39minplace \u001b[39m=\u001b[39m inplace\n\u001b[0;32m--> 262\u001b[0m \u001b[39mdef\u001b[39;00m \u001b[39mforward\u001b[39m(\u001b[39mself\u001b[39m, tensor: Tensor) \u001b[39m-\u001b[39m\u001b[39m>\u001b[39m Tensor:\n\u001b[1;32m    263\u001b[0m     \u001b[39m\"\"\"\u001b[39;00m\n\u001b[1;32m    264\u001b[0m \u001b[39m    Args:\u001b[39;00m\n\u001b[1;32m    265\u001b[0m \u001b[39m        tensor (Tensor): Tensor image to be normalized.\u001b[39;00m\n\u001b[0;32m   (...)\u001b[0m\n\u001b[1;32m    268\u001b[0m \u001b[39m        Tensor: Normalized Tensor image.\u001b[39;00m\n\u001b[1;32m    269\u001b[0m \u001b[39m    \"\"\"\u001b[39;00m\n\u001b[1;32m    270\u001b[0m     \u001b[39mreturn\u001b[39;00m F\u001b[39m.\u001b[39mnormalize(tensor, \u001b[39mself\u001b[39m\u001b[39m.\u001b[39mmean, \u001b[39mself\u001b[39m\u001b[39m.\u001b[39mstd, \u001b[39mself\u001b[39m\u001b[39m.\u001b[39minplace)\n",
                  "\u001b[0;31mKeyboardInterrupt\u001b[0m: "
               ]
            }
         ],
         "source": [
            "model_load = False\n",
            "model_save = True\n",
            "\n",
            "n_epochs = 10\n",
            "community.to(device)\n",
            "\n",
            "def train(\n",
            "    community=community, optimizers=[optimizer, None], n_epochs=n_epochs, test=False\n",
            "):\n",
            "    return train_community(\n",
            "        community,\n",
            "        *loaders,\n",
            "        optimizers=optimizers,\n",
            "        config=get_training_dict(config),\n",
            "        n_epochs=n_epochs if not test else 1,\n",
            "        trials=(not test, True),\n",
            "        show_all_acc=True,\n",
            "        use_tqdm=not test,\n",
            "        device=device\n",
            "    )\n",
            "try:\n",
            "    saved_results = torch.load(\"saves/results\")\n",
            "    train_results = saved_results[str(config)]\n",
            "\n",
            "    if model_load:\n",
            "        community.load_state_dict(train_results[\"best_state\"])\n",
            "    else:\n",
            "        train_results = train()\n",
            "\n",
            "    if model_save:\n",
            "        saved_results[str(config)] = train_results\n",
            "        torch.save(saved_results, \"saves/results\")\n",
            "\n",
            "except FileNotFoundError:\n",
            "    # config[\"task\"] = [str(i) for i in range(n_agents)]\n",
            "\n",
            "    train_results = train()\n",
            "\n",
            "    if model_save:\n",
            "        saved_results = {}\n",
            "        saved_results[str(config)] = train_results\n",
            "        torch.save(saved_results, \"saves/resuls\")\n",
            "\n",
            "except (KeyError, RuntimeError) as e:\n",
            "    train_results = train()\n",
            "    saved_results[str(config)] = train_results\n",
            "    if model_save:\n",
            "        torch.save(saved_results, \"saves/results\")\n",
            "\n",
            "testing_acc = train(test=True)[\"test_accs\"]\n",
            "print(f\"Test Acc : {testing_acc}\")"
         ]
      },
      {
         "cell_type": "code",
         "execution_count": 211,
         "metadata": {},
         "outputs": [
            {
               "data": {
                  "text/plain": [
                     "ModuleList(\n",
                     "  (0-1): 2 x Sequential(\n",
                     "    (0): Linear(in_features=5, out_features=30, bias=True)\n",
                     "    (1): ReLU()\n",
                     "    (2): Linear(in_features=30, out_features=8, bias=True)\n",
                     "  )\n",
                     ")"
                  ]
               },
               "execution_count": 211,
               "metadata": {},
               "output_type": "execute_result"
            }
         ],
         "source": [
            "community.agents[0].readout"
         ]
      },
      {
         "cell_type": "code",
         "execution_count": 1,
         "metadata": {},
         "outputs": [
            {
               "ename": "NameError",
               "evalue": "name 'plt' is not defined",
               "output_type": "error",
               "traceback": [
                  "\u001b[0;31m---------------------------------------------------------------------------\u001b[0m",
                  "\u001b[0;31mNameError\u001b[0m                                 Traceback (most recent call last)",
                  "Cell \u001b[0;32mIn[1], line 1\u001b[0m\n\u001b[0;32m----> 1\u001b[0m plt\u001b[39m.\u001b[39mplot(train_results[\u001b[39m\"\u001b[39m\u001b[39mtest_accs\u001b[39m\u001b[39m\"\u001b[39m])\n",
                  "\u001b[0;31mNameError\u001b[0m: name 'plt' is not defined"
               ]
            }
         ],
         "source": [
            "plt.plot(train_results[\"test_accs\"]);"
         ]
      },
      {
         "cell_type": "code",
         "execution_count": 19,
         "metadata": {},
         "outputs": [
            {
               "ename": "StopIteration",
               "evalue": "",
               "output_type": "error",
               "traceback": [
                  "\u001b[0;31m---------------------------------------------------------------------------\u001b[0m",
                  "\u001b[0;31mStopIteration\u001b[0m                             Traceback (most recent call last)",
                  "Cell \u001b[0;32mIn[19], line 1\u001b[0m\n\u001b[0;32m----> 1\u001b[0m \u001b[39mraise\u001b[39;00m \u001b[39mStopIteration\u001b[39;00m\n",
                  "\u001b[0;31mStopIteration\u001b[0m: "
               ]
            }
         ],
         "source": [
            "raise StopIteration"
         ]
      },
      {
         "cell_type": "code",
         "execution_count": null,
         "metadata": {},
         "outputs": [],
         "source": [
            "testing_acc = train(test=True)[\"test_accs\"]\n",
            "testing_acc"
         ]
      },
      {
         "attachments": {},
         "cell_type": "markdown",
         "metadata": {},
         "source": [
            "## Binary representations "
         ]
      },
      {
         "cell_type": "code",
         "execution_count": 161,
         "metadata": {},
         "outputs": [],
         "source": [
            "import torch.nn.functional as F\n",
            "def binary_conn(target):\n",
            "    encoding = [[] for _ in range(2)]\n",
            "    for ag in range(2) : \n",
            "        encoded_target = target[:, ag].clone().detach()\n",
            "        for d in range(n_bits - 1, -1, -1):\n",
            "            encoding[ag].append(torch.div(encoded_target, 2**d, rounding_mode=\"floor\"))\n",
            "            encoded_target -= (\n",
            "                torch.div(encoded_target, 2**d, rounding_mode=\"floor\") * 2**d\n",
            "            )\n",
            "    return torch.stack([torch.stack(e, -1) for e in encoding])"
         ]
      },
      {
         "attachments": {},
         "cell_type": "markdown",
         "metadata": {},
         "source": [
            "### Minimal model"
         ]
      },
      {
         "cell_type": "code",
         "execution_count": 191,
         "metadata": {},
         "outputs": [],
         "source": [
            "task = '0'\n",
            "\n",
            "n_epochs = 10\n",
            "if 'last' in task : \n",
            "    n_last = int(task.split('-')[-1])\n",
            "    n_out = 2 ** n_last\n",
            "else : \n",
            "    n_out = n_classes_per_digit\n",
            "\n",
            "n_out = 2*n_classes_per_digit\n",
            "\n",
            "n_in = 5\n",
            "\n",
            "minimal_model = nn.Sequential(nn.Linear(n_in, 30), nn.ReLU(), nn.Linear(30, n_out))\n",
            "#minimal_model = nn.Linear(n_in, n_out)\n",
            "optim = torch.optim.Adam(minimal_model.parameters(), lr=1e-2)"
         ]
      },
      {
         "cell_type": "code",
         "execution_count": 192,
         "metadata": {},
         "outputs": [
            {
               "data": {
                  "text/plain": [
                     "torch.Size([256, 15])"
                  ]
               },
               "execution_count": 192,
               "metadata": {},
               "output_type": "execute_result"
            }
         ],
         "source": [
            "minimal_input = torch.cat([ago[-1] for ago in ag_outs], -1)\n",
            "minimal_input.shape"
         ]
      },
      {
         "cell_type": "code",
         "execution_count": 193,
         "metadata": {},
         "outputs": [
            {
               "data": {
                  "application/vnd.jupyter.widget-view+json": {
                     "model_id": "e5a84d9ab5d44f01a06b615e41743130",
                     "version_major": 2,
                     "version_minor": 0
                  },
                  "text/plain": [
                     "Epochs :   0%|          | 0/10 [00:00<?, ?it/s]"
                  ]
               },
               "metadata": {},
               "output_type": "display_data"
            },
            {
               "ename": "KeyboardInterrupt",
               "evalue": "",
               "output_type": "error",
               "traceback": [
                  "\u001b[0;31m---------------------------------------------------------------------------\u001b[0m",
                  "\u001b[0;31mKeyboardInterrupt\u001b[0m                         Traceback (most recent call last)",
                  "Cell \u001b[0;32mIn[193], line 6\u001b[0m\n\u001b[1;32m      3\u001b[0m desc \u001b[39m=\u001b[39m np\u001b[39m.\u001b[39marray([\u001b[39m'\u001b[39m\u001b[39m'\u001b[39m, \u001b[39m'\u001b[39m\u001b[39m'\u001b[39m], dtype\u001b[39m=\u001b[39m\u001b[39mobject\u001b[39m)\n\u001b[1;32m      4\u001b[0m \u001b[39mfor\u001b[39;00m e \u001b[39min\u001b[39;00m pbar_e : \n\u001b[0;32m----> 6\u001b[0m     \u001b[39mfor\u001b[39;00m b, (data, target) \u001b[39min\u001b[39;00m \u001b[39menumerate\u001b[39m(loaders[\u001b[39m0\u001b[39m]): \n\u001b[1;32m      8\u001b[0m         data, target \u001b[39m=\u001b[39m process_data(\n\u001b[1;32m      9\u001b[0m             data,\n\u001b[1;32m     10\u001b[0m             target,\n\u001b[0;32m   (...)\u001b[0m\n\u001b[1;32m     14\u001b[0m             common_input\u001b[39m=\u001b[39mconfig[\u001b[39m\"\u001b[39m\u001b[39mdatasets\u001b[39m\u001b[39m\"\u001b[39m][\u001b[39m\"\u001b[39m\u001b[39mcommon_input\u001b[39m\u001b[39m\"\u001b[39m],\n\u001b[1;32m     15\u001b[0m         )\n\u001b[1;32m     17\u001b[0m         \u001b[39m#minimal_input = torch.cat([*binary_conn(target)], -1).float()\u001b[39;00m\n\u001b[1;32m     18\u001b[0m         \u001b[39m#minimal_input = torch.cat([minimal_input, torch.rand_like(minimal_input)], -1)\u001b[39;00m\n",
                  "File \u001b[0;32m~/.conda/envs/community/lib/python3.10/site-packages/torch/utils/data/dataloader.py:635\u001b[0m, in \u001b[0;36m_BaseDataLoaderIter.__next__\u001b[0;34m(self)\u001b[0m\n\u001b[1;32m    632\u001b[0m \u001b[39mif\u001b[39;00m \u001b[39mself\u001b[39m\u001b[39m.\u001b[39m_sampler_iter \u001b[39mis\u001b[39;00m \u001b[39mNone\u001b[39;00m:\n\u001b[1;32m    633\u001b[0m     \u001b[39m# TODO(https://github.com/pytorch/pytorch/issues/76750)\u001b[39;00m\n\u001b[1;32m    634\u001b[0m     \u001b[39mself\u001b[39m\u001b[39m.\u001b[39m_reset()  \u001b[39m# type: ignore[call-arg]\u001b[39;00m\n\u001b[0;32m--> 635\u001b[0m data \u001b[39m=\u001b[39m \u001b[39mself\u001b[39;49m\u001b[39m.\u001b[39;49m_next_data()\n\u001b[1;32m    636\u001b[0m \u001b[39mself\u001b[39m\u001b[39m.\u001b[39m_num_yielded \u001b[39m+\u001b[39m\u001b[39m=\u001b[39m \u001b[39m1\u001b[39m\n\u001b[1;32m    637\u001b[0m \u001b[39mif\u001b[39;00m \u001b[39mself\u001b[39m\u001b[39m.\u001b[39m_dataset_kind \u001b[39m==\u001b[39m _DatasetKind\u001b[39m.\u001b[39mIterable \u001b[39mand\u001b[39;00m \\\n\u001b[1;32m    638\u001b[0m         \u001b[39mself\u001b[39m\u001b[39m.\u001b[39m_IterableDataset_len_called \u001b[39mis\u001b[39;00m \u001b[39mnot\u001b[39;00m \u001b[39mNone\u001b[39;00m \u001b[39mand\u001b[39;00m \\\n\u001b[1;32m    639\u001b[0m         \u001b[39mself\u001b[39m\u001b[39m.\u001b[39m_num_yielded \u001b[39m>\u001b[39m \u001b[39mself\u001b[39m\u001b[39m.\u001b[39m_IterableDataset_len_called:\n",
                  "File \u001b[0;32m~/.conda/envs/community/lib/python3.10/site-packages/torch/utils/data/dataloader.py:679\u001b[0m, in \u001b[0;36m_SingleProcessDataLoaderIter._next_data\u001b[0;34m(self)\u001b[0m\n\u001b[1;32m    677\u001b[0m \u001b[39mdef\u001b[39;00m \u001b[39m_next_data\u001b[39m(\u001b[39mself\u001b[39m):\n\u001b[1;32m    678\u001b[0m     index \u001b[39m=\u001b[39m \u001b[39mself\u001b[39m\u001b[39m.\u001b[39m_next_index()  \u001b[39m# may raise StopIteration\u001b[39;00m\n\u001b[0;32m--> 679\u001b[0m     data \u001b[39m=\u001b[39m \u001b[39mself\u001b[39;49m\u001b[39m.\u001b[39;49m_dataset_fetcher\u001b[39m.\u001b[39;49mfetch(index)  \u001b[39m# may raise StopIteration\u001b[39;00m\n\u001b[1;32m    680\u001b[0m     \u001b[39mif\u001b[39;00m \u001b[39mself\u001b[39m\u001b[39m.\u001b[39m_pin_memory:\n\u001b[1;32m    681\u001b[0m         data \u001b[39m=\u001b[39m _utils\u001b[39m.\u001b[39mpin_memory\u001b[39m.\u001b[39mpin_memory(data, \u001b[39mself\u001b[39m\u001b[39m.\u001b[39m_pin_memory_device)\n",
                  "File \u001b[0;32m~/.conda/envs/community/lib/python3.10/site-packages/torch/utils/data/_utils/fetch.py:61\u001b[0m, in \u001b[0;36m_MapDatasetFetcher.fetch\u001b[0;34m(self, possibly_batched_index)\u001b[0m\n\u001b[1;32m     59\u001b[0m \u001b[39melse\u001b[39;00m:\n\u001b[1;32m     60\u001b[0m     data \u001b[39m=\u001b[39m \u001b[39mself\u001b[39m\u001b[39m.\u001b[39mdataset[possibly_batched_index]\n\u001b[0;32m---> 61\u001b[0m \u001b[39mreturn\u001b[39;00m \u001b[39mself\u001b[39;49m\u001b[39m.\u001b[39;49mcollate_fn(data)\n",
                  "File \u001b[0;32m~/.conda/envs/community/lib/python3.10/site-packages/torch/utils/data/_utils/collate.py:265\u001b[0m, in \u001b[0;36mdefault_collate\u001b[0;34m(batch)\u001b[0m\n\u001b[1;32m    204\u001b[0m \u001b[39mdef\u001b[39;00m \u001b[39mdefault_collate\u001b[39m(batch):\n\u001b[1;32m    205\u001b[0m     \u001b[39mr\u001b[39m\u001b[39m\"\"\"\u001b[39;00m\n\u001b[1;32m    206\u001b[0m \u001b[39m        Function that takes in a batch of data and puts the elements within the batch\u001b[39;00m\n\u001b[1;32m    207\u001b[0m \u001b[39m        into a tensor with an additional outer dimension - batch size. The exact output type can be\u001b[39;00m\n\u001b[0;32m   (...)\u001b[0m\n\u001b[1;32m    263\u001b[0m \u001b[39m            >>> default_collate(batch)  # Handle `CustomType` automatically\u001b[39;00m\n\u001b[1;32m    264\u001b[0m \u001b[39m    \"\"\"\u001b[39;00m\n\u001b[0;32m--> 265\u001b[0m     \u001b[39mreturn\u001b[39;00m collate(batch, collate_fn_map\u001b[39m=\u001b[39;49mdefault_collate_fn_map)\n",
                  "File \u001b[0;32m~/.conda/envs/community/lib/python3.10/site-packages/torch/utils/data/_utils/collate.py:143\u001b[0m, in \u001b[0;36mcollate\u001b[0;34m(batch, collate_fn_map)\u001b[0m\n\u001b[1;32m    140\u001b[0m transposed \u001b[39m=\u001b[39m \u001b[39mlist\u001b[39m(\u001b[39mzip\u001b[39m(\u001b[39m*\u001b[39mbatch))  \u001b[39m# It may be accessed twice, so we use a list.\u001b[39;00m\n\u001b[1;32m    142\u001b[0m \u001b[39mif\u001b[39;00m \u001b[39misinstance\u001b[39m(elem, \u001b[39mtuple\u001b[39m):\n\u001b[0;32m--> 143\u001b[0m     \u001b[39mreturn\u001b[39;00m [collate(samples, collate_fn_map\u001b[39m=\u001b[39mcollate_fn_map) \u001b[39mfor\u001b[39;00m samples \u001b[39min\u001b[39;00m transposed]  \u001b[39m# Backwards compatibility.\u001b[39;00m\n\u001b[1;32m    144\u001b[0m \u001b[39melse\u001b[39;00m:\n\u001b[1;32m    145\u001b[0m     \u001b[39mtry\u001b[39;00m:\n",
                  "File \u001b[0;32m~/.conda/envs/community/lib/python3.10/site-packages/torch/utils/data/_utils/collate.py:143\u001b[0m, in \u001b[0;36m<listcomp>\u001b[0;34m(.0)\u001b[0m\n\u001b[1;32m    140\u001b[0m transposed \u001b[39m=\u001b[39m \u001b[39mlist\u001b[39m(\u001b[39mzip\u001b[39m(\u001b[39m*\u001b[39mbatch))  \u001b[39m# It may be accessed twice, so we use a list.\u001b[39;00m\n\u001b[1;32m    142\u001b[0m \u001b[39mif\u001b[39;00m \u001b[39misinstance\u001b[39m(elem, \u001b[39mtuple\u001b[39m):\n\u001b[0;32m--> 143\u001b[0m     \u001b[39mreturn\u001b[39;00m [collate(samples, collate_fn_map\u001b[39m=\u001b[39;49mcollate_fn_map) \u001b[39mfor\u001b[39;00m samples \u001b[39min\u001b[39;00m transposed]  \u001b[39m# Backwards compatibility.\u001b[39;00m\n\u001b[1;32m    144\u001b[0m \u001b[39melse\u001b[39;00m:\n\u001b[1;32m    145\u001b[0m     \u001b[39mtry\u001b[39;00m:\n",
                  "File \u001b[0;32m~/.conda/envs/community/lib/python3.10/site-packages/torch/utils/data/_utils/collate.py:120\u001b[0m, in \u001b[0;36mcollate\u001b[0;34m(batch, collate_fn_map)\u001b[0m\n\u001b[1;32m    118\u001b[0m \u001b[39mif\u001b[39;00m collate_fn_map \u001b[39mis\u001b[39;00m \u001b[39mnot\u001b[39;00m \u001b[39mNone\u001b[39;00m:\n\u001b[1;32m    119\u001b[0m     \u001b[39mif\u001b[39;00m elem_type \u001b[39min\u001b[39;00m collate_fn_map:\n\u001b[0;32m--> 120\u001b[0m         \u001b[39mreturn\u001b[39;00m collate_fn_map[elem_type](batch, collate_fn_map\u001b[39m=\u001b[39;49mcollate_fn_map)\n\u001b[1;32m    122\u001b[0m     \u001b[39mfor\u001b[39;00m collate_type \u001b[39min\u001b[39;00m collate_fn_map:\n\u001b[1;32m    123\u001b[0m         \u001b[39mif\u001b[39;00m \u001b[39misinstance\u001b[39m(elem, collate_type):\n",
                  "File \u001b[0;32m~/.conda/envs/community/lib/python3.10/site-packages/torch/utils/data/_utils/collate.py:163\u001b[0m, in \u001b[0;36mcollate_tensor_fn\u001b[0;34m(batch, collate_fn_map)\u001b[0m\n\u001b[1;32m    161\u001b[0m     storage \u001b[39m=\u001b[39m elem\u001b[39m.\u001b[39m_typed_storage()\u001b[39m.\u001b[39m_new_shared(numel, device\u001b[39m=\u001b[39melem\u001b[39m.\u001b[39mdevice)\n\u001b[1;32m    162\u001b[0m     out \u001b[39m=\u001b[39m elem\u001b[39m.\u001b[39mnew(storage)\u001b[39m.\u001b[39mresize_(\u001b[39mlen\u001b[39m(batch), \u001b[39m*\u001b[39m\u001b[39mlist\u001b[39m(elem\u001b[39m.\u001b[39msize()))\n\u001b[0;32m--> 163\u001b[0m \u001b[39mreturn\u001b[39;00m torch\u001b[39m.\u001b[39;49mstack(batch, \u001b[39m0\u001b[39;49m, out\u001b[39m=\u001b[39;49mout)\n",
                  "\u001b[0;31mKeyboardInterrupt\u001b[0m: "
               ]
            }
         ],
         "source": [
            "community.to('cpu')\n",
            "pbar_e = tqdm(range(n_epochs), position=0, leave=None, desc='Epochs ')\n",
            "desc = np.array(['', ''], dtype=object)\n",
            "for e in pbar_e : \n",
            "\n",
            "    for b, (data, target) in enumerate(loaders[0]): \n",
            "        \n",
            "        data, target = process_data(\n",
            "            data,\n",
            "            target,\n",
            "            symbols=use_symbols,\n",
            "            task=task,\n",
            "            n_steps=10,\n",
            "            common_input=config[\"datasets\"][\"common_input\"],\n",
            "        )\n",
            "\n",
            "        #minimal_input = torch.cat([*binary_conn(target)], -1).float()\n",
            "        #minimal_input = torch.cat([minimal_input, torch.rand_like(minimal_input)], -1)\n",
            "        out, states, ag_outs, fconns = community(data)\n",
            "        #minimal_input = torch.cat([ago[-1] for ago in ag_outs], -1).squeeze()\n",
            "        minimal_input = ag_outs[-1][1 - int(task)]\n",
            "        \n",
            "        minimal_output = minimal_model(minimal_input)\n",
            "        t_target = get_task_target(target, task, n_classes=n_classes_per_digit)\n",
            "\n",
            "        loss = F.cross_entropy(minimal_output, t_target, reduction=\"mean\")\n",
            "        optim.zero_grad()\n",
            "        loss.backward()\n",
            "        optim.step()\n",
            "\n",
            "        pred = minimal_output.argmax(dim=-1)\n",
            "        correct = pred.eq(t_target.view_as(pred))\n",
            "        acc = (\n",
            "            (correct.sum(-1) * np.prod(t_target.shape[:-1]) / t_target.numel())\n",
            "            .cpu()\n",
            "            .data.numpy()\n",
            "        )\n",
            "\n",
            "        desc[0] = f'Epochs : {b}/{len(loaders[0])}, Acc = {acc:.2f}, Loss = {loss:.2f}'\n",
            "        pbar_e.set_description(desc.sum(0))\n",
            "\n",
            "    for b, (data, target) in enumerate(loaders[1]): \n",
            "        \n",
            "        data, target = process_data(\n",
            "            data,\n",
            "            target,\n",
            "            symbols=use_symbols,\n",
            "            task=task,\n",
            "            n_steps=10,\n",
            "            common_input=config[\"datasets\"][\"common_input\"],\n",
            "        )\n",
            "\n",
            "        #minimal_input = torch.cat([*binary_conn(target)], -1).float()\n",
            "        #minimal_input = torch.cat([minimal_input, torch.rand_like(minimal_input)], -1)\n",
            "        out, states, ag_outs, fconns = community(data)\n",
            "        minimal_input = torch.cat([ago[-1] for ago in ag_outs], -1).squeeze()\n",
            "        minimal_input = ag_outs[-1][1 - int(task)]\n",
            "        \n",
            "        minimal_output = minimal_model(minimal_input)\n",
            "        t_target = get_task_target(target, task, n_classes=n_classes_per_digit)\n",
            "\n",
            "        loss = F.cross_entropy(minimal_output, t_target, reduction=\"mean\")\n",
            "        pred = minimal_output.argmax(dim=-1)\n",
            "        correct = pred.eq(t_target.view_as(pred))\n",
            "        acc = (\n",
            "            (correct.sum(-1) * np.prod(t_target.shape[:-1]) / t_target.numel())\n",
            "            .cpu()\n",
            "            .data.numpy()\n",
            "        )\n",
            "\n",
            "        desc[1] = f'| Test :  Acc = {acc:.2f}, Loss = {loss:.2f}'\n",
            "        pbar_e.set_description(desc.sum(0))"
         ]
      },
      {
         "cell_type": "code",
         "execution_count": 25,
         "metadata": {},
         "outputs": [
            {
               "data": {
                  "text/plain": [
                     "torch.Size([1, 256, 10])"
                  ]
               },
               "execution_count": 25,
               "metadata": {},
               "output_type": "execute_result"
            }
         ],
         "source": [
            "minimal_input.shape"
         ]
      },
      {
         "attachments": {},
         "cell_type": "markdown",
         "metadata": {},
         "source": [
            "## Retraining : "
         ]
      },
      {
         "attachments": {},
         "cell_type": "markdown",
         "metadata": {},
         "source": [
            "### Readout Only"
         ]
      },
      {
         "cell_type": "code",
         "execution_count": null,
         "metadata": {},
         "outputs": [],
         "source": [
            "task = config[\"task\"] = \"parity-digits\"\n",
            "config[\"model\"][\"readout_n_hid\"] = 2\n",
            "\n",
            "configure_readouts(config)\n",
            "\n",
            "\n",
            "community.n_readouts = config[\"model\"][\"n_readouts\"]\n",
            "\n",
            "\n",
            "community.initialize_readout(\n",
            "    config[\"model\"][\"n_readouts\"],\n",
            "    config[\"model\"][\"readout_from\"],\n",
            "    config[\"model\"][\"readout_n_hid\"] = 2\n",
            ")\n",
            "                    \n",
            "community.to(device)\n",
            "\n",
            "config[\"training\"][\"n_epochs\"] = 20\n",
            "# config[\"task\"] = [str(i) for i in range(n_agents)]\n",
            "\n",
            "optimizer = torch.optim.Adam(\n",
            "        [p for n, p in community.named_parameters() if \"readout\" in n],\n",
            "        lr=1e-3,\n",
            "    )\n"
         ]
      },
      {
         "cell_type": "code",
         "execution_count": null,
         "metadata": {},
         "outputs": [
            {
               "data": {
                  "application/vnd.jupyter.widget-view+json": {
                     "model_id": "e67baabda3504b49ac8f4369c0862eb6",
                     "version_major": 2,
                     "version_minor": 0
                  },
                  "text/plain": [
                     "Train Epoch::   0%|          | 0/20 [00:00<?, ?it/s]"
                  ]
               },
               "metadata": {},
               "output_type": "display_data"
            },
            {
               "ename": "KeyboardInterrupt",
               "evalue": "",
               "output_type": "error",
               "traceback": [
                  "\u001b[0;31m---------------------------------------------------------------------------\u001b[0m",
                  "\u001b[0;31mKeyboardInterrupt\u001b[0m                         Traceback (most recent call last)",
                  "\u001b[1;32m/home/gb21/Code/ANNs/community-of-agents/notebooks/Funcspec/symbols.ipynb Cell 23\u001b[0m in \u001b[0;36m<cell line: 1>\u001b[0;34m()\u001b[0m\n\u001b[0;32m----> <a href='vscode-notebook-cell://ssh-remote%2Bblossom.ee.ic.ac.uk/home/gb21/Code/ANNs/community-of-agents/notebooks/Funcspec/symbols.ipynb#Y135sdnNjb2RlLXJlbW90ZQ%3D%3D?line=0'>1</a>\u001b[0m train_results \u001b[39m=\u001b[39m train_community(\n\u001b[1;32m      <a href='vscode-notebook-cell://ssh-remote%2Bblossom.ee.ic.ac.uk/home/gb21/Code/ANNs/community-of-agents/notebooks/Funcspec/symbols.ipynb#Y135sdnNjb2RlLXJlbW90ZQ%3D%3D?line=1'>2</a>\u001b[0m     community,\n\u001b[1;32m      <a href='vscode-notebook-cell://ssh-remote%2Bblossom.ee.ic.ac.uk/home/gb21/Code/ANNs/community-of-agents/notebooks/Funcspec/symbols.ipynb#Y135sdnNjb2RlLXJlbW90ZQ%3D%3D?line=2'>3</a>\u001b[0m     \u001b[39m*\u001b[39;49mloaders,\n\u001b[1;32m      <a href='vscode-notebook-cell://ssh-remote%2Bblossom.ee.ic.ac.uk/home/gb21/Code/ANNs/community-of-agents/notebooks/Funcspec/symbols.ipynb#Y135sdnNjb2RlLXJlbW90ZQ%3D%3D?line=3'>4</a>\u001b[0m     optimizers\u001b[39m=\u001b[39;49m[optimizer, \u001b[39mNone\u001b[39;49;00m],\n\u001b[1;32m      <a href='vscode-notebook-cell://ssh-remote%2Bblossom.ee.ic.ac.uk/home/gb21/Code/ANNs/community-of-agents/notebooks/Funcspec/symbols.ipynb#Y135sdnNjb2RlLXJlbW90ZQ%3D%3D?line=4'>5</a>\u001b[0m     config\u001b[39m=\u001b[39;49mget_training_dict(config),\n\u001b[1;32m      <a href='vscode-notebook-cell://ssh-remote%2Bblossom.ee.ic.ac.uk/home/gb21/Code/ANNs/community-of-agents/notebooks/Funcspec/symbols.ipynb#Y135sdnNjb2RlLXJlbW90ZQ%3D%3D?line=5'>6</a>\u001b[0m     show_all_acc\u001b[39m=\u001b[39;49m\u001b[39mTrue\u001b[39;49;00m,\n\u001b[1;32m      <a href='vscode-notebook-cell://ssh-remote%2Bblossom.ee.ic.ac.uk/home/gb21/Code/ANNs/community-of-agents/notebooks/Funcspec/symbols.ipynb#Y135sdnNjb2RlLXJlbW90ZQ%3D%3D?line=6'>7</a>\u001b[0m     use_tqdm\u001b[39m=\u001b[39;49m\u001b[39mTrue\u001b[39;49;00m,\n\u001b[1;32m      <a href='vscode-notebook-cell://ssh-remote%2Bblossom.ee.ic.ac.uk/home/gb21/Code/ANNs/community-of-agents/notebooks/Funcspec/symbols.ipynb#Y135sdnNjb2RlLXJlbW90ZQ%3D%3D?line=7'>8</a>\u001b[0m )\n",
                  "File \u001b[0;32m~/Code/ANNs/community-of-agents/community/common/training.py:191\u001b[0m, in \u001b[0;36mtrain_community\u001b[0;34m(model, train_loader, test_loader, optimizers, schedulers, config, trials, joint_training, use_tqdm, device, show_all_acc)\u001b[0m\n\u001b[1;32m    188\u001b[0m \u001b[39mif\u001b[39;00m training:\n\u001b[1;32m    190\u001b[0m     model\u001b[39m.\u001b[39mtrain()\n\u001b[0;32m--> 191\u001b[0m     \u001b[39mfor\u001b[39;00m batch_idx, (data, target) \u001b[39min\u001b[39;00m \u001b[39menumerate\u001b[39m(train_loader):\n\u001b[1;32m    193\u001b[0m         \u001b[39mif\u001b[39;00m \u001b[39mtype\u001b[39m(data) \u001b[39mis\u001b[39;00m \u001b[39mlist\u001b[39m:\n\u001b[1;32m    194\u001b[0m             data, target \u001b[39m=\u001b[39m [d\u001b[39m.\u001b[39mto(device) \u001b[39mfor\u001b[39;00m d \u001b[39min\u001b[39;00m data], target\u001b[39m.\u001b[39mto(device)\n",
                  "File \u001b[0;32m~/.conda/envs/community/lib/python3.10/site-packages/torch/utils/data/dataloader.py:530\u001b[0m, in \u001b[0;36m_BaseDataLoaderIter.__next__\u001b[0;34m(self)\u001b[0m\n\u001b[1;32m    528\u001b[0m \u001b[39mif\u001b[39;00m \u001b[39mself\u001b[39m\u001b[39m.\u001b[39m_sampler_iter \u001b[39mis\u001b[39;00m \u001b[39mNone\u001b[39;00m:\n\u001b[1;32m    529\u001b[0m     \u001b[39mself\u001b[39m\u001b[39m.\u001b[39m_reset()\n\u001b[0;32m--> 530\u001b[0m data \u001b[39m=\u001b[39m \u001b[39mself\u001b[39;49m\u001b[39m.\u001b[39;49m_next_data()\n\u001b[1;32m    531\u001b[0m \u001b[39mself\u001b[39m\u001b[39m.\u001b[39m_num_yielded \u001b[39m+\u001b[39m\u001b[39m=\u001b[39m \u001b[39m1\u001b[39m\n\u001b[1;32m    532\u001b[0m \u001b[39mif\u001b[39;00m \u001b[39mself\u001b[39m\u001b[39m.\u001b[39m_dataset_kind \u001b[39m==\u001b[39m _DatasetKind\u001b[39m.\u001b[39mIterable \u001b[39mand\u001b[39;00m \\\n\u001b[1;32m    533\u001b[0m         \u001b[39mself\u001b[39m\u001b[39m.\u001b[39m_IterableDataset_len_called \u001b[39mis\u001b[39;00m \u001b[39mnot\u001b[39;00m \u001b[39mNone\u001b[39;00m \u001b[39mand\u001b[39;00m \\\n\u001b[1;32m    534\u001b[0m         \u001b[39mself\u001b[39m\u001b[39m.\u001b[39m_num_yielded \u001b[39m>\u001b[39m \u001b[39mself\u001b[39m\u001b[39m.\u001b[39m_IterableDataset_len_called:\n",
                  "File \u001b[0;32m~/.conda/envs/community/lib/python3.10/site-packages/torch/utils/data/dataloader.py:572\u001b[0m, in \u001b[0;36m_SingleProcessDataLoaderIter._next_data\u001b[0;34m(self)\u001b[0m\n\u001b[1;32m    570\u001b[0m data \u001b[39m=\u001b[39m \u001b[39mself\u001b[39m\u001b[39m.\u001b[39m_dataset_fetcher\u001b[39m.\u001b[39mfetch(index)  \u001b[39m# may raise StopIteration\u001b[39;00m\n\u001b[1;32m    571\u001b[0m \u001b[39mif\u001b[39;00m \u001b[39mself\u001b[39m\u001b[39m.\u001b[39m_pin_memory:\n\u001b[0;32m--> 572\u001b[0m     data \u001b[39m=\u001b[39m _utils\u001b[39m.\u001b[39;49mpin_memory\u001b[39m.\u001b[39;49mpin_memory(data)\n\u001b[1;32m    573\u001b[0m \u001b[39mreturn\u001b[39;00m data\n",
                  "File \u001b[0;32m~/.conda/envs/community/lib/python3.10/site-packages/torch/utils/data/_utils/pin_memory.py:65\u001b[0m, in \u001b[0;36mpin_memory\u001b[0;34m(data)\u001b[0m\n\u001b[1;32m     63\u001b[0m \u001b[39melif\u001b[39;00m \u001b[39misinstance\u001b[39m(data, collections\u001b[39m.\u001b[39mabc\u001b[39m.\u001b[39mSequence):\n\u001b[1;32m     64\u001b[0m     \u001b[39mtry\u001b[39;00m:\n\u001b[0;32m---> 65\u001b[0m         \u001b[39mreturn\u001b[39;00m \u001b[39mtype\u001b[39m(data)([pin_memory(sample) \u001b[39mfor\u001b[39;00m sample \u001b[39min\u001b[39;00m data])  \u001b[39m# type: ignore[call-arg]\u001b[39;00m\n\u001b[1;32m     66\u001b[0m     \u001b[39mexcept\u001b[39;00m \u001b[39mTypeError\u001b[39;00m:\n\u001b[1;32m     67\u001b[0m         \u001b[39m# The sequence type may not support `__init__(iterable)` (e.g., `range`).\u001b[39;00m\n\u001b[1;32m     68\u001b[0m         \u001b[39mreturn\u001b[39;00m [pin_memory(sample) \u001b[39mfor\u001b[39;00m sample \u001b[39min\u001b[39;00m data]\n",
                  "File \u001b[0;32m~/.conda/envs/community/lib/python3.10/site-packages/torch/utils/data/_utils/pin_memory.py:65\u001b[0m, in \u001b[0;36m<listcomp>\u001b[0;34m(.0)\u001b[0m\n\u001b[1;32m     63\u001b[0m \u001b[39melif\u001b[39;00m \u001b[39misinstance\u001b[39m(data, collections\u001b[39m.\u001b[39mabc\u001b[39m.\u001b[39mSequence):\n\u001b[1;32m     64\u001b[0m     \u001b[39mtry\u001b[39;00m:\n\u001b[0;32m---> 65\u001b[0m         \u001b[39mreturn\u001b[39;00m \u001b[39mtype\u001b[39m(data)([pin_memory(sample) \u001b[39mfor\u001b[39;00m sample \u001b[39min\u001b[39;00m data])  \u001b[39m# type: ignore[call-arg]\u001b[39;00m\n\u001b[1;32m     66\u001b[0m     \u001b[39mexcept\u001b[39;00m \u001b[39mTypeError\u001b[39;00m:\n\u001b[1;32m     67\u001b[0m         \u001b[39m# The sequence type may not support `__init__(iterable)` (e.g., `range`).\u001b[39;00m\n\u001b[1;32m     68\u001b[0m         \u001b[39mreturn\u001b[39;00m [pin_memory(sample) \u001b[39mfor\u001b[39;00m sample \u001b[39min\u001b[39;00m data]\n",
                  "File \u001b[0;32m~/.conda/envs/community/lib/python3.10/site-packages/torch/utils/data/_utils/pin_memory.py:49\u001b[0m, in \u001b[0;36mpin_memory\u001b[0;34m(data)\u001b[0m\n\u001b[1;32m     48\u001b[0m \u001b[39mdef\u001b[39;00m \u001b[39mpin_memory\u001b[39m(data):\n\u001b[0;32m---> 49\u001b[0m     \u001b[39mif\u001b[39;00m \u001b[39misinstance\u001b[39;49m(data, torch\u001b[39m.\u001b[39;49mTensor):\n\u001b[1;32m     50\u001b[0m         \u001b[39mreturn\u001b[39;00m data\u001b[39m.\u001b[39mpin_memory()\n\u001b[1;32m     51\u001b[0m     \u001b[39melif\u001b[39;00m \u001b[39misinstance\u001b[39m(data, string_classes):\n",
                  "\u001b[0;31mKeyboardInterrupt\u001b[0m: "
               ]
            }
         ],
         "source": [
            "train_results = train_community(\n",
            "    community,\n",
            "    *loaders,\n",
            "    optimizers=[optimizer, None],\n",
            "    config=get_training_dict(config),\n",
            "    show_all_acc=True,\n",
            "    use_tqdm=True,\n",
            ")"
         ]
      },
      {
         "cell_type": "code",
         "execution_count": null,
         "metadata": {},
         "outputs": [
            {
               "data": {
                  "text/plain": [
                     "[<matplotlib.lines.Line2D at 0x7f70158135e0>]"
                  ]
               },
               "execution_count": 43,
               "metadata": {},
               "output_type": "execute_result"
            },
            {
               "data": {
                  "image/png": "[encoded data removed]",
                  "text/plain": [
                     "<Figure size 640x480 with 1 Axes>"
                  ]
               },
               "metadata": {},
               "output_type": "display_data"
            }
         ],
         "source": [
            "plt.plot(train_results[\"test_accs\"])\n"
         ]
      },
      {
         "cell_type": "code",
         "execution_count": null,
         "metadata": {},
         "outputs": [
            {
               "data": {
                  "text/plain": [
                     "{'agents': {'ag_dropout': 0.0,\n",
                     "  'cell_type': \"<class 'torch.nn.modules.rnn.RNN'>\",\n",
                     "  'n_hidden': 50,\n",
                     "  'n_in': 3600,\n",
                     "  'n_layers': 1,\n",
                     "  'n_out': 10,\n",
                     "  'n_readouts': None,\n",
                     "  'train_in_out': [True, True],\n",
                     "  'use_bottleneck': False},\n",
                     " 'common_readout': True,\n",
                     " 'connections': {'binarize': True,\n",
                     "  'comms_dropout': 0.0,\n",
                     "  'comms_start': 'start',\n",
                     "  'sparsity': 0.8,\n",
                     "  'use_deepR': False},\n",
                     " 'n_agents': 2,\n",
                     " 'n_ins': None,\n",
                     " 'n_readouts': 1,\n",
                     " 'readout_from': None}"
                  ]
               },
               "execution_count": 38,
               "metadata": {},
               "output_type": "execute_result"
            }
         ],
         "source": [
            "config[\"model\"]\n"
         ]
      },
      {
         "cell_type": "code",
         "execution_count": null,
         "metadata": {},
         "outputs": [],
         "source": [
            "plt.plot(train_results[\"test_accs\"])"
         ]
      },
      {
         "cell_type": "code",
         "execution_count": null,
         "metadata": {},
         "outputs": [],
         "source": [
            "freeze_retrain = True\n",
            "\n",
            "task = config[\"task\"] = \"inv_parity-digits\"\n",
            "# task = config[\"task\"] = 'both'\n",
            "# task = config[\"task\"] = [[\"0\", \"1\"], [\"1\", \"2\"], [\"0\", \"2\"]]\n",
            "# task = config[\"task\"] = [\"0\", \"1\", \"max\", \"min\"]\n",
            "\n",
            "config[\"model\"][\"n_agents\"] = 2\n",
            "config[\"model\"][\"agents\"][\"n_hidden\"] = 10\n",
            "common_readout = config[\"model\"][\"common_readout\"] = True\n",
            "\n",
            "configure_readouts(config)\n",
            "\n",
            "if not freeze_retrain:\n",
            "\n",
            "    community = init_community(config[\"model\"])\n",
            "\n",
            "community.n_readouts = config[\"model\"][\"n_readouts\"]\n",
            "config[\"model\"][\"readout_n_hid\"] = 10\n",
            "config[\"model\"][\"connections\"][\"sparsity\"] = 0.0\n",
            "community.use_common_readout = True\n",
            "\n",
            "for ag in community.agents:\n",
            "    ag.dims[-1] = n_classes\n",
            "\n",
            "community.initialize_readout(\n",
            "    config[\"model\"][\"n_readouts\"],\n",
            "    config[\"model\"][\"readout_from\"],\n",
            "    config[\"model\"][\"readout_n_hid\"],\n",
            ")\n",
            "\n",
            "community.to(device)\n",
            "\n",
            "reg_readout = 1\n",
            "\n",
            "if freeze_retrain:\n",
            "\n",
            "    optimizer = torch.optim.AdamW(\n",
            "        [p for n, p in community.named_parameters() if \"readout\" in n],\n",
            "        lr=1e-3,\n",
            "        weight_decay=reg_readout,\n",
            "    )\n",
            "\n",
            "else:\n",
            "    if not reg_readout:\n",
            "        optimizer = torch.optim.Adam(community.parameters(), lr=1e-3)\n",
            "    else:\n",
            "        optimizer = torch.optim.AdamW(\n",
            "            [\n",
            "                p\n",
            "                for n, p in community.named_parameters()\n",
            "                if n not in [\"readout.0\", \"readout.1\"]\n",
            "            ],\n",
            "            lr=1e-3,\n",
            "        )\n",
            "        optimizer.add_param_group(\n",
            "            {\n",
            "                \"params\": [\n",
            "                    p\n",
            "                    for n, p in community.named_parameters()\n",
            "                    if n in [\"readout.0\", \"readout.1\"]\n",
            "                ],\n",
            "                \"lr\": 1e-3,\n",
            "                \"weight_decay\": reg_readout,\n",
            "            }\n",
            "        )\n",
            "\n",
            "data, target = next(iter(loaders[1]))\n",
            "data, target = process_data(data, target, symbols=True, task=task)\n",
            "data, target = data.to(device), target.to(device)\n",
            "\n",
            "out, states, fconns = community(data)\n",
            "\n",
            "print(out.shape)\n"
         ]
      },
      {
         "cell_type": "code",
         "execution_count": null,
         "metadata": {},
         "outputs": [],
         "source": [
            "class New_community(nn.Module):\n",
            "    def __init__(self, community, task=\"family\") -> None:\n",
            "        super().__init__()\n",
            "        self.community = community\n",
            "        self.connections = {}\n",
            "\n",
            "        if task == \"family\":\n",
            "            self.dim_out = [len(get_factors_list(n_agents)), n_classes]\n",
            "        elif isinstance(task, list):\n",
            "            self.dim_out = [len(task), n_classes]\n",
            "        else:\n",
            "            self.dim_out = [2, n_classes_per_digit]\n",
            "\n",
            "        self.readout = nn.Linear(20, np.prod(self.dim_out))\n",
            "\n",
            "    def forward(self, x, conns=0):\n",
            "        out, states, conns = self.community(x)\n",
            "        new_out = self.readout(torch.cat([o for o in out[-1]], -1))\n",
            "        new_out = new_out.reshape(-1, *self.dim_out).transpose(0, 1).unsqueeze(0)\n",
            "\n",
            "        return new_out, states, conns"
         ]
      },
      {
         "cell_type": "code",
         "execution_count": null,
         "metadata": {},
         "outputs": [],
         "source": [
            "task = config[\"task\"] = \"both\"\n",
            "task = config[\"task\"] = [\"0\", \"1\", \"bitand\", \"bitor\", \"max\", \"min\"]\n",
            "\n",
            "community = init_community(config[\"model\"])\n",
            "\n",
            "\n",
            "new_com = New_community(community, task).to(device)\n",
            "new_com.is_community = True\n",
            "\n",
            "\n",
            "optimizer = torch.optim.AdamW(\n",
            "    [\n",
            "        p\n",
            "        for n, p in new_com.named_parameters()\n",
            "        if n in [\"readout.weight\", \"readout.bias\"]\n",
            "    ],\n",
            "    lr=1e-3,\n",
            "    weight_decay=reg_readout,\n",
            ")\n",
            "\n",
            "optimizer = torch.optim.Adam(new_com.parameters(), lr=1e-3)"
         ]
      },
      {
         "cell_type": "code",
         "execution_count": null,
         "metadata": {},
         "outputs": [],
         "source": [
            "data, target = next(iter(loaders[1]))\n",
            "data, target = process_data(data, target, symbols=True, task=task)\n",
            "data, target = data.to(device), target.to(device)\n",
            "\n",
            "new_com(data)[0].shape"
         ]
      },
      {
         "cell_type": "code",
         "execution_count": null,
         "metadata": {},
         "outputs": [],
         "source": [
            "config[\"training\"][\"n_epochs\"] = 10\n",
            "\n",
            "train_results = train_community(\n",
            "    community,\n",
            "    *loaders,\n",
            "    optimizers=[optimizer, None],\n",
            "    config=get_training_dict(config),\n",
            "    show_all_acc=True,\n",
            "    use_tqdm=True\n",
            ")"
         ]
      },
      {
         "cell_type": "code",
         "execution_count": null,
         "metadata": {},
         "outputs": [],
         "source": [
            "if task == \"family\":\n",
            "    label = [str(t.data.numpy()) for t in get_factors_list(n_agents)]\n",
            "elif isinstance(task, list):\n",
            "    label = task\n",
            "elif task in [\"both\", \"all\"]:\n",
            "    labem = [\"0\", \"1\"]\n",
            "else:\n",
            "    label = None\n",
            "plt.plot(train_results[\"test_accs\"], label=label)\n",
            "plt.legend()\n",
            "plt.show()"
         ]
      },
      {
         "cell_type": "markdown",
         "metadata": {},
         "source": [
            "## Analysis\n"
         ]
      },
      {
         "attachments": {},
         "cell_type": "markdown",
         "metadata": {},
         "source": [
            "### PCA on agent outs"
         ]
      },
      {
         "cell_type": "code",
         "execution_count": 167,
         "metadata": {},
         "outputs": [],
         "source": [
            "def binary_conn(target):\n",
            "    encoding = [[] for _ in range(2)]\n",
            "    for ag in range(2) : \n",
            "        encoded_target = target[:, ag].clone().detach()\n",
            "        for d in range(n_bits - 1, -1, -1):\n",
            "            encoding[ag].append(torch.div(encoded_target, 2**d, rounding_mode=\"floor\"))\n",
            "            encoded_target -= (\n",
            "                torch.div(encoded_target, 2**d, rounding_mode=\"floor\") * 2**d\n",
            "            )\n",
            "    return torch.stack([torch.stack(e, -1) for e in encoding])"
         ]
      },
      {
         "cell_type": "code",
         "execution_count": 168,
         "metadata": {},
         "outputs": [],
         "source": [
            "data, target = next(iter(loaders[0]))\n",
            "data, target = process_data(\n",
            "    data,\n",
            "    target,\n",
            "    symbols=use_symbols,\n",
            "    task=task,\n",
            "    n_steps=config['datasets']['nb_steps'],\n",
            "    common_input=config[\"datasets\"][\"common_input\"],\n",
            ")\n",
            "data, target = data.to(device), target.to(device)\n",
            "\n",
            "out, states, ag_outs, fconns = community(data)\n"
         ]
      },
      {
         "cell_type": "code",
         "execution_count": 169,
         "metadata": {},
         "outputs": [],
         "source": [
            "from sklearn.decomposition import PCA \n"
         ]
      },
      {
         "cell_type": "code",
         "execution_count": 189,
         "metadata": {},
         "outputs": [
            {
               "data": {
                  "image/png": "[encoded data removed]",
                  "text/plain": [
                     "<Figure size 1400x800 with 4 Axes>"
                  ]
               },
               "metadata": {},
               "output_type": "display_data"
            }
         ],
         "source": [
            "ag_out = [torch.cat([*ag_outs[-1]], 0).squeeze(), torch.cat([*ag_outs[-1]], 0).softmax(-1).squeeze()]\n",
            "\n",
            "\n",
            "fig, axs = plt.subplots(2, 2, figsize=(14, 8))\n",
            "for i, axs_soft in enumerate(axs) : \n",
            "    pca = PCA(2)\n",
            "    pca_out = pca.fit_transform(ag_out[i].cpu().data.numpy())\n",
            "    for ag, ax in enumerate(axs_soft) : \n",
            "        ax.scatter(*pca_out[256*ag:256*(ag + 1)].T, c=target[:, ag])\n"
         ]
      },
      {
         "cell_type": "code",
         "execution_count": 186,
         "metadata": {},
         "outputs": [
            {
               "data": {
                  "text/plain": [
                     "torch.Size([256, 10])"
                  ]
               },
               "execution_count": 186,
               "metadata": {},
               "output_type": "execute_result"
            }
         ],
         "source": [
            "ag_out[0].shape"
         ]
      },
      {
         "cell_type": "code",
         "execution_count": 176,
         "metadata": {},
         "outputs": [
            {
               "data": {
                  "text/plain": [
                     "(256, 2)"
                  ]
               },
               "execution_count": 176,
               "metadata": {},
               "output_type": "execute_result"
            }
         ],
         "source": [
            "pca_out.shape"
         ]
      },
      {
         "cell_type": "code",
         "execution_count": 174,
         "metadata": {},
         "outputs": [
            {
               "data": {
                  "text/plain": [
                     "torch.Size([2, 256, 5])"
                  ]
               },
               "execution_count": 174,
               "metadata": {},
               "output_type": "execute_result"
            }
         ],
         "source": [
            "ag_out.shape"
         ]
      },
      {
         "cell_type": "code",
         "execution_count": null,
         "metadata": {},
         "outputs": [
            {
               "data": {
                  "image/png": "[encoded data removed]",
                  "text/plain": [
                     "<Figure size 1400x400 with 2 Axes>"
                  ]
               },
               "metadata": {},
               "output_type": "display_data"
            }
         ],
         "source": [
            "pca = PCA(2)\n",
            "binary_target = torch.cat([*binary_conn(target)], 0)\n",
            "pca_out = pca.fit_transform(binary_target.cpu().data.numpy())\n",
            "fig, axs = plt.subplots(1, 2, figsize=(14, 4))\n",
            "\n",
            "for ag, ax in enumerate(axs) : \n",
            "    ax.scatter(*pca_out[256*ag:256*(ag + 1)].T, c=target[:, ag])\n"
         ]
      },
      {
         "cell_type": "markdown",
         "metadata": {},
         "source": [
            "### Readouts"
         ]
      },
      {
         "cell_type": "code",
         "execution_count": 42,
         "metadata": {},
         "outputs": [
            {
               "data": {
                  "image/png": "[encoded data removed]",
                  "text/plain": [
                     "<Figure size 1500x500 with 2 Axes>"
                  ]
               },
               "metadata": {},
               "output_type": "display_data"
            }
         ],
         "source": [
            "if task == \"family\":\n",
            "    task_f = [t.data.numpy() for t in get_factors_list(data_config[\"n_diff_symbols\"])]\n",
            "elif isinstance(task, list):\n",
            "    task_f = task\n",
            "else:\n",
            "    if \"both\" in task:\n",
            "        task_f = [0, 1]\n",
            "    else:\n",
            "        task_f = [task]\n",
            "\n",
            "fig = plt.figure(constrained_layout=True, figsize=(5 * len(community.readout), 5))\n",
            "fig.suptitle(\"Readout Weights\")\n",
            "\n",
            "# create 3x1 subfigs\n",
            "subfigs = fig.subfigures(1, len(community.readout))\n",
            "if len(community.readout) == 1:\n",
            "    subfigs = [subfigs]\n",
            "\n",
            "for readout, subfig, t in zip(community.readout, subfigs, task_f):\n",
            "\n",
            "    subfig.suptitle(t)\n",
            "\n",
            "    if hasattr(readout, \"__len__\"):\n",
            "\n",
            "        if hasattr(readout[0], \"__len__\"):\n",
            "            axs = subfig.subplots(len(readout[0]) - 1, len(readout))\n",
            "            for ax_r, r in zip(axs, readout):\n",
            "                l = 0\n",
            "                for layer in r:\n",
            "                    if hasattr(layer, \"weight\"):\n",
            "                        ax = ax_r[l]\n",
            "                        w = layer.weight.cpu().data.numpy()\n",
            "                        ax.imshow(w)\n",
            "                        ax.set_title(f\"Layer {l}\")\n",
            "                        l += 1\n",
            "        else:\n",
            "            axs = subfig.subplots(\n",
            "                len(readout) - 1 * isinstance(readout, nn.Sequential), 1\n",
            "            )\n",
            "            if not hasattr(axs, \"__len__\"):\n",
            "                axs = [axs]\n",
            "            layer = 0\n",
            "            for r in readout:\n",
            "                if hasattr(r, \"weight\"):\n",
            "                    ax = axs[layer]\n",
            "                    w = r.weight.cpu().data.numpy()\n",
            "                    ax.imshow(w)\n",
            "                    if layer == 0:\n",
            "                        ax.vlines(\n",
            "                            [w.shape[1] // 2],\n",
            "                            -0.01,\n",
            "                            w.shape[0],\n",
            "                            color=\"black\",\n",
            "                            linewidth=2,\n",
            "                        )\n",
            "                    ax.set_title(f\"Readout {layer}\")\n",
            "                    layer += 1\n",
            "\n",
            "    else:\n",
            "        ax = subfig.subplots(1, 1)\n",
            "        w = readout.weight.cpu().data.numpy()\n",
            "        ax.vlines([w.shape[1] // 2], -0.01, w.shape[0], color=\"black\", linewidth=2)\n",
            "        ax.imshow(w)\n",
            "        ax.set_title(f\"{w.mean() :.4E}\")"
         ]
      },
      {
         "cell_type": "markdown",
         "metadata": {},
         "source": [
            "### Global rec Matrix + Com matric"
         ]
      },
      {
         "cell_type": "code",
         "execution_count": 43,
         "metadata": {},
         "outputs": [
            {
               "ename": "KeyError",
               "evalue": "'01'",
               "output_type": "error",
               "traceback": [
                  "\u001b[0;31m---------------------------------------------------------------------------\u001b[0m",
                  "\u001b[0;31mKeyError\u001b[0m                                  Traceback (most recent call last)",
                  "Cell \u001b[0;32mIn[43], line 1\u001b[0m\n\u001b[0;32m----> 1\u001b[0m w_rec_global \u001b[39m=\u001b[39m community\u001b[39m.\u001b[39;49mw_rec_global\u001b[39m.\u001b[39mdata\n\u001b[1;32m      2\u001b[0m plt\u001b[39m.\u001b[39mimshow(w_rec_global)\n",
                  "File \u001b[0;32m~/Code/ANNs/community-of-agents/community/common/models/ensembles.py:230\u001b[0m, in \u001b[0;36mCommunity.w_rec_global\u001b[0;34m(self)\u001b[0m\n\u001b[1;32m    228\u001b[0m \u001b[39mfor\u001b[39;00m j, ag2 \u001b[39min\u001b[39;00m \u001b[39menumerate\u001b[39m(\u001b[39mself\u001b[39m\u001b[39m.\u001b[39magents):\n\u001b[1;32m    229\u001b[0m     \u001b[39mif\u001b[39;00m i \u001b[39m!=\u001b[39m j:\n\u001b[0;32m--> 230\u001b[0m         conns \u001b[39m=\u001b[39m \u001b[39mself\u001b[39;49m\u001b[39m.\u001b[39;49mconnections[\u001b[39mf\u001b[39;49m\u001b[39m\"\u001b[39;49m\u001b[39m{\u001b[39;49;00mag1\u001b[39m.\u001b[39;49mtag\u001b[39m}\u001b[39;49;00m\u001b[39m{\u001b[39;49;00mag2\u001b[39m.\u001b[39;49mtag\u001b[39m}\u001b[39;49;00m\u001b[39m\"\u001b[39;49m]\n\u001b[1;32m    231\u001b[0m         w_rec[\n\u001b[1;32m    232\u001b[0m             i \u001b[39m*\u001b[39m n_hid : (i \u001b[39m+\u001b[39m \u001b[39m1\u001b[39m) \u001b[39m*\u001b[39m n_hid, j \u001b[39m*\u001b[39m n_hid : (j \u001b[39m+\u001b[39m \u001b[39m1\u001b[39m) \u001b[39m*\u001b[39m n_hid\n\u001b[1;32m    233\u001b[0m         ] \u001b[39m=\u001b[39m conns\u001b[39m.\u001b[39mw\n\u001b[1;32m    235\u001b[0m w_rec[i \u001b[39m*\u001b[39m n_hid : (i \u001b[39m+\u001b[39m \u001b[39m1\u001b[39m) \u001b[39m*\u001b[39m n_hid, i \u001b[39m*\u001b[39m n_hid : (i \u001b[39m+\u001b[39m \u001b[39m1\u001b[39m) \u001b[39m*\u001b[39m n_hid] \u001b[39m=\u001b[39m ag1\u001b[39m.\u001b[39mw_rec\n",
                  "File \u001b[0;32m~/.conda/envs/community/lib/python3.10/site-packages/torch/nn/modules/container.py:461\u001b[0m, in \u001b[0;36mModuleDict.__getitem__\u001b[0;34m(self, key)\u001b[0m\n\u001b[1;32m    459\u001b[0m \u001b[39m@_copy_to_script_wrapper\u001b[39m\n\u001b[1;32m    460\u001b[0m \u001b[39mdef\u001b[39;00m \u001b[39m__getitem__\u001b[39m(\u001b[39mself\u001b[39m, key: \u001b[39mstr\u001b[39m) \u001b[39m-\u001b[39m\u001b[39m>\u001b[39m Module:\n\u001b[0;32m--> 461\u001b[0m     \u001b[39mreturn\u001b[39;00m \u001b[39mself\u001b[39;49m\u001b[39m.\u001b[39;49m_modules[key]\n",
                  "\u001b[0;31mKeyError\u001b[0m: '01'"
               ]
            }
         ],
         "source": [
            "w_rec_global = community.w_rec_global.data\n",
            "plt.imshow(w_rec_global)"
         ]
      },
      {
         "cell_type": "code",
         "execution_count": null,
         "metadata": {},
         "outputs": [],
         "source": [
            "abs_w = w_rec_global.abs()\n",
            "stepI = abs_w.sum(1)\n",
            "stepII = torch.pow(stepI, -0.5)\n",
            "stepIII = torch.diag(stepII)\n",
            "stepIV = torch.matrix_exp(stepIII @ abs_w @ stepIII)\n",
            "stepIV[torch.eye(abs_w.shape[0], dtype=bool)] = 0"
         ]
      },
      {
         "cell_type": "code",
         "execution_count": null,
         "metadata": {},
         "outputs": [
            {
               "data": {
                  "text/plain": [
                     "<matplotlib.image.AxesImage at 0x7fc4ef60a5b0>"
                  ]
               },
               "execution_count": 63,
               "metadata": {},
               "output_type": "execute_result"
            },
            {
               "data": {
                  "image/png": "[encoded data removed]",
                  "text/plain": [
                     "<Figure size 640x480 with 1 Axes>"
                  ]
               },
               "metadata": {},
               "output_type": "display_data"
            }
         ],
         "source": [
            "plt.imshow(stepIV.data.cpu())"
         ]
      },
      {
         "cell_type": "markdown",
         "metadata": {},
         "source": [
            "## Metrics"
         ]
      },
      {
         "cell_type": "markdown",
         "metadata": {},
         "source": [
            "### Retraining"
         ]
      },
      {
         "cell_type": "code",
         "execution_count": 203,
         "metadata": {},
         "outputs": [
            {
               "data": {
                  "application/vnd.jupyter.widget-view+json": {
                     "model_id": "1ba48bc670a04ac8893772f5213d5a07",
                     "version_major": 2,
                     "version_minor": 0
                  },
                  "text/plain": [
                     "Bottleneck Metric Trials :   0%|          | 0/2 [00:00<?, ?it/s]"
                  ]
               },
               "metadata": {},
               "output_type": "display_data"
            },
            {
               "data": {
                  "application/vnd.jupyter.widget-view+json": {
                     "model_id": "e8c30895f2c04bc08645d560571f59ff",
                     "version_major": 2,
                     "version_minor": 0
                  },
                  "text/plain": [
                     "Train Epoch::   0%|          | 0/1 [00:00<?, ?it/s]"
                  ]
               },
               "metadata": {},
               "output_type": "display_data"
            },
            {
               "data": {
                  "application/vnd.jupyter.widget-view+json": {
                     "model_id": "a00880ab348b450aaa7c33a99aade8b5",
                     "version_major": 2,
                     "version_minor": 0
                  },
                  "text/plain": [
                     "Train Epoch::   0%|          | 0/1 [00:00<?, ?it/s]"
                  ]
               },
               "metadata": {},
               "output_type": "display_data"
            }
         ],
         "source": [
            "from community.funcspec.bottleneck import readout_retrain\n",
            "\n",
            "steps = [str(community.min_t_comms -1 ), \"last\"]\n",
            "community.to(device)\n",
            "\n",
            "bottleneck_metrics, f_community = readout_retrain(\n",
            "    community,\n",
            "    loaders,\n",
            "    config,\n",
            "    n_epochs=1,\n",
            "    use_tqdm=True,\n",
            "    chosen_timesteps=steps,\n",
            "    n_hid=30,\n",
            "    task='all',\n",
            "    device=device\n",
            ")\n"
         ]
      },
      {
         "cell_type": "code",
         "execution_count": null,
         "metadata": {},
         "outputs": [],
         "source": [
            "det = lambda M: np.abs(np.linalg.det(M))\n",
            "\n",
            "def plot_metric(metric):\n",
            "\n",
            "    n_steps = len(metric)\n",
            "    fig, axs = plt.subplots(1, n_steps, figsize=(10, 3), constrained_layout=True)\n",
            "\n",
            "    if n_steps == 1:\n",
            "        axs = [axs]\n",
            "\n",
            "    for s, ax in enumerate(axs):\n",
            "\n",
            "        im = ax.imshow(metric[s])\n",
            "\n",
            "        ax.set_ylabel(\"agents\")\n",
            "        ax.set_xlabel(\"Task\")\n",
            "\n",
            "        ax.set_xticks(range(len(metric[s])))\n",
            "        ax.set_yticks(range(len(metric[s])))\n",
            "\n",
            "        fig.colorbar(im, ax=ax)\n",
            "\n",
            "        ax.set_title(\n",
            "            f\"Det = {det(metric[s]) :.3E} \\n Normed Det = {det(metric[s]) / metric[s].sum(0).prod() :.3E}\"\n",
            "        )"
         ]
      },
      {
         "cell_type": "code",
         "execution_count": null,
         "metadata": {},
         "outputs": [
            {
               "data": {
                  "image/png": "[encoded data removed]",
                  "text/plain": [
                     "<Figure size 1000x300 with 2 Axes>"
                  ]
               },
               "metadata": {},
               "output_type": "display_data"
            }
         ],
         "source": [
            "plot_metric(np.stack([bottleneck_metrics[\"accs\"][:, :, s] for s in range(len(steps))]))"
         ]
      },
      {
         "cell_type": "markdown",
         "metadata": {},
         "source": [
            "### Return of the masks"
         ]
      },
      {
         "cell_type": "code",
         "execution_count": null,
         "metadata": {},
         "outputs": [],
         "source": [
            "from community.funcspec.masks import (\n",
            "    train_and_get_mask_metric,\n",
            "    Mask_Community,\n",
            "    get_proportions,\n",
            "    get_proportions_per_agent,\n",
            "    GetSubnet_global,\n",
            "    find_optimal_sparsity,\n",
            "    train_mask,\n",
            ")\n"
         ]
      },
      {
         "cell_type": "code",
         "execution_count": null,
         "metadata": {},
         "outputs": [
            {
               "data": {
                  "application/vnd.jupyter.widget-view+json": {
                     "model_id": "1c7a76ffb2284dc2b274f313ca47d4e9",
                     "version_major": 2,
                     "version_minor": 0
                  },
                  "text/plain": [
                     "Mask Metric Trials :   0%|          | 0/1 [00:00<?, ?it/s]"
                  ]
               },
               "metadata": {},
               "output_type": "display_data"
            },
            {
               "data": {
                  "application/vnd.jupyter.widget-view+json": {
                     "model_id": "df232873b15d4c2ea1296d7ee153fc38",
                     "version_major": 2,
                     "version_minor": 0
                  },
                  "text/plain": [
                     "Train Epoch::   0%|          | 0/1 [00:00<?, ?it/s]"
                  ]
               },
               "metadata": {},
               "output_type": "display_data"
            },
            {
               "data": {
                  "application/vnd.jupyter.widget-view+json": {
                     "model_id": "8b2079dc7e064961bb0380083d5227de",
                     "version_major": 2,
                     "version_minor": 0
                  },
                  "text/plain": [
                     "Train Epoch::   0%|          | 0/1 [00:00<?, ?it/s]"
                  ]
               },
               "metadata": {},
               "output_type": "display_data"
            }
         ],
         "source": [
            "mask_metrics, masked_coms = train_and_get_mask_metric(\n",
            "    community,\n",
            "    0.2,\n",
            "    loaders,\n",
            "    config,\n",
            "    n_epochs=1,\n",
            "    lr=1e-1,\n",
            "    use_optimal_sparsity=False,\n",
            "    device=torch.device(\"cuda\"),\n",
            "    use_tqdm=True,\n",
            "    chosen_timesteps=[\"last\"],\n",
            ")"
         ]
      },
      {
         "cell_type": "code",
         "execution_count": null,
         "metadata": {},
         "outputs": [
            {
               "data": {
                  "text/plain": [
                     "0.23553719"
                  ]
               },
               "execution_count": 195,
               "metadata": {},
               "output_type": "execute_result"
            }
         ],
         "source": [
            "masked_coms[0][1].proportions.sum()\n"
         ]
      },
      {
         "cell_type": "code",
         "execution_count": null,
         "metadata": {},
         "outputs": [
            {
               "data": {
                  "image/png": "[encoded data removed]",
                  "text/plain": [
                     "<Figure size 1000x300 with 2 Axes>"
                  ]
               },
               "metadata": {},
               "output_type": "display_data"
            }
         ],
         "source": [
            "plot_metric(mask_metrics[\"proportions\"].transpose(-1, 1, 0))\n"
         ]
      },
      {
         "attachments": {},
         "cell_type": "markdown",
         "metadata": {},
         "source": [
            "### Shapley Values"
         ]
      },
      {
         "cell_type": "code",
         "execution_count": null,
         "metadata": {},
         "outputs": [],
         "source": [
            "from msapy import msa, utils as ut\n",
            "from community.common.decision import get_decision\n",
            "from community.common.training import get_loss\n",
            "from shapley import compute_shapley_values\n",
            "from functools import partial\n"
         ]
      },
      {
         "cell_type": "code",
         "execution_count": null,
         "metadata": {},
         "outputs": [],
         "source": [
            "nodes = list(np.arange(n_agents * config[\"model\"][\"agents\"][\"n_hidden\"]).astype(str))\n",
            "nodes_int = np.arange(n_agents * config[\"model\"][\"agents\"][\"n_hidden\"])\n"
         ]
      },
      {
         "cell_type": "code",
         "execution_count": null,
         "metadata": {},
         "outputs": [
            {
               "data": {
                  "application/vnd.jupyter.widget-view+json": {
                     "model_id": "c0c955df5ec943fcae68e955161a45a4",
                     "version_major": 2,
                     "version_minor": 0
                  },
                  "text/plain": [
                     "Bottleneck Metric Trials :   0%|          | 0/1 [00:00<?, ?it/s]"
                  ]
               },
               "metadata": {},
               "output_type": "display_data"
            },
            {
               "data": {
                  "application/vnd.jupyter.widget-view+json": {
                     "model_id": "7e750a1ce3464c4c9e4fa9e99fe04c35",
                     "version_major": 2,
                     "version_minor": 0
                  },
                  "text/plain": [
                     "Train Epoch::   0%|          | 0/10 [00:00<?, ?it/s]"
                  ]
               },
               "metadata": {},
               "output_type": "display_data"
            }
         ],
         "source": [
            "bottleneck_metrics, retrained_community = readout_retrain(\n",
            "    community,\n",
            "    loaders,\n",
            "    n_classes,\n",
            "    n_agents=config[\"model\"][\"n_agents\"],\n",
            "    n_digits=config[\"model\"][\"n_agents\"],\n",
            "    n_epochs=10,\n",
            "    use_tqdm=True,\n",
            "    symbols=use_symbols,\n",
            "    force_connections=False,\n",
            "    chosen_timesteps=['last'],\n",
            "    n_hid=None,\n",
            "    task=\"both\",\n",
            "    retrain_common=True,\n",
            ")"
         ]
      },
      {
         "cell_type": "code",
         "execution_count": null,
         "metadata": {},
         "outputs": [
            {
               "name": "stdout",
               "output_type": "stream",
               "text": [
                  "Task 0 : Performance without ablations : [0.72265625]\n"
               ]
            },
            {
               "name": "stderr",
               "output_type": "stream",
               "text": [
                  "100%|██████████| 1900/1900 [00:37<00:00, 50.03it/s]\n"
               ]
            },
            {
               "name": "stdout",
               "output_type": "stream",
               "text": [
                  "Task 1 : Performance without ablations : [0.73535156]\n"
               ]
            },
            {
               "name": "stderr",
               "output_type": "stream",
               "text": [
                  "100%|██████████| 1900/1900 [00:37<00:00, 50.53it/s]\n"
               ]
            }
         ],
         "source": [
            "shapley_compute = True\n",
            "shapley_recompute = True\n",
            "shapley_save = True\n",
            "\n",
            "try:\n",
            "    retrained_community\n",
            "except NameError:\n",
            "    retrained_community = community\n",
            "\n",
            "parallel = False\n",
            "\n",
            "n_permutations = 50\n",
            "\n",
            "try:\n",
            "    saved_shapley = torch.load(\"saves/shapley\")\n",
            "    shapley_tables = saved_shapley[str(config)]\n",
            "\n",
            "    if shapley_recompute:\n",
            "        (\n",
            "            shapley_tables,\n",
            "            shapley_tables_avg,\n",
            "            all_accs,\n",
            "            contributions,\n",
            "            lesion_effects,\n",
            "        ) = compute_shapley_values(\n",
            "            retrained_community, nodes, n_permutations, loaders, config, parallel\n",
            "        )\n",
            "\n",
            "    if shapley_save:\n",
            "        saved_shapley[str(config)] = shapley_tables\n",
            "        torch.save(saved_shapley, \"saves/shapley\")\n",
            "\n",
            "except FileNotFoundError:\n",
            "    # config[\"task\"] = [str(i) for i in range(n_agents)]\n",
            "\n",
            "    if shapley_compute:\n",
            "\n",
            "        (\n",
            "            shapley_tables,\n",
            "            shapley_tables_avg,\n",
            "            all_accs,\n",
            "            contributions,\n",
            "            lesion_effects,\n",
            "        ) = compute_shapley_values(\n",
            "            retrained_community, nodes, n_permutations, loaders, config, parallel\n",
            "        )\n",
            "\n",
            "    if shapley_save:\n",
            "        saved_shapley = {}\n",
            "        saved_shapley[str(config)] = shapley_tables\n",
            "        torch.save(saved_shapley, \"saves/shapley\")\n",
            "\n",
            "except KeyError:\n",
            "\n",
            "    if shapley_compute:\n",
            "\n",
            "        (\n",
            "            shapley_tables,\n",
            "            shapley_tables_avg,\n",
            "            all_accs,\n",
            "            contributions,\n",
            "            lesion_effects,\n",
            "        ) = compute_shapley_values(\n",
            "            retrained_community, nodes, n_permutations, loaders, config, parallel\n",
            "        )\n",
            "\n",
            "    if shapley_save:\n",
            "        saved_shapley[str(config)] = shapley_tables\n",
            "        torch.save(saved_shapley, \"saves/shapley\")"
         ]
      },
      {
         "cell_type": "code",
         "execution_count": null,
         "metadata": {},
         "outputs": [],
         "source": [
            "import pandas as pd\n"
         ]
      },
      {
         "cell_type": "code",
         "execution_count": null,
         "metadata": {},
         "outputs": [],
         "source": [
            "avg_shap_pd = pd.DataFrame.from_dict(\n",
            "    {\n",
            "        \"node\": nodes_int,\n",
            "        \"task_0\": shapley_tables_avg[0],\n",
            "        \"task_1\": shapley_tables_avg[1],\n",
            "    }\n",
            ")"
         ]
      },
      {
         "cell_type": "code",
         "execution_count": null,
         "metadata": {},
         "outputs": [
            {
               "data": {
                  "text/plain": [
                     "<AxesSubplot: xlabel='node'>"
                  ]
               },
               "execution_count": 157,
               "metadata": {},
               "output_type": "execute_result"
            },
            {
               "data": {
                  "image/png": "[encoded data removed]",
                  "text/plain": [
                     "<Figure size 640x480 with 1 Axes>"
                  ]
               },
               "metadata": {},
               "output_type": "display_data"
            }
         ],
         "source": [
            "fig, ax = plt.subplots(constrained_layout=True)\n",
            "avg_shap_pd.plot(x=\"node\", kind=\"bar\", stacked=True, ax=ax)\n"
         ]
      },
      {
         "cell_type": "code",
         "execution_count": null,
         "metadata": {},
         "outputs": [],
         "source": [
            "shapley_metric = np.array(\n",
            "    [\n",
            "        [\n",
            "            avg_shap_pd[\n",
            "                (i * n_hidden <= avg_shap_pd[\"node\"])\n",
            "                * (avg_shap_pd[\"node\"] < (i + 1) * n_hidden)\n",
            "            ][f\"task_{t}\"].mean()\n",
            "            for t in range(2)\n",
            "        ]\n",
            "        for i in range(n_agents)\n",
            "    ]\n",
            ")\n",
            "# shapley_metric = (shapley_metric - shapley_metric.min())\n",
            "# shapley_metric /= np.linalg.norm(shapley_metric)"
         ]
      },
      {
         "cell_type": "code",
         "execution_count": null,
         "metadata": {},
         "outputs": [
            {
               "data": {
                  "text/plain": [
                     "array([[0.00961133, 0.01583105],\n",
                     "       [0.02032031, 0.01497949]], dtype=float32)"
                  ]
               },
               "execution_count": 159,
               "metadata": {},
               "output_type": "execute_result"
            }
         ],
         "source": [
            "shapley_metric\n"
         ]
      },
      {
         "cell_type": "code",
         "execution_count": null,
         "metadata": {},
         "outputs": [
            {
               "data": {
                  "image/png": "[encoded data removed]",
                  "text/plain": [
                     "<Figure size 1000x300 with 2 Axes>"
                  ]
               },
               "metadata": {},
               "output_type": "display_data"
            }
         ],
         "source": [
            "plot_metric([shapley_metric])\n"
         ]
      },
      {
         "cell_type": "code",
         "execution_count": null,
         "metadata": {},
         "outputs": [
            {
               "data": {
                  "text/plain": [
                     "<matplotlib.collections.PathCollection at 0x7ff5aa2db520>"
                  ]
               },
               "execution_count": 161,
               "metadata": {},
               "output_type": "execute_result"
            },
            {
               "data": {
                  "image/png": "[encoded data removed]",
                  "text/plain": [
                     "<Figure size 640x480 with 1 Axes>"
                  ]
               },
               "metadata": {},
               "output_type": "display_data"
            }
         ],
         "source": [
            "plt.scatter(\n",
            "    shapley_tables_avg[0],\n",
            "    shapley_tables_avg[1],\n",
            "    c=np.arange(shapley_tables_avg[0].shape[0]) < shapley_tables_avg[0].shape[0] // 2,\n",
            ")\n"
         ]
      },
      {
         "cell_type": "code",
         "execution_count": null,
         "metadata": {},
         "outputs": [
            {
               "ename": "NameError",
               "evalue": "name 'KMeans' is not defined",
               "output_type": "error",
               "traceback": [
                  "\u001b[0;31m---------------------------------------------------------------------------\u001b[0m",
                  "\u001b[0;31mNameError\u001b[0m                                 Traceback (most recent call last)",
                  "Cell \u001b[0;32mIn[162], line 1\u001b[0m\n\u001b[0;32m----> 1\u001b[0m km \u001b[39m=\u001b[39m KMeans(\u001b[39m2\u001b[39m)\n\u001b[1;32m      2\u001b[0m all_shapley \u001b[39m=\u001b[39m pd\u001b[39m.\u001b[39mconcat(shapley_tables_avg, axis\u001b[39m=\u001b[39m\u001b[39m1\u001b[39m)\n\u001b[1;32m      3\u001b[0m km\u001b[39m.\u001b[39mfit(all_shapley)\n",
                  "\u001b[0;31mNameError\u001b[0m: name 'KMeans' is not defined"
               ]
            }
         ],
         "source": [
            "km = KMeans(2)\n",
            "all_shapley = pd.concat(shapley_tables_avg, axis=1)\n",
            "km.fit(all_shapley)\n",
            "kmeans_labels = km.labels_\n",
            "\n",
            "plt.scatter(shapley_tables_avg[0], shapley_tables_avg[1], c=kmeans_labels)"
         ]
      },
      {
         "cell_type": "code",
         "execution_count": null,
         "metadata": {},
         "outputs": [],
         "source": [
            "shapley_table, contributions, lesion_effects = msa.interface(\n",
            "    multiprocessing_method=\"joblib\",\n",
            "    elements=nodes,\n",
            "    n_permutations=10,\n",
            "    objective_function=masked_inference,\n",
            "    n_parallel_games=24,\n",
            ")"
         ]
      },
      {
         "cell_type": "markdown",
         "metadata": {},
         "source": [
            "# Stability"
         ]
      },
      {
         "cell_type": "code",
         "execution_count": null,
         "metadata": {},
         "outputs": [],
         "source": [
            "for ag in community.agents:\n",
            "    eigens = torch.linalg.eigvals(ag.w_rec).cpu().data\n",
            "    plt.figure()\n",
            "    plt.scatter(eigens.real, eigens.imag)\n"
         ]
      },
      {
         "cell_type": "code",
         "execution_count": null,
         "metadata": {},
         "outputs": [],
         "source": [
            "for state in states.transpose(0, 1).cpu():\n",
            "    plt.figure()\n",
            "    for s in state.transpose(0, -1):\n",
            "        plt.plot(range(6), s.mean(0).cpu().data)\n"
         ]
      },
      {
         "cell_type": "markdown",
         "metadata": {},
         "source": [
            "# New Data Gen"
         ]
      },
      {
         "cell_type": "code",
         "execution_count": null,
         "metadata": {},
         "outputs": [],
         "source": [
            "labels, centers = datasets[0].data[1:]\n",
            "centers = centers.transpose(0, 1)\n",
            "symbols = datasets[0].symbols\n",
            "symbol_size = datasets[0].symbol_size\n",
            "centers.shape\n"
         ]
      },
      {
         "cell_type": "code",
         "execution_count": null,
         "metadata": {},
         "outputs": [],
         "source": [
            "data_size = 10000\n",
            "input_size = 60\n",
            "n_steps = centers.shape[0]\n",
            "n_symbols = centers.shape[-2]\n",
            "symbol_assignments = [datasets[0].get_random_symbol_assignement(l) for l in labels]\n"
         ]
      },
      {
         "cell_type": "code",
         "execution_count": null,
         "metadata": {},
         "outputs": [],
         "source": [
            "def fill_grid(idxs):\n",
            "    # grids = np.zeros((n_steps, data_size, input_size, input_size))\n",
            "    time_step, data_idx, symbol = idxs\n",
            "    center_pos = centers[time_step, data_idx, symbol]\n",
            "    label = symbol_assignments[data_idx][symbol]\n",
            "    grids[\n",
            "        time_step,\n",
            "        data_idx,\n",
            "        center_pos[0] : center_pos[0] + symbol_size,\n",
            "        center_pos[1] : center_pos[1] + symbol_size,\n",
            "    ] += symbols[label]\n",
            "    # return grids\n",
            "\n",
            "\n",
            "@ray.remote\n",
            "def fill_grid_data(time_step):\n",
            "\n",
            "    grids = np.zeros((data_size, input_size, input_size))\n",
            "    for data_idx in range(data_size):\n",
            "        for symbol in range(n_symbols):\n",
            "            center_pos = centers[time_step, data_idx, symbol]\n",
            "            label = symbol_assignments[data_idx][symbol]\n",
            "            grids[\n",
            "                data_idx,\n",
            "                center_pos[0] : center_pos[0] + symbol_size,\n",
            "                center_pos[1] : center_pos[1] + symbol_size,\n",
            "            ] += symbols[label]\n",
            "\n",
            "    return grids\n",
            "\n",
            "\n",
            "def old_method():\n",
            "    grids = []\n",
            "\n",
            "    def assign_square(grid, center_pos, l, d):\n",
            "        grid[\n",
            "            d,\n",
            "            center_pos[0] : center_pos[0] + symbol_size,\n",
            "            center_pos[1] : center_pos[1] + symbol_size,\n",
            "        ] += symbols[l]\n",
            "\n",
            "    for center in centers:\n",
            "        grid = np.zeros((data_size, input_size, input_size))\n",
            "        for d in range(data_size):\n",
            "            for i, c in enumerate(center[d]):\n",
            "                # l = int(i < labels[d])\n",
            "                assign_square(grid, (c[0], c[1]), symbol_assignments[d][i], d)\n",
            "\n",
            "        grids.append(grid)\n",
            "\n",
            "    grids = np.stack(grids)\n",
            "\n",
            "    return grids\n",
            "\n",
            "\n",
            "time_data_and_sym = [\n",
            "    [t, d, i]\n",
            "    for t in range(n_steps)\n",
            "    for d in range(data_size)\n",
            "    for i in range(n_symbols)\n",
            "]\n"
         ]
      },
      {
         "cell_type": "code",
         "execution_count": null,
         "metadata": {},
         "outputs": [],
         "source": [
            "import ray\n",
            "\n",
            "num_cpus = 24\n",
            "\n",
            "grids = np.zeros((n_steps, data_size, input_size, input_size))\n",
            "\n",
            "grids_id = ray.put(grids)\n",
            "\n",
            "\n",
            "prof = profile.Profile()\n",
            "prof.enable()\n",
            "\n",
            "grids = np.stack(ray.get([fill_grid_data.remote(idx) for idx in range(n_steps)]))\n",
            "print(grids.shape)\n",
            "\n",
            "prof.disable()\n",
            "\n",
            "stats = pstats.Stats(prof).strip_dirs().sort_stats(\"cumtime\")\n",
            "stats.print_stats(30)  # top 10 rows\n"
         ]
      },
      {
         "cell_type": "code",
         "execution_count": null,
         "metadata": {},
         "outputs": [],
         "source": [
            "grids = np.zeros((n_steps, data_size, input_size, input_size))\n",
            "vect_fill = np.vectorize(fill_grid, signature=\"(N)->()\")\n",
            "\n",
            "prof = profile.Profile()\n",
            "prof.enable()\n",
            "\n",
            "grids = vect_fill(time_data_and_sym)\n",
            "print(grids.shape)\n",
            "\n",
            "prof.disable()\n",
            "\n",
            "stats = pstats.Stats(prof).strip_dirs().sort_stats(\"cumtime\")\n",
            "stats.print_stats(30)  # top 10 rows\n"
         ]
      },
      {
         "cell_type": "code",
         "execution_count": null,
         "metadata": {},
         "outputs": [],
         "source": [
            "grids = np.zeros((n_steps, data_size, input_size, input_size))\n",
            "\n",
            "prof = profile.Profile()\n",
            "prof.enable()\n",
            "\n",
            "grids = [fill_grid(idx) for idx in time_data_and_sym]\n",
            "\n",
            "prof.disable()\n",
            "\n",
            "stats = pstats.Stats(prof).strip_dirs().sort_stats(\"cumtime\")\n",
            "stats.print_stats(30)  # top 10 rows\n"
         ]
      },
      {
         "cell_type": "code",
         "execution_count": null,
         "metadata": {},
         "outputs": [],
         "source": [
            "prof = profile.Profile()\n",
            "prof.enable()\n",
            "\n",
            "grids_old = old_method()\n",
            "print(grids_old.shape)\n",
            "prof.disable()\n",
            "\n",
            "stats = pstats.Stats(prof).strip_dirs().sort_stats(\"cumtime\")\n",
            "stats.print_stats(30)  # top 10 rows\n"
         ]
      },
      {
         "cell_type": "code",
         "execution_count": null,
         "metadata": {},
         "outputs": [],
         "source": [
            "from joblib import delayed, Parallel\n"
         ]
      },
      {
         "cell_type": "code",
         "execution_count": null,
         "metadata": {},
         "outputs": [],
         "source": [
            "prof = profile.Profile()\n",
            "prof.enable()\n",
            "\n",
            "grids = np.stack([fill_grid_data(d) for d in trange(n_steps)])\n",
            "grids.shape\n",
            "\n",
            "prof.disable()\n",
            "\n",
            "stats = pstats.Stats(prof).strip_dirs().sort_stats(\"cumtime\")\n",
            "stats.print_stats(30)  # top 10 rows\n"
         ]
      },
      {
         "cell_type": "code",
         "execution_count": null,
         "metadata": {},
         "outputs": [],
         "source": [
            "prof = profile.Profile()\n",
            "prof.enable()\n",
            "\n",
            "grids = np.stack(\n",
            "    Parallel(24, max_nbytes=1e12, backend=\"multiprocessing\")(\n",
            "        delayed(fill_grid_data)(idx) for idx in trange(n_steps)\n",
            "    )\n",
            ")\n",
            "\n",
            "prof.disable()\n",
            "\n",
            "stats = pstats.Stats(prof).strip_dirs().sort_stats(\"cumtime\")\n",
            "stats.print_stats(30)  # top 10 rows\n"
         ]
      }
   ],
   "metadata": {
      "kernelspec": {
         "display_name": "community",
         "language": "python",
         "name": "python3"
      },
      "language_info": {
         "codemirror_mode": {
            "name": "ipython",
            "version": 3
         },
         "file_extension": ".py",
         "mimetype": "text/x-python",
         "name": "python",
         "nbconvert_exporter": "python",
         "pygments_lexer": "ipython3",
         "version": "3.10.9"
      },
      "orig_nbformat": 4,
      "vscode": {
         "interpreter": {
            "hash": "5c46eabf39b4d4e6cb6668853226ee702b3f0cb279968f228c052b13b97983d9"
         }
      }
   },
   "nbformat": 4,
   "nbformat_minor": 2
}
