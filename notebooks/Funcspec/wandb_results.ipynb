{
   "cells": [
      {
         "cell_type": "markdown",
         "metadata": {},
         "source": [
            "# Results from WandB\n"
         ]
      },
      {
         "cell_type": "markdown",
         "metadata": {},
         "source": [
            "## Imports"
         ]
      },
      {
         "cell_type": "code",
         "execution_count": 1,
         "metadata": {},
         "outputs": [],
         "source": [
            "import wandb\n",
            "from community.utils.wandb_utils import get_wandb_artifact, get_wandb_runs\n",
            "import numpy as np\n",
            "import torch\n",
            "import matplotlib.pyplot as plt\n",
            "import pandas as pd\n",
            "from tqdm.notebook import tqdm\n",
            "import json\n",
            "import seaborn as sns\n",
            "import pandas as pd\n",
            "import numpy.linalg as LA\n",
            "from itertools import product\n",
            "import ipywidgets as widgets\n"
         ]
      },
      {
         "cell_type": "markdown",
         "metadata": {},
         "source": [
            "## Load Results"
         ]
      },
      {
         "cell_type": "code",
         "execution_count": 2,
         "metadata": {},
         "outputs": [],
         "source": [
            "sweep_path = \"gbena/funcspec/mjw4dzu9\"\n",
            "sweep_path = \"m2snn/funcspec_V2/lf31u7wy\"\n",
            "sweep_path = \"m2snn/funcspec_V2/etsyghun\"\n",
            "sweep_path = \"m2snn/funcspec_V2/y1n0vtbp\"\n",
            "sweep_path = \"m2snn/funcspec_V2/if1h3qpo\"\n",
            "sweep_path = \"m2snn/funcspec_V2/o90n8wvw\"\n",
            "sweep_path = \"m2snn/funcspec_V2/t3avf3g4\"\n",
            "sweep_path = \"m2snn/funcspec_V2/0cwq0u1o\"\n",
            "sweep_path = \"m2snn/funcspec_V2/1irwkxuo\"\n",
            "sweep_path = \"m2snn/funcspec_V2/v0lh66o3\"\n",
            "sweep_path = \"m2snn/funcspec_V2/j8e1s14e\"\n",
            "sweep_path = \"m2snn/funcspec_V2/zq7n9zq4\"\n",
            "sweep_path = \"m2snn/funcspec_V2/b275wyza\"\n",
            "sweep_path = \"m2snn/funcspec_V2/4mo83a0n\"\n",
            "\n",
            "\n",
            "sweep_id = sweep_path.split(\"/\")[-1]\n",
            "\n",
            "try:\n",
            "    total_data = pd.read_pickle(f\"../../results/sweep_tables/{sweep_id}\")\n",
            "except FileNotFoundError:\n",
            "    total_data = pd.read_pickle(f\"../../results/sweep_tables/MetricResults_{sweep_id}\")\n",
            "\n",
            "total_data.columns, total_data.shape\n",
            "\n",
            "try:\n",
            "    total_data_recomp = pd.read_pickle(f\"../../results/recomputed_metrics/{sweep_id}\")\n",
            "except FileNotFoundError:\n",
            "    pass"
         ]
      },
      {
         "cell_type": "code",
         "execution_count": 3,
         "metadata": {},
         "outputs": [
            {
               "data": {
                  "text/html": [
                     "<div>\n",
                     "<style scoped>\n",
                     "    .dataframe tbody tr th:only-of-type {\n",
                     "        vertical-align: middle;\n",
                     "    }\n",
                     "\n",
                     "    .dataframe tbody tr th {\n",
                     "        vertical-align: top;\n",
                     "    }\n",
                     "\n",
                     "    .dataframe thead th {\n",
                     "        text-align: right;\n",
                     "    }\n",
                     "</style>\n",
                     "<table border=\"1\" class=\"dataframe\">\n",
                     "  <thead>\n",
                     "    <tr style=\"text-align: right;\">\n",
                     "      <th></th>\n",
                     "      <th>Step</th>\n",
                     "      <th>best_acc</th>\n",
                     "      <th>sparsity</th>\n",
                     "      <th>common_input</th>\n",
                     "      <th>common_readout</th>\n",
                     "      <th>n_bot</th>\n",
                     "      <th>n_hidden</th>\n",
                     "      <th>task</th>\n",
                     "      <th>bottleneck_det</th>\n",
                     "      <th>bottleneck_det_col_norm</th>\n",
                     "      <th>bottleneck_global_diff</th>\n",
                     "      <th>bottleneck_0_local_diff</th>\n",
                     "      <th>bottleneck_1_local_diff</th>\n",
                     "      <th>bottleneck_all_local_diff</th>\n",
                     "      <th>seed</th>\n",
                     "      <th>name</th>\n",
                     "    </tr>\n",
                     "  </thead>\n",
                     "  <tbody>\n",
                     "    <tr>\n",
                     "      <th>0</th>\n",
                     "      <td>mid-</td>\n",
                     "      <td>0.443409</td>\n",
                     "      <td>0.0001</td>\n",
                     "      <td>False</td>\n",
                     "      <td>True</td>\n",
                     "      <td>10</td>\n",
                     "      <td>100</td>\n",
                     "      <td>parity-digits</td>\n",
                     "      <td>0.112152</td>\n",
                     "      <td>0.679209</td>\n",
                     "      <td>0.680200</td>\n",
                     "      <td>0.698028</td>\n",
                     "      <td>-0.662373</td>\n",
                     "      <td>0.154756</td>\n",
                     "      <td>21</td>\n",
                     "      <td>morning-sweep-106</td>\n",
                     "    </tr>\n",
                     "    <tr>\n",
                     "      <th>1</th>\n",
                     "      <td>last</td>\n",
                     "      <td>0.443409</td>\n",
                     "      <td>0.0001</td>\n",
                     "      <td>False</td>\n",
                     "      <td>True</td>\n",
                     "      <td>10</td>\n",
                     "      <td>100</td>\n",
                     "      <td>parity-digits</td>\n",
                     "      <td>0.624156</td>\n",
                     "      <td>0.850721</td>\n",
                     "      <td>0.850644</td>\n",
                     "      <td>0.857545</td>\n",
                     "      <td>-0.843742</td>\n",
                     "      <td>0.030865</td>\n",
                     "      <td>21</td>\n",
                     "      <td>morning-sweep-106</td>\n",
                     "    </tr>\n",
                     "    <tr>\n",
                     "      <th>2</th>\n",
                     "      <td>mid-</td>\n",
                     "      <td>0.459535</td>\n",
                     "      <td>0.0001</td>\n",
                     "      <td>False</td>\n",
                     "      <td>True</td>\n",
                     "      <td>10</td>\n",
                     "      <td>100</td>\n",
                     "      <td>parity-digits</td>\n",
                     "      <td>0.108480</td>\n",
                     "      <td>0.669349</td>\n",
                     "      <td>0.668974</td>\n",
                     "      <td>0.632911</td>\n",
                     "      <td>-0.705036</td>\n",
                     "      <td>-0.077783</td>\n",
                     "      <td>21</td>\n",
                     "      <td>morning-sweep-106</td>\n",
                     "    </tr>\n",
                     "    <tr>\n",
                     "      <th>3</th>\n",
                     "      <td>last</td>\n",
                     "      <td>0.459535</td>\n",
                     "      <td>0.0001</td>\n",
                     "      <td>False</td>\n",
                     "      <td>True</td>\n",
                     "      <td>10</td>\n",
                     "      <td>100</td>\n",
                     "      <td>parity-digits</td>\n",
                     "      <td>0.711225</td>\n",
                     "      <td>0.856709</td>\n",
                     "      <td>0.856602</td>\n",
                     "      <td>0.850378</td>\n",
                     "      <td>-0.862826</td>\n",
                     "      <td>-0.045769</td>\n",
                     "      <td>21</td>\n",
                     "      <td>morning-sweep-106</td>\n",
                     "    </tr>\n",
                     "    <tr>\n",
                     "      <th>4</th>\n",
                     "      <td>mid-</td>\n",
                     "      <td>0.371995</td>\n",
                     "      <td>0.0001</td>\n",
                     "      <td>False</td>\n",
                     "      <td>True</td>\n",
                     "      <td>10</td>\n",
                     "      <td>100</td>\n",
                     "      <td>parity-digits</td>\n",
                     "      <td>0.064447</td>\n",
                     "      <td>0.608122</td>\n",
                     "      <td>0.608021</td>\n",
                     "      <td>0.596789</td>\n",
                     "      <td>-0.619252</td>\n",
                     "      <td>0.034336</td>\n",
                     "      <td>21</td>\n",
                     "      <td>morning-sweep-106</td>\n",
                     "    </tr>\n",
                     "  </tbody>\n",
                     "</table>\n",
                     "</div>"
                  ],
                  "text/plain": [
                     "   Step  best_acc  sparsity  common_input  common_readout n_bot  n_hidden  \\\n",
                     "0  mid-  0.443409    0.0001         False            True    10       100   \n",
                     "1  last  0.443409    0.0001         False            True    10       100   \n",
                     "2  mid-  0.459535    0.0001         False            True    10       100   \n",
                     "3  last  0.459535    0.0001         False            True    10       100   \n",
                     "4  mid-  0.371995    0.0001         False            True    10       100   \n",
                     "\n",
                     "            task  bottleneck_det  bottleneck_det_col_norm  \\\n",
                     "0  parity-digits        0.112152                 0.679209   \n",
                     "1  parity-digits        0.624156                 0.850721   \n",
                     "2  parity-digits        0.108480                 0.669349   \n",
                     "3  parity-digits        0.711225                 0.856709   \n",
                     "4  parity-digits        0.064447                 0.608122   \n",
                     "\n",
                     "   bottleneck_global_diff  bottleneck_0_local_diff  bottleneck_1_local_diff  \\\n",
                     "0                0.680200                 0.698028                -0.662373   \n",
                     "1                0.850644                 0.857545                -0.843742   \n",
                     "2                0.668974                 0.632911                -0.705036   \n",
                     "3                0.856602                 0.850378                -0.862826   \n",
                     "4                0.608021                 0.596789                -0.619252   \n",
                     "\n",
                     "   bottleneck_all_local_diff seed               name  \n",
                     "0                   0.154756   21  morning-sweep-106  \n",
                     "1                   0.030865   21  morning-sweep-106  \n",
                     "2                  -0.077783   21  morning-sweep-106  \n",
                     "3                  -0.045769   21  morning-sweep-106  \n",
                     "4                   0.034336   21  morning-sweep-106  "
                  ]
               },
               "execution_count": 3,
               "metadata": {},
               "output_type": "execute_result"
            }
         ],
         "source": [
            "total_data.head()\n"
         ]
      },
      {
         "cell_type": "code",
         "execution_count": 4,
         "metadata": {},
         "outputs": [],
         "source": [
            "def filter_data(data, v_params):\n",
            "    data = data.copy()\n",
            "    for key, value in v_params.items():\n",
            "        if value is None:\n",
            "            data = data[data[key].isnull()]\n",
            "        else:\n",
            "            data = data[data[key] == value]\n",
            "\n",
            "    return data\n",
            "\n",
            "\n",
            "def get_values(data, value=\"bottleneck_global_diff\"):\n",
            "    return data[[\"n_hidden\", \"sparsity\", value]].values.T\n",
            "\n",
            "\n",
            "def get_all_v_params(varying_params, excluded_params={}):\n",
            "    return [\n",
            "        {\n",
            "            k: p\n",
            "            for k, p in zip(varying_params.keys(), params)\n",
            "            if k not in excluded_params\n",
            "        }\n",
            "        for params in product(*varying_params.values())\n",
            "    ]\n",
            "\n",
            "\n",
            "varying_params = {\n",
            "    \"common_readout\": [True],\n",
            "    \"n_bot\": [5, 10, None],\n",
            "    \"common_input\": [False],\n",
            "    \"task\": [\"parity-digits\", \"both\", \"sum\"],\n",
            "    \"Step\": [\"mid-\", \"last\"],\n",
            "}"
         ]
      },
      {
         "cell_type": "code",
         "execution_count": 5,
         "metadata": {},
         "outputs": [],
         "source": [
            "total_data[\"mult\"] = total_data[\"bottleneck_global_diff\"] * total_data[\"best_acc\"]"
         ]
      },
      {
         "attachments": {},
         "cell_type": "markdown",
         "metadata": {},
         "source": [
            "## Plot Interactive Sweep Results"
         ]
      },
      {
         "cell_type": "code",
         "execution_count": 6,
         "metadata": {},
         "outputs": [],
         "source": [
            "from community.utils.heatmap import compute_and_plot_heatmap, compute_and_plot_colormesh\n"
         ]
      },
      {
         "cell_type": "code",
         "execution_count": 7,
         "metadata": {},
         "outputs": [],
         "source": [
            "varying_params_all = get_all_v_params(varying_params)"
         ]
      },
      {
         "cell_type": "code",
         "execution_count": 8,
         "metadata": {},
         "outputs": [],
         "source": [
            "data = filter_data(total_data, varying_params_all[-1])\n"
         ]
      },
      {
         "cell_type": "code",
         "execution_count": 9,
         "metadata": {},
         "outputs": [
            {
               "data": {
                  "text/plain": [
                     "{'common_readout': True,\n",
                     " 'n_bot': None,\n",
                     " 'common_input': False,\n",
                     " 'task': 'sum',\n",
                     " 'Step': 'last'}"
                  ]
               },
               "execution_count": 9,
               "metadata": {},
               "output_type": "execute_result"
            }
         ],
         "source": [
            "varying_params_all[-1]\n"
         ]
      },
      {
         "cell_type": "code",
         "execution_count": 10,
         "metadata": {},
         "outputs": [],
         "source": [
            "def plot_fn(**params):\n",
            "\n",
            "    plot_type = params.pop(\"plot_type\")\n",
            "    metric_color = params.pop(\"metric_color\")\n",
            "    smoothness = params.pop(\"smoothness\")\n",
            "    log_scale = params.pop(\"log_scale\")\n",
            "\n",
            "    v_params = {k: v for k, v in params.items()}\n",
            "    # print(v_params)\n",
            "    excluded_params = {\"Step\", \"task\", \"log_scale\"}\n",
            "    v_params_filered = {k: v for k, v in params.items() if k not in excluded_params}\n",
            "    legend_params = {k: v for k, v in v_params_filered.items() if len(v) != 1}\n",
            "\n",
            "    tasks, steps = v_params[\"task\"], v_params[\"Step\"]\n",
            "\n",
            "    n_tasks = len(tasks)\n",
            "    n_steps = len(steps)\n",
            "\n",
            "    v_params_all = get_all_v_params(v_params_filered)\n",
            "    legend_params_all = get_all_v_params(legend_params)\n",
            "\n",
            "    if plot_type == \"grad_spec\":\n",
            "        pass\n",
            "\n",
            "    else:\n",
            "        for s, step in enumerate(steps):\n",
            "\n",
            "            v_p1 = len(v_params_filered)\n",
            "            v_p2 = max([len(v) for v in v_params_filered.values()])\n",
            "\n",
            "            n_params = len(v_params_all)\n",
            "            n1 = int(np.sqrt(n_params))\n",
            "            n2 = n_params // n1\n",
            "\n",
            "            if n1 * n2 < n_params:\n",
            "                n2 += 1\n",
            "\n",
            "            # print(n1, n2)\n",
            "\n",
            "            fig = plt.figure(\n",
            "                constrained_layout=True, figsize=(5 * n2, 5 * n1 * n_tasks)\n",
            "            )\n",
            "\n",
            "            fig.suptitle(f\"Functional Specialization on step {step}\")\n",
            "\n",
            "            # create 3x1 subfigs\n",
            "            subfigs = fig.subfigures(nrows=n_tasks, ncols=1)\n",
            "            if n_tasks == 1:\n",
            "                subfigs = [subfigs]\n",
            "\n",
            "            Zs = []\n",
            "\n",
            "            for t, (subfig, task) in enumerate(zip(subfigs, tasks)):\n",
            "\n",
            "                subfig.suptitle(f\"Task :  {task}\")\n",
            "\n",
            "                # create subplots per subfig\n",
            "\n",
            "                axs = subfig.subplots(nrows=n1, ncols=n2)\n",
            "\n",
            "                try:\n",
            "                    axs[0]\n",
            "                except TypeError:\n",
            "                    axs = np.array([axs])\n",
            "                for i, (ax, v_param, l_param) in enumerate(\n",
            "                    zip(axs.flatten(), v_params_all, legend_params_all)\n",
            "                ):\n",
            "\n",
            "                    filter_param = v_param.copy()\n",
            "                    filter_param[\"Step\"] = step\n",
            "                    filter_param[\"task\"] = task\n",
            "                    data = filter_data(total_data, filter_param)\n",
            "\n",
            "                    argmins = (\n",
            "                        data[metric_color].values.argsort()[:10],\n",
            "                        data[metric_color].values.argsort()[-10:],\n",
            "                    )\n",
            "                    minmax = [\n",
            "                        data[metric_color].values[idxs].mean() for idxs in argmins\n",
            "                    ]\n",
            "                    # print(minmax)\n",
            "                    # print(data.shape)\n",
            "                    values = get_values(data, metric_color)\n",
            "\n",
            "                    if 0 not in data.shape:\n",
            "                        if plot_type == \"heatmap\":\n",
            "\n",
            "                            (\n",
            "                                (X, Y),\n",
            "                                (X_mesh, Y_mesh),\n",
            "                                Z,\n",
            "                                sigmas,\n",
            "                                *_,\n",
            "                            ) = compute_and_plot_heatmap(\n",
            "                                values,\n",
            "                                (fig, ax),\n",
            "                                log_scale=log_scale,\n",
            "                                plot_f=False,\n",
            "                                random=False,\n",
            "                                minmax=minmax,\n",
            "                                smoothness=smoothness,\n",
            "                            )\n",
            "                        elif plot_type == \"scipy\":\n",
            "                            (\n",
            "                                X_mesh,\n",
            "                                Y_mesh,\n",
            "                                Z,\n",
            "                                (fig, ax),\n",
            "                                cbar,\n",
            "                            ) = compute_and_plot_colormesh(\n",
            "                                values, (fig, ax), log_scale=log_scale\n",
            "                            )\n",
            "                        Zs.append(Z)\n",
            "\n",
            "                    ax.set_title((str(l_param).strip(\"{}\").replace(\",\", \"\\n\")))"
         ]
      },
      {
         "cell_type": "code",
         "execution_count": 11,
         "metadata": {},
         "outputs": [],
         "source": [
            "params_widgets = {\n",
            "    k: widgets.SelectMultiple(\n",
            "        options=[p for p in params], description=k, disabled=False, value=[params[0]]\n",
            "    )\n",
            "    for k, params in varying_params.items()\n",
            "    if len(params) > 1\n",
            "}\n",
            "\n",
            "params_widgets[\"smoothness\"] = widgets.FloatSlider(7, min=0.5, max=10, step=0.2)\n",
            "# params_widgets['epoch'] = widgets.IntSlider(nb_epochs-1, min=0, max=nb_epochs-1)\n",
            "params_widgets[\"log_scale\"] = widgets.Dropdown(options=[False, True])\n",
            "\n",
            "params_widgets[\"plot_type\"] = widgets.Dropdown(\n",
            "    options=[\"heatmap\", \"scipy\"],\n",
            "    description=\"Plot Type\",\n",
            "    disabled=False,\n",
            "    manual=True,\n",
            "    auto_display=False,\n",
            ")\n",
            "\n",
            "params_widgets[\"metric_color\"] = widgets.Dropdown(\n",
            "    options=[\"bottleneck_global_diff\", \"best_acc\", \"mult\"],\n",
            "    description=\"Metric to plot\",\n",
            "    disabled=False,\n",
            "    manual=True,\n",
            "    auto_display=False,\n",
            ")\n",
            "\n",
            "interactive_plot = widgets.interactive(plot_fn, **params_widgets)"
         ]
      },
      {
         "cell_type": "code",
         "execution_count": 12,
         "metadata": {},
         "outputs": [
            {
               "data": {
                  "application/vnd.jupyter.widget-view+json": {
                     "model_id": "8cfa8aee457d48b3899ed0fad8f60fc1",
                     "version_major": 2,
                     "version_minor": 0
                  },
                  "text/plain": [
                     "interactive(children=(SelectMultiple(description='n_bot', index=(0,), options=(5, 10, None), value=(5,)), Sele…"
                  ]
               },
               "metadata": {},
               "output_type": "display_data"
            }
         ],
         "source": [
            "display(interactive_plot)"
         ]
      },
      {
         "cell_type": "markdown",
         "metadata": {},
         "source": [
            "### Specialization Gradient"
         ]
      },
      {
         "cell_type": "code",
         "execution_count": 15,
         "metadata": {},
         "outputs": [],
         "source": [
            "def get_spec_gradient(**v_params) : \n",
            "\n",
            "    if v_params['n_hidden'] not in total_data['n_hidden'].unique() :\n",
            "        return\n",
            "\n",
            "    v_params.pop('Step')\n",
            "    print(v_params)\n",
            "    ags = ['Ag 0', 'Readout', 'Ag 1']\n",
            "    data = filter_data(\n",
            "    total_data, v_params\n",
            "    )\n",
            "    data_per_ts = [filter_data(data, {'Step' : ts}) for ts in ['mid-', 'last']]\n",
            "    data_per_ag_mean = [[data[[f'bottleneck_{ag}_local_diff']] for ag in [0, 'all', 1]] for data in data_per_ts]\n",
            "\n",
            "    diffs_ag_ts = {\n",
            "        f'{ags[j]} ts {i}' : data_per_ag_mean[i][j].values.squeeze() for i, j in [[0, 0], [1, 0], [1, 1], [1, 2], [0, 2]]\n",
            "    }\n",
            "\n",
            "    diffs_ag_ts = pd.DataFrame.from_dict(diffs_ag_ts)\n",
            "    diffs_ag_ts['sparsity'] = data_per_ts[0]['sparsity'].values.squeeze()\n",
            "    \n",
            "    fig, ax = plt.subplots(figsize=(10, 5), dpi=100, constrained_layout=True)\n",
            "    plot_data = data=diffs_ag_ts.groupby('sparsity').mean()\n",
            "    colors = sns.color_palette('husl', n_colors=len(plot_data.index.values))  # get a number of colors\n",
            "    cmap = dict(zip(plot_data.index.values, colors))  # zip values to colors\n",
            "    plot = sns.lineplot(plot_data.T, legend=False, palette=cmap, ax=ax)\n",
            "\n",
            "    sm = plt.cm.ScalarMappable(cmap=sns.husl_palette(as_cmap=True))\n",
            "    sm.set_array([])\n",
            "    fig.colorbar(sm, label='% interconnections', orientation='vertical', ax=ax)\n",
            "\n",
            "    ax.set_xticklabels([f\"{ 'Ag' * (ag != 'Readout')} {ag} Step {t}\" for t, ag in [[0, 0], [1, 0], [1, 'Readout'], [1, 1], [0, 1]]]\n",
            "    )\n",
            "    ax.set_ylim(-1, 1)\n",
            "    ax.set_ylabel(\"Functional \\n Specialization\")\n",
            "    ax.set_yticks([-1, 0, 1], [\"Subtask 1\", \"No Spec\", \"Subtask 0\"])\n",
            "\n",
            "    ax.hlines(0, 0, 4, linestyles=\"--\", colors=\"black\", alpha=0.3)\n",
            "    ax.vlines(np.arange(5), -1, 1, linestyles=\"--\", colors=\"black\", alpha=0.3)\n",
            "\n",
            "    fig.show()"
         ]
      },
      {
         "cell_type": "code",
         "execution_count": 16,
         "metadata": {},
         "outputs": [
            {
               "data": {
                  "application/vnd.jupyter.widget-view+json": {
                     "model_id": "850e46e0e8d741609aee35ffb85967fd",
                     "version_major": 2,
                     "version_minor": 0
                  },
                  "text/plain": [
                     "interactive(children=(Select(description='common_readout', options=(True,), value=True), Select(description='n…"
                  ]
               },
               "metadata": {},
               "output_type": "display_data"
            }
         ],
         "source": [
            "params_widgets = {\n",
            "    k: widgets.Select(\n",
            "        options=[p for p in params], description=k, disabled=False, value=params[0]\n",
            "    )\n",
            "    for k, params in varying_params.items()\n",
            "}\n",
            "\n",
            "params_widgets['n_hidden'] = widgets.IntSlider(value=25, min=10, max=100, step=5)\n",
            "\n",
            "interactive_plot = widgets.interactive(get_spec_gradient, **params_widgets)\n",
            "\n",
            "display(interactive_plot)"
         ]
      },
      {
         "cell_type": "code",
         "execution_count": 230,
         "metadata": {},
         "outputs": [
            {
               "data": {
                  "text/plain": [
                     "{5, False, True, 'mid-', 'parity-digits'}"
                  ]
               },
               "execution_count": 230,
               "metadata": {},
               "output_type": "execute_result"
            }
         ],
         "source": [
            "{params[0] for k, params in varying_params.items()\n",
            "}"
         ]
      },
      {
         "attachments": {},
         "cell_type": "markdown",
         "metadata": {},
         "source": [
            "# Parameter Importance"
         ]
      },
      {
         "cell_type": "code",
         "execution_count": 41,
         "metadata": {},
         "outputs": [
            {
               "ename": "ModuleNotFoundError",
               "evalue": "No module named 'sklearn'",
               "output_type": "error",
               "traceback": [
                  "\u001b[0;31m---------------------------------------------------------------------------\u001b[0m",
                  "\u001b[0;31mModuleNotFoundError\u001b[0m                       Traceback (most recent call last)",
                  "Cell \u001b[0;32mIn[41], line 1\u001b[0m\n\u001b[0;32m----> 1\u001b[0m \u001b[39mfrom\u001b[39;00m \u001b[39msklearn\u001b[39;00m\u001b[39m.\u001b[39;00m\u001b[39mensemble\u001b[39;00m \u001b[39mimport\u001b[39;00m RandomForestRegressor \u001b[39mas\u001b[39;00m RF\n\u001b[1;32m      2\u001b[0m \u001b[39mfrom\u001b[39;00m \u001b[39msklearn\u001b[39;00m\u001b[39m.\u001b[39;00m\u001b[39mmodel_selection\u001b[39;00m \u001b[39mimport\u001b[39;00m train_test_split\n\u001b[1;32m      3\u001b[0m \u001b[39mfrom\u001b[39;00m \u001b[39msklearn\u001b[39;00m\u001b[39m.\u001b[39;00m\u001b[39mtree\u001b[39;00m \u001b[39mimport\u001b[39;00m export_graphviz, plot_tree\n",
                  "\u001b[0;31mModuleNotFoundError\u001b[0m: No module named 'sklearn'"
               ]
            }
         ],
         "source": [
            "from sklearn.ensemble import RandomForestRegressor as RF\n",
            "from sklearn.model_selection import train_test_split\n",
            "from sklearn.tree import export_graphviz, plot_tree\n"
         ]
      },
      {
         "cell_type": "code",
         "execution_count": 45,
         "metadata": {},
         "outputs": [
            {
               "name": "stdout",
               "output_type": "stream",
               "text": [
                  "0.01722677743195029\n"
               ]
            }
         ],
         "source": [
            "rf = RF()\n",
            "metric = \"bottleneck_global_diff\"\n",
            "metric = \"best_acc\"\n",
            "\n",
            "all_features = [\"n_hidden\", \"sparsity\", \"common_input\", \"common_readout\", \"task\"]\n",
            "\n",
            "fixed_features = {\"task\": \"parity-both\", \"common_input\": True, \"common_readout\": True}\n",
            "\n",
            "# fixed_features = {}\n",
            "\n",
            "data = s_datas[1]\n",
            "remaining_features = [f for f in all_features if f not in fixed_features]\n",
            "for f, f_value in fixed_features.items():\n",
            "    data = filter_data(data, f, f_value)\n",
            "\n",
            "X = data[remaining_features]\n",
            "y = data[metric]\n",
            "\n",
            "if \"task\" in remaining_features:\n",
            "    X[\"task_bool\"] = X[\"task\"] == \"all\"\n",
            "    X = X[[f for f in remaining_features if f != \"task\"] + [\"task_bool\"]]\n",
            "\n",
            "X_train, X_test, y_train, y_test = train_test_split(X, y, test_size=0.33)\n",
            "\n",
            "rf.fit(X_train, y_train)\n",
            "\n",
            "print(np.abs((rf.predict(X_test) - y_test)).mean())\n",
            "\n",
            "feature_importances = lambda rf: {\n",
            "    f: f_i for f, f_i in zip(rf.feature_names_in_, rf.feature_importances_)\n",
            "}"
         ]
      },
      {
         "cell_type": "code",
         "execution_count": 47,
         "metadata": {},
         "outputs": [
            {
               "data": {
                  "text/plain": [
                     "{'n_hidden': 0.899038104024546, 'sparsity': 0.10096189597545406}"
                  ]
               },
               "execution_count": 47,
               "metadata": {},
               "output_type": "execute_result"
            }
         ],
         "source": [
            "feature_importances(rf)\n"
         ]
      },
      {
         "cell_type": "code",
         "execution_count": 48,
         "metadata": {},
         "outputs": [
            {
               "data": {
                  "image/png": "[encoded data removed]",
                  "text/plain": [
                     "<Figure size 640x480 with 1 Axes>"
                  ]
               },
               "metadata": {},
               "output_type": "display_data"
            }
         ],
         "source": [
            "plt.bar(range(len(feature_importances(rf))), feature_importances(rf).values())\n",
            "plt.xticks(range(len(feature_importances(rf))), list(feature_importances(rf).keys()))"
         ]
      },
      {
         "cell_type": "markdown",
         "metadata": {},
         "source": [
            "# Find new metric"
         ]
      },
      {
         "cell_type": "code",
         "execution_count": 2,
         "metadata": {},
         "outputs": [],
         "source": [
            "import numpy as np\n",
            "import numpy.linalg as LA\n",
            "from numpy.linalg import LinAlgError"
         ]
      },
      {
         "cell_type": "code",
         "execution_count": 8,
         "metadata": {},
         "outputs": [],
         "source": [
            "def agent_diff(col):\n",
            "    return (col[1] - col[0]) / col.sum()\n",
            "\n",
            "\n",
            "def global_diff(M):\n",
            "    return np.abs(agent_diff(M[:, 0]) - agent_diff(M[:, 1])) / 2\n",
            "\n",
            "\n",
            "def new_metric(M):\n",
            "    return np.abs(LA.det(M)) / M.sum(0).prod()\n"
         ]
      },
      {
         "cell_type": "code",
         "execution_count": 29,
         "metadata": {},
         "outputs": [
            {
               "data": {
                  "text/plain": [
                     "(0.5, 1.0)"
                  ]
               },
               "execution_count": 29,
               "metadata": {},
               "output_type": "execute_result"
            }
         ],
         "source": [
            "n_agents = 2\n",
            "\n",
            "M = np.random.rand(n_agents, n_agents)\n",
            "\n",
            "M = np.eye(n_agents)\n",
            "M[0, 1] = 1\n",
            "\n",
            "new_metric(M), np.abs(LA.det(M))"
         ]
      },
      {
         "cell_type": "code",
         "execution_count": 128,
         "metadata": {},
         "outputs": [
            {
               "data": {
                  "text/plain": [
                     "(array([[0., 1.],\n",
                     "        [0., 0.]]),\n",
                     " array([[1., 0., 0.],\n",
                     "        [0., 1., 0.],\n",
                     "        [0., 0., 1.]]))"
                  ]
               },
               "execution_count": 128,
               "metadata": {},
               "output_type": "execute_result"
            }
         ],
         "source": [
            "idxs = [0, 2]\n",
            "sub_mat = lambda M, idx: np.delete(np.delete(M, idx[0], 0), idx[1], 1).squeeze()\n",
            "sub_mat(M, idxs), M\n"
         ]
      },
      {
         "cell_type": "code",
         "execution_count": 180,
         "metadata": {},
         "outputs": [],
         "source": [
            "def reccursive_new_metric(M):\n",
            "    if M.shape[0] > 2:\n",
            "\n",
            "        res = new_metric(M)\n",
            "\n",
            "        for i in range(M.shape[0]):\n",
            "            for j in range(M.shape[1]):\n",
            "                subM = sub_mat(M, [i, j])\n",
            "                res += reccursive_new_metric(subM)\n",
            "\n",
            "    else:\n",
            "        res = new_metric(M)\n",
            "\n",
            "    print(res)\n",
            "    return res\n"
         ]
      }
   ],
   "metadata": {
      "kernelspec": {
         "display_name": "community",
         "language": "python",
         "name": "python3"
      },
      "language_info": {
         "codemirror_mode": {
            "name": "ipython",
            "version": 3
         },
         "file_extension": ".py",
         "mimetype": "text/x-python",
         "name": "python",
         "nbconvert_exporter": "python",
         "pygments_lexer": "ipython3",
         "version": "3.10.9"
      },
      "orig_nbformat": 4,
      "vscode": {
         "interpreter": {
            "hash": "5c46eabf39b4d4e6cb6668853226ee702b3f0cb279968f228c052b13b97983d9"
         }
      }
   },
   "nbformat": 4,
   "nbformat_minor": 2
}
