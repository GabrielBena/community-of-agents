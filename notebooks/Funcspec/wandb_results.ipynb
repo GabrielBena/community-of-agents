{
   "cells": [
      {
         "cell_type": "markdown",
         "metadata": {},
         "source": [
            "# Results from WandB\n"
         ]
      },
      {
         "cell_type": "markdown",
         "metadata": {},
         "source": [
            "## Imports"
         ]
      },
      {
         "cell_type": "code",
         "execution_count": 17,
         "metadata": {},
         "outputs": [],
         "source": [
            "import wandb\n",
            "from community.utils.wandb_utils import get_wandb_artifact, get_wandb_runs\n",
            "import numpy as np\n",
            "import torch\n",
            "import matplotlib.pyplot as plt\n",
            "import pandas as pd\n",
            "from tqdm.notebook import tqdm\n",
            "import json\n",
            "import seaborn as sns\n",
            "import pandas as pd\n",
            "import numpy.linalg as LA\n",
            "from itertools import product\n",
            "import ipywidgets as widgets"
         ]
      },
      {
         "cell_type": "markdown",
         "metadata": {},
         "source": [
            "## Load Results"
         ]
      },
      {
         "cell_type": "code",
         "execution_count": 2,
         "metadata": {},
         "outputs": [
            {
               "data": {
                  "text/plain": [
                     "(Index(['Step', 'best_acc', 'sparsity', 'common_input', 'common_readout',\n",
                     "        'n_hidden', 'task', 'use_bottleneck', 'bottleneck_det',\n",
                     "        'bottleneck_det_col_norm', 'bottleneck_norm_1', 'bottleneck_norm_2',\n",
                     "        'bottleneck_norm_fro', 'bottleneck_norm_nuc', 'bottleneck_global_diff',\n",
                     "        'name'],\n",
                     "       dtype='object'),\n",
                     " (32640, 16))"
                  ]
               },
               "execution_count": 2,
               "metadata": {},
               "output_type": "execute_result"
            }
         ],
         "source": [
            "sweep_path = \"gbena/funcspec/mjw4dzu9\"\n",
            "sweep_path = \"m2snn/funcspec_V2/lf31u7wy\"\n",
            "sweep_path = \"m2snn/funcspec_V2/etsyghun\"\n",
            "sweep_path = \"m2snn/funcspec_V2/y1n0vtbp\"\n",
            "sweep_path = \"m2snn/funcspec_V2/if1h3qpo\"\n",
            "sweep_path = \"m2snn/funcspec_V2/o90n8wvw\"\n",
            "sweep_path = \"m2snn/funcspec_V2/t3avf3g4\"\n",
            "sweep_path = \"m2snn/funcspec_V2/0cwq0u1o\"\n",
            "sweep_path = \"m2snn/funcspec_V2/1irwkxuo\"\n",
            "sweep_path = \"m2snn/funcspec_V2/v0lh66o3\"\n",
            "sweep_path = \"m2snn/funcspec_V2/j8e1s14e\"\n",
            "sweep_path = \"m2snn/funcspec_V2/zq7n9zq4\"\n",
            "\n",
            "sweep_id = sweep_path.split(\"/\")[-1]\n",
            "\n",
            "total_data = pd.read_pickle(f\"../../results/sweep_tables/{sweep_id}\")\n",
            "total_data.columns, total_data.shape"
         ]
      },
      {
         "cell_type": "code",
         "execution_count": 80,
         "metadata": {},
         "outputs": [],
         "source": [
            "def filter_data(data, v_params):\n",
            "    data = data.copy()\n",
            "    for key, value in v_params.items() : \n",
            "        if value is None:\n",
            "            data = data[data[key].isnull()]\n",
            "        else:\n",
            "            data = data[data[key] == value]\n",
            "            \n",
            "    return data\n",
            "    \n",
            "def get_values(data, value=\"bottleneck_global_diff\") : \n",
            "    return data[[\"n_hidden\", \"sparsity\", value]].values.T\n",
            "\n",
            "def get_all_v_params(varying_params, excluded_params={}):\n",
            "    return [\n",
            "        {\n",
            "            k: p\n",
            "            for k, p in zip(varying_params.keys(), params)\n",
            "            if k not in excluded_params\n",
            "        }\n",
            "        for params in product(*varying_params.values())\n",
            "    ]\n",
            "    \n",
            "varying_params = {\"common_readout\": [True, False], \"use_bottleneck\": [True, False], 'common_input' : [True, False], 'task' : ['bitxor', 'bitxor-last-1', 'bitxor-last-2'],  'Step' : ['mid-', 'last']}"
         ]
      },
      {
         "cell_type": "code",
         "execution_count": 81,
         "metadata": {},
         "outputs": [],
         "source": [
            "total_data['mult'] = total_data['bottleneck_global_diff'] * total_data['best_acc']"
         ]
      },
      {
         "attachments": {},
         "cell_type": "markdown",
         "metadata": {},
         "source": [
            "## Plot Interactive Sweep Results"
         ]
      },
      {
         "cell_type": "code",
         "execution_count": 8,
         "metadata": {},
         "outputs": [],
         "source": [
            "from community.utils.heatmap import compute_and_plot_heatmap, compute_and_plot_colormesh"
         ]
      },
      {
         "cell_type": "code",
         "execution_count": 6,
         "metadata": {},
         "outputs": [],
         "source": [
            "varying_params_all = get_all_v_params(varying_params)\n"
         ]
      },
      {
         "cell_type": "code",
         "execution_count": 56,
         "metadata": {},
         "outputs": [],
         "source": [
            "data = filter_data(total_data, varying_params_all[-1])"
         ]
      },
      {
         "cell_type": "code",
         "execution_count": 55,
         "metadata": {},
         "outputs": [
            {
               "data": {
                  "text/plain": [
                     "{'common_readout': False,\n",
                     " 'use_bottleneck': False,\n",
                     " 'common_input': False,\n",
                     " 'task': 'bitxor-last-2',\n",
                     " 'Step': 'last'}"
                  ]
               },
               "execution_count": 55,
               "metadata": {},
               "output_type": "execute_result"
            }
         ],
         "source": [
            "varying_params_all[-1]"
         ]
      },
      {
         "cell_type": "code",
         "execution_count": 82,
         "metadata": {},
         "outputs": [],
         "source": [
            "def plot_fn(**params) : \n",
            "\n",
            "    plot_type = params.pop('plot_type')\n",
            "    metric_color = params.pop('metric_color')\n",
            "    smoothness = params.pop('smoothness')\n",
            "\n",
            "    v_params = {k: v for k, v in params.items()}\n",
            "    print(v_params)\n",
            "    excluded_params =  {'Step', 'task'}\n",
            "    v_params_filered = {k: v for k, v in params.items() if k not in ['task', 'Step']}\n",
            "\n",
            "    tasks, steps = v_params['task'], v_params['Step']\n",
            "\n",
            "    n_tasks = len(tasks)\n",
            "    n_steps = len(steps)\n",
            "    \n",
            "    v_params_all = get_all_v_params(v_params_filered)\n",
            "\n",
            "    for s, step in enumerate(steps) : \n",
            "        \n",
            "        print(step)\n",
            "\n",
            "        v_p1 = len(v_params_filered)\n",
            "        v_p2 = max([len(v) for v in v_params_filered.values()])\n",
            "\n",
            "        n_params = len(v_params_all)\n",
            "        n1 = int(np.sqrt(n_params))\n",
            "        n2 = n_params // n1\n",
            "\n",
            "        if n1 * n2 < n_params : \n",
            "            n2 += 1\n",
            "\n",
            "        print(n1, n2)\n",
            "\n",
            "        fig = plt.figure(\n",
            "            constrained_layout=True, figsize=(5 * n2, 5 * n1 * n_tasks)\n",
            "        )\n",
            "\n",
            "\n",
            "        fig.suptitle(f\"Functional Specialization on step {step}\")\n",
            "\n",
            "        # create 3x1 subfigs\n",
            "        subfigs = fig.subfigures(nrows=n_tasks, ncols=1)\n",
            "        if n_tasks == 1:\n",
            "            subfigs = [subfigs]\n",
            "\n",
            "        Zs = []\n",
            "\n",
            "        for t, (subfig, task) in enumerate(zip(subfigs, tasks)):\n",
            "\n",
            "            subfig.suptitle(f\"Task :  {task}\")\n",
            "\n",
            "            # create subplots per subfig\n",
            "\n",
            "            axs = subfig.subplots(nrows=n1, ncols=n2)\n",
            "\n",
            "            try : \n",
            "                axs[0]\n",
            "            except TypeError : \n",
            "                axs = np.array([axs])\n",
            "            for i, (ax, v_param) in enumerate(zip(axs.flatten(), v_params_all)) : \n",
            "                \n",
            "                filter_param = v_param.copy()\n",
            "                filter_param['Step'] = step\n",
            "                filter_param['task'] = task\n",
            "                data = filter_data(total_data, filter_param)    \n",
            "                \n",
            "                argmins = (\n",
            "                    data[metric_color].values.argsort()[:10],\n",
            "                    data[metric_color].values.argsort()[-10:],\n",
            "                )\n",
            "                minmax = [data[metric_color].values[idxs].mean() for idxs in argmins]\n",
            "                #print(minmax)\n",
            "                #print(data.shape)\n",
            "                values = get_values(data, metric_color)\n",
            "\n",
            "                if 0 not in data.shape : \n",
            "                    if plot_type == 'heatmap' : \n",
            "                            \n",
            "                        (X, Y), (X_mesh, Y_mesh), Z, sigmas, *_ = compute_and_plot_heatmap(\n",
            "                            values,\n",
            "                            (fig, ax),\n",
            "                            log_scale=True,\n",
            "                            plot_f=False,\n",
            "                            random=False,\n",
            "                            minmax=minmax, \n",
            "                            smoothness=smoothness\n",
            "                        )\n",
            "                    elif plot_type == 'scipy' : \n",
            "                        X_mesh, Y_mesh, Z, (fig, ax), cbar = compute_and_plot_colormesh(values, (fig, ax))\n",
            "                    Zs.append(Z)\n",
            "\n",
            "                ax.set_title((str(v_param).strip(\"{}\").replace(\",\", \"\\n\")))"
         ]
      },
      {
         "cell_type": "code",
         "execution_count": 83,
         "metadata": {},
         "outputs": [],
         "source": [
            "params_widgets = {\n",
            "    k: widgets.SelectMultiple(\n",
            "        options=[p for p in params], description=k, disabled=False, value=[params[0]]\n",
            "    )\n",
            "    for k, params in varying_params.items()\n",
            "    }\n",
            "\n",
            "params_widgets['smoothness'] = widgets.FloatSlider(7, min=0.5, max=10, step=0.2)\n",
            "#params_widgets['epoch'] = widgets.IntSlider(nb_epochs-1, min=0, max=nb_epochs-1)\n",
            "\n",
            "params_widgets[\"plot_type\"] = widgets.Dropdown(\n",
            "    options=[\"heatmap\", \"scipy\"], \n",
            "    description=\"Plot Type\",\n",
            "    disabled=False,\n",
            "    manual=True,\n",
            "    auto_display=False,\n",
            ")\n",
            "\n",
            "params_widgets['metric_color'] = widgets.Dropdown(\n",
            "    options=[\"bottleneck_global_diff\", \"best_acc\", 'mult'], \n",
            "    description=\"Metric to plot\",\n",
            "    disabled=False,\n",
            "    manual=True,\n",
            "    auto_display=False,\n",
            ")\n",
            "\n",
            "interactive_plot = widgets.interactive(plot_fn, **params_widgets)\n"
         ]
      },
      {
         "cell_type": "code",
         "execution_count": 84,
         "metadata": {},
         "outputs": [
            {
               "data": {
                  "application/vnd.jupyter.widget-view+json": {
                     "model_id": "c9d523c577f4417db694a33400cccf34",
                     "version_major": 2,
                     "version_minor": 0
                  },
                  "text/plain": [
                     "interactive(children=(SelectMultiple(description='common_readout', index=(0,), options=(True, False), value=(T…"
                  ]
               },
               "metadata": {},
               "output_type": "display_data"
            }
         ],
         "source": [
            "display(interactive_plot)\n"
         ]
      },
      {
         "cell_type": "markdown",
         "metadata": {},
         "source": [
            "### heatmap"
         ]
      },
      {
         "cell_type": "code",
         "execution_count": null,
         "metadata": {},
         "outputs": [],
         "source": []
      },
      {
         "cell_type": "code",
         "execution_count": 52,
         "metadata": {},
         "outputs": [
            {
               "name": "stdout",
               "output_type": "stream",
               "text": [
                  "[0.0025 0.005  0.01   0.025  0.1    0.5    1.    ]\n",
                  "[0.0025 0.005  0.01   0.025  0.1    0.5    1.    ]\n",
                  "[0.0025 0.005  0.01   0.025  0.1    0.5    1.    ]\n"
               ]
            },
            {
               "data": {
                  "text/plain": [
                     "Text(0.5, 0, 'Number of Interconnections')"
                  ]
               },
               "execution_count": 52,
               "metadata": {},
               "output_type": "execute_result"
            },
            {
               "data": {
                  "image/png": "[encoded data removed]",
                  "text/plain": [
                     "<Figure size 640x480 with 1 Axes>"
                  ]
               },
               "metadata": {},
               "output_type": "display_data"
            }
         ],
         "source": [
            "data = f_data[0][1]\n",
            "data['p_comms'] = data['sparsity'] * data['n_hidden'] ** 2\n",
            "n_hids = [10, 20, 50, 100]\n",
            "for n1, n2 in zip(n_hids[:-1], n_hids[1:]) : \n",
            "    print(data['sparsity'][filter].unique())\n",
            "    filter = (data['n_hidden'] > n1) * (data['n_hidden'] < n2) \n",
            "    plt.plot(data['sparsity'][filter].unique(), data[filter].groupby('sparsity')['bottleneck_det_col_norm'].mean(), label=f'[{n1}, {n2}]')\n",
            "plt.legend()\n",
            "plt.xlabel('Number of Interconnections')"
         ]
      },
      {
         "cell_type": "code",
         "execution_count": 66,
         "metadata": {},
         "outputs": [
            {
               "data": {
                  "text/html": [
                     "<div>\n",
                     "<style scoped>\n",
                     "    .dataframe tbody tr th:only-of-type {\n",
                     "        vertical-align: middle;\n",
                     "    }\n",
                     "\n",
                     "    .dataframe tbody tr th {\n",
                     "        vertical-align: top;\n",
                     "    }\n",
                     "\n",
                     "    .dataframe thead th {\n",
                     "        text-align: right;\n",
                     "    }\n",
                     "</style>\n",
                     "<table border=\"1\" class=\"dataframe\">\n",
                     "  <thead>\n",
                     "    <tr style=\"text-align: right;\">\n",
                     "      <th></th>\n",
                     "      <th>n_hidden</th>\n",
                     "      <th>sparsity</th>\n",
                     "    </tr>\n",
                     "  </thead>\n",
                     "  <tbody>\n",
                     "    <tr>\n",
                     "      <th>1</th>\n",
                     "      <td>15</td>\n",
                     "      <td>0.0025</td>\n",
                     "    </tr>\n",
                     "    <tr>\n",
                     "      <th>3</th>\n",
                     "      <td>15</td>\n",
                     "      <td>0.0025</td>\n",
                     "    </tr>\n",
                     "    <tr>\n",
                     "      <th>5</th>\n",
                     "      <td>15</td>\n",
                     "      <td>0.0025</td>\n",
                     "    </tr>\n",
                     "    <tr>\n",
                     "      <th>7</th>\n",
                     "      <td>15</td>\n",
                     "      <td>0.0025</td>\n",
                     "    </tr>\n",
                     "    <tr>\n",
                     "      <th>9</th>\n",
                     "      <td>15</td>\n",
                     "      <td>0.0050</td>\n",
                     "    </tr>\n",
                     "    <tr>\n",
                     "      <th>...</th>\n",
                     "      <td>...</td>\n",
                     "      <td>...</td>\n",
                     "    </tr>\n",
                     "    <tr>\n",
                     "      <th>61</th>\n",
                     "      <td>15</td>\n",
                     "      <td>1.0000</td>\n",
                     "    </tr>\n",
                     "    <tr>\n",
                     "      <th>63</th>\n",
                     "      <td>15</td>\n",
                     "      <td>1.0000</td>\n",
                     "    </tr>\n",
                     "    <tr>\n",
                     "      <th>65</th>\n",
                     "      <td>15</td>\n",
                     "      <td>1.0000</td>\n",
                     "    </tr>\n",
                     "    <tr>\n",
                     "      <th>67</th>\n",
                     "      <td>15</td>\n",
                     "      <td>1.0000</td>\n",
                     "    </tr>\n",
                     "    <tr>\n",
                     "      <th>69</th>\n",
                     "      <td>15</td>\n",
                     "      <td>1.0000</td>\n",
                     "    </tr>\n",
                     "  </tbody>\n",
                     "</table>\n",
                     "<p>126 rows × 2 columns</p>\n",
                     "</div>"
                  ],
                  "text/plain": [
                     "    n_hidden  sparsity\n",
                     "1         15    0.0025\n",
                     "3         15    0.0025\n",
                     "5         15    0.0025\n",
                     "7         15    0.0025\n",
                     "9         15    0.0050\n",
                     "..       ...       ...\n",
                     "61        15    1.0000\n",
                     "63        15    1.0000\n",
                     "65        15    1.0000\n",
                     "67        15    1.0000\n",
                     "69        15    1.0000\n",
                     "\n",
                     "[126 rows x 2 columns]"
                  ]
               },
               "execution_count": 66,
               "metadata": {},
               "output_type": "execute_result"
            }
         ],
         "source": [
            "data[['n_hidden', 'sparsity']][data['n_hidden'] == 15]"
         ]
      },
      {
         "cell_type": "code",
         "execution_count": 55,
         "metadata": {},
         "outputs": [
            {
               "data": {
                  "text/plain": [
                     "0.0044444444444444444"
                  ]
               },
               "execution_count": 55,
               "metadata": {},
               "output_type": "execute_result"
            }
         ],
         "source": [
            "1 / 15**2"
         ]
      },
      {
         "cell_type": "code",
         "execution_count": 46,
         "metadata": {},
         "outputs": [],
         "source": [
            "data['n_comms'] = data['sparsity'] * data['n_hidden'] ** 2"
         ]
      },
      {
         "cell_type": "code",
         "execution_count": 31,
         "metadata": {},
         "outputs": [
            {
               "data": {
                  "text/plain": [
                     "1     0.0025\n",
                     "3     0.0025\n",
                     "5     0.0025\n",
                     "7     0.0025\n",
                     "9     0.0050\n",
                     "       ...  \n",
                     "47    0.5000\n",
                     "49    1.0000\n",
                     "51    1.0000\n",
                     "53    1.0000\n",
                     "55    1.0000\n",
                     "Name: sparsity, Length: 196, dtype: float64"
                  ]
               },
               "execution_count": 31,
               "metadata": {},
               "output_type": "execute_result"
            }
         ],
         "source": [
            "data['sparsity'][filter]"
         ]
      },
      {
         "attachments": {},
         "cell_type": "markdown",
         "metadata": {},
         "source": [
            "# Parameter Importance"
         ]
      },
      {
         "cell_type": "code",
         "execution_count": 41,
         "metadata": {},
         "outputs": [
            {
               "ename": "ModuleNotFoundError",
               "evalue": "No module named 'sklearn'",
               "output_type": "error",
               "traceback": [
                  "\u001b[0;31m---------------------------------------------------------------------------\u001b[0m",
                  "\u001b[0;31mModuleNotFoundError\u001b[0m                       Traceback (most recent call last)",
                  "Cell \u001b[0;32mIn[41], line 1\u001b[0m\n\u001b[0;32m----> 1\u001b[0m \u001b[39mfrom\u001b[39;00m \u001b[39msklearn\u001b[39;00m\u001b[39m.\u001b[39;00m\u001b[39mensemble\u001b[39;00m \u001b[39mimport\u001b[39;00m RandomForestRegressor \u001b[39mas\u001b[39;00m RF\n\u001b[1;32m      2\u001b[0m \u001b[39mfrom\u001b[39;00m \u001b[39msklearn\u001b[39;00m\u001b[39m.\u001b[39;00m\u001b[39mmodel_selection\u001b[39;00m \u001b[39mimport\u001b[39;00m train_test_split\n\u001b[1;32m      3\u001b[0m \u001b[39mfrom\u001b[39;00m \u001b[39msklearn\u001b[39;00m\u001b[39m.\u001b[39;00m\u001b[39mtree\u001b[39;00m \u001b[39mimport\u001b[39;00m export_graphviz, plot_tree\n",
                  "\u001b[0;31mModuleNotFoundError\u001b[0m: No module named 'sklearn'"
               ]
            }
         ],
         "source": [
            "from sklearn.ensemble import RandomForestRegressor as RF\n",
            "from sklearn.model_selection import train_test_split\n",
            "from sklearn.tree import export_graphviz, plot_tree"
         ]
      },
      {
         "cell_type": "code",
         "execution_count": 45,
         "metadata": {},
         "outputs": [
            {
               "name": "stdout",
               "output_type": "stream",
               "text": [
                  "0.01722677743195029\n"
               ]
            }
         ],
         "source": [
            "rf = RF()\n",
            "metric = 'bottleneck_global_diff'\n",
            "metric = 'best_acc'\n",
            "\n",
            "all_features = [\"n_hidden\", \"sparsity\", 'common_input', 'common_readout', 'task']\n",
            "\n",
            "fixed_features = {\n",
            "    'task' : 'parity-both', \n",
            "    'common_input' : True, \n",
            "    'common_readout' : True\n",
            "}\n",
            "\n",
            "#fixed_features = {}\n",
            "\n",
            "data = s_datas[1]\n",
            "remaining_features = [f for f in all_features if f not in fixed_features]\n",
            "for f, f_value in fixed_features.items() : \n",
            "    data = filter_data(data, f, f_value)\n",
            "\n",
            "X = data[remaining_features]\n",
            "y = data[metric]\n",
            "\n",
            "if 'task' in remaining_features : \n",
            "    X['task_bool'] = X['task'] == 'all'\n",
            "    X = X[[f for f in remaining_features if f != 'task'] + ['task_bool']]\n",
            "\n",
            "X_train, X_test, y_train, y_test = train_test_split(X, y, test_size=0.33)\n",
            "\n",
            "rf.fit(X_train, y_train)\n",
            "\n",
            "print(np.abs((rf.predict(X_test) - y_test)).mean())\n",
            "\n",
            "feature_importances = lambda rf : {f : f_i for f, f_i in zip(rf.feature_names_in_, rf.feature_importances_)}\n"
         ]
      },
      {
         "cell_type": "code",
         "execution_count": 47,
         "metadata": {},
         "outputs": [
            {
               "data": {
                  "text/plain": [
                     "{'n_hidden': 0.899038104024546, 'sparsity': 0.10096189597545406}"
                  ]
               },
               "execution_count": 47,
               "metadata": {},
               "output_type": "execute_result"
            }
         ],
         "source": [
            "feature_importances(rf)"
         ]
      },
      {
         "cell_type": "code",
         "execution_count": 48,
         "metadata": {},
         "outputs": [
            {
               "data": {
                  "image/png": "[encoded data removed]",
                  "text/plain": [
                     "<Figure size 640x480 with 1 Axes>"
                  ]
               },
               "metadata": {},
               "output_type": "display_data"
            }
         ],
         "source": [
            "plt.bar(range(len(feature_importances(rf))), feature_importances(rf).values())\n",
            "plt.xticks(range(len(feature_importances(rf))), list(feature_importances(rf).keys()));"
         ]
      },
      {
         "cell_type": "markdown",
         "metadata": {},
         "source": [
            "# Find new metric"
         ]
      },
      {
         "cell_type": "code",
         "execution_count": 2,
         "metadata": {},
         "outputs": [],
         "source": [
            "import numpy as np\n",
            "import numpy.linalg as LA\n",
            "from numpy.linalg import LinAlgError\n"
         ]
      },
      {
         "cell_type": "code",
         "execution_count": 8,
         "metadata": {},
         "outputs": [],
         "source": [
            "def agent_diff(col):\n",
            "    return (col[1] - col[0]) / col.sum()\n",
            "\n",
            "\n",
            "def global_diff(M):\n",
            "    return np.abs(agent_diff(M[:, 0]) - agent_diff(M[:, 1])) / 2\n",
            "\n",
            "\n",
            "def new_metric(M):\n",
            "    return np.abs(LA.det(M)) / M.sum(0).prod()"
         ]
      },
      {
         "cell_type": "code",
         "execution_count": 29,
         "metadata": {},
         "outputs": [
            {
               "data": {
                  "text/plain": [
                     "(0.5, 1.0)"
                  ]
               },
               "execution_count": 29,
               "metadata": {},
               "output_type": "execute_result"
            }
         ],
         "source": [
            "n_agents = 2\n",
            "\n",
            "M = np.random.rand(n_agents, n_agents)\n",
            "\n",
            "M = np.eye(n_agents)\n",
            "M[0, 1] = 1\n",
            "\n",
            "new_metric(M), np.abs(LA.det(M))\n"
         ]
      },
      {
         "cell_type": "code",
         "execution_count": 128,
         "metadata": {},
         "outputs": [
            {
               "data": {
                  "text/plain": [
                     "(array([[0., 1.],\n",
                     "        [0., 0.]]),\n",
                     " array([[1., 0., 0.],\n",
                     "        [0., 1., 0.],\n",
                     "        [0., 0., 1.]]))"
                  ]
               },
               "execution_count": 128,
               "metadata": {},
               "output_type": "execute_result"
            }
         ],
         "source": [
            "idxs = [0, 2]\n",
            "sub_mat = lambda M, idx: np.delete(np.delete(M, idx[0], 0), idx[1], 1).squeeze()\n",
            "sub_mat(M, idxs), M"
         ]
      },
      {
         "cell_type": "code",
         "execution_count": 180,
         "metadata": {},
         "outputs": [],
         "source": [
            "def reccursive_new_metric(M):\n",
            "    if M.shape[0] > 2:\n",
            "\n",
            "        res = new_metric(M)\n",
            "\n",
            "        for i in range(M.shape[0]):\n",
            "            for j in range(M.shape[1]):\n",
            "                subM = sub_mat(M, [i, j])\n",
            "                res += reccursive_new_metric(subM)\n",
            "\n",
            "    else:\n",
            "        res = new_metric(M)\n",
            "\n",
            "    print(res)\n",
            "    return res"
         ]
      }
   ],
   "metadata": {
      "kernelspec": {
         "display_name": "community",
         "language": "python",
         "name": "python3"
      },
      "language_info": {
         "codemirror_mode": {
            "name": "ipython",
            "version": 3
         },
         "file_extension": ".py",
         "mimetype": "text/x-python",
         "name": "python",
         "nbconvert_exporter": "python",
         "pygments_lexer": "ipython3",
         "version": "3.10.9"
      },
      "orig_nbformat": 4,
      "vscode": {
         "interpreter": {
            "hash": "5c46eabf39b4d4e6cb6668853226ee702b3f0cb279968f228c052b13b97983d9"
         }
      }
   },
   "nbformat": 4,
   "nbformat_minor": 2
}