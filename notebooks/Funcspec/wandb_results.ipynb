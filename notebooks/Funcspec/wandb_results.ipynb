{
   "cells": [
      {
         "cell_type": "markdown",
         "metadata": {},
         "source": [
            "# Results from WandB\n"
         ]
      },
      {
         "cell_type": "markdown",
         "metadata": {},
         "source": [
            "## Imports"
         ]
      },
      {
         "cell_type": "code",
         "execution_count": 1,
         "metadata": {},
         "outputs": [],
         "source": [
            "import wandb\n",
            "from community.utils.wandb_utils import get_wandb_artifact, get_wandb_runs\n",
            "from community.utils.plotting import set_style\n",
            "import numpy as np\n",
            "import torch\n",
            "import matplotlib.pyplot as plt\n",
            "import pandas as pd\n",
            "from tqdm.notebook import tqdm\n",
            "import json\n",
            "import seaborn as sns\n",
            "import pandas as pd\n",
            "import numpy.linalg as LA\n",
            "from itertools import product\n",
            "import ipywidgets as widgets\n",
            "import os"
         ]
      },
      {
         "cell_type": "code",
         "execution_count": 2,
         "metadata": {},
         "outputs": [],
         "source": [
            "from community.utils.heatmap import compute_and_plot_heatmap, compute_and_plot_colormesh\n"
         ]
      },
      {
         "cell_type": "code",
         "execution_count": 3,
         "metadata": {},
         "outputs": [],
         "source": [
            "%load_ext autoreload\n",
            "%autoreload 2"
         ]
      },
      {
         "cell_type": "markdown",
         "metadata": {},
         "source": [
            "## Load Results"
         ]
      },
      {
         "cell_type": "code",
         "execution_count": 6,
         "metadata": {},
         "outputs": [
            {
               "data": {
                  "text/plain": [
                     "(84180, 30)"
                  ]
               },
               "execution_count": 6,
               "metadata": {},
               "output_type": "execute_result"
            }
         ],
         "source": [
            "local_save = True\n",
            "\n",
            "\n",
            "sweep_id = \"1skgp5vr\"\n",
            "\n",
            "if not local_save:\n",
            "\n",
            "    try:\n",
            "        total_data = pd.read_pickle(f\"../../results/sweep_tables/{sweep_id}\")\n",
            "    except FileNotFoundError:\n",
            "        total_data = pd.read_pickle(\n",
            "            f\"../../results/sweep_tables/MetricResults_{sweep_id}\"\n",
            "        )\n",
            "else:\n",
            "    total_data = pd.read_pickle(\n",
            "        f\"/mnt/storage/gb21/community/compiled_wandb_results/{sweep_id}/metric_table\"\n",
            "    )\n",
            "p = total_data[\"sparsity\"]\n",
            "total_data[\"q_metric\"] = 0.5 * (1 - p) / (1 + p)\n",
            "total_data[\"n_conns\"] = (\n",
            "    (total_data[\"n_hidden\"] ** 2 * total_data[\"sparsity\"]).round().astype(int)\n",
            ")\n",
            "total_data.shape"
         ]
      },
      {
         "cell_type": "code",
         "execution_count": 7,
         "metadata": {},
         "outputs": [],
         "source": [
            "def filter_data(data, v_params):\n",
            "    data = data.copy()\n",
            "    for key, value in v_params.items():\n",
            "        if isinstance(value, list):\n",
            "            filter = np.sum([data[key] == v for v in value], axis=0).astype(bool)\n",
            "            data = data[filter]\n",
            "        else:\n",
            "            if value is None:\n",
            "                data = data[data[key].isnull()]\n",
            "            else:\n",
            "                data = data[data[key] == value]\n",
            "\n",
            "    return data\n",
            "\n",
            "\n",
            "def get_values(data, x=\"n_hidden\", y=\"sparsity\", value=\"retraining_global_diff\"):\n",
            "    return data[[x, y, value]].values.T\n",
            "\n",
            "\n",
            "def get_all_v_params(varying_params, excluded_params={}):\n",
            "    return [\n",
            "        {\n",
            "            k: p\n",
            "            for k, p in zip(varying_params.keys(), params)\n",
            "            if k not in excluded_params\n",
            "        }\n",
            "        for params in product(*varying_params.values())\n",
            "    ]\n",
            "\n",
            "\n",
            "params = [\"common_readout\", \"n_bot\", \"common_input\", \"task\", \"Step\", \"cov_ratio\"]\n",
            "\n",
            "\n",
            "varying_params = {}\n",
            "for param in params:\n",
            "    if param in total_data.columns:\n",
            "        varying_params[param] = total_data[param].unique().tolist()\n",
            "        try:\n",
            "            varying_params[param] = sorted(varying_params[param])\n",
            "            varying_params[param] = [\n",
            "                v if not np.isnan(v) else None for v in varying_params[param]\n",
            "            ]\n",
            "        except TypeError:\n",
            "            pass\n",
            "\n",
            "\n",
            "heatmap_params = [\"n_hidden\", \"sparsity\", \"cov_ratio\", 'n_conns']"
         ]
      },
      {
         "cell_type": "code",
         "execution_count": 8,
         "metadata": {},
         "outputs": [],
         "source": [
            "total_data[\"mult\"] = total_data[\"retraining_global_diff\"] * total_data[\"best_acc\"]"
         ]
      },
      {
         "attachments": {},
         "cell_type": "markdown",
         "metadata": {},
         "source": [
            "## Plot Interactive Sweep Results"
         ]
      },
      {
         "cell_type": "code",
         "execution_count": 28,
         "metadata": {},
         "outputs": [],
         "source": [
            "varying_params_all = get_all_v_params(varying_params)\n",
            "\n",
            "\n",
            "def plot_fn(**params):\n",
            "\n",
            "    plot_type = params.pop(\"plot_type\")\n",
            "    metric = params.pop(\"metric_to_plot\")\n",
            "    smoothness = params.pop(\"smoothness\")\n",
            "    log_scale = params.pop(\"log_scale\")\n",
            "    x, y = params.pop(\"x\"), params.pop(\"y\")\n",
            "\n",
            "    v_params = {k: v for k, v in params.items()}\n",
            "    print(v_params)\n",
            "    # print(v_params)\n",
            "    excluded_params = {\"Step\", \"task\"}\n",
            "    v_params_filered = {k: v for k, v in params.items() if k not in excluded_params}\n",
            "    legend_params = {k: v for k, v in v_params_filered.items() if len(v) != 1}\n",
            "\n",
            "    tasks, steps = v_params[\"task\"], v_params[\"Step\"]\n",
            "\n",
            "    n_tasks = len(tasks)\n",
            "    n_steps = len(steps)\n",
            "\n",
            "    v_params_all = get_all_v_params(v_params_filered)\n",
            "    legend_params_all = get_all_v_params(legend_params)\n",
            "\n",
            "    if plot_type == \"grad_spec\":\n",
            "        pass\n",
            "\n",
            "    else:\n",
            "        for s, step in enumerate(steps):\n",
            "\n",
            "            v_p1 = len(v_params_filered)\n",
            "            v_p2 = max([len(v) for v in v_params_filered.values()])\n",
            "\n",
            "            n_params = len(v_params_all)\n",
            "            n1 = int(np.sqrt(n_params))\n",
            "            n2 = n_params // n1\n",
            "\n",
            "            if n1 * n2 < n_params:\n",
            "                n2 += 1\n",
            "\n",
            "            # print(n1, n2)\n",
            "\n",
            "            fig = plt.figure(\n",
            "                constrained_layout=True, figsize=(5 * n2, 5 * n1 * n_tasks)\n",
            "            )\n",
            "\n",
            "            fig.suptitle(f\"Functional Specialization on step {step}\")\n",
            "\n",
            "            # create 3x1 subfigs\n",
            "            subfigs = fig.subfigures(nrows=n_tasks, ncols=1)\n",
            "            if n_tasks == 1:\n",
            "                subfigs = [subfigs]\n",
            "\n",
            "            Zs = []\n",
            "\n",
            "            for t, (subfig, task) in enumerate(zip(subfigs, tasks)):\n",
            "\n",
            "                subfig.suptitle(f\"Task :  {task}\")\n",
            "\n",
            "                # create subplots per subfig\n",
            "\n",
            "                axs = subfig.subplots(nrows=n1, ncols=n2)\n",
            "\n",
            "                try:\n",
            "                    axs[0]\n",
            "                except TypeError:\n",
            "                    axs = np.array([axs])\n",
            "                for i, (ax, v_param, l_param) in enumerate(\n",
            "                    zip(axs.flatten(), v_params_all, legend_params_all)\n",
            "                ):\n",
            "\n",
            "                    filter_param = v_param.copy()\n",
            "                    filter_param[\"Step\"] = step\n",
            "                    filter_param[\"task\"] = task\n",
            "                    data = filter_data(total_data, filter_param)\n",
            "\n",
            "                    argmins = (\n",
            "                        data[metric].values.argsort()[:10],\n",
            "                        data[metric].values.argsort()[-10:],\n",
            "                    )\n",
            "                    minmax = [data[metric].values[idxs].mean() for idxs in argmins]\n",
            "                    # print(minmax)\n",
            "                    # print(data.shape)\n",
            "                    values = get_values(data, x, y, metric)\n",
            "\n",
            "                    print(data.shape)\n",
            "\n",
            "                    if 0 not in data.shape:\n",
            "                        if plot_type == \"heatmap\":\n",
            "\n",
            "                            (\n",
            "                                (X, Y),\n",
            "                                (X_mesh, Y_mesh),\n",
            "                                Z,\n",
            "                                sigmas,\n",
            "                                *_,\n",
            "                            ) = compute_and_plot_heatmap(\n",
            "                                values,\n",
            "                                (fig, ax),\n",
            "                                log_scale=log_scale,\n",
            "                                plot_f=False,\n",
            "                                random=False,\n",
            "                                minmax=None,\n",
            "                                smoothness=smoothness,\n",
            "                            )\n",
            "                        elif plot_type == \"scipy\":\n",
            "                            (\n",
            "                                X_mesh,\n",
            "                                Y_mesh,\n",
            "                                Z,\n",
            "                                (fig, ax),\n",
            "                                cbar,\n",
            "                            ) = compute_and_plot_colormesh(\n",
            "                                values, (fig, ax), log_scale=log_scale\n",
            "                            )\n",
            "\n",
            "                        elif plot_type == \"table\":\n",
            "\n",
            "                            grouped_values = data.groupby([x, y])[metric].mean()\n",
            "\n",
            "                            x_values = data[x].unique()[::-1]\n",
            "                            y_values = data[y].unique()\n",
            "                            y_values_per_x = data.groupby(x)[y].unique()\n",
            "\n",
            "                            # Z = np.array([[grouped_values[x][y] for y in y_values_per_x[x]] for x in x_values]).T\n",
            "                            Z = pd.concat([grouped_values[x] for x in x_values], axis=1)\n",
            "                            Z.columns = x_values\n",
            "\n",
            "                            # print(Z)\n",
            "\n",
            "                            im = ax.imshow(Z)\n",
            "                            ax.set_xticks(range(len(x_values)))\n",
            "                            ax.set_xticklabels(x_values.astype(str))\n",
            "                            if y == \"cov_ratio\":\n",
            "                                ax.set_yticks(range(len(y_values)))\n",
            "                                ax.set_yticklabels(y_values.astype(str))\n",
            "                            ax.set_xlabel(x)\n",
            "                            ax.set_ylabel(y)\n",
            "                            fig.colorbar(im, ax=ax)\n",
            "\n",
            "                        Zs.append(Z)\n",
            "\n",
            "                    ax.set_title((str(l_param).strip(\"{}\").replace(\",\", \"\\n\")))\n"
         ]
      },
      {
         "cell_type": "code",
         "execution_count": 29,
         "metadata": {},
         "outputs": [],
         "source": [
            "params_widgets = {\n",
            "    k: widgets.SelectMultiple(\n",
            "        options=[p for p in params], description=k, disabled=False, value=[params[0]]\n",
            "    )\n",
            "    for k, params in varying_params.items()\n",
            "    if (len(params) > 1 or k == \"task\")\n",
            "}\n",
            "\n",
            "params_widgets[\"smoothness\"] = widgets.FloatSlider(7, min=0.5, max=10, step=0.2)\n",
            "# params_widgets['epoch'] = widgets.IntSlider(nb_epochs-1, min=0, max=nb_epochs-1)\n",
            "params_widgets[\"log_scale\"] = widgets.Dropdown(options=[False, True])\n",
            "\n",
            "params_widgets[\"plot_type\"] = widgets.Dropdown(\n",
            "    options=[\"heatmap\", \"scipy\", \"table\"],\n",
            "    description=\"Plot Type\",\n",
            "    disabled=False,\n",
            "    manual=True,\n",
            "    auto_display=False,\n",
            ")\n",
            "\n",
            "params_widgets[\"metric_to_plot\"] = widgets.Dropdown(\n",
            "    options=[\n",
            "        \"retraining_global_diff\",\n",
            "        \"ablations_global_diff\",\n",
            "        \"correlations_global_diff\",\n",
            "        \"best_acc\",\n",
            "        \"mult\",\n",
            "    ],\n",
            "    description=\"Metric to plot\",\n",
            "    disabled=False,\n",
            "    manual=True,\n",
            "    auto_display=False,\n",
            ")\n",
            "\n",
            "params_widgets[\"x\"] = widgets.Dropdown(\n",
            "    options=heatmap_params[:-1],\n",
            "    description=\"x-axis\",\n",
            "    disabled=False,\n",
            "    manual=True,\n",
            "    auto_display=False,\n",
            ")\n",
            "\n",
            "params_widgets[\"y\"] = widgets.Dropdown(\n",
            "    options=heatmap_params[1:],\n",
            "    description=\"y-axis\",\n",
            "    disabled=False,\n",
            "    manual=True,\n",
            "    auto_display=False,\n",
            ")\n",
            "interactive_plot = widgets.interactive(plot_fn, **params_widgets)\n"
         ]
      },
      {
         "cell_type": "code",
         "execution_count": 30,
         "metadata": {},
         "outputs": [
            {
               "data": {
                  "application/vnd.jupyter.widget-view+json": {
                     "model_id": "509445f19ed74fa780fb433293dcac6e",
                     "version_major": 2,
                     "version_minor": 0
                  },
                  "text/plain": [
                     "interactive(children=(SelectMultiple(description='common_readout', index=(0,), options=(False, True), value=(F…"
                  ]
               },
               "metadata": {},
               "output_type": "display_data"
            }
         ],
         "source": [
            "display(interactive_plot)"
         ]
      },
      {
         "attachments": {},
         "cell_type": "markdown",
         "metadata": {},
         "source": [
            "## Paper Figures"
         ]
      },
      {
         "attachments": {},
         "cell_type": "markdown",
         "metadata": {},
         "source": [
            "### Heatmap"
         ]
      },
      {
         "cell_type": "code",
         "execution_count": 31,
         "metadata": {},
         "outputs": [
            {
               "data": {
                  "text/plain": [
                     "(915, 31)"
                  ]
               },
               "execution_count": 31,
               "metadata": {},
               "output_type": "execute_result"
            }
         ],
         "source": [
            "c_data = filter_data(\n",
            "    total_data,\n",
            "    {\n",
            "        \"Step\": \"last\",\n",
            "        \"common_input\": True,\n",
            "        \"common_readout\": True,\n",
            "        \"n_bot\": None,\n",
            "        \"task\": \"family\",\n",
            "        \"cov_ratio\" : 1\n",
            "    },\n",
            ")\n",
            "\n",
            "c_data = c_data[c_data['sparsity'] != 0]\n",
            "c_data.shape"
         ]
      },
      {
         "cell_type": "code",
         "execution_count": 59,
         "metadata": {},
         "outputs": [
            {
               "data": {
                  "image/png": "[encoded data removed]",
                  "text/plain": [
                     "<Figure size 1500x500 with 6 Axes>"
                  ]
               },
               "metadata": {},
               "output_type": "display_data"
            }
         ],
         "source": [
            "set_style()\n",
            "\n",
            "plot_type= 'scipy'\n",
            "log_scale = False\n",
            "\n",
            "metrics = [\n",
            "    \"retraining_det_col_norm\",\n",
            "     \"ablations_det_col_norm\",\n",
            "     \"correlations_det_col_norm\",\n",
            "]\n",
            "metrics = [\n",
            "    \"retraining_global_diff\",\n",
            "     \"ablations_global_diff\",\n",
            "     \"correlations_global_diff\",\n",
            "]\n",
            "\n",
            "fig = plt.figure(constrained_layout=True, figsize=(len(metrics) * 5, 5))\n",
            "# fig.suptitle('Metrics Slices')\n",
            "subfigs = fig.subfigures(nrows=1, ncols=1)\n",
            "try:\n",
            "    subfigs[0]\n",
            "except TypeError:\n",
            "    subfigs = [subfigs]\n",
            "for m, subfig in enumerate(subfigs):\n",
            "    axs = subfig.subplots(nrows=1, ncols=len(metrics))\n",
            "    try:\n",
            "        axs[0]\n",
            "    except TypeError:\n",
            "        axs = [axs]\n",
            "    for i, ax in enumerate(axs):\n",
            "\n",
            "        x = 'n_hidden'\n",
            "        y = 'sparsity'\n",
            "\n",
            "        values = get_values(c_data, x, y, metrics[i])\n",
            "        #values[1] = np.sqrt(values[1])\n",
            "\n",
            "        if plot_type == \"heatmap\":\n",
            "\n",
            "            ((X, Y), (X_mesh, Y_mesh), Z, sigmas, *_,) = compute_and_plot_heatmap(\n",
            "                values,\n",
            "                (fig, ax),\n",
            "                log_scale=log_scale,\n",
            "                plot_f=False,\n",
            "                random=False,\n",
            "                smoothness=5,\n",
            "                minmax=None,\n",
            "            )\n",
            "            \n",
            "        elif plot_type == \"scipy\":\n",
            "            (\n",
            "                X_mesh,\n",
            "                Y_mesh,\n",
            "                Z,\n",
            "                (fig, ax),\n",
            "                cbar,\n",
            "            ) = compute_and_plot_colormesh(values, (fig, ax), log_scale=log_scale)\n",
            "\n",
            "        ax.set_xlabel(x)\n",
            "        ax.set_ylabel(y)\n",
            "\n",
            "        # ax.set_title(metrics[i])\n",
            "\n",
            "        ax.set_ylabel(\"Sparsity of Connections\")\n",
            "        #ax.set_yticklabels(ax.get_yticklabels()[::-1])\n",
            "        ax.set_xlabel(\"Number of Neurons\")"
         ]
      },
      {
         "cell_type": "code",
         "execution_count": 50,
         "metadata": {},
         "outputs": [
            {
               "data": {
                  "text/plain": [
                     "0    0.444516\n",
                     "1    0.015770\n",
                     "0    0.269800\n",
                     "1    0.206960\n",
                     "0    1.447401\n",
                     "       ...   \n",
                     "1    0.155645\n",
                     "0    0.115902\n",
                     "1    0.020725\n",
                     "0    0.121213\n",
                     "1    0.382054\n",
                     "Name: correlations_det_col_norm, Length: 84180, dtype: float64"
                  ]
               },
               "execution_count": 50,
               "metadata": {},
               "output_type": "execute_result"
            }
         ],
         "source": [
            "total_data['correlations_det_col_norm']"
         ]
      },
      {
         "cell_type": "code",
         "execution_count": 40,
         "metadata": {},
         "outputs": [
            {
               "data": {
                  "text/plain": [
                     "9.178389549255371"
                  ]
               },
               "execution_count": 40,
               "metadata": {},
               "output_type": "execute_result"
            }
         ],
         "source": [
            "total_data['ablations_global_diff'].max()"
         ]
      },
      {
         "cell_type": "code",
         "execution_count": null,
         "metadata": {},
         "outputs": [],
         "source": []
      },
      {
         "cell_type": "code",
         "execution_count": 600,
         "metadata": {},
         "outputs": [
            {
               "data": {
                  "text/plain": [
                     "3.1622776601683795"
                  ]
               },
               "execution_count": 600,
               "metadata": {},
               "output_type": "execute_result"
            }
         ],
         "source": [
            "values[0].min()"
         ]
      },
      {
         "cell_type": "code",
         "execution_count": null,
         "metadata": {},
         "outputs": [],
         "source": [
            "fig.savefig(\"../../results/imgs/heatmap.svg\")"
         ]
      },
      {
         "attachments": {},
         "cell_type": "markdown",
         "metadata": {},
         "source": [
            "### Q Metric"
         ]
      },
      {
         "cell_type": "code",
         "execution_count": 556,
         "metadata": {},
         "outputs": [],
         "source": [
            "c_data = filter_data(\n",
            "    total_data,\n",
            "    {\n",
            "        \"Step\": \"last\",\n",
            "        \"common_input\": False,\n",
            "        \"common_readout\": True,\n",
            "        \"n_bot\": 5,\n",
            "        \"task\": \"family\",\n",
            "        \"n_hidden\": [10],\n",
            "        \"cov_ratio\": 1,\n",
            "    },\n",
            ")"
         ]
      },
      {
         "cell_type": "code",
         "execution_count": 561,
         "metadata": {},
         "outputs": [],
         "source": [
            "\n",
            "metrics = [\n",
            "    \"retraining_global_diff\",\n",
            "     \"ablations_global_diff\",\n",
            "    \"correlations_global_diff\",\n",
            "]\n",
            "\n",
            "plot_data = {'q_metric' : [], 'metric_value' : [], 'metric_name' : []}\n",
            "\n",
            "for metric in metrics : \n",
            "    plot_data['metric_value'].append(c_data[metric])\n",
            "    plot_data['q_metric'].append(c_data['q_metric'])\n",
            "    plot_data['metric_name'].append(np.full(len(c_data), metric, dtype=object))\n",
            "\n",
            "plot_data = pd.DataFrame.from_dict({k : np.concatenate(v) for k, v in plot_data.items()})"
         ]
      },
      {
         "cell_type": "code",
         "execution_count": 562,
         "metadata": {},
         "outputs": [
            {
               "data": {
                  "text/plain": [
                     "Text(0.5, 0, 'Q Metric')"
                  ]
               },
               "execution_count": 562,
               "metadata": {},
               "output_type": "execute_result"
            },
            {
               "data": {
                  "image/png": "[encoded data removed]",
                  "text/plain": [
                     "<Figure size 500x500 with 1 Axes>"
                  ]
               },
               "metadata": {},
               "output_type": "display_data"
            }
         ],
         "source": [
            "set_style()\n",
            "\n",
            "fig, ax = plt.subplots(figsize=(5, 5))\n",
            "sns.lineplot(\n",
            "    data=plot_data,\n",
            "    x=\"q_metric\",\n",
            "    y='metric_value',\n",
            "    hue=\"metric_name\",\n",
            "    ax=ax,\n",
            "    palette=\"viridis\",\n",
            "    estimator=\"mean\",\n",
            ")\n",
            "# ax.set_yscale('log')\n",
            "ax.set_ylabel(\"Functional Specialization\")\n",
            "ax.set_xlabel(\"Q Metric\")"
         ]
      },
      {
         "cell_type": "code",
         "execution_count": 384,
         "metadata": {},
         "outputs": [],
         "source": [
            "fig.savefig(\"../../results/imgs/q_metric.svg\")"
         ]
      },
      {
         "attachments": {},
         "cell_type": "markdown",
         "metadata": {},
         "source": [
            "### Spec Gradient"
         ]
      },
      {
         "cell_type": "code",
         "execution_count": 435,
         "metadata": {},
         "outputs": [
            {
               "name": "stdout",
               "output_type": "stream",
               "text": [
                  "(11740, 30)\n"
               ]
            }
         ],
         "source": [
            "c_data = filter_data(\n",
            "    total_data,\n",
            "    {\n",
            "        \"common_input\": False,\n",
            "        \"common_readout\": True,\n",
            "        \"n_bot\": 5,\n",
            "        \"task\": \"family\",\n",
            "        \"cov_ratio\": 1,\n",
            "    },\n",
            ")\n",
            "print(c_data.shape)"
         ]
      },
      {
         "cell_type": "code",
         "execution_count": 473,
         "metadata": {},
         "outputs": [],
         "source": [
            "counts = (\n",
            "    filter_data(c_data, {\"n_hidden\": [10, 100]})\n",
            "    .groupby([\"n_hidden\", \"n_conns\"], as_index=False)\n",
            "    .count()\n",
            ")"
         ]
      },
      {
         "cell_type": "code",
         "execution_count": 493,
         "metadata": {},
         "outputs": [
            {
               "data": {
                  "text/html": [
                     "<div>\n",
                     "<style scoped>\n",
                     "    .dataframe tbody tr th:only-of-type {\n",
                     "        vertical-align: middle;\n",
                     "    }\n",
                     "\n",
                     "    .dataframe tbody tr th {\n",
                     "        vertical-align: top;\n",
                     "    }\n",
                     "\n",
                     "    .dataframe thead th {\n",
                     "        text-align: right;\n",
                     "    }\n",
                     "</style>\n",
                     "<table border=\"1\" class=\"dataframe\">\n",
                     "  <thead>\n",
                     "    <tr style=\"text-align: right;\">\n",
                     "      <th></th>\n",
                     "      <th>Unnamed: 0</th>\n",
                     "      <th>Step</th>\n",
                     "      <th>best_acc</th>\n",
                     "      <th>sparsity</th>\n",
                     "      <th>common_input</th>\n",
                     "      <th>common_readout</th>\n",
                     "      <th>cov_ratio</th>\n",
                     "      <th>n_bot</th>\n",
                     "      <th>n_hidden</th>\n",
                     "      <th>task</th>\n",
                     "      <th>...</th>\n",
                     "      <th>correlations_1_local_diff</th>\n",
                     "      <th>ablations_det</th>\n",
                     "      <th>ablations_det_col_norm</th>\n",
                     "      <th>ablations_global_diff</th>\n",
                     "      <th>ablations_0_local_diff</th>\n",
                     "      <th>ablations_1_local_diff</th>\n",
                     "      <th>seed</th>\n",
                     "      <th>name</th>\n",
                     "      <th>q_metric</th>\n",
                     "      <th>n_conns</th>\n",
                     "    </tr>\n",
                     "  </thead>\n",
                     "  <tbody>\n",
                     "    <tr>\n",
                     "      <th>100</th>\n",
                     "      <td>0</td>\n",
                     "      <td>mid-</td>\n",
                     "      <td>0.689236</td>\n",
                     "      <td>0.1</td>\n",
                     "      <td>False</td>\n",
                     "      <td>True</td>\n",
                     "      <td>1.0</td>\n",
                     "      <td>5.0</td>\n",
                     "      <td>10</td>\n",
                     "      <td>family</td>\n",
                     "      <td>...</td>\n",
                     "      <td>-0.067403</td>\n",
                     "      <td>0.000000</td>\n",
                     "      <td>0.000000</td>\n",
                     "      <td>0.000000</td>\n",
                     "      <td>0.256938</td>\n",
                     "      <td>0.256938</td>\n",
                     "      <td>154</td>\n",
                     "      <td>ucb17ctp</td>\n",
                     "      <td>0.409091</td>\n",
                     "      <td>10</td>\n",
                     "    </tr>\n",
                     "    <tr>\n",
                     "      <th>101</th>\n",
                     "      <td>1</td>\n",
                     "      <td>last</td>\n",
                     "      <td>0.689236</td>\n",
                     "      <td>0.1</td>\n",
                     "      <td>False</td>\n",
                     "      <td>True</td>\n",
                     "      <td>1.0</td>\n",
                     "      <td>5.0</td>\n",
                     "      <td>10</td>\n",
                     "      <td>family</td>\n",
                     "      <td>...</td>\n",
                     "      <td>-0.051239</td>\n",
                     "      <td>0.168396</td>\n",
                     "      <td>0.296226</td>\n",
                     "      <td>0.285640</td>\n",
                     "      <td>-0.097563</td>\n",
                     "      <td>0.473717</td>\n",
                     "      <td>154</td>\n",
                     "      <td>ucb17ctp</td>\n",
                     "      <td>0.409091</td>\n",
                     "      <td>10</td>\n",
                     "    </tr>\n",
                     "    <tr>\n",
                     "      <th>102</th>\n",
                     "      <td>0</td>\n",
                     "      <td>mid-</td>\n",
                     "      <td>0.721755</td>\n",
                     "      <td>0.1</td>\n",
                     "      <td>False</td>\n",
                     "      <td>True</td>\n",
                     "      <td>1.0</td>\n",
                     "      <td>5.0</td>\n",
                     "      <td>10</td>\n",
                     "      <td>family</td>\n",
                     "      <td>...</td>\n",
                     "      <td>-0.184029</td>\n",
                     "      <td>0.000000</td>\n",
                     "      <td>0.000000</td>\n",
                     "      <td>0.000000</td>\n",
                     "      <td>-0.114693</td>\n",
                     "      <td>-0.114693</td>\n",
                     "      <td>154</td>\n",
                     "      <td>ucb17ctp</td>\n",
                     "      <td>0.409091</td>\n",
                     "      <td>10</td>\n",
                     "    </tr>\n",
                     "    <tr>\n",
                     "      <th>103</th>\n",
                     "      <td>1</td>\n",
                     "      <td>last</td>\n",
                     "      <td>0.721755</td>\n",
                     "      <td>0.1</td>\n",
                     "      <td>False</td>\n",
                     "      <td>True</td>\n",
                     "      <td>1.0</td>\n",
                     "      <td>5.0</td>\n",
                     "      <td>10</td>\n",
                     "      <td>family</td>\n",
                     "      <td>...</td>\n",
                     "      <td>0.001528</td>\n",
                     "      <td>0.106154</td>\n",
                     "      <td>0.263097</td>\n",
                     "      <td>0.266878</td>\n",
                     "      <td>-0.411494</td>\n",
                     "      <td>0.122262</td>\n",
                     "      <td>154</td>\n",
                     "      <td>ucb17ctp</td>\n",
                     "      <td>0.409091</td>\n",
                     "      <td>10</td>\n",
                     "    </tr>\n",
                     "    <tr>\n",
                     "      <th>104</th>\n",
                     "      <td>0</td>\n",
                     "      <td>mid-</td>\n",
                     "      <td>0.624432</td>\n",
                     "      <td>0.1</td>\n",
                     "      <td>False</td>\n",
                     "      <td>True</td>\n",
                     "      <td>1.0</td>\n",
                     "      <td>5.0</td>\n",
                     "      <td>10</td>\n",
                     "      <td>family</td>\n",
                     "      <td>...</td>\n",
                     "      <td>-0.052519</td>\n",
                     "      <td>0.000000</td>\n",
                     "      <td>0.000000</td>\n",
                     "      <td>0.000000</td>\n",
                     "      <td>-0.124621</td>\n",
                     "      <td>-0.124621</td>\n",
                     "      <td>154</td>\n",
                     "      <td>ucb17ctp</td>\n",
                     "      <td>0.409091</td>\n",
                     "      <td>10</td>\n",
                     "    </tr>\n",
                     "    <tr>\n",
                     "      <th>105</th>\n",
                     "      <td>1</td>\n",
                     "      <td>last</td>\n",
                     "      <td>0.624432</td>\n",
                     "      <td>0.1</td>\n",
                     "      <td>False</td>\n",
                     "      <td>True</td>\n",
                     "      <td>1.0</td>\n",
                     "      <td>5.0</td>\n",
                     "      <td>10</td>\n",
                     "      <td>family</td>\n",
                     "      <td>...</td>\n",
                     "      <td>0.156618</td>\n",
                     "      <td>0.069098</td>\n",
                     "      <td>0.187723</td>\n",
                     "      <td>0.200740</td>\n",
                     "      <td>-0.173323</td>\n",
                     "      <td>0.228157</td>\n",
                     "      <td>154</td>\n",
                     "      <td>ucb17ctp</td>\n",
                     "      <td>0.409091</td>\n",
                     "      <td>10</td>\n",
                     "    </tr>\n",
                     "    <tr>\n",
                     "      <th>106</th>\n",
                     "      <td>0</td>\n",
                     "      <td>mid-</td>\n",
                     "      <td>0.786725</td>\n",
                     "      <td>0.1</td>\n",
                     "      <td>False</td>\n",
                     "      <td>True</td>\n",
                     "      <td>1.0</td>\n",
                     "      <td>5.0</td>\n",
                     "      <td>10</td>\n",
                     "      <td>family</td>\n",
                     "      <td>...</td>\n",
                     "      <td>-0.002942</td>\n",
                     "      <td>0.000000</td>\n",
                     "      <td>0.000000</td>\n",
                     "      <td>0.000000</td>\n",
                     "      <td>0.336302</td>\n",
                     "      <td>0.336302</td>\n",
                     "      <td>154</td>\n",
                     "      <td>ucb17ctp</td>\n",
                     "      <td>0.409091</td>\n",
                     "      <td>10</td>\n",
                     "    </tr>\n",
                     "    <tr>\n",
                     "      <th>107</th>\n",
                     "      <td>1</td>\n",
                     "      <td>last</td>\n",
                     "      <td>0.786725</td>\n",
                     "      <td>0.1</td>\n",
                     "      <td>False</td>\n",
                     "      <td>True</td>\n",
                     "      <td>1.0</td>\n",
                     "      <td>5.0</td>\n",
                     "      <td>10</td>\n",
                     "      <td>family</td>\n",
                     "      <td>...</td>\n",
                     "      <td>-0.073516</td>\n",
                     "      <td>0.092724</td>\n",
                     "      <td>0.277376</td>\n",
                     "      <td>0.273732</td>\n",
                     "      <td>-0.383979</td>\n",
                     "      <td>0.163485</td>\n",
                     "      <td>154</td>\n",
                     "      <td>ucb17ctp</td>\n",
                     "      <td>0.409091</td>\n",
                     "      <td>10</td>\n",
                     "    </tr>\n",
                     "    <tr>\n",
                     "      <th>108</th>\n",
                     "      <td>0</td>\n",
                     "      <td>mid-</td>\n",
                     "      <td>0.692207</td>\n",
                     "      <td>0.1</td>\n",
                     "      <td>False</td>\n",
                     "      <td>True</td>\n",
                     "      <td>1.0</td>\n",
                     "      <td>5.0</td>\n",
                     "      <td>10</td>\n",
                     "      <td>family</td>\n",
                     "      <td>...</td>\n",
                     "      <td>0.089081</td>\n",
                     "      <td>0.000000</td>\n",
                     "      <td>0.000000</td>\n",
                     "      <td>0.000000</td>\n",
                     "      <td>-0.022000</td>\n",
                     "      <td>-0.022000</td>\n",
                     "      <td>154</td>\n",
                     "      <td>ucb17ctp</td>\n",
                     "      <td>0.409091</td>\n",
                     "      <td>10</td>\n",
                     "    </tr>\n",
                     "    <tr>\n",
                     "      <th>109</th>\n",
                     "      <td>1</td>\n",
                     "      <td>last</td>\n",
                     "      <td>0.692207</td>\n",
                     "      <td>0.1</td>\n",
                     "      <td>False</td>\n",
                     "      <td>True</td>\n",
                     "      <td>1.0</td>\n",
                     "      <td>5.0</td>\n",
                     "      <td>10</td>\n",
                     "      <td>family</td>\n",
                     "      <td>...</td>\n",
                     "      <td>0.067627</td>\n",
                     "      <td>0.050612</td>\n",
                     "      <td>0.238895</td>\n",
                     "      <td>0.245291</td>\n",
                     "      <td>-0.288787</td>\n",
                     "      <td>0.201794</td>\n",
                     "      <td>154</td>\n",
                     "      <td>ucb17ctp</td>\n",
                     "      <td>0.409091</td>\n",
                     "      <td>10</td>\n",
                     "    </tr>\n",
                     "  </tbody>\n",
                     "</table>\n",
                     "<p>10 rows × 30 columns</p>\n",
                     "</div>"
                  ],
                  "text/plain": [
                     "     Unnamed: 0  Step  best_acc  sparsity  common_input  common_readout  \\\n",
                     "100           0  mid-  0.689236       0.1         False            True   \n",
                     "101           1  last  0.689236       0.1         False            True   \n",
                     "102           0  mid-  0.721755       0.1         False            True   \n",
                     "103           1  last  0.721755       0.1         False            True   \n",
                     "104           0  mid-  0.624432       0.1         False            True   \n",
                     "105           1  last  0.624432       0.1         False            True   \n",
                     "106           0  mid-  0.786725       0.1         False            True   \n",
                     "107           1  last  0.786725       0.1         False            True   \n",
                     "108           0  mid-  0.692207       0.1         False            True   \n",
                     "109           1  last  0.692207       0.1         False            True   \n",
                     "\n",
                     "     cov_ratio  n_bot  n_hidden    task  ...  correlations_1_local_diff  \\\n",
                     "100        1.0    5.0        10  family  ...                  -0.067403   \n",
                     "101        1.0    5.0        10  family  ...                  -0.051239   \n",
                     "102        1.0    5.0        10  family  ...                  -0.184029   \n",
                     "103        1.0    5.0        10  family  ...                   0.001528   \n",
                     "104        1.0    5.0        10  family  ...                  -0.052519   \n",
                     "105        1.0    5.0        10  family  ...                   0.156618   \n",
                     "106        1.0    5.0        10  family  ...                  -0.002942   \n",
                     "107        1.0    5.0        10  family  ...                  -0.073516   \n",
                     "108        1.0    5.0        10  family  ...                   0.089081   \n",
                     "109        1.0    5.0        10  family  ...                   0.067627   \n",
                     "\n",
                     "     ablations_det  ablations_det_col_norm  ablations_global_diff  \\\n",
                     "100       0.000000                0.000000               0.000000   \n",
                     "101       0.168396                0.296226               0.285640   \n",
                     "102       0.000000                0.000000               0.000000   \n",
                     "103       0.106154                0.263097               0.266878   \n",
                     "104       0.000000                0.000000               0.000000   \n",
                     "105       0.069098                0.187723               0.200740   \n",
                     "106       0.000000                0.000000               0.000000   \n",
                     "107       0.092724                0.277376               0.273732   \n",
                     "108       0.000000                0.000000               0.000000   \n",
                     "109       0.050612                0.238895               0.245291   \n",
                     "\n",
                     "     ablations_0_local_diff  ablations_1_local_diff  seed      name  q_metric  \\\n",
                     "100                0.256938                0.256938   154  ucb17ctp  0.409091   \n",
                     "101               -0.097563                0.473717   154  ucb17ctp  0.409091   \n",
                     "102               -0.114693               -0.114693   154  ucb17ctp  0.409091   \n",
                     "103               -0.411494                0.122262   154  ucb17ctp  0.409091   \n",
                     "104               -0.124621               -0.124621   154  ucb17ctp  0.409091   \n",
                     "105               -0.173323                0.228157   154  ucb17ctp  0.409091   \n",
                     "106                0.336302                0.336302   154  ucb17ctp  0.409091   \n",
                     "107               -0.383979                0.163485   154  ucb17ctp  0.409091   \n",
                     "108               -0.022000               -0.022000   154  ucb17ctp  0.409091   \n",
                     "109               -0.288787                0.201794   154  ucb17ctp  0.409091   \n",
                     "\n",
                     "     n_conns  \n",
                     "100       10  \n",
                     "101       10  \n",
                     "102       10  \n",
                     "103       10  \n",
                     "104       10  \n",
                     "105       10  \n",
                     "106       10  \n",
                     "107       10  \n",
                     "108       10  \n",
                     "109       10  \n",
                     "\n",
                     "[10 rows x 30 columns]"
                  ]
               },
               "execution_count": 493,
               "metadata": {},
               "output_type": "execute_result"
            }
         ],
         "source": [
            "filter_data(c_data, {\"n_hidden\": 10, \"n_conns\": 10})"
         ]
      },
      {
         "cell_type": "code",
         "execution_count": 512,
         "metadata": {},
         "outputs": [],
         "source": [
            "plot_data = {m: [] for m in [\"metric\", \"x\", \"n-s\"]}\n",
            "for (ts, ag), x in zip(\n",
            "    [[\"mid-\", 0], [\"last\", 0], [\"last\", \"common\"], [\"last\", 1], [\"mid-\", 1]],\n",
            "    [-2, -1, 0, 1, 2],\n",
            "):\n",
            "\n",
            "    s_data = filter_data(c_data, {\"Step\": ts})\n",
            "\n",
            "    for n_hid in [10, 100]:\n",
            "        for n_conns in [0, 10 + (n_hid == 100)]:\n",
            "\n",
            "            f_data = filter_data(s_data, {\"n_hidden\": n_hid, \"n_conns\": n_conns})\n",
            "            if 0 not in f_data.shape:\n",
            "\n",
            "                try:\n",
            "                    ag = int(ag)\n",
            "                except ValueError:\n",
            "                    ag = \"all\"\n",
            "\n",
            "                metric = f'{metrics[0].split(\"_\")[0]}_{ag}_local_diff'\n",
            "                plot_data[\"metric\"].append(f_data[metric])\n",
            "                plot_data[\"x\"].append(np.ones(len(f_data)) * x)\n",
            "\n",
            "                plot_data[\"n-s\"].append(\n",
            "                    np.full(\n",
            "                        len(f_data),\n",
            "                        f\"#neurons = {n_hid}, #conns = {n_conns}\",\n",
            "                        dtype=object,\n",
            "                    )\n",
            "                )\n",
            "plot_data = pd.DataFrame.from_dict({k: np.concatenate(v) for k, v in plot_data.items()})"
         ]
      },
      {
         "cell_type": "code",
         "execution_count": 522,
         "metadata": {},
         "outputs": [
            {
               "data": {
                  "image/png": "[encoded data removed]",
                  "text/plain": [
                     "<Figure size 500x300 with 1 Axes>"
                  ]
               },
               "metadata": {},
               "output_type": "display_data"
            }
         ],
         "source": [
            "set_style()\n",
            "\n",
            "x_labels = [f\"Ag-{ag}|T-{t}\" for t, ag in [[0, 0], [1, 0], [1, 1], [0, 1]]]\n",
            "x_labels.insert(2, \"Readout\")\n",
            "\n",
            "fig, ax = plt.subplots(figsize=(5, 3), constrained_layout=True)\n",
            "\n",
            "sns.lineplot(data=plot_data, x=\"x\", y=\"metric\", hue=\"n-s\", palette=\"viridis\")\n",
            "\n",
            "ax.set_xticks([-2, -1, 0, 1, 2])\n",
            "ax.set_xticklabels(labels=x_labels)\n",
            "ax.set_ylim(-1, 1)\n",
            "ax.set_xlabel(\"\")\n",
            "ax.set_ylabel(\"\")\n",
            "ax.set_yticks([-1, 0, 1], [\"D1\", \"No Spec\", \"D0\"])\n",
            "ax.hlines(0, -2, 2, linestyles=\"--\", colors=\"black\", alpha=0.3, linewidth=1.5)\n",
            "ax.vlines(\n",
            "    [-2, -1, 0, 1, 2], -1, 1, linestyles=\"--\", colors=\"black\", alpha=0.3, linewidth=1.5\n",
            ")\n",
            "ax.legend()\n",
            "\n",
            "# plt.colorbar(cm.get_cmap('plasma', 3))\n",
            "\n",
            "fig.show()"
         ]
      },
      {
         "cell_type": "code",
         "execution_count": 523,
         "metadata": {},
         "outputs": [],
         "source": [
            "fig.savefig(\"../../results/imgs/gradient.svg\")"
         ]
      },
      {
         "cell_type": "markdown",
         "metadata": {},
         "source": [
            "### Parameter Importance"
         ]
      },
      {
         "cell_type": "code",
         "execution_count": 524,
         "metadata": {},
         "outputs": [],
         "source": [
            "from sklearn.ensemble import RandomForestRegressor as RF\n",
            "from sklearn.model_selection import train_test_split\n",
            "from sklearn.tree import export_graphviz, plot_tree\n"
         ]
      },
      {
         "cell_type": "code",
         "execution_count": 526,
         "metadata": {},
         "outputs": [
            {
               "name": "stdout",
               "output_type": "stream",
               "text": [
                  "0.03849115777754661\n"
               ]
            }
         ],
         "source": [
            "params = [\n",
            "    \"common_readout\",\n",
            "    \"n_bot\",\n",
            "    \"common_input\",\n",
            "    \"task\",\n",
            "    \"Step\",\n",
            "    \"cov_ratio\",\n",
            "    \"n_hidden\",\n",
            "    \"sparsity\",\n",
            "]\n",
            "\n",
            "varying_params = {}\n",
            "for param in params:\n",
            "    if param in total_data.columns:\n",
            "        varying_params[param] = total_data[param].unique().tolist()\n",
            "        try:\n",
            "            varying_params[param] = sorted(varying_params[param])\n",
            "            varying_params[param] = [\n",
            "                v if not np.isnan(v) else None for v in varying_params[param]\n",
            "            ]\n",
            "        except TypeError:\n",
            "            pass\n",
            "\n",
            "rf = RF()\n",
            "metric = metrics[0]\n",
            "# metric = \"best_acc\"\n",
            "\n",
            "all_features = [k for k, v in varying_params.items() if len(v) > 1]\n",
            "\n",
            "fixed_features = {k: v for k, v in varying_params.items() if len(v) == 1}\n",
            "\n",
            "fixed_features.update({\"Step\": \"last\", \"n_bot\": 5})\n",
            "\n",
            "data = total_data\n",
            "remaining_features = [f for f in all_features if f not in fixed_features]\n",
            "\n",
            "data = filter_data(data, fixed_features)\n",
            "\n",
            "X = data[remaining_features]\n",
            "y = data[metric]\n",
            "\n",
            "if \"task\" in remaining_features:\n",
            "    X[\"task_bool\"] = X[\"task\"] == \"all\"\n",
            "    X = X[[f for f in remaining_features if f != \"task\"] + [\"task_bool\"]]\n",
            "\n",
            "X_train, X_test, y_train, y_test = train_test_split(X, y, test_size=0.33)\n",
            "\n",
            "rf.fit(X_train, y_train)\n",
            "\n",
            "print(np.abs((rf.predict(X_test) - y_test)).mean())\n",
            "\n",
            "feature_importances = lambda rf: {\n",
            "    f: f_i for f, f_i in zip(rf.feature_names_in_, rf.feature_importances_)\n",
            "}"
         ]
      },
      {
         "cell_type": "code",
         "execution_count": 530,
         "metadata": {},
         "outputs": [
            {
               "data": {
                  "text/plain": [
                     "Text(0, 0.5, 'Feature Importance')"
                  ]
               },
               "execution_count": 530,
               "metadata": {},
               "output_type": "execute_result"
            },
            {
               "data": {
                  "image/png": "[encoded data removed]",
                  "text/plain": [
                     "<Figure size 500x300 with 1 Axes>"
                  ]
               },
               "metadata": {},
               "output_type": "display_data"
            }
         ],
         "source": [
            "set_style()\n",
            "plot_data = {}\n",
            "plot_data[\"feature\"] = [k.replace(\"_\", \"\\n\") for k in feature_importances(rf).keys()]\n",
            "plot_data[\"importance\"] = list(feature_importances(rf).values())\n",
            "plot_data = pd.DataFrame.from_dict(plot_data)\n",
            "\n",
            "fig, ax = plt.subplots(figsize=(5, 3), constrained_layout=True)\n",
            "sns.barplot(\n",
            "    plot_data.sort_values(by=\"importance\"),\n",
            "    x=\"feature\",\n",
            "    y=\"importance\",\n",
            "    ax=ax,\n",
            "    palette=\"pastel\",\n",
            ")\n",
            "ax.set_xlabel(\"\")\n",
            "ax.set_ylabel(\"Feature Importance\")"
         ]
      },
      {
         "cell_type": "code",
         "execution_count": 531,
         "metadata": {},
         "outputs": [],
         "source": [
            "fig.savefig(\"../../results/imgs/feature_importance.svg\")"
         ]
      },
      {
         "attachments": {},
         "cell_type": "markdown",
         "metadata": {},
         "source": [
            "## Tables"
         ]
      },
      {
         "cell_type": "code",
         "execution_count": 36,
         "metadata": {},
         "outputs": [],
         "source": [
            "x, y, metric = *heatmap_params[::2], \"retraining_global_diff\"\n"
         ]
      },
      {
         "cell_type": "code",
         "execution_count": 40,
         "metadata": {},
         "outputs": [],
         "source": [
            "data = filter_data(total_data, {\"Step\": \"last\", \"common_input\": False})"
         ]
      },
      {
         "cell_type": "code",
         "execution_count": 62,
         "metadata": {},
         "outputs": [],
         "source": [
            "x_values = data[x].unique()[::-1]\n",
            "y_values = data[y].unique()\n",
            "y_values_per_x = data.groupby(x)[y].unique()\n",
            "grouped_values = data.groupby([x, y])[metric].mean()\n",
            "\n",
            "z_dict = [\n",
            "    {(xv, yv): grouped_values[xv][yv] for yv in y_values_per_x[xv]} for xv in x_values\n",
            "]\n"
         ]
      },
      {
         "cell_type": "code",
         "execution_count": 68,
         "metadata": {},
         "outputs": [],
         "source": [
            "z = pd.concat([grouped_values[x] for x in x_values], axis=1)\n",
            "z.columns = x_values\n",
            "z = z[sorted(x_values)]"
         ]
      },
      {
         "cell_type": "code",
         "execution_count": 72,
         "metadata": {},
         "outputs": [
            {
               "data": {
                  "text/plain": [
                     "<matplotlib.colorbar.Colorbar at 0x7f425edf6170>"
                  ]
               },
               "execution_count": 72,
               "metadata": {},
               "output_type": "execute_result"
            },
            {
               "data": {
                  "image/png": "[encoded data removed]",
                  "text/plain": [
                     "<Figure size 640x480 with 2 Axes>"
                  ]
               },
               "metadata": {},
               "output_type": "display_data"
            }
         ],
         "source": [
            "import seaborn as sns\n",
            "\n",
            "plt.imshow(z, data=z)\n",
            "plt.colorbar()"
         ]
      },
      {
         "cell_type": "code",
         "execution_count": 47,
         "metadata": {},
         "outputs": [
            {
               "data": {
                  "text/plain": [
                     "array([ 68,  37,  34, 100,  47,  13,  44,  16,  31,  96,  10,  59,  90,\n",
                     "        41,  93,  25,  78,  50,  22,  81,  87,  84,  56,  65,  19,  62,\n",
                     "        72,  28,  53,  75])"
                  ]
               },
               "execution_count": 47,
               "metadata": {},
               "output_type": "execute_result"
            }
         ],
         "source": [
            "x_values\n"
         ]
      },
      {
         "cell_type": "code",
         "execution_count": null,
         "metadata": {},
         "outputs": [],
         "source": []
      },
      {
         "cell_type": "code",
         "execution_count": 142,
         "metadata": {},
         "outputs": [
            {
               "data": {
                  "text/plain": [
                     "n_hidden\n",
                     "10          [1.0, 0.75, 0.5, 0.25]\n",
                     "25          [1.0, 0.75, 0.5, 0.25]\n",
                     "50          [1.0, 0.75, 0.5, 0.25]\n",
                     "75     [1.0, 0.75, 0.5, 0.25, 0.0]\n",
                     "100    [1.0, 0.75, 0.5, 0.25, 0.0]\n",
                     "Name: cov_ratio, dtype: object"
                  ]
               },
               "execution_count": 142,
               "metadata": {},
               "output_type": "execute_result"
            }
         ],
         "source": [
            "y_values_per_x"
         ]
      },
      {
         "cell_type": "markdown",
         "metadata": {},
         "source": [
            "### Specialization Gradient"
         ]
      },
      {
         "cell_type": "code",
         "execution_count": 15,
         "metadata": {},
         "outputs": [],
         "source": [
            "def get_spec_gradient(**v_params):\n",
            "\n",
            "    if v_params[\"n_hidden\"] not in total_data[\"n_hidden\"].unique():\n",
            "        return\n",
            "\n",
            "    v_params.pop(\"Step\")\n",
            "    print(v_params)\n",
            "    ags = [\"Ag 0\", \"Readout\", \"Ag 1\"]\n",
            "    data = filter_data(total_data, v_params)\n",
            "    data_per_ts = [filter_data(data, {\"Step\": ts}) for ts in [\"mid-\", \"last\"]]\n",
            "    data_per_ag_mean = [\n",
            "        [data[[f\"bottleneck_{ag}_local_diff\"]] for ag in [0, \"all\", 1]]\n",
            "        for data in data_per_ts\n",
            "    ]\n",
            "\n",
            "    diffs_ag_ts = {\n",
            "        f\"{ags[j]} ts {i}\": data_per_ag_mean[i][j].values.squeeze()\n",
            "        for i, j in [[0, 0], [1, 0], [1, 1], [1, 2], [0, 2]]\n",
            "    }\n",
            "\n",
            "    diffs_ag_ts = pd.DataFrame.from_dict(diffs_ag_ts)\n",
            "    diffs_ag_ts[\"sparsity\"] = data_per_ts[0][\"sparsity\"].values.squeeze()\n",
            "\n",
            "    fig, ax = plt.subplots(figsize=(10, 5), dpi=100, constrained_layout=True)\n",
            "    plot_data = data = diffs_ag_ts.groupby(\"sparsity\").mean()\n",
            "    colors = sns.color_palette(\n",
            "        \"husl\", n_colors=len(plot_data.index.values)\n",
            "    )  # get a number of colors\n",
            "    cmap = dict(zip(plot_data.index.values, colors))  # zip values to colors\n",
            "    plot = sns.lineplot(plot_data.T, legend=False, palette=cmap, ax=ax)\n",
            "\n",
            "    sm = plt.cm.ScalarMappable(cmap=sns.husl_palette(as_cmap=True))\n",
            "    sm.set_array([])\n",
            "    fig.colorbar(sm, label=\"% interconnections\", orientation=\"vertical\", ax=ax)\n",
            "\n",
            "    ax.set_xticklabels(\n",
            "        [\n",
            "            f\"{ 'Ag' * (ag != 'Readout')} {ag} Step {t}\"\n",
            "            for t, ag in [[0, 0], [1, 0], [1, \"Readout\"], [1, 1], [0, 1]]\n",
            "        ]\n",
            "    )\n",
            "    ax.set_ylim(-1, 1)\n",
            "    ax.set_ylabel(\"Functional \\n Specialization\")\n",
            "    ax.set_yticks([-1, 0, 1], [\"Subtask 1\", \"No Spec\", \"Subtask 0\"])\n",
            "\n",
            "    ax.hlines(0, 0, 4, linestyles=\"--\", colors=\"black\", alpha=0.3)\n",
            "    ax.vlines(np.arange(5), -1, 1, linestyles=\"--\", colors=\"black\", alpha=0.3)\n",
            "\n",
            "    fig.show()\n"
         ]
      },
      {
         "cell_type": "code",
         "execution_count": 16,
         "metadata": {},
         "outputs": [
            {
               "data": {
                  "application/vnd.jupyter.widget-view+json": {
                     "model_id": "850e46e0e8d741609aee35ffb85967fd",
                     "version_major": 2,
                     "version_minor": 0
                  },
                  "text/plain": [
                     "interactive(children=(Select(description='common_readout', options=(True,), value=True), Select(description='n…"
                  ]
               },
               "metadata": {},
               "output_type": "display_data"
            }
         ],
         "source": [
            "params_widgets = {\n",
            "    k: widgets.Select(\n",
            "        options=[p for p in params], description=k, disabled=False, value=params[0]\n",
            "    )\n",
            "    for k, params in varying_params.items()\n",
            "}\n",
            "\n",
            "params_widgets[\"n_hidden\"] = widgets.IntSlider(value=25, min=10, max=100, step=5)\n",
            "\n",
            "interactive_plot = widgets.interactive(get_spec_gradient, **params_widgets)\n",
            "\n",
            "display(interactive_plot)\n"
         ]
      },
      {
         "cell_type": "code",
         "execution_count": 230,
         "metadata": {},
         "outputs": [
            {
               "data": {
                  "text/plain": [
                     "{5, False, True, 'mid-', 'parity-digits'}"
                  ]
               },
               "execution_count": 230,
               "metadata": {},
               "output_type": "execute_result"
            }
         ],
         "source": [
            "{params[0] for k, params in varying_params.items()}\n"
         ]
      },
      {
         "attachments": {},
         "cell_type": "markdown",
         "metadata": {},
         "source": [
            "### Parameter Importance"
         ]
      },
      {
         "cell_type": "code",
         "execution_count": 136,
         "metadata": {},
         "outputs": [],
         "source": [
            "from sklearn.ensemble import RandomForestRegressor as RF\n",
            "from sklearn.model_selection import train_test_split\n",
            "from sklearn.tree import export_graphviz, plot_tree\n"
         ]
      },
      {
         "cell_type": "code",
         "execution_count": 140,
         "metadata": {},
         "outputs": [
            {
               "data": {
                  "text/plain": [
                     "['common_readout', 'n_bot', 'common_input', 'Step', 'cov_ratio']"
                  ]
               },
               "execution_count": 140,
               "metadata": {},
               "output_type": "execute_result"
            }
         ],
         "source": [
            "[k for k, v in varying_params.items() if len(v) > 1]\n"
         ]
      },
      {
         "cell_type": "code",
         "execution_count": 149,
         "metadata": {},
         "outputs": [
            {
               "name": "stdout",
               "output_type": "stream",
               "text": [
                  "0.03846413042899654\n"
               ]
            }
         ],
         "source": [
            "params = [\n",
            "    \"common_readout\",\n",
            "    \"n_bot\",\n",
            "    \"common_input\",\n",
            "    \"task\",\n",
            "    \"Step\",\n",
            "    \"cov_ratio\",\n",
            "    \"n_hidden\",\n",
            "    \"sparsity\",\n",
            "]\n",
            "\n",
            "varying_params = {}\n",
            "for param in params:\n",
            "    if param in total_data.columns:\n",
            "        varying_params[param] = total_data[param].unique().tolist()\n",
            "        try:\n",
            "            varying_params[param] = sorted(varying_params[param])\n",
            "            varying_params[param] = [\n",
            "                v if not np.isnan(v) else None for v in varying_params[param]\n",
            "            ]\n",
            "        except TypeError:\n",
            "            pass\n",
            "\n",
            "rf = RF()\n",
            "metric = metrics[0]\n",
            "# metric = \"best_acc\"\n",
            "\n",
            "all_features = [k for k, v in varying_params.items() if len(v) > 1]\n",
            "\n",
            "fixed_features = {k: v for k, v in varying_params.items() if len(v) == 1}\n",
            "\n",
            "fixed_features.update({\"Step\": \"last\", \"n_bot\": 5})\n",
            "\n",
            "data = total_data\n",
            "remaining_features = [f for f in all_features if f not in fixed_features]\n",
            "\n",
            "data = filter_data(data, fixed_features)\n",
            "\n",
            "X = data[remaining_features]\n",
            "y = data[metric]\n",
            "\n",
            "if \"task\" in remaining_features:\n",
            "    X[\"task_bool\"] = X[\"task\"] == \"all\"\n",
            "    X = X[[f for f in remaining_features if f != \"task\"] + [\"task_bool\"]]\n",
            "\n",
            "X_train, X_test, y_train, y_test = train_test_split(X, y, test_size=0.33)\n",
            "\n",
            "rf.fit(X_train, y_train)\n",
            "\n",
            "print(np.abs((rf.predict(X_test) - y_test)).mean())\n",
            "\n",
            "feature_importances = lambda rf: {\n",
            "    f: f_i for f, f_i in zip(rf.feature_names_in_, rf.feature_importances_)\n",
            "}"
         ]
      },
      {
         "cell_type": "code",
         "execution_count": 150,
         "metadata": {},
         "outputs": [
            {
               "data": {
                  "text/plain": [
                     "{'common_readout': 0.08835830398627519,\n",
                     " 'common_input': 0.11556805494836744,\n",
                     " 'cov_ratio': 0.24013192899714103,\n",
                     " 'n_hidden': 0.10968919700068862,\n",
                     " 'sparsity': 0.4462525150675277}"
                  ]
               },
               "execution_count": 150,
               "metadata": {},
               "output_type": "execute_result"
            }
         ],
         "source": [
            "feature_importances(rf)\n"
         ]
      },
      {
         "cell_type": "code",
         "execution_count": null,
         "metadata": {},
         "outputs": [],
         "source": []
      },
      {
         "cell_type": "code",
         "execution_count": 174,
         "metadata": {},
         "outputs": [
            {
               "data": {
                  "text/plain": [
                     "Text(0, 0.5, 'Feature Importance')"
                  ]
               },
               "execution_count": 174,
               "metadata": {},
               "output_type": "execute_result"
            },
            {
               "data": {
                  "image/png": "[encoded data removed]",
                  "text/plain": [
                     "<Figure size 500x200 with 1 Axes>"
                  ]
               },
               "metadata": {},
               "output_type": "display_data"
            }
         ],
         "source": [
            "plot_data = {}\n",
            "plot_data[\"feature\"] = [k.replace(\"_\", \"\\n\") for k in feature_importances(rf).keys()]\n",
            "plot_data[\"importance\"] = list(feature_importances(rf).values())\n",
            "plot_data = pd.DataFrame.from_dict(plot_data)\n",
            "\n",
            "fig, ax = plt.subplots(figsize=(5, 2), constrained_layout=True)\n",
            "sns.barplot(\n",
            "    plot_data.sort_values(by=\"importance\"),\n",
            "    x=\"feature\",\n",
            "    y=\"importance\",\n",
            "    ax=ax,\n",
            "    palette=\"pastel\",\n",
            ")\n",
            "ax.set_xlabel(\"\")\n",
            "ax.set_ylabel(\"Feature Importance\")"
         ]
      },
      {
         "cell_type": "code",
         "execution_count": 176,
         "metadata": {},
         "outputs": [
            {
               "data": {
                  "text/plain": [
                     "2.5"
                  ]
               },
               "execution_count": 176,
               "metadata": {},
               "output_type": "execute_result"
            }
         ],
         "source": [
            "5\n"
         ]
      },
      {
         "cell_type": "code",
         "execution_count": 175,
         "metadata": {},
         "outputs": [],
         "source": [
            "fig.savefig(\"../../results/imgs/feature_importance.svg\")"
         ]
      },
      {
         "cell_type": "markdown",
         "metadata": {},
         "source": [
            "# Find new metric"
         ]
      },
      {
         "cell_type": "code",
         "execution_count": 2,
         "metadata": {},
         "outputs": [],
         "source": [
            "import numpy as np\n",
            "import numpy.linalg as LA\n",
            "from numpy.linalg import LinAlgError"
         ]
      },
      {
         "cell_type": "code",
         "execution_count": 8,
         "metadata": {},
         "outputs": [],
         "source": [
            "def agent_diff(col):\n",
            "    return (col[1] - col[0]) / col.sum()\n",
            "\n",
            "\n",
            "def global_diff(M):\n",
            "    return np.abs(agent_diff(M[:, 0]) - agent_diff(M[:, 1])) / 2\n",
            "\n",
            "\n",
            "def new_metric(M):\n",
            "    return np.abs(LA.det(M)) / M.sum(0).prod()\n"
         ]
      },
      {
         "cell_type": "code",
         "execution_count": 29,
         "metadata": {},
         "outputs": [
            {
               "data": {
                  "text/plain": [
                     "(0.5, 1.0)"
                  ]
               },
               "execution_count": 29,
               "metadata": {},
               "output_type": "execute_result"
            }
         ],
         "source": [
            "n_agents = 2\n",
            "\n",
            "M = np.random.rand(n_agents, n_agents)\n",
            "\n",
            "M = np.eye(n_agents)\n",
            "M[0, 1] = 1\n",
            "\n",
            "new_metric(M), np.abs(LA.det(M))"
         ]
      },
      {
         "cell_type": "code",
         "execution_count": 128,
         "metadata": {},
         "outputs": [
            {
               "data": {
                  "text/plain": [
                     "(array([[0., 1.],\n",
                     "        [0., 0.]]),\n",
                     " array([[1., 0., 0.],\n",
                     "        [0., 1., 0.],\n",
                     "        [0., 0., 1.]]))"
                  ]
               },
               "execution_count": 128,
               "metadata": {},
               "output_type": "execute_result"
            }
         ],
         "source": [
            "idxs = [0, 2]\n",
            "sub_mat = lambda M, idx: np.delete(np.delete(M, idx[0], 0), idx[1], 1).squeeze()\n",
            "sub_mat(M, idxs), M\n"
         ]
      },
      {
         "cell_type": "code",
         "execution_count": 180,
         "metadata": {},
         "outputs": [],
         "source": [
            "def reccursive_new_metric(M):\n",
            "    if M.shape[0] > 2:\n",
            "\n",
            "        res = new_metric(M)\n",
            "\n",
            "        for i in range(M.shape[0]):\n",
            "            for j in range(M.shape[1]):\n",
            "                subM = sub_mat(M, [i, j])\n",
            "                res += reccursive_new_metric(subM)\n",
            "\n",
            "    else:\n",
            "        res = new_metric(M)\n",
            "\n",
            "    print(res)\n",
            "    return res\n"
         ]
      }
   ],
   "metadata": {
      "kernelspec": {
         "display_name": "community",
         "language": "python",
         "name": "python3"
      },
      "language_info": {
         "codemirror_mode": {
            "name": "ipython",
            "version": 3
         },
         "file_extension": ".py",
         "mimetype": "text/x-python",
         "name": "python",
         "nbconvert_exporter": "python",
         "pygments_lexer": "ipython3",
         "version": "3.10.9"
      },
      "orig_nbformat": 4,
      "vscode": {
         "interpreter": {
            "hash": "5c46eabf39b4d4e6cb6668853226ee702b3f0cb279968f228c052b13b97983d9"
         }
      }
   },
   "nbformat": 4,
   "nbformat_minor": 2
}
