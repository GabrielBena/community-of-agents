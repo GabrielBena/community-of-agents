{
 "cells": [
  {
   "cell_type": "markdown",
   "metadata": {},
   "source": [
    "# Simple Self Contained Model of the Funcspec Project"
   ]
  },
  {
   "cell_type": "code",
   "execution_count": 1,
   "metadata": {},
   "outputs": [],
   "source": [
    "import torch.nn as nn\n",
    "import torch\n",
    "import torch.nn.functional as F\n",
    "from torchvision.datasets import EMNIST\n",
    "import numpy as np\n",
    "from tqdm.notebook import tqdm as tqdm_n\n",
    "import matplotlib.pyplot as plt\n",
    "import seaborn as sns\n",
    "from torchviz import make_dot\n",
    "from torchsummary import summary\n",
    "from torch.utils.data import DataLoader\n"
   ]
  },
  {
   "cell_type": "markdown",
   "metadata": {},
   "source": [
    "## Data"
   ]
  },
  {
   "cell_type": "markdown",
   "metadata": {},
   "source": [
    "### Datasets"
   ]
  },
  {
   "cell_type": "code",
   "execution_count": 2,
   "metadata": {},
   "outputs": [],
   "source": [
    "from community.data.datasets import get_datasets_symbols\n",
    "from community.common.utils import plot_grid\n"
   ]
  },
  {
   "cell_type": "code",
   "execution_count": 3,
   "metadata": {},
   "outputs": [],
   "source": [
    "%load_ext autoreload\n",
    "%autoreload 2"
   ]
  },
  {
   "cell_type": "code",
   "execution_count": 4,
   "metadata": {},
   "outputs": [],
   "source": [
    "use_cuda = True\n",
    "device = torch.device(\"cuda\" if use_cuda else \"cpu\")\n",
    "batch_size = 256\n",
    "n_classes = 2"
   ]
  },
  {
   "cell_type": "code",
   "execution_count": 16,
   "metadata": {},
   "outputs": [
    {
     "data": {
      "image/png": "[encoded data removed]",
      "text/plain": [
       "<Figure size 432x288 with 2 Axes>"
      ]
     },
     "metadata": {
      "needs_background": "light"
     },
     "output_type": "display_data"
    },
    {
     "name": "stderr",
     "output_type": "stream",
     "text": [
      "Generating Data: 100%|██████████| 30000/30000 [00:03<00:00, 8296.28it/s]\n",
      "Generating Data: 100%|██████████| 30000/30000 [00:03<00:00, 9228.73it/s]\n"
     ]
    },
    {
     "data": {
      "image/png": "[encoded data removed]",
      "text/plain": [
       "<Figure size 432x288 with 2 Axes>"
      ]
     },
     "metadata": {
      "needs_background": "light"
     },
     "output_type": "display_data"
    },
    {
     "name": "stderr",
     "output_type": "stream",
     "text": [
      "Generating Data: 100%|██████████| 5000/5000 [00:00<00:00, 7668.67it/s]\n",
      "Generating Data: 100%|██████████| 5000/5000 [00:00<00:00, 8857.22it/s]\n"
     ]
    }
   ],
   "source": [
    "data_config = {'data_size' : (30000, 5000),\n",
    "                                'nb_steps' : 50,\n",
    "                                'n_symbols' : n_classes - 1,\n",
    "                                'symbol_size' : 5,\n",
    "                                'input_size' : 30,\n",
    "                                'static' : False                         \n",
    "        \n",
    "    }\n",
    "loaders, datasets = get_datasets_symbols(data_config, batch_size, use_cuda)"
   ]
  },
  {
   "cell_type": "markdown",
   "metadata": {},
   "source": [
    "## Tasks"
   ]
  },
  {
   "cell_type": "code",
   "execution_count": 23,
   "metadata": {},
   "outputs": [],
   "source": [
    "def get_task_target(target, task) : \n",
    "    try :\n",
    "        task = int(task)\n",
    "        new_target = target[:, task]\n",
    "    except ValueError : \n",
    "\n",
    "        if task == 'parity': \n",
    "            new_target = parity_task(target)\n",
    "        elif task == 'count' : \n",
    "            new_target = symbol_count(target)\n",
    "        else : \n",
    "            raise NotImplementedError\n",
    "\n",
    "    return new_target.type(torch.LongTensor).to(target.device)\n",
    "\n",
    "def parity_task(target) : \n",
    "\n",
    "    parity = 1 - target.sum(-1)%2\n",
    "    parity_target = torch.where(parity.bool(), target[:, 0], target[:, 1])\n",
    "    return parity_target\n",
    "\n",
    "def new_parity_task(target) : \n",
    "    parity = 1 - target.sum(-1)%2\n",
    "    equal = (target[:, 0].eq(target[:, 1]))\n",
    "    parity_target = torch.where(parity.bool(), target[:, 0], target[:, 1])\n",
    "    parity_target = torch.where(equal, torch.full_like(parity_target, n_classes), parity_target)\n",
    "\n",
    "    return parity_target\n",
    "\n",
    "def process_data(data, nb_steps=None, flatten=True, symbols=True, device=device) : \n",
    "    if symbols : data =  data.permute(2, 1, 0, 3, 4)\n",
    "    if flatten : data = data.flatten(start_dim=-2) \n",
    "    if nb_steps : data = torch.stack([data for _ in range(nb_steps)], 1)\n",
    "    \n",
    "    return data.float().to(device)\n",
    "    \n",
    "\n",
    "def get_data(temporal=False, task=None, flatten=True, device=device) : \n",
    "    data, target = next(iter(loaders[0]))\n",
    "    print(data.shape)\n",
    "    data = process_data(data, flatten=flatten, nb_steps=2 if temporal else None)\n",
    "    if task : target = get_task_target(target, task)\n",
    "\n",
    "    return data, target.float().to(device)\n",
    "\n",
    "\n",
    "def symbol_count(target) : \n",
    "    new_target = torch.where(target.argmax(-1).bool(), target[:, 1], target[:, 0])\n",
    "    new_target[target[:, 0] == target[:, 1]] = 0\n",
    "    return new_target\n"
   ]
  },
  {
   "cell_type": "markdown",
   "metadata": {},
   "source": [
    "## Models"
   ]
  },
  {
   "cell_type": "code",
   "execution_count": 18,
   "metadata": {},
   "outputs": [],
   "source": [
    "class SmoothStep(torch.autograd.Function):\n",
    "    '''\n",
    "    Modified from: https://pytorch.org/tutorials/beginner/examples_autograd/two_layer_net_custom_function.html\n",
    "    '''\n",
    "\n",
    "    @staticmethod\n",
    "    def forward(aux, x, thr=0):\n",
    "        aux.save_for_backward(x)\n",
    "        return (x >=thr).type(x.dtype)\n",
    "\n",
    "    def backward(aux, grad_output):\n",
    "        # grad_input = grad_output.clone()\n",
    "        input, = aux.saved_tensors\n",
    "        grad_input = grad_output.clone()\n",
    "        grad_input[input <= -.5] = 0\n",
    "        grad_input[input > .5] = 0\n",
    "        return grad_input\n",
    "    \n",
    "smooth_step = SmoothStep().apply\n",
    "sigmoid = nn.Sigmoid()\n",
    "\n",
    "class SurrGradSpike(torch.autograd.Function):\n",
    "    \"\"\"\n",
    "    Here we implement our spiking nonlinearity which also implements \n",
    "    the surrogate gradient. By subclassing torch.autograd.Function, \n",
    "    we will be able to use all of PyTorch's autograd functionality.\n",
    "    Here we use the normalized negative part of a fast sigmoid \n",
    "    as this was done in Zenke & Ganguli (2018).\n",
    "    \"\"\"\n",
    "    \n",
    "    scale = 100.0 # controls steepness of surrogate gradient\n",
    "\n",
    "    @staticmethod\n",
    "    def forward(ctx, input, thr=0):\n",
    "        \"\"\"\n",
    "        In the forward pass we compute a step function of the input Tensor\n",
    "        and return it. ctx is a context object that we use to stash information which \n",
    "        we need to later backpropagate our error signals. To achieve this we use the \n",
    "        ctx.save_for_backward method.\n",
    "        \"\"\"\n",
    "        ctx.save_for_backward(input)\n",
    "        out = -torch.ones_like(input)\n",
    "        out[input > thr] = 1.0\n",
    "        return out\n",
    "\n",
    "    @staticmethod\n",
    "    def backward(ctx, grad_output):\n",
    "        \"\"\"\n",
    "        In the backward pass we receive a Tensor we need to compute the \n",
    "        surrogate gradient of the loss with respect to the input. \n",
    "        Here we use the normalized negative part of a fast sigmoid \n",
    "        as this was done in Zenke & Ganguli (2018).\n",
    "        \"\"\"\n",
    "        input, = ctx.saved_tensors\n",
    "        grad_input = grad_output.clone()\n",
    "        grad = grad_input/(SurrGradSpike.scale*torch.abs(input)+1.0)**2\n",
    "        return grad\n",
    "    \n",
    "# here we overwrite our naive spike function by the \"SurrGradSpike\" nonlinearity which implements a surrogate gradient\n",
    "super_spike  = SurrGradSpike.apply"
   ]
  },
  {
   "cell_type": "code",
   "execution_count": 72,
   "metadata": {},
   "outputs": [],
   "source": [
    "class Agent(nn.Module) : \n",
    "\n",
    "    def __init__(self, dims, use_conv=False) : \n",
    "        super().__init__()\n",
    "        if use_conv : \n",
    "            S, W, F = 1, input_size, symbol_size\n",
    "            P = int(((S-1)*W-S+F)/2)\n",
    "            print(F, S, P)\n",
    "            self.conv = nn.Sequential(nn.Conv2d(1, 1, F, S, P), nn.Flatten())\n",
    "        else : \n",
    "            self.conv = None\n",
    "\n",
    "        self.use_bottleneck = False\n",
    "        self.dims = dims\n",
    "\n",
    "        self.cell = nn.RNN(dims[0], dims[1], 1, bias=False, batch_first=False)\n",
    "        self.readout = nn.Linear(dims[1], dims[2], bias=False)\n",
    "\n",
    "    def forward(self, input, state=None, connections=0) : \n",
    "\n",
    "        if self.conv : \n",
    "            input = self.conv(input)\n",
    "\n",
    "        if len(input.shape ) < 3 : \n",
    "            input = input.unsqueeze(0)\n",
    "\n",
    "        if state is None : \n",
    "            out, h = self.cell(input)\n",
    "        else : \n",
    "            h = state + connections\n",
    "            out, h = self.cell(input, h)\n",
    "\n",
    "        out = self.readout(out[0])\n",
    "\n",
    "        return out, h\n",
    "\n",
    "class Connection(nn.Linear) : \n",
    "    def __init__(self, dims, p, binarize=False) : \n",
    "\n",
    "        super().__init__(dims[0], dims[1], bias=False)\n",
    "\n",
    "        self.sparsity = p\n",
    "        n_in, n_out = dims\n",
    "        self.nb_non_zero = int(p*n_in*n_out)\n",
    "        w_mask = np.zeros((n_in, n_out),dtype=bool)\n",
    "        ind_in, ind_out = np.unravel_index(np.random.choice(np.arange(n_in*n_out), self.nb_non_zero, replace=False), (n_in, n_out))\n",
    "        w_mask[ind_in,ind_out] = True\n",
    "        w_mask = torch.tensor(w_mask)\n",
    "        self.register_buffer('w_mask', w_mask)\n",
    "        self.binarize = binarize\n",
    "\n",
    "        assert w_mask.sum() == self.nb_non_zero, f'Number of nonzero connection is {w_mask.sum()}, expected {self.nb_non_zero}'\n",
    "\n",
    "    def forward(self, input) : \n",
    "        out = F.linear(input, self.weight*self.w_mask)\n",
    "        assert (out != 0).float().sum(-1).max() <= self.nb_non_zero, f'{(out != 0).float().sum(-1).max()} non zero connections !'\n",
    "        if self.binarize  : \n",
    "            out = super_spike(out)\n",
    "\n",
    "        return out\n",
    "\n",
    "class Ensemble(nn.Module) : \n",
    "    def __init__(self, dims, p, use_conv=False, binary_con=False) : \n",
    "\n",
    "        super().__init__()\n",
    "        self.n_in, self.n_hid, self.n_out = dims\n",
    "        self.agents = nn.ModuleList([Agent(dims, use_conv) for _ in range(2)])[::-1]\n",
    "        self.connections = nn.ModuleList([Connection([dims[1]]*2, p, binary_con) for _ in range(2)])\n",
    "        self.is_community = True\n",
    "\n",
    "    def forward(self, input): \n",
    "\n",
    "        states, outputs, conns = [None for _ in range(2)], [[] for _ in range(2)], [None for _ in range(2)]\n",
    "        \n",
    "        for t, t_input in enumerate(input) :\n",
    "            for ag, agent in enumerate(self.agents) : \n",
    "                \n",
    "                ag_input = t_input[ag]\n",
    "                \n",
    "                if t>0 : \n",
    "                    input_connect = self.connections[1-ag](states[1-ag])\n",
    "                else : \n",
    "                    input_connect = 0\n",
    "                \n",
    "                out, h = agent(ag_input, states[ag], input_connect)\n",
    "\n",
    "\n",
    "                states[ag] = h\n",
    "                outputs[ag].append(out)\n",
    "                conns[ag] = input_connect\n",
    "\n",
    "        outputs = torch.stack([torch.stack(o) for o in outputs], 1)\n",
    "        states = torch.stack(states, 1)[0]\n",
    "        conns = torch.stack(conns, 1)[0]\n",
    "\n",
    "        #print((outputs[-1][1] == outputs[-1][1]).all())\n",
    "\n",
    "        return outputs, [states], conns\n",
    "     "
   ]
  },
  {
   "cell_type": "markdown",
   "metadata": {},
   "source": [
    "## Decisions\n"
   ]
  },
  {
   "cell_type": "code",
   "execution_count": 76,
   "metadata": {},
   "outputs": [],
   "source": [
    "def get_decision(outputs, decision_params, target=None) : \n",
    "    temporal_decision, agent_decision = decision_params\n",
    "\n",
    "    if temporal_decision == 'last' : \n",
    "        outputs = outputs[-1]\n",
    "\n",
    "    else : \n",
    "        raise NotImplementedError\n",
    "\n",
    "    try : \n",
    "        deciding_ags = int(agent_decision)\n",
    "        outputs = outputs[deciding_ags]\n",
    "        deciding_ags = torch.ones(outputs.shape[0])*deciding_ags\n",
    "        return outputs, deciding_ags\n",
    "\n",
    "    except ValueError : \n",
    "\n",
    "        if agent_decision == 'loss' :\n",
    "            assert target is not None, 'Provide target for min loss decision'\n",
    "            loss, min_idxs = torch.stack([F.cross_entropy(out, target, reduction='none') for out in outputs]).min(0)\n",
    "            min_idxs = min_idxs.unsqueeze(-1).expand_as(outputs[0])\n",
    "            outputs = torch.where(~min_idxs.bool(), outputs[0], outputs[1])\n",
    "            deciding_ags = min_idxs[..., 0]\n",
    "            return outputs, deciding_ags\n",
    "\n",
    "        elif agent_decision == 'max' : \n",
    "            device = outputs.device\n",
    "            n_agents = outputs.shape[0]\n",
    "            max_out = lambda i : torch.max(outputs[i,...], axis=-1)\n",
    "            _, deciding_ags = torch.max(torch.stack([max_out(i)[0] for i in range(n_agents)]), axis=0)\n",
    "            mask_1 = deciding_ags.unsqueeze(0).unsqueeze(-1).expand_as(outputs)\n",
    "            mask_2 = torch.einsum('b, bcx -> bcx', torch.arange(n_agents).to(device), torch.ones_like(outputs))\n",
    "            mask = (mask_1 == mask_2)\n",
    "\n",
    "            return (outputs*mask).sum(0), deciding_ags\n",
    "\n",
    "        else : \n",
    "            raise NotImplementedError\n",
    "\n",
    "def check_grad(model, task_id = '0') : \n",
    "    for n, p in model.named_parameters() : \n",
    "        if 'k_params' in n or 'all_scores' in n : \n",
    "            if task_id in n : \n",
    "                return check_ind_grad(n, p)\n",
    "        else : \n",
    "            check_ind_grad(n, p)\n",
    "\n",
    "def check_ind_grad(n, p) : \n",
    "    if p.grad is not None : \n",
    "        if (p.grad == 0).all() : \n",
    "            ''\n",
    "            print(f'{n}, Zero Grad')\n",
    "        #else : print(f'{n} : {p.grad}')\n",
    "    elif p.requires_grad : \n",
    "        ''\n",
    "        print(f'{n}, None Grad')"
   ]
  },
  {
   "cell_type": "markdown",
   "metadata": {},
   "source": [
    "## Init"
   ]
  },
  {
   "cell_type": "code",
   "execution_count": 77,
   "metadata": {},
   "outputs": [],
   "source": [
    "dims = [data_config['input_size']**2, 50, n_classes]\n",
    "sparsity = 1 * 1/dims[1]**2\n",
    "\n",
    "use_conv = False\n",
    "binary_connections = True\n",
    "\n",
    "community = Ensemble(dims, sparsity, use_conv, binary_connections).to(device)\n",
    "optimizer = torch.optim.Adam(community.parameters(), lr=1e-3)\n",
    "\n",
    "#summary(community.agents[0], (1, input_size, input_size) if use_conv else (1, input_size**2))"
   ]
  },
  {
   "cell_type": "code",
   "execution_count": 78,
   "metadata": {},
   "outputs": [
    {
     "name": "stdout",
     "output_type": "stream",
     "text": [
      "torch.Size([256, 50, 2, 30, 30])\n",
      "(tensor([-1.,  1.], device='cuda:0', grad_fn=<Unique2Backward0>), tensor([25396,   204], device='cuda:0'))\n"
     ]
    }
   ],
   "source": [
    "data, target = get_data(flatten=True, temporal=False, device=device)\n",
    "out, states, conns = community(data)\n",
    "if binary_connections : print(conns.unique(return_counts=True))\n",
    "#symbol_count(target).unique(return_counts=True), (symbol_count(target) == target[:, 0]).unique(return_counts=True)"
   ]
  },
  {
   "cell_type": "code",
   "execution_count": 71,
   "metadata": {},
   "outputs": [
    {
     "data": {
      "text/plain": [
       "False"
      ]
     },
     "execution_count": 71,
     "metadata": {},
     "output_type": "execute_result"
    }
   ],
   "source": [
    "community.agents[0].use_bottleneck"
   ]
  },
  {
   "cell_type": "code",
   "execution_count": 87,
   "metadata": {},
   "outputs": [
    {
     "data": {
      "application/vnd.jupyter.widget-view+json": {
       "model_id": "7219d3c938b84110a6055e960a25e1ba",
       "version_major": 2,
       "version_minor": 0
      },
      "text/plain": [
       "Correlation Metric Trials:   0%|          | 0/19 [00:00<?, ?it/s]"
      ]
     },
     "metadata": {},
     "output_type": "display_data"
    }
   ],
   "source": [
    "\n",
    "from community.funcspec.bottleneck import readout_retrain\n",
    "corrs = get_pearson_metrics(community,  loaders, symbols=True, use_tqdm=True)"
   ]
  },
  {
   "cell_type": "code",
   "execution_count": 88,
   "metadata": {},
   "outputs": [
    {
     "data": {
      "text/plain": [
       "array([[-0.02759257, -0.03359341],\n",
       "       [-0.04030826,  0.01669626]])"
      ]
     },
     "execution_count": 88,
     "metadata": {},
     "output_type": "execute_result"
    }
   ],
   "source": [
    "corrs.mean(-1).mean(-1)"
   ]
  },
  {
   "cell_type": "code",
   "execution_count": null,
   "metadata": {},
   "outputs": [],
   "source": [
    "#make_dot(out[-1][1], dict(community.named_parameters())).render('graph')"
   ]
  },
  {
   "cell_type": "markdown",
   "metadata": {},
   "source": [
    "## Training"
   ]
  },
  {
   "cell_type": "code",
   "execution_count": 25,
   "metadata": {},
   "outputs": [
    {
     "data": {
      "application/vnd.jupyter.widget-view+json": {
       "model_id": "2c56e007ab7948d8aebc711a55b42160",
       "version_major": 2,
       "version_minor": 0
      },
      "text/plain": [
       "  0%|          | 0/10 [00:00<?, ?it/s]"
      ]
     },
     "metadata": {},
     "output_type": "display_data"
    }
   ],
   "source": [
    "n_epochs = 10\n",
    "\n",
    "decision_params = ('last', 'max') # Change to '0', '1' or 'loss'\n",
    "task = 'count'\n",
    "\n",
    "pbar = tqdm_n(range(n_epochs))\n",
    "descs = np.full((2), '', dtype=object)\n",
    "\n",
    "check_gradients = False\n",
    "\n",
    "train, test = True, True\n",
    "\n",
    "early_stop = True\n",
    "\n",
    "#train_loader, test_loader = loaders if not symbols else symbol_loaders()\n",
    "#subset = len(train_loader) if not symbols else 100000\n",
    "\n",
    "for epoch in pbar : \n",
    "    train_loader, test_loader = loaders\n",
    "\n",
    "    if train : \n",
    "            \n",
    "        # Training\n",
    "\n",
    "        for batch_idx, (data, target) in enumerate(train_loader) : \n",
    "            \n",
    "            data = process_data(data, None, True, True, device)\n",
    "            target = get_task_target(target, task).to(device)\n",
    "\n",
    "            optimizer.zero_grad()\n",
    "\n",
    "            outputs, states, conns = community(data)\n",
    "            #print((outputs[-1][0] == outputs[-1][1]).all())\n",
    "            output, deciding_ags = get_decision(outputs, decision_params, target)\n",
    "\n",
    "            loss = F.cross_entropy(output, target)\n",
    "            loss.backward()\n",
    "\n",
    "            if check_gradients : \n",
    "                zero_grads = np.array([((p.grad == 0).all()).cpu().data.item() for p in community.parameters() if p.grad is not None])\n",
    "                none_grads = np.array([p.grad is None for p in community.parameters()])\n",
    "                zero_params = np.array(list(dict(community.named_parameters()).keys()), dtype=object)[~none_grads][zero_grads]\n",
    "                none_params = np.array(list(dict(community.named_parameters()).keys()), dtype=object)[none_grads]\n",
    "\n",
    "                print(f'Zero params : {zero_params}')\n",
    "                print(f'None Params : {none_params}')\n",
    "                \n",
    "            optimizer.step()\n",
    "\n",
    "            pred = output.argmax(dim=-1, keepdim=True)\n",
    "            correct = pred.eq(target.view_as(pred)).sum().cpu().data.item()\n",
    "            acc = (correct / target.numel())\n",
    "\n",
    "            descs[0] = str('Train Epoch: {} [{}/{} ({:.0f}%)] Loss: {:.3f}, Accuracy: {}%'.format(\n",
    "                            epoch, batch_idx  * batch_size, len(train_loader.dataset),\n",
    "                            100. * batch_idx / len(train_loader), loss.item(),\n",
    "                            (np.round(100*a) for a in acc) if type(acc) is list else np.round(100*acc))\n",
    "                            )\n",
    "\n",
    "            pbar.set_description((descs.sum()))\n",
    "\n",
    "    if test : \n",
    "        acc = []\n",
    "        for batch_idx, (data, target) in enumerate(test_loader) : \n",
    "            \n",
    "            data = process_data(data, None, True, True, device)\n",
    "            target = get_task_target(target, task).to(device)\n",
    "\n",
    "            outputs, states, conns = community(data)\n",
    "            #print((outputs[-1][0] == outputs[-1][1]).all())\n",
    "            output, deciding_ags = get_decision(outputs, decision_params, target)\n",
    "\n",
    "            loss = F.cross_entropy(output, target)\n",
    "\n",
    "            pred = output.argmax(dim=-1, keepdim=True)\n",
    "            correct = pred.eq(target.view_as(pred)).sum().cpu().data.item()\n",
    "            acc += [correct / target.numel()]\n",
    "\n",
    "        acc = np.mean(acc)\n",
    "        \n",
    "        descs[1] = str('| Test : Loss: {:.3f}, Accuracy: {}%'.format(\n",
    "                        loss.item(),\n",
    "                        (np.round(100*a) for a in acc) if type(acc) is list else np.round(100*acc))\n",
    "                        )\n",
    "\n",
    "        pbar.set_description((descs.sum()))\n",
    "\n",
    "    if acc > 0.95 and early_stop: \n",
    "            break\n",
    "            #continue"
   ]
  },
  {
   "cell_type": "code",
   "execution_count": 26,
   "metadata": {},
   "outputs": [],
   "source": [
    "if use_conv : \n",
    "    fig, axs = plt.subplots(1, 2)\n",
    "    for ag, ax in zip(community.agents, axs) : \n",
    "        im = ax.imshow((ag.conv[0].weight.data.cpu().numpy()[0, 0]))\n",
    "\n",
    "#plt.colorbar(im)"
   ]
  },
  {
   "cell_type": "markdown",
   "id": "8218eb00",
   "metadata": {},
   "source": [
    "## Analysis\n"
   ]
  },
  {
   "cell_type": "markdown",
   "id": "c9dfe8de",
   "metadata": {},
   "source": [
    "### Connections"
   ]
  },
  {
   "cell_type": "code",
   "execution_count": 27,
   "id": "0c7ecd0f",
   "metadata": {},
   "outputs": [
    {
     "ename": "NameError",
     "evalue": "name 'use_symbols' is not defined",
     "output_type": "error",
     "traceback": [
      "\u001b[0;31m---------------------------------------------------------------------------\u001b[0m",
      "\u001b[0;31mNameError\u001b[0m                                 Traceback (most recent call last)",
      "\u001b[1;32m/home/gb21/Code/ANNs/community-of-agents/notebooks/Funcspec/Symbols.ipynb Cell 25\u001b[0m in \u001b[0;36m<cell line: 5>\u001b[0;34m()\u001b[0m\n\u001b[1;32m      <a href='vscode-notebook-cell://ssh-remote%2Bblossom.ee.ic.ac.uk/home/gb21/Code/ANNs/community-of-agents/notebooks/Funcspec/Symbols.ipynb#ch0000024vscode-remote?line=2'>3</a>\u001b[0m nonzero_idxs \u001b[39m=\u001b[39m [c\u001b[39m.\u001b[39mw_mask\u001b[39m.\u001b[39mnonzero()[:, \u001b[39m0\u001b[39m] \u001b[39mfor\u001b[39;00m c \u001b[39min\u001b[39;00m community\u001b[39m.\u001b[39mconnections]\n\u001b[1;32m      <a href='vscode-notebook-cell://ssh-remote%2Bblossom.ee.ic.ac.uk/home/gb21/Code/ANNs/community-of-agents/notebooks/Funcspec/Symbols.ipynb#ch0000024vscode-remote?line=4'>5</a>\u001b[0m \u001b[39mfor\u001b[39;00m data, target \u001b[39min\u001b[39;00m loaders[\u001b[39m1\u001b[39m] : \n\u001b[0;32m----> <a href='vscode-notebook-cell://ssh-remote%2Bblossom.ee.ic.ac.uk/home/gb21/Code/ANNs/community-of-agents/notebooks/Funcspec/Symbols.ipynb#ch0000024vscode-remote?line=6'>7</a>\u001b[0m     data, target \u001b[39m=\u001b[39m process_data(data, nb_steps \u001b[39mif\u001b[39;00m \u001b[39mnot\u001b[39;00m use_symbols \u001b[39melse\u001b[39;00m \u001b[39mNone\u001b[39;00m, \u001b[39mTrue\u001b[39;00m, use_symbols, device), target\u001b[39m.\u001b[39mto(device)\n\u001b[1;32m      <a href='vscode-notebook-cell://ssh-remote%2Bblossom.ee.ic.ac.uk/home/gb21/Code/ANNs/community-of-agents/notebooks/Funcspec/Symbols.ipynb#ch0000024vscode-remote?line=7'>8</a>\u001b[0m     out, states, conns \u001b[39m=\u001b[39m community(data\u001b[39m.\u001b[39mto(device))\n\u001b[1;32m     <a href='vscode-notebook-cell://ssh-remote%2Bblossom.ee.ic.ac.uk/home/gb21/Code/ANNs/community-of-agents/notebooks/Funcspec/Symbols.ipynb#ch0000024vscode-remote?line=9'>10</a>\u001b[0m     \u001b[39m#conns[-1][0].count_nonzero(dim=0)\u001b[39;00m\n\u001b[1;32m     <a href='vscode-notebook-cell://ssh-remote%2Bblossom.ee.ic.ac.uk/home/gb21/Code/ANNs/community-of-agents/notebooks/Funcspec/Symbols.ipynb#ch0000024vscode-remote?line=10'>11</a>\u001b[0m     \u001b[39m#torch.stack([conns[-1][i].count_nonzero(dim=0).max() for i in range(2)])\u001b[39;00m\n\u001b[1;32m     <a href='vscode-notebook-cell://ssh-remote%2Bblossom.ee.ic.ac.uk/home/gb21/Code/ANNs/community-of-agents/notebooks/Funcspec/Symbols.ipynb#ch0000024vscode-remote?line=11'>12</a>\u001b[0m     \u001b[39m#sums.append(torch.tensor([[conns[-1][i][target[:, i] == t].sum() for t in range(4)] for i in range(2)]))\u001b[39;00m\n",
      "\u001b[0;31mNameError\u001b[0m: name 'use_symbols' is not defined"
     ]
    }
   ],
   "source": [
    "community.to(device)\n",
    "sums = []\n",
    "nonzero_idxs = [c.w_mask.nonzero()[:, 0] for c in community.connections]\n",
    "\n",
    "for data, target in loaders[1] : \n",
    "    \n",
    "    data, target = process_data(data, nb_steps if not use_symbols else None, True, use_symbols, device), target.to(device)\n",
    "    out, states, conns = community(data.to(device))\n",
    "    \n",
    "    #conns[-1][0].count_nonzero(dim=0)\n",
    "    #torch.stack([conns[-1][i].count_nonzero(dim=0).max() for i in range(2)])\n",
    "    #sums.append(torch.tensor([[conns[-1][i][target[:, i] == t].sum() for t in range(4)] for i in range(2)]))\n",
    "    sums.append(torch.stack([torch.stack([conns[i][target[:, 1-i] == t][:, nonzero_idxs[1-i]].sum(0) for t in range(n_classes)]) for i in range(2)]))\n",
    "\n",
    "sums = torch.stack(sums).cpu().data.numpy().mean(0)[..., 0]\n",
    "ax = sns.heatmap(sums, cmap=\"inferno\", annot=sums.round(1).astype(str), annot_kws={'fontsize': 16}, fmt='s')\n",
    "ax.set_xlabel('Digit Received by other agent')\n",
    "ax.set_ylabel('Connection received by agent : ')\n",
    "ax.set_title('Average of connections received by agents')\n",
    "plt.show()"
   ]
  },
  {
   "cell_type": "markdown",
   "id": "2318caa3",
   "metadata": {},
   "source": [
    " ### Decisions"
   ]
  },
  {
   "cell_type": "code",
   "execution_count": null,
   "id": "4859de41",
   "metadata": {},
   "outputs": [
    {
     "name": "stderr",
     "output_type": "stream",
     "text": [
      "/tmp/ipykernel_7938/1162496303.py:17: UserWarning: To copy construct from a tensor, it is recommended to use sourceTensor.clone().detach() or sourceTensor.clone().detach().requires_grad_(True), rather than torch.tensor(sourceTensor).\n",
      "  mask = target.eq(torch.tensor(t)).all(axis=1)\n"
     ]
    },
    {
     "data": {
      "image/png": "[encoded data removed]",
      "text/plain": [
       "<Figure size 432x288 with 2 Axes>"
      ]
     },
     "metadata": {},
     "output_type": "display_data"
    }
   ],
   "source": [
    "get_all_targets = lambda : torch.cat([t for _, t in loaders[1]])\n",
    "\n",
    "all_targets = get_all_targets()\n",
    "\n",
    "uniques = all_targets.unique(dim=0).cpu()\n",
    "decision_means = torch.zeros(len(uniques))\n",
    "\n",
    "community.to('cpu')\n",
    "for b_idx, (data, target) in enumerate(loaders[1]) : \n",
    "    \n",
    "    data, target = process_data(data, nb_steps if not use_symbols else None, True, use_symbols, 'cpu'), target.to('cpu')\n",
    "    t_target = get_task_target(target, task).cpu()\n",
    "    output, *_ = community(data)\n",
    "    output, decision_ags = get_decision(output, decision_params, target=t_target)\n",
    "\n",
    "    for i, t in enumerate(uniques) : \n",
    "        mask = target.eq(torch.tensor(t)).all(axis=1)\n",
    "        decision_means[i] += decision_ags[mask].float().cpu().sum()/mask.sum()\n",
    "decision_means /= b_idx +1\n",
    "\n",
    "digits_in = lambda d1, d2 : (torch.tensor([d1, d2]) == uniques).all(1).any()\n",
    "digits_idx = lambda d1, d2 : (torch.tensor([d1, d2]) == uniques).all(1).float().argmax()\n",
    "decisions = np.zeros((n_classes, n_classes))\n",
    "targets = np.zeros((n_classes, n_classes), dtype=object)\n",
    "\n",
    "for d1 in range(n_classes) : \n",
    "    for d2 in range(n_classes) : \n",
    "        if digits_in(d1, d2) : \n",
    "            decisions[d1, d2] = decision_means[digits_idx(d1, d2)]\n",
    "            targets[d1, d2] = str(get_task_target(uniques, task)[digits_idx(d1, d2)].cpu().data.item())\n",
    "        else : \n",
    "            decisions[d1, d2] = -0.1\n",
    "            targets[d1, d2] = 'X'\n",
    "            \n",
    "ax = sns.heatmap(decisions, cmap=\"inferno\", annot=targets, annot_kws={'fontsize': 16}, fmt='s')\n",
    "ax.set_title('Average decison-making agent for all targets')\n",
    "\n",
    "ax.set_xlabel('Digit received by Agent 1')\n",
    "ax.set_ylabel('Digit received by Agent 0')\n",
    "\n",
    "plt.show()"
   ]
  },
  {
   "cell_type": "code",
   "execution_count": null,
   "metadata": {},
   "outputs": [],
   "source": []
  }
 ],
 "metadata": {
  "kernelspec": {
   "display_name": "Python 3.10.4 ('community')",
   "language": "python",
   "name": "python3"
  },
  "language_info": {
   "codemirror_mode": {
    "name": "ipython",
    "version": 3
   },
   "file_extension": ".py",
   "mimetype": "text/x-python",
   "name": "python",
   "nbconvert_exporter": "python",
   "pygments_lexer": "ipython3",
   "version": "3.10.4"
  },
  "orig_nbformat": 4,
  "vscode": {
   "interpreter": {
    "hash": "5c46eabf39b4d4e6cb6668853226ee702b3f0cb279968f228c052b13b97983d9"
   }
  }
 },
 "nbformat": 4,
 "nbformat_minor": 2
}
