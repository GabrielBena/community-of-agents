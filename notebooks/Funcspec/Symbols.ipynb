{
 "cells": [
  {
   "cell_type": "markdown",
   "metadata": {},
   "source": [
    "# Simple Self Contained Model of the Funcspec Project"
   ]
  },
  {
   "cell_type": "code",
   "execution_count": 1,
   "metadata": {},
   "outputs": [],
   "source": [
    "import torch.nn as nn\n",
    "import torch\n",
    "import torch.nn.functional as F\n",
    "from torchvision.datasets import EMNIST\n",
    "import numpy as np\n",
    "from tqdm.notebook import tqdm as tqdm_n\n",
    "import matplotlib.pyplot as plt\n",
    "import seaborn as sns\n",
    "from torchviz import make_dot\n",
    "from torchsummary import summary\n",
    "from torch.utils.data import DataLoader\n"
   ]
  },
  {
   "cell_type": "code",
   "execution_count": 2,
   "metadata": {},
   "outputs": [],
   "source": [
    "%load_ext autoreload\n",
    "%autoreload 2"
   ]
  },
  {
   "cell_type": "markdown",
   "metadata": {},
   "source": [
    "## Data"
   ]
  },
  {
   "cell_type": "markdown",
   "metadata": {},
   "source": [
    "### Datasets"
   ]
  },
  {
   "cell_type": "code",
   "execution_count": 3,
   "metadata": {},
   "outputs": [],
   "source": [
    "from community.data.datasets import get_datasets_symbols\n",
    "from community.common.utils import plot_grid, create_gifs\n"
   ]
  },
  {
   "cell_type": "code",
   "execution_count": 19,
   "metadata": {},
   "outputs": [],
   "source": [
    "use_cuda = True\n",
    "device = torch.device(\"cuda\" if use_cuda else \"cpu\")\n",
    "batch_size = 256\n",
    "n_classes = 2\n",
    "task = 'parity'"
   ]
  },
  {
   "cell_type": "code",
   "execution_count": 20,
   "metadata": {},
   "outputs": [
    {
     "name": "stderr",
     "output_type": "stream",
     "text": [
      "Generating Data: 100%|██████████| 60000/60000 [00:00<00:00, 64471.38it/s]\n",
      "Generating Data: 100%|██████████| 60000/60000 [00:00<00:00, 79347.83it/s]\n",
      "Generating Data: 100%|██████████| 10000/10000 [00:00<00:00, 79134.68it/s]\n",
      "Generating Data: 100%|██████████| 10000/10000 [00:00<00:00, 66760.00it/s]\n"
     ]
    }
   ],
   "source": [
    "data_config = {'data_size' : (60000, 10000),\n",
    "                                'nb_steps' : 50,\n",
    "                                'n_symbols' : n_classes - 1,\n",
    "                                'symbol_size' : 5,\n",
    "                                'input_size' : 30,\n",
    "                                'static' : True                      \n",
    "    }\n",
    "\n",
    "if data_config['static'] : \n",
    "    data_config['nb_steps'] = 2\n",
    "loaders, datasets = get_datasets_symbols(data_config, batch_size, use_cuda)"
   ]
  },
  {
   "cell_type": "markdown",
   "metadata": {},
   "source": [
    "## Tasks"
   ]
  },
  {
   "cell_type": "code",
   "execution_count": 21,
   "metadata": {},
   "outputs": [],
   "source": [
    "def get_task_target(target, task) : \n",
    "    try :\n",
    "        task = int(task)\n",
    "        new_target = target[:, task]\n",
    "    except ValueError : \n",
    "\n",
    "        if task == 'parity': \n",
    "            new_target = parity_task(target)\n",
    "        elif task == 'count' : \n",
    "            new_target = symbol_count(target)\n",
    "        else : \n",
    "            raise NotImplementedError\n",
    "\n",
    "    return new_target.type(torch.LongTensor).to(target.device)\n",
    "\n",
    "def parity_task(target) : \n",
    "\n",
    "    parity = 1 - target.sum(-1)%2\n",
    "    parity_target = torch.where(parity.bool(), target[:, 0], target[:, 1])\n",
    "    return parity_target\n",
    "\n",
    "def new_parity_task(target) : \n",
    "    parity = 1 - target.sum(-1)%2\n",
    "    equal = (target[:, 0].eq(target[:, 1]))\n",
    "    parity_target = torch.where(parity.bool(), target[:, 0], target[:, 1])\n",
    "    parity_target = torch.where(equal, torch.full_like(parity_target, n_classes), parity_target)\n",
    "\n",
    "    return parity_target\n",
    "\n",
    "def process_data(data, flatten=True, symbols=True, device=device) : \n",
    "    if symbols : data =  data.permute(1, 2, 0, 3, 4)\n",
    "    if flatten : data = data.flatten(start_dim=-2) \n",
    "    \n",
    "    return data.float().to(device)\n",
    "    \n",
    "\n",
    "def get_data(task=None, flatten=True, device=device) : \n",
    "    data, target = next(iter(loaders[0]))\n",
    "    print(data.shape)\n",
    "    data = process_data(data, flatten=flatten)\n",
    "    if task : target = get_task_target(target, task)\n",
    "\n",
    "    return data, target.float().to(device)\n",
    "\n",
    "\n",
    "def symbol_count(target) : \n",
    "    new_target = torch.where(target.argmax(-1).bool(), target[:, 1], target[:, 0])\n",
    "    new_target[target[:, 0] == target[:, 1]] = 0\n",
    "    return new_target\n"
   ]
  },
  {
   "cell_type": "code",
   "execution_count": 22,
   "id": "bb0c7f1c",
   "metadata": {},
   "outputs": [],
   "source": [
    "task = 'count'\n",
    "get_all_targets = lambda : torch.cat([t for _, t in loaders[1]])\n",
    "if False : \n",
    "    \n",
    "    all_targets = get_all_targets()\n",
    "    uniques, unique_counts = all_targets.unique(dim=0, return_counts=True)\n",
    "    task_t = get_task_target(all_targets, task)\n",
    "    task_t.unique(dim=0, return_counts=True), (all_targets[:, 0] == task_t).unique(dim=0, return_counts=True), (all_targets[:, 1] == task_t).unique(dim=0, return_counts=True)\n",
    "    digits_in = lambda d1, d2 : (torch.tensor([d1, d2]) == uniques).all(1).any()\n",
    "    digits_idx = lambda d1, d2 : (torch.tensor([d1, d2]) == uniques).all(1).float().argmax()\n",
    "    counts = np.zeros((n_classes+1, n_classes+1))\n",
    "    targets = np.zeros((n_classes+1, n_classes+1), dtype=object)\n",
    "\n",
    "    for d1 in range(n_classes) : \n",
    "        counts[d1, -1] = ((all_targets[:, 0] == task_t)[all_targets[:, 0] == d1]).sum() #unique_counts[(uniques == d1)[:, 0]].sum()\n",
    "        targets[d1, -1] = str( counts[d1, -1])\n",
    "        for d2 in range(n_classes) : \n",
    "            if digits_in(d1, d2) : \n",
    "                counts[d1, d2] = unique_counts[digits_idx(d1, d2)]\n",
    "                targets[d1, d2] = f'{get_task_target(uniques, task)[digits_idx(d1, d2)].cpu().data.item()} | {unique_counts[digits_idx(d1, d2)]}'\n",
    "            else : \n",
    "                counts[d1, d2] = -0.1\n",
    "                targets[d1, d2] = 'X'\n",
    "            counts[-1, d2] = ((all_targets[:, 1] == task_t)[all_targets[:, 1] == d2]).sum() #unique_counts[(uniques == d2)[:, 1]].sum()\n",
    "            targets[-1, d2] = str( counts[-1, d2])\n",
    "\n",
    "    counts[-1, -1] = unique_counts.sum().cpu().data.item()\n",
    "    try : \n",
    "        d0_count =  (all_targets[:, 0] == task_t).unique(dim=0, return_counts=True)[1][1]\n",
    "        print((all_targets[:, 0] == task_t).unique(dim=0, return_counts=True))\n",
    "    except IndexError : \n",
    "        d0_count = 0\n",
    "\n",
    "    try : \n",
    "        d1_count =  (all_targets[:, 1] == task_t).unique(dim=0, return_counts=True)[1][1]\n",
    "    except IndexError : \n",
    "        d1_count = 0\n",
    "\n",
    "    targets[-1, -1] = str(f'D0 : {d0_count} \\n'\n",
    "                    f'D1 : {d1_count}')\n",
    "                \n",
    "    plt.figure(figsize=(5, 5), dpi=150)\n",
    "    ax = sns.heatmap(counts, cmap=\"inferno\", annot=targets, annot_kws={'fontsize': 8}, fmt='s')\n",
    "    ax.set_title('Number of examples and global targets')\n",
    "\n",
    "    ax.set_xlabel('Digit received by Agent 1')\n",
    "    ax.set_ylabel('Digit received by Agent 0')\n",
    "    ax.set_xticklabels([str(i) for i in range(n_classes)] + ['dig=global'])\n",
    "    ax.set_yticklabels([str(i) for i in range(n_classes)] + ['dig=global'])\n",
    "\n",
    "    plt.show()\n"
   ]
  },
  {
   "cell_type": "markdown",
   "metadata": {},
   "source": [
    "Stats"
   ]
  },
  {
   "cell_type": "code",
   "execution_count": 23,
   "metadata": {},
   "outputs": [
    {
     "data": {
      "text/plain": [
       "((tensor([0, 1]), tensor([4989, 4995])),\n",
       " (tensor([0, 1]), tensor([4975, 5009])))"
      ]
     },
     "execution_count": 23,
     "metadata": {},
     "output_type": "execute_result"
    }
   ],
   "source": [
    "#loaders, datasets = get_datasets_symbols(data_config, batch_size, use_cuda)\n",
    "all_targets = get_all_targets()\n",
    "task_t = get_task_target(all_targets, 'count')\n",
    "all_targets[:, 1].unique(return_counts=True), task_t.unique(return_counts=True)"
   ]
  },
  {
   "cell_type": "code",
   "execution_count": 24,
   "metadata": {},
   "outputs": [
    {
     "name": "stdout",
     "output_type": "stream",
     "text": [
      "torch.Size([256, 2, 2, 30, 30])\n",
      "torch.Size([2, 2, 256, 30, 30])\n"
     ]
    }
   ],
   "source": [
    "data, target = get_data(flatten=False)\n",
    "print(data.shape)\n",
    "create_gifs(data, target, 'symbols', data_config['input_size'], 'count')"
   ]
  },
  {
   "cell_type": "markdown",
   "metadata": {},
   "source": [
    "## Models"
   ]
  },
  {
   "cell_type": "code",
   "execution_count": 25,
   "metadata": {},
   "outputs": [],
   "source": [
    "class SmoothStep(torch.autograd.Function):\n",
    "    '''\n",
    "    Modified from: https://pytorch.org/tutorials/beginner/examples_autograd/two_layer_net_custom_function.html\n",
    "    '''\n",
    "\n",
    "    @staticmethod\n",
    "    def forward(aux, x, thr=0):\n",
    "        aux.save_for_backward(x)\n",
    "        return (x >=thr).type(x.dtype)\n",
    "\n",
    "    def backward(aux, grad_output):\n",
    "        # grad_input = grad_output.clone()\n",
    "        input, = aux.saved_tensors\n",
    "        grad_input = grad_output.clone()\n",
    "        grad_input[input <= -.5] = 0\n",
    "        grad_input[input > .5] = 0\n",
    "        return grad_input\n",
    "    \n",
    "smooth_step = SmoothStep().apply\n",
    "sigmoid = nn.Sigmoid()\n",
    "\n",
    "class SurrGradSpike(torch.autograd.Function):\n",
    "    \"\"\"\n",
    "    Here we implement our spiking nonlinearity which also implements \n",
    "    the surrogate gradient. By subclassing torch.autograd.Function, \n",
    "    we will be able to use all of PyTorch's autograd functionality.\n",
    "    Here we use the normalized negative part of a fast sigmoid \n",
    "    as this was done in Zenke & Ganguli (2018).\n",
    "    \"\"\"\n",
    "    \n",
    "    scale = 100.0 # controls steepness of surrogate gradient\n",
    "\n",
    "    @staticmethod\n",
    "    def forward(ctx, input, thr=0):\n",
    "        \"\"\"\n",
    "        In the forward pass we compute a step function of the input Tensor\n",
    "        and return it. ctx is a context object that we use to stash information which \n",
    "        we need to later backpropagate our error signals. To achieve this we use the \n",
    "        ctx.save_for_backward method.\n",
    "        \"\"\"\n",
    "        ctx.save_for_backward(input)\n",
    "        out = -torch.ones_like(input)\n",
    "        out[input > thr] = 1.0\n",
    "        return out\n",
    "\n",
    "    @staticmethod\n",
    "    def backward(ctx, grad_output):\n",
    "        \"\"\"\n",
    "        In the backward pass we receive a Tensor we need to compute the \n",
    "        surrogate gradient of the loss with respect to the input. \n",
    "        Here we use the normalized negative part of a fast sigmoid \n",
    "        as this was done in Zenke & Ganguli (2018).\n",
    "        \"\"\"\n",
    "        input, = ctx.saved_tensors\n",
    "        grad_input = grad_output.clone()\n",
    "        grad = grad_input/(SurrGradSpike.scale*torch.abs(input)+1.0)**2\n",
    "        return grad\n",
    "    \n",
    "# here we overwrite our naive spike function by the \"SurrGradSpike\" nonlinearity which implements a surrogate gradient\n",
    "super_spike  = SurrGradSpike.apply"
   ]
  },
  {
   "cell_type": "code",
   "execution_count": 26,
   "metadata": {},
   "outputs": [],
   "source": [
    "class Agent(nn.Module) : \n",
    "\n",
    "    def __init__(self, dims, use_conv=False) : \n",
    "        super().__init__()\n",
    "        if use_conv : \n",
    "            S, W, F = 1, input_size, symbol_size\n",
    "            P = int(((S-1)*W-S+F)/2)\n",
    "            print(F, S, P)\n",
    "            self.conv = nn.Sequential(nn.Conv2d(1, 1, F, S, P), nn.Flatten())\n",
    "        else : \n",
    "            self.conv = None\n",
    "\n",
    "        self.use_bottleneck = False\n",
    "        self.dims = dims\n",
    "\n",
    "        self.cell = nn.RNN(dims[0], dims[1], 1, bias=False, batch_first=False)\n",
    "        self.readout = nn.Linear(dims[1], dims[2], bias=False)\n",
    "\n",
    "    def forward(self, input, state=None, connections=0) : \n",
    "\n",
    "        if self.conv : \n",
    "            input = self.conv(input)\n",
    "\n",
    "        if len(input.shape ) < 3 : \n",
    "            input = input.unsqueeze(0)\n",
    "\n",
    "        if state is None : \n",
    "            out, h = self.cell(input)\n",
    "        else : \n",
    "            h = state + connections\n",
    "            out, h = self.cell(input, h)\n",
    "\n",
    "        out = self.readout(out[0])\n",
    "\n",
    "        return out, h\n",
    "\n",
    "class Connection(nn.Linear) : \n",
    "    def __init__(self, dims, p, binarize=False) : \n",
    "\n",
    "        super().__init__(dims[0], dims[1], bias=False)\n",
    "\n",
    "        self.sparsity = p\n",
    "        n_in, n_out = dims\n",
    "        self.nb_non_zero = int(p*n_in*n_out)\n",
    "        w_mask = np.zeros((n_in, n_out),dtype=bool)\n",
    "        ind_in, ind_out = np.unravel_index(np.random.choice(np.arange(n_in*n_out), self.nb_non_zero, replace=False), (n_in, n_out))\n",
    "        w_mask[ind_in,ind_out] = True\n",
    "        w_mask = torch.tensor(w_mask)\n",
    "        self.register_buffer('w_mask', w_mask)\n",
    "        self.binarize = binarize\n",
    "\n",
    "        assert w_mask.sum() == self.nb_non_zero, f'Number of nonzero connection is {w_mask.sum()}, expected {self.nb_non_zero}'\n",
    "\n",
    "    def forward(self, input) : \n",
    "        out = F.linear(input, self.weight*self.w_mask)\n",
    "        assert (out != 0).float().sum(-1).max() <= self.nb_non_zero, f'{(out != 0).float().sum(-1).max()} non zero connections !'\n",
    "        if self.binarize  : \n",
    "            out = super_spike(out)\n",
    "\n",
    "        return out\n",
    "\n",
    "class Ensemble(nn.Module) : \n",
    "    def __init__(self, dims, p, use_conv=False, binary_con=False) : \n",
    "\n",
    "        super().__init__()\n",
    "        self.n_in, self.n_hid, self.n_out = dims\n",
    "        self.agents = nn.ModuleList([Agent(dims, use_conv) for _ in range(2)])[::-1]\n",
    "        self.connections = nn.ModuleList([Connection([dims[1]]*2, p, binary_con) for _ in range(2)])\n",
    "        self.is_community = True\n",
    "\n",
    "    def forward(self, input): \n",
    "\n",
    "        states, outputs, conns = [None for _ in range(2)], [[] for _ in range(2)], [None for _ in range(2)]\n",
    "        \n",
    "        for t, t_input in enumerate(input) :\n",
    "            for ag, agent in enumerate(self.agents) : \n",
    "                \n",
    "                ag_input = t_input[ag]\n",
    "                \n",
    "                if t>0 : \n",
    "                    input_connect = self.connections[1-ag](states[1-ag])\n",
    "                else : \n",
    "                    input_connect = 0\n",
    "                \n",
    "                out, h = agent(ag_input, states[ag], input_connect)\n",
    "\n",
    "                states[ag] = h\n",
    "                outputs[ag].append(out)\n",
    "                conns[ag] = input_connect\n",
    "\n",
    "        outputs = torch.stack([torch.stack(o) for o in outputs], 1)\n",
    "        states = torch.stack(states, 1)[0]\n",
    "        conns = torch.stack(conns, 1)[0]\n",
    "\n",
    "        #print((outputs[-1][1] == outputs[-1][1]).all())\n",
    "\n",
    "        return outputs, [states], conns\n",
    "     "
   ]
  },
  {
   "cell_type": "markdown",
   "metadata": {},
   "source": [
    "## Decisions\n"
   ]
  },
  {
   "cell_type": "code",
   "execution_count": 27,
   "metadata": {},
   "outputs": [],
   "source": [
    "def get_decision(outputs, decision_params, target=None) : \n",
    "    temporal_decision, agent_decision = decision_params\n",
    "\n",
    "    if temporal_decision == 'last' : \n",
    "        outputs = outputs[-1]\n",
    "\n",
    "    else : \n",
    "        raise NotImplementedError\n",
    "\n",
    "    try : \n",
    "        deciding_ags = int(agent_decision)\n",
    "        outputs = outputs[deciding_ags]\n",
    "        deciding_ags = torch.ones(outputs.shape[0])*deciding_ags\n",
    "        return outputs, deciding_ags\n",
    "\n",
    "    except ValueError : \n",
    "\n",
    "        if agent_decision == 'loss' :\n",
    "            assert target is not None, 'Provide target for min loss decision'\n",
    "            loss, min_idxs = torch.stack([F.cross_entropy(out, target, reduction='none') for out in outputs]).min(0)\n",
    "            min_idxs = min_idxs.unsqueeze(-1).expand_as(outputs[0])\n",
    "            outputs = torch.where(~min_idxs.bool(), outputs[0], outputs[1])\n",
    "            deciding_ags = min_idxs[..., 0]\n",
    "            return outputs, deciding_ags\n",
    "\n",
    "        elif agent_decision == 'max' : \n",
    "            device = outputs.device\n",
    "            n_agents = outputs.shape[0]\n",
    "            max_out = lambda i : torch.max(outputs[i,...], axis=-1)\n",
    "            _, deciding_ags = torch.max(torch.stack([max_out(i)[0] for i in range(n_agents)]), axis=0)\n",
    "            mask_1 = deciding_ags.unsqueeze(0).unsqueeze(-1).expand_as(outputs)\n",
    "            mask_2 = torch.einsum('b, bcx -> bcx', torch.arange(n_agents).to(device), torch.ones_like(outputs))\n",
    "            mask = (mask_1 == mask_2)\n",
    "\n",
    "            return (outputs*mask).sum(0), deciding_ags\n",
    "\n",
    "        else : \n",
    "            raise NotImplementedError\n",
    "\n",
    "def check_grad(model, task_id = '0') : \n",
    "    for n, p in model.named_parameters() : \n",
    "        if 'k_params' in n or 'all_scores' in n : \n",
    "            if task_id in n : \n",
    "                return check_ind_grad(n, p)\n",
    "        else : \n",
    "            check_ind_grad(n, p)\n",
    "\n",
    "def check_ind_grad(n, p) : \n",
    "    if p.grad is not None : \n",
    "        if (p.grad == 0).all() : \n",
    "            ''\n",
    "            print(f'{n}, Zero Grad')\n",
    "        #else : print(f'{n} : {p.grad}')\n",
    "    elif p.requires_grad : \n",
    "        ''\n",
    "        print(f'{n}, None Grad')"
   ]
  },
  {
   "cell_type": "markdown",
   "metadata": {},
   "source": [
    "## Init"
   ]
  },
  {
   "cell_type": "code",
   "execution_count": 28,
   "metadata": {},
   "outputs": [],
   "source": [
    "dims = [data_config['input_size']**2, 50, n_classes]\n",
    "sparsity = 0 * 1/dims[1]**2\n",
    "\n",
    "use_conv = False\n",
    "binary_connections = True\n",
    "\n",
    "community = Ensemble(dims, sparsity, use_conv, binary_connections).to(device)\n",
    "optimizer = torch.optim.Adam(community.parameters(), lr=1e-3)\n",
    "\n",
    "#summary(community.agents[0], (1, input_size, input_size) if use_conv else (1, input_size**2))"
   ]
  },
  {
   "cell_type": "code",
   "execution_count": 29,
   "metadata": {},
   "outputs": [
    {
     "name": "stdout",
     "output_type": "stream",
     "text": [
      "torch.Size([256, 2, 2, 30, 30])\n",
      "(tensor([-1.], device='cuda:0', grad_fn=<Unique2Backward0>), tensor([25600], device='cuda:0'))\n"
     ]
    }
   ],
   "source": [
    "data, target = get_data(flatten=True, device=device)\n",
    "out, states, conns = community(data)\n",
    "if binary_connections : print(conns.unique(return_counts=True))\n",
    "#symbol_count(target).unique(return_counts=True), (symbol_count(target) == target[:, 0]).unique(return_counts=True)"
   ]
  },
  {
   "cell_type": "code",
   "execution_count": 134,
   "metadata": {},
   "outputs": [],
   "source": [
    "#make_dot(out[-1][1], dict(community.named_parameters())).render('graph')"
   ]
  },
  {
   "cell_type": "markdown",
   "metadata": {},
   "source": [
    "## Training"
   ]
  },
  {
   "cell_type": "code",
   "execution_count": 30,
   "metadata": {},
   "outputs": [
    {
     "data": {
      "application/vnd.jupyter.widget-view+json": {
       "model_id": "c3703ab959ba4334bdfbd7874bdd0a31",
       "version_major": 2,
       "version_minor": 0
      },
      "text/plain": [
       "  0%|          | 0/10 [00:00<?, ?it/s]"
      ]
     },
     "metadata": {},
     "output_type": "display_data"
    },
    {
     "ename": "KeyboardInterrupt",
     "evalue": "",
     "output_type": "error",
     "traceback": [
      "\u001b[0;31m---------------------------------------------------------------------------\u001b[0m",
      "\u001b[0;31mKeyboardInterrupt\u001b[0m                         Traceback (most recent call last)",
      "\u001b[1;32m/home/gb21/Code/ANNs/community-of-agents/notebooks/Funcspec/Symbols.ipynb Cell 25\u001b[0m in \u001b[0;36m<cell line: 20>\u001b[0;34m()\u001b[0m\n\u001b[1;32m     <a href='vscode-notebook-cell://ssh-remote%2Bblossom.ee.ic.ac.uk/home/gb21/Code/ANNs/community-of-agents/notebooks/Funcspec/Symbols.ipynb#ch0000025vscode-remote?line=32'>33</a>\u001b[0m     data[:, \u001b[39m0\u001b[39m] \u001b[39m=\u001b[39m data[:, \u001b[39m1\u001b[39m]\n\u001b[1;32m     <a href='vscode-notebook-cell://ssh-remote%2Bblossom.ee.ic.ac.uk/home/gb21/Code/ANNs/community-of-agents/notebooks/Funcspec/Symbols.ipynb#ch0000025vscode-remote?line=34'>35</a>\u001b[0m optimizer\u001b[39m.\u001b[39mzero_grad()\n\u001b[0;32m---> <a href='vscode-notebook-cell://ssh-remote%2Bblossom.ee.ic.ac.uk/home/gb21/Code/ANNs/community-of-agents/notebooks/Funcspec/Symbols.ipynb#ch0000025vscode-remote?line=36'>37</a>\u001b[0m outputs, states, conns \u001b[39m=\u001b[39m community(data)\n\u001b[1;32m     <a href='vscode-notebook-cell://ssh-remote%2Bblossom.ee.ic.ac.uk/home/gb21/Code/ANNs/community-of-agents/notebooks/Funcspec/Symbols.ipynb#ch0000025vscode-remote?line=37'>38</a>\u001b[0m \u001b[39m#print((outputs[-1][0] == outputs[-1][1]).all())\u001b[39;00m\n\u001b[1;32m     <a href='vscode-notebook-cell://ssh-remote%2Bblossom.ee.ic.ac.uk/home/gb21/Code/ANNs/community-of-agents/notebooks/Funcspec/Symbols.ipynb#ch0000025vscode-remote?line=38'>39</a>\u001b[0m output, deciding_ags \u001b[39m=\u001b[39m get_decision(outputs, decision_params, target)\n",
      "File \u001b[0;32m~/.conda/envs/community/lib/python3.10/site-packages/torch/nn/modules/module.py:1110\u001b[0m, in \u001b[0;36mModule._call_impl\u001b[0;34m(self, *input, **kwargs)\u001b[0m\n\u001b[1;32m   1106\u001b[0m \u001b[39m# If we don't have any hooks, we want to skip the rest of the logic in\u001b[39;00m\n\u001b[1;32m   1107\u001b[0m \u001b[39m# this function, and just call forward.\u001b[39;00m\n\u001b[1;32m   1108\u001b[0m \u001b[39mif\u001b[39;00m \u001b[39mnot\u001b[39;00m (\u001b[39mself\u001b[39m\u001b[39m.\u001b[39m_backward_hooks \u001b[39mor\u001b[39;00m \u001b[39mself\u001b[39m\u001b[39m.\u001b[39m_forward_hooks \u001b[39mor\u001b[39;00m \u001b[39mself\u001b[39m\u001b[39m.\u001b[39m_forward_pre_hooks \u001b[39mor\u001b[39;00m _global_backward_hooks\n\u001b[1;32m   1109\u001b[0m         \u001b[39mor\u001b[39;00m _global_forward_hooks \u001b[39mor\u001b[39;00m _global_forward_pre_hooks):\n\u001b[0;32m-> 1110\u001b[0m     \u001b[39mreturn\u001b[39;00m forward_call(\u001b[39m*\u001b[39;49m\u001b[39minput\u001b[39;49m, \u001b[39m*\u001b[39;49m\u001b[39m*\u001b[39;49mkwargs)\n\u001b[1;32m   1111\u001b[0m \u001b[39m# Do not call functions when jit is used\u001b[39;00m\n\u001b[1;32m   1112\u001b[0m full_backward_hooks, non_full_backward_hooks \u001b[39m=\u001b[39m [], []\n",
      "\u001b[1;32m/home/gb21/Code/ANNs/community-of-agents/notebooks/Funcspec/Symbols.ipynb Cell 25\u001b[0m in \u001b[0;36mEnsemble.forward\u001b[0;34m(self, input)\u001b[0m\n\u001b[1;32m     <a href='vscode-notebook-cell://ssh-remote%2Bblossom.ee.ic.ac.uk/home/gb21/Code/ANNs/community-of-agents/notebooks/Funcspec/Symbols.ipynb#ch0000025vscode-remote?line=81'>82</a>\u001b[0m \u001b[39melse\u001b[39;00m : \n\u001b[1;32m     <a href='vscode-notebook-cell://ssh-remote%2Bblossom.ee.ic.ac.uk/home/gb21/Code/ANNs/community-of-agents/notebooks/Funcspec/Symbols.ipynb#ch0000025vscode-remote?line=82'>83</a>\u001b[0m     input_connect \u001b[39m=\u001b[39m \u001b[39m0\u001b[39m\n\u001b[0;32m---> <a href='vscode-notebook-cell://ssh-remote%2Bblossom.ee.ic.ac.uk/home/gb21/Code/ANNs/community-of-agents/notebooks/Funcspec/Symbols.ipynb#ch0000025vscode-remote?line=84'>85</a>\u001b[0m out, h \u001b[39m=\u001b[39m agent(ag_input, states[ag], input_connect)\n\u001b[1;32m     <a href='vscode-notebook-cell://ssh-remote%2Bblossom.ee.ic.ac.uk/home/gb21/Code/ANNs/community-of-agents/notebooks/Funcspec/Symbols.ipynb#ch0000025vscode-remote?line=86'>87</a>\u001b[0m states[ag] \u001b[39m=\u001b[39m h\n\u001b[1;32m     <a href='vscode-notebook-cell://ssh-remote%2Bblossom.ee.ic.ac.uk/home/gb21/Code/ANNs/community-of-agents/notebooks/Funcspec/Symbols.ipynb#ch0000025vscode-remote?line=87'>88</a>\u001b[0m outputs[ag]\u001b[39m.\u001b[39mappend(out)\n",
      "File \u001b[0;32m~/.conda/envs/community/lib/python3.10/site-packages/torch/nn/modules/module.py:1110\u001b[0m, in \u001b[0;36mModule._call_impl\u001b[0;34m(self, *input, **kwargs)\u001b[0m\n\u001b[1;32m   1106\u001b[0m \u001b[39m# If we don't have any hooks, we want to skip the rest of the logic in\u001b[39;00m\n\u001b[1;32m   1107\u001b[0m \u001b[39m# this function, and just call forward.\u001b[39;00m\n\u001b[1;32m   1108\u001b[0m \u001b[39mif\u001b[39;00m \u001b[39mnot\u001b[39;00m (\u001b[39mself\u001b[39m\u001b[39m.\u001b[39m_backward_hooks \u001b[39mor\u001b[39;00m \u001b[39mself\u001b[39m\u001b[39m.\u001b[39m_forward_hooks \u001b[39mor\u001b[39;00m \u001b[39mself\u001b[39m\u001b[39m.\u001b[39m_forward_pre_hooks \u001b[39mor\u001b[39;00m _global_backward_hooks\n\u001b[1;32m   1109\u001b[0m         \u001b[39mor\u001b[39;00m _global_forward_hooks \u001b[39mor\u001b[39;00m _global_forward_pre_hooks):\n\u001b[0;32m-> 1110\u001b[0m     \u001b[39mreturn\u001b[39;00m forward_call(\u001b[39m*\u001b[39;49m\u001b[39minput\u001b[39;49m, \u001b[39m*\u001b[39;49m\u001b[39m*\u001b[39;49mkwargs)\n\u001b[1;32m   1111\u001b[0m \u001b[39m# Do not call functions when jit is used\u001b[39;00m\n\u001b[1;32m   1112\u001b[0m full_backward_hooks, non_full_backward_hooks \u001b[39m=\u001b[39m [], []\n",
      "\u001b[1;32m/home/gb21/Code/ANNs/community-of-agents/notebooks/Funcspec/Symbols.ipynb Cell 25\u001b[0m in \u001b[0;36mAgent.forward\u001b[0;34m(self, input, state, connections)\u001b[0m\n\u001b[1;32m     <a href='vscode-notebook-cell://ssh-remote%2Bblossom.ee.ic.ac.uk/home/gb21/Code/ANNs/community-of-agents/notebooks/Funcspec/Symbols.ipynb#ch0000025vscode-remote?line=28'>29</a>\u001b[0m \u001b[39melse\u001b[39;00m : \n\u001b[1;32m     <a href='vscode-notebook-cell://ssh-remote%2Bblossom.ee.ic.ac.uk/home/gb21/Code/ANNs/community-of-agents/notebooks/Funcspec/Symbols.ipynb#ch0000025vscode-remote?line=29'>30</a>\u001b[0m     h \u001b[39m=\u001b[39m state \u001b[39m+\u001b[39m connections\n\u001b[0;32m---> <a href='vscode-notebook-cell://ssh-remote%2Bblossom.ee.ic.ac.uk/home/gb21/Code/ANNs/community-of-agents/notebooks/Funcspec/Symbols.ipynb#ch0000025vscode-remote?line=30'>31</a>\u001b[0m     out, h \u001b[39m=\u001b[39m \u001b[39mself\u001b[39;49m\u001b[39m.\u001b[39;49mcell(\u001b[39minput\u001b[39;49m, h)\n\u001b[1;32m     <a href='vscode-notebook-cell://ssh-remote%2Bblossom.ee.ic.ac.uk/home/gb21/Code/ANNs/community-of-agents/notebooks/Funcspec/Symbols.ipynb#ch0000025vscode-remote?line=32'>33</a>\u001b[0m out \u001b[39m=\u001b[39m \u001b[39mself\u001b[39m\u001b[39m.\u001b[39mreadout(out[\u001b[39m0\u001b[39m])\n\u001b[1;32m     <a href='vscode-notebook-cell://ssh-remote%2Bblossom.ee.ic.ac.uk/home/gb21/Code/ANNs/community-of-agents/notebooks/Funcspec/Symbols.ipynb#ch0000025vscode-remote?line=34'>35</a>\u001b[0m \u001b[39mreturn\u001b[39;00m out, h\n",
      "File \u001b[0;32m~/.conda/envs/community/lib/python3.10/site-packages/torch/nn/modules/module.py:1110\u001b[0m, in \u001b[0;36mModule._call_impl\u001b[0;34m(self, *input, **kwargs)\u001b[0m\n\u001b[1;32m   1106\u001b[0m \u001b[39m# If we don't have any hooks, we want to skip the rest of the logic in\u001b[39;00m\n\u001b[1;32m   1107\u001b[0m \u001b[39m# this function, and just call forward.\u001b[39;00m\n\u001b[1;32m   1108\u001b[0m \u001b[39mif\u001b[39;00m \u001b[39mnot\u001b[39;00m (\u001b[39mself\u001b[39m\u001b[39m.\u001b[39m_backward_hooks \u001b[39mor\u001b[39;00m \u001b[39mself\u001b[39m\u001b[39m.\u001b[39m_forward_hooks \u001b[39mor\u001b[39;00m \u001b[39mself\u001b[39m\u001b[39m.\u001b[39m_forward_pre_hooks \u001b[39mor\u001b[39;00m _global_backward_hooks\n\u001b[1;32m   1109\u001b[0m         \u001b[39mor\u001b[39;00m _global_forward_hooks \u001b[39mor\u001b[39;00m _global_forward_pre_hooks):\n\u001b[0;32m-> 1110\u001b[0m     \u001b[39mreturn\u001b[39;00m forward_call(\u001b[39m*\u001b[39;49m\u001b[39minput\u001b[39;49m, \u001b[39m*\u001b[39;49m\u001b[39m*\u001b[39;49mkwargs)\n\u001b[1;32m   1111\u001b[0m \u001b[39m# Do not call functions when jit is used\u001b[39;00m\n\u001b[1;32m   1112\u001b[0m full_backward_hooks, non_full_backward_hooks \u001b[39m=\u001b[39m [], []\n",
      "File \u001b[0;32m~/.conda/envs/community/lib/python3.10/site-packages/torch/nn/modules/rnn.py:471\u001b[0m, in \u001b[0;36mRNN.forward\u001b[0;34m(self, input, hx)\u001b[0m\n\u001b[1;32m    469\u001b[0m \u001b[39mif\u001b[39;00m batch_sizes \u001b[39mis\u001b[39;00m \u001b[39mNone\u001b[39;00m:\n\u001b[1;32m    470\u001b[0m     \u001b[39mif\u001b[39;00m \u001b[39mself\u001b[39m\u001b[39m.\u001b[39mmode \u001b[39m==\u001b[39m \u001b[39m'\u001b[39m\u001b[39mRNN_TANH\u001b[39m\u001b[39m'\u001b[39m:\n\u001b[0;32m--> 471\u001b[0m         result \u001b[39m=\u001b[39m _VF\u001b[39m.\u001b[39;49mrnn_tanh(\u001b[39minput\u001b[39;49m, hx, \u001b[39mself\u001b[39;49m\u001b[39m.\u001b[39;49m_flat_weights, \u001b[39mself\u001b[39;49m\u001b[39m.\u001b[39;49mbias, \u001b[39mself\u001b[39;49m\u001b[39m.\u001b[39;49mnum_layers,\n\u001b[1;32m    472\u001b[0m                               \u001b[39mself\u001b[39;49m\u001b[39m.\u001b[39;49mdropout, \u001b[39mself\u001b[39;49m\u001b[39m.\u001b[39;49mtraining, \u001b[39mself\u001b[39;49m\u001b[39m.\u001b[39;49mbidirectional,\n\u001b[1;32m    473\u001b[0m                               \u001b[39mself\u001b[39;49m\u001b[39m.\u001b[39;49mbatch_first)\n\u001b[1;32m    474\u001b[0m     \u001b[39melse\u001b[39;00m:\n\u001b[1;32m    475\u001b[0m         result \u001b[39m=\u001b[39m _VF\u001b[39m.\u001b[39mrnn_relu(\u001b[39minput\u001b[39m, hx, \u001b[39mself\u001b[39m\u001b[39m.\u001b[39m_flat_weights, \u001b[39mself\u001b[39m\u001b[39m.\u001b[39mbias, \u001b[39mself\u001b[39m\u001b[39m.\u001b[39mnum_layers,\n\u001b[1;32m    476\u001b[0m                               \u001b[39mself\u001b[39m\u001b[39m.\u001b[39mdropout, \u001b[39mself\u001b[39m\u001b[39m.\u001b[39mtraining, \u001b[39mself\u001b[39m\u001b[39m.\u001b[39mbidirectional,\n\u001b[1;32m    477\u001b[0m                               \u001b[39mself\u001b[39m\u001b[39m.\u001b[39mbatch_first)\n",
      "\u001b[0;31mKeyboardInterrupt\u001b[0m: "
     ]
    }
   ],
   "source": [
    "n_epochs = 10\n",
    "\n",
    "decision_params = ('last', 'max') # Change to '0', '1' or 'loss'\n",
    "task = 'count'\n",
    "\n",
    "pbar = tqdm_n(range(n_epochs))\n",
    "descs = np.full((2), '', dtype=object)\n",
    "\n",
    "check_gradients = False\n",
    "\n",
    "train, test = True, True\n",
    "\n",
    "early_stop = True\n",
    "\n",
    "test_cheat = False\n",
    "\n",
    "#train_loader, test_loader = loaders if not symbols else symbol_loaders()\n",
    "#subset = len(train_loader) if not symbols else 100000\n",
    "\n",
    "for epoch in pbar : \n",
    "    train_loader, test_loader = loaders\n",
    "\n",
    "    if train : \n",
    "            \n",
    "        # Training\n",
    "\n",
    "        for batch_idx, (data, target) in enumerate(train_loader) : \n",
    "            \n",
    "            data = process_data(data, True, True, device)\n",
    "            target = get_task_target(target, task).to(device)\n",
    "            \n",
    "            if test_cheat : \n",
    "                data[:, 0] = data[:, 1]\n",
    "\n",
    "            optimizer.zero_grad()\n",
    "\n",
    "            outputs, states, conns = community(data)\n",
    "            #print((outputs[-1][0] == outputs[-1][1]).all())\n",
    "            output, deciding_ags = get_decision(outputs, decision_params, target)\n",
    "\n",
    "            loss = F.cross_entropy(output, target)\n",
    "            loss.backward()\n",
    "\n",
    "            if check_gradients : \n",
    "                zero_grads = np.array([((p.grad == 0).all()).cpu().data.item() for p in community.parameters() if p.grad is not None])\n",
    "                none_grads = np.array([p.grad is None for p in community.parameters()])\n",
    "                zero_params = np.array(list(dict(community.named_parameters()).keys()), dtype=object)[~none_grads][zero_grads]\n",
    "                none_params = np.array(list(dict(community.named_parameters()).keys()), dtype=object)[none_grads]\n",
    "\n",
    "                print(f'Zero params : {zero_params}')\n",
    "                print(f'None Params : {none_params}')\n",
    "                \n",
    "            optimizer.step()\n",
    "\n",
    "            pred = output.argmax(dim=-1, keepdim=True)\n",
    "            correct = pred.eq(target.view_as(pred)).sum().cpu().data.item()\n",
    "            acc = (correct / target.numel())\n",
    "\n",
    "            descs[0] = str('Train Epoch: {} [{}/{} ({:.0f}%)] Loss: {:.3f}, Accuracy: {}%'.format(\n",
    "                            epoch, batch_idx  * batch_size, len(train_loader.dataset),\n",
    "                            100. * batch_idx / len(train_loader), loss.item(),\n",
    "                            (np.round(100*a) for a in acc) if type(acc) is list else np.round(100*acc))\n",
    "                            )\n",
    "\n",
    "            pbar.set_description((descs.sum()))\n",
    "\n",
    "    if test : \n",
    "        acc = []\n",
    "        for batch_idx, (data, target) in enumerate(test_loader) : \n",
    "            \n",
    "            data = process_data(data, True, True, device)\n",
    "            if test_cheat : \n",
    "                data[:, 0] = data[:, 1]\n",
    "            target = get_task_target(target, task).to(device)\n",
    "\n",
    "            outputs, states, conns = community(data)\n",
    "            #print((outputs[-1][0] == outputs[-1][1]).all())\n",
    "            output, deciding_ags = get_decision(outputs, decision_params, target)\n",
    "\n",
    "            loss = F.cross_entropy(output, target)\n",
    "\n",
    "            pred = output.argmax(dim=-1, keepdim=True)\n",
    "            correct = pred.eq(target.view_as(pred)).sum().cpu().data.item()\n",
    "            acc += [correct / target.numel()]\n",
    "\n",
    "        acc = np.mean(acc)\n",
    "        \n",
    "        descs[1] = str('| Test : Loss: {:.3f}, Accuracy: {}%'.format(\n",
    "                        loss.item(),\n",
    "                        (np.round(100*a) for a in acc) if type(acc) is list else np.round(100*acc))\n",
    "                        )\n",
    "\n",
    "        pbar.set_description((descs.sum()))\n",
    "\n",
    "    if acc > 0.95 and early_stop: \n",
    "            break\n",
    "            #continue\n"
   ]
  },
  {
   "cell_type": "code",
   "execution_count": 40,
   "metadata": {},
   "outputs": [],
   "source": [
    "if use_conv : \n",
    "    fig, axs = plt.subplots(1, 2)\n",
    "    for ag, ax in zip(community.agents, axs) : \n",
    "        im = ax.imshow((ag.conv[0].weight.data.cpu().numpy()[0, 0]))\n",
    "\n",
    "#plt.colorbar(im)"
   ]
  },
  {
   "cell_type": "markdown",
   "id": "8218eb00",
   "metadata": {},
   "source": [
    "## Analysis\n"
   ]
  },
  {
   "cell_type": "markdown",
   "id": "c9dfe8de",
   "metadata": {},
   "source": [
    "### Connections"
   ]
  },
  {
   "cell_type": "code",
   "execution_count": 17,
   "id": "0c7ecd0f",
   "metadata": {},
   "outputs": [
    {
     "data": {
      "image/png": "[encoded data removed]",
      "text/plain": [
       "<Figure size 432x288 with 2 Axes>"
      ]
     },
     "metadata": {
      "needs_background": "light"
     },
     "output_type": "display_data"
    }
   ],
   "source": [
    "community.to(device)\n",
    "sums = []\n",
    "nonzero_idxs = [c.w_mask.nonzero()[:, 0] for c in community.connections]\n",
    "\n",
    "for data, target in loaders[1] : \n",
    "    \n",
    "    data, target = process_data(data, True, True, device), target.to(device)\n",
    "    out, states, conns = community(data.to(device))\n",
    "    \n",
    "    #conns[-1][0].count_nonzero(dim=0)\n",
    "    #torch.stack([conns[-1][i].count_nonzero(dim=0).max() for i in range(2)])\n",
    "    #sums.append(torch.tensor([[conns[-1][i][target[:, i] == t].sum() for t in range(4)] for i in range(2)]))\n",
    "    sums.append(torch.stack([torch.stack([conns[i][target[:, 1-i] == t][:, nonzero_idxs[1-i]].sum(0) for t in range(n_classes)]) for i in range(2)]))\n",
    "\n",
    "sums = torch.stack(sums).cpu().data.numpy().mean(0)[..., 0]\n",
    "ax = sns.heatmap(sums, cmap=\"inferno\", annot=sums.round(1).astype(str), annot_kws={'fontsize': 16}, fmt='s')\n",
    "ax.set_xlabel('Digit Received by other agent')\n",
    "ax.set_ylabel('Connection received by agent : ')\n",
    "ax.set_title('Average of connections received by agents')\n",
    "plt.show()"
   ]
  },
  {
   "cell_type": "markdown",
   "id": "2318caa3",
   "metadata": {},
   "source": [
    " ### Decisions"
   ]
  },
  {
   "cell_type": "code",
   "execution_count": 18,
   "id": "4859de41",
   "metadata": {},
   "outputs": [
    {
     "name": "stderr",
     "output_type": "stream",
     "text": [
      "/tmp/ipykernel_74572/2923795011.py:18: UserWarning: To copy construct from a tensor, it is recommended to use sourceTensor.clone().detach() or sourceTensor.clone().detach().requires_grad_(True), rather than torch.tensor(sourceTensor).\n",
      "  mask = target.eq(torch.tensor(t)).all(axis=1)\n"
     ]
    },
    {
     "data": {
      "image/png": "[encoded data removed]",
      "text/plain": [
       "<Figure size 432x288 with 2 Axes>"
      ]
     },
     "metadata": {
      "needs_background": "light"
     },
     "output_type": "display_data"
    }
   ],
   "source": [
    "get_all_targets = lambda : torch.cat([t for _, t in loaders[1]])\n",
    "\n",
    "all_targets = get_all_targets()\n",
    "\n",
    "uniques = all_targets.unique(dim=0).cpu()\n",
    "decision_means = torch.zeros(len(uniques))\n",
    "\n",
    "community.to('cpu')\n",
    "\n",
    "for b_idx, (data, target) in enumerate(loaders[1]) : \n",
    "    \n",
    "    data, target = process_data(data, True, True, 'cpu'), target.to('cpu')\n",
    "    t_target = get_task_target(target, task).cpu()\n",
    "    output, *_ = community(data)\n",
    "    output, decision_ags = get_decision(output, decision_params, target=t_target)\n",
    "\n",
    "    for i, t in enumerate(uniques) :             \n",
    "        mask = target.eq(torch.tensor(t)).all(axis=1)\n",
    "        if mask.sum() != 0 : \n",
    "            decision_means[i] += decision_ags[mask].float().cpu().sum()/mask.sum()\n",
    "\n",
    "decision_means /= b_idx +1\n",
    "\n",
    "digits_in = lambda d1, d2 : (torch.tensor([d1, d2]) == uniques).all(1).any()\n",
    "digits_idx = lambda d1, d2 : (torch.tensor([d1, d2]) == uniques).all(1).float().argmax()\n",
    "decisions = np.zeros((n_classes, n_classes))\n",
    "targets = np.zeros((n_classes, n_classes), dtype=object)\n",
    "\n",
    "for d1 in range(n_classes) : \n",
    "    for d2 in range(n_classes) : \n",
    "        if digits_in(d1, d2) : \n",
    "            decisions[d1, d2] = decision_means[digits_idx(d1, d2)]\n",
    "            targets[d1, d2] = str(get_task_target(uniques, task)[digits_idx(d1, d2)].cpu().data.item())\n",
    "        else : \n",
    "            decisions[d1, d2] = -0.1\n",
    "            targets[d1, d2] = 'X'\n",
    "            \n",
    "ax = sns.heatmap(decisions, cmap=\"inferno\", annot=targets, annot_kws={'fontsize': 16}, fmt='s')\n",
    "ax.set_title('Average decison-making agent for all targets')\n",
    "\n",
    "ax.set_xlabel('Digit received by Agent 1')\n",
    "ax.set_ylabel('Digit received by Agent 0')\n",
    "\n",
    "plt.show()\n",
    "\n",
    "community.to(device);"
   ]
  },
  {
   "cell_type": "markdown",
   "metadata": {},
   "source": [
    "## Funcspec Metrics"
   ]
  },
  {
   "cell_type": "code",
   "execution_count": 81,
   "metadata": {},
   "outputs": [],
   "source": [
    "from community.funcspec.masks import train_and_get_mask_metric"
   ]
  },
  {
   "cell_type": "code",
   "execution_count": 86,
   "metadata": {},
   "outputs": [
    {
     "data": {
      "application/vnd.jupyter.widget-view+json": {
       "model_id": "7b5498d18a5b4f5d8b9463a545f988bf",
       "version_major": 2,
       "version_minor": 0
      },
      "text/plain": [
       "Mask Metric Trials :   0%|          | 0/1 [00:00<?, ?it/s]"
      ]
     },
     "metadata": {},
     "output_type": "display_data"
    },
    {
     "data": {
      "application/vnd.jupyter.widget-view+json": {
       "model_id": "c2e814df5ade41ed86a3570196b1609f",
       "version_major": 2,
       "version_minor": 0
      },
      "text/plain": [
       "Train Epoch::   0%|          | 0/1 [00:00<?, ?it/s]"
      ]
     },
     "metadata": {},
     "output_type": "display_data"
    },
    {
     "data": {
      "application/vnd.jupyter.widget-view+json": {
       "model_id": "481b090e17c84995882c19abb01b34a2",
       "version_major": 2,
       "version_minor": 0
      },
      "text/plain": [
       "Train Epoch::   0%|          | 0/1 [00:00<?, ?it/s]"
      ]
     },
     "metadata": {},
     "output_type": "display_data"
    },
    {
     "data": {
      "text/plain": [
       "{'proportions': array([[[0.56923077, 0.43076923],\n",
       "         [0.41538462, 0.58461538]]]),\n",
       " 'test_accs': array([[[0.91646635],\n",
       "         [1.        ]]]),\n",
       " 'test_losses': array([[[0.26264572],\n",
       "         [0.0210895 ]]]),\n",
       " 'best_states': [array([OrderedDict([('model.agents.0.cell.weight_ih_l0', tensor([[-0.0533,  0.0297, -0.0787,  ...,  0.0243, -0.1500, -0.1282],\n",
       "                 [ 0.0853,  0.1231,  0.0393,  ..., -0.0126,  0.0164, -0.0561],\n",
       "                 [-0.2064, -0.0840, -0.1307,  ...,  0.0174,  0.0348, -0.0960],\n",
       "                 ...,\n",
       "                 [ 0.0627,  0.1368, -0.0535,  ...,  0.1515, -0.0247,  0.1602],\n",
       "                 [-0.0100, -0.1515,  0.1424,  ...,  0.0387, -0.0263,  0.1210],\n",
       "                 [ 0.0909,  0.0483,  0.0157,  ...,  0.0232,  0.0820,  0.0086]],\n",
       "                device='cuda:0')), ('model.agents.0.cell.weight_hh_l0', tensor([[-0.0144, -0.0565,  0.0646,  ...,  0.0756, -0.0369, -0.0281],\n",
       "                 [-0.0303, -0.0933, -0.0030,  ..., -0.1008,  0.1664,  0.0396],\n",
       "                 [ 0.0533,  0.0754,  0.0544,  ..., -0.1083, -0.0442,  0.1633],\n",
       "                 ...,\n",
       "                 [-0.0334,  0.0905, -0.0382,  ...,  0.0529,  0.0471,  0.0291],\n",
       "                 [-0.0498,  0.0723, -0.0516,  ..., -0.0201,  0.1264,  0.1072],\n",
       "                 [ 0.0957,  0.0463,  0.0612,  ..., -0.1167, -0.0590, -0.0173]],\n",
       "                device='cuda:0')), ('model.agents.0.readout.weight', tensor([[-0.1004, -0.0950, -0.1270,  0.0129, -0.0117,  0.1236, -0.0528, -0.1112,\n",
       "                  -0.0436,  0.0424,  0.0783, -0.0873,  0.0866,  0.1086, -0.0418, -0.0800,\n",
       "                  -0.0073, -0.0728, -0.0143,  0.1104,  0.0265,  0.1406, -0.0671,  0.0099,\n",
       "                   0.0825, -0.0242, -0.0504, -0.0751, -0.0891,  0.0018, -0.0816, -0.0623,\n",
       "                   0.0339, -0.0564, -0.0445, -0.0611,  0.0089, -0.0982, -0.1091,  0.1139,\n",
       "                   0.1049, -0.0211, -0.0333,  0.0340, -0.1495, -0.0743, -0.0391,  0.0006,\n",
       "                   0.0222, -0.1072],\n",
       "                 [ 0.0161, -0.0465,  0.0779,  0.0228,  0.0129, -0.0383, -0.0314,  0.0349,\n",
       "                  -0.0643,  0.0213, -0.0736, -0.1141,  0.1144, -0.1090, -0.0507, -0.0607,\n",
       "                  -0.0737, -0.0620, -0.0783,  0.1119,  0.0484, -0.1219, -0.0575,  0.0426,\n",
       "                   0.0618,  0.0954, -0.0487,  0.0680,  0.0819, -0.0144, -0.0626, -0.1140,\n",
       "                  -0.1297,  0.1022,  0.0535, -0.0931, -0.0414, -0.0966,  0.0512,  0.0898,\n",
       "                   0.0381, -0.0409,  0.0166,  0.0872,  0.0628, -0.0509, -0.0603, -0.0368,\n",
       "                   0.0947, -0.1246]], device='cuda:0')), ('model.agents.1.cell.weight_ih_l0', tensor([[-1.8677e-01, -3.5155e-02, -3.4640e-02,  ...,  1.1231e-01,\n",
       "                  -6.3603e-02, -6.3492e-05],\n",
       "                 [ 1.0313e-01, -2.0839e-02, -1.0118e-01,  ..., -8.5479e-02,\n",
       "                  -1.4773e-01,  3.4063e-03],\n",
       "                 [ 4.3841e-02, -1.0012e-01, -3.8527e-02,  ...,  1.2699e-01,\n",
       "                  -7.7918e-02, -1.2339e-01],\n",
       "                 ...,\n",
       "                 [-1.2513e-02, -4.8259e-02,  6.6110e-03,  ...,  9.0653e-02,\n",
       "                  -3.3060e-03,  2.7581e-02],\n",
       "                 [ 3.0086e-02,  5.0498e-02, -1.2026e-01,  ..., -1.0442e-01,\n",
       "                  -2.8646e-02, -1.5130e-01],\n",
       "                 [ 2.6249e-02,  4.4800e-02, -3.4301e-02,  ..., -7.6959e-02,\n",
       "                  -1.2662e-01, -1.3695e-01]], device='cuda:0')), ('model.agents.1.cell.weight_hh_l0', tensor([[ 0.1091, -0.0397, -0.0204,  ...,  0.7054,  0.1255,  0.0432],\n",
       "                 [ 0.0589,  0.0330, -0.0148,  ..., -0.0334,  0.0859,  0.0914],\n",
       "                 [-0.1987,  0.0577, -0.0488,  ...,  0.2869, -0.1588,  0.0073],\n",
       "                 ...,\n",
       "                 [ 0.0158,  0.0995,  0.0774,  ...,  0.4528, -0.0753,  0.0763],\n",
       "                 [ 0.1306, -0.1119,  0.0180,  ...,  0.0872,  0.0954,  0.1420],\n",
       "                 [ 0.0155, -0.0529,  0.0963,  ..., -0.0718, -0.0755,  0.1023]],\n",
       "                device='cuda:0')), ('model.agents.1.readout.weight', tensor([[-3.1654e-01,  3.6221e-03,  2.9039e-02, -2.0007e-01, -3.1233e-01,\n",
       "                   6.0962e-02,  5.9227e-02, -3.0722e-01,  1.1772e-01, -8.5053e-04,\n",
       "                   2.1438e-01, -1.9976e-01, -1.5033e-01, -9.8576e-02,  1.1102e-01,\n",
       "                   2.0148e-01,  1.0085e-01, -1.0009e-01, -1.9041e-01, -3.1069e-01,\n",
       "                  -2.1596e-01, -7.5325e-02, -8.3189e-02, -2.4096e-02,  2.3193e-01,\n",
       "                   5.6370e-02,  2.6350e-01, -6.0808e-02, -7.6288e-02, -1.2596e-04,\n",
       "                  -9.9550e-02,  1.7003e-01,  2.5114e-01, -9.9369e-02,  1.9064e-01,\n",
       "                   7.9612e-02, -2.0188e-01,  6.0452e-02,  4.6411e-02, -1.1351e-02,\n",
       "                   9.3600e-02, -5.5969e-02,  1.3542e-01, -1.4297e-01,  7.8850e-02,\n",
       "                  -1.7703e-02,  3.4532e-04,  1.8128e-01, -8.1962e-02, -9.4041e-02],\n",
       "                 [ 3.2590e-01, -2.6890e-02,  1.1016e-01,  8.8091e-02,  1.0818e-01,\n",
       "                   6.7690e-02, -1.0737e-01,  2.7211e-01, -4.1787e-02, -1.9160e-01,\n",
       "                  -2.1533e-01, -1.1520e-02,  4.2583e-02,  7.6300e-02,  5.1058e-02,\n",
       "                  -3.0527e-01, -4.0647e-02,  1.0462e-01,  1.8915e-01,  2.6866e-01,\n",
       "                   2.8736e-01, -1.2105e-01, -6.6800e-02, -1.0921e-01, -1.3384e-01,\n",
       "                   1.2152e-01, -1.6178e-01, -1.1702e-01, -3.3253e-02, -2.1632e-01,\n",
       "                   1.1902e-01, -4.0910e-02, -1.9416e-01, -7.5346e-02, -1.4945e-01,\n",
       "                   6.2398e-02,  3.4736e-01,  7.0093e-02, -5.7558e-02, -2.1203e-02,\n",
       "                  -2.5252e-01,  2.7447e-01, -1.0566e-01,  1.7434e-01, -3.7688e-02,\n",
       "                  -7.4467e-02, -1.2911e-01, -1.3306e-01,  2.7510e-02, -5.6549e-02]],\n",
       "                device='cuda:0')), ('model.connections.0.weight', tensor([[ 0.0181, -0.0497,  0.0698,  ..., -0.0733, -0.1181, -0.0214],\n",
       "                 [-0.1282,  0.0849,  0.0612,  ...,  0.1069,  0.0642,  0.0851],\n",
       "                 [ 0.0766, -0.0678,  0.0126,  ..., -0.0633, -0.0745,  0.1380],\n",
       "                 ...,\n",
       "                 [-0.0956,  0.0446, -0.3496,  ..., -0.0371, -0.0880,  0.0062],\n",
       "                 [-0.1153,  0.1401, -0.1214,  ..., -0.0858,  0.1070,  0.0052],\n",
       "                 [-0.0610, -0.0474, -0.0783,  ...,  0.0514,  0.1071, -0.1160]],\n",
       "                device='cuda:0')), ('model.connections.0.w_mask', tensor([[False, False, False,  ..., False, False, False],\n",
       "                 [False, False, False,  ..., False, False, False],\n",
       "                 [False, False, False,  ..., False, False, False],\n",
       "                 ...,\n",
       "                 [False, False,  True,  ..., False, False, False],\n",
       "                 [False, False, False,  ..., False, False, False],\n",
       "                 [False, False, False,  ..., False, False, False]], device='cuda:0')), ('model.connections.1.weight', tensor([[-0.0294, -0.0377,  0.0187,  ..., -0.0010,  0.0312,  0.0750],\n",
       "                 [-0.1303,  0.0347, -0.0068,  ..., -0.0355, -0.0797, -0.0006],\n",
       "                 [-0.1057, -0.1160,  0.0933,  ...,  0.0844, -0.1097, -0.1016],\n",
       "                 ...,\n",
       "                 [ 0.0568,  0.0738, -0.0092,  ..., -0.0709, -0.0654,  0.0015],\n",
       "                 [-0.0637, -0.1338,  0.1118,  ...,  0.1348, -0.0521, -0.0304],\n",
       "                 [-0.0813,  0.1206, -0.0814,  ...,  0.1085, -0.0992, -0.0892]],\n",
       "                device='cuda:0')), ('model.connections.1.w_mask', tensor([[False, False, False,  ..., False, False, False],\n",
       "                 [False, False, False,  ..., False, False, False],\n",
       "                 [False, False, False,  ..., False, False, False],\n",
       "                 ...,\n",
       "                 [False, False, False,  ..., False, False, False],\n",
       "                 [False, False, False,  ..., False, False, False],\n",
       "                 [False, False, False,  ..., False, False, False]], device='cuda:0')), ('scores.0_cell_weight_hh_l0', tensor([[-0.0741,  0.1170, -0.0726,  ...,  0.0141,  0.0389, -0.0653],\n",
       "                 [-0.1062, -0.0471, -0.0454,  ...,  0.0662, -0.0507,  0.1138],\n",
       "                 [ 0.1228, -0.0205, -0.0475,  ...,  0.1089,  0.0136,  0.1717],\n",
       "                 ...,\n",
       "                 [-0.0724,  0.0242, -0.0656,  ..., -0.1028,  0.0060,  0.1219],\n",
       "                 [ 0.0933,  0.1011, -0.0653,  ...,  0.0174, -0.0259,  0.0254],\n",
       "                 [ 0.0698,  0.0149,  0.0232,  ...,  0.0113, -0.0283,  0.0457]],\n",
       "                device='cuda:0')), ('scores.0_readout_weight', tensor([[ 0.5451,  0.3188,  1.9588, -0.2255, -0.1847,  1.2807, -0.2355,  0.8648,\n",
       "                  -0.0310,  0.2972,  0.5827,  0.5288, -0.0731,  0.3220, -0.0389,  0.0849,\n",
       "                  -0.0239, -0.1747, -0.0948,  0.9838, -0.0873,  1.6649, -0.4114,  0.1886,\n",
       "                  -0.2599,  0.1419, -0.3130, -0.7460, -0.2876, -0.0934,  0.0940, -0.3269,\n",
       "                  -0.4071, -0.0425, -0.0216, -0.3265,  0.0974,  0.2340,  1.0400,  0.7144,\n",
       "                  -0.5480,  0.1409,  0.1890, -0.2036,  1.4003, -0.3003, -0.0954, -0.0275,\n",
       "                  -0.2746,  0.7776],\n",
       "                 [ 0.1273, -0.2796,  1.1532,  0.1633, -0.1303,  0.3099,  0.0681,  0.1769,\n",
       "                   0.1029, -0.1459,  0.6462, -0.7605,  0.0570,  0.3865,  0.2178,  0.0518,\n",
       "                   0.0444,  0.1090,  0.8553, -0.9200,  0.1640,  1.5300,  0.5778, -0.2432,\n",
       "                   0.0737,  0.2933,  0.2891, -0.6352, -0.2225, -0.1297, -0.1006,  0.6102,\n",
       "                  -1.7644, -0.0678, -0.0756,  0.6877,  0.2970, -0.2329,  0.4784, -0.7315,\n",
       "                   0.1413, -0.2254, -0.0270,  0.1428,  0.7435,  0.1607,  0.3860,  0.0915,\n",
       "                   1.0948, -0.9978]], device='cuda:0')), ('scores.1_cell_weight_hh_l0', tensor([[ 0.1079,  0.1199,  0.1028,  ..., -0.6239,  0.0233,  0.1012],\n",
       "                 [ 0.0165, -0.0365, -0.1081,  ...,  0.0007, -0.0869,  0.1006],\n",
       "                 [ 0.0919,  0.0345,  0.0665,  ..., -0.5422, -0.1418,  0.0595],\n",
       "                 ...,\n",
       "                 [-0.0858,  0.0676, -0.0562,  ...,  0.0628, -0.0747,  0.0397],\n",
       "                 [-0.0568, -0.0925, -0.0818,  ..., -0.0069,  0.1001,  0.0889],\n",
       "                 [ 0.0596, -0.0253,  0.0079,  ...,  0.0605,  0.0687, -0.0340]],\n",
       "                device='cuda:0')), ('scores.1_readout_weight', tensor([[ 5.6188e-02,  9.9653e-02,  3.2622e-02, -2.3717e+00, -6.8210e-02,\n",
       "                   4.7273e-02,  1.7090e-01,  1.3863e-01,  8.0552e-02,  6.6491e-03,\n",
       "                   8.7089e-02, -6.9158e-02,  4.6295e-02,  3.7086e-01,  4.1523e-02,\n",
       "                   1.4748e+00, -5.7399e-02,  9.3782e-03, -1.1078e-01,  1.4595e-01,\n",
       "                  -9.1628e-02, -1.1032e-02, -5.0914e-02,  8.4115e-02, -3.6952e-01,\n",
       "                  -9.0492e-04, -2.6525e-01, -9.9250e-02,  4.4808e-02,  5.2390e-02,\n",
       "                   5.5036e-02,  5.1719e-01,  1.0835e-01, -3.1114e-01,  1.8438e+00,\n",
       "                   2.4640e-02,  1.5111e+00, -8.5506e-02, -9.7907e-02,  6.8100e-03,\n",
       "                  -1.7922e-01, -3.9923e-02,  1.4160e-01, -5.9778e-02, -8.6583e-02,\n",
       "                   1.4683e-01, -8.1907e-04, -4.9932e-02,  4.0737e-02,  7.7712e-02],\n",
       "                 [ 1.1653e-01,  5.3349e-02,  2.6683e-01, -9.5463e-01, -1.1979e-01,\n",
       "                  -4.0631e-02,  6.2936e-01,  2.4818e-01, -1.1582e-01,  2.0680e+00,\n",
       "                  -8.1194e-02, -8.4981e-02, -1.1179e-01,  1.3120e-01,  9.1380e-02,\n",
       "                   2.0275e+00, -1.2116e-01, -7.7611e-02, -3.1870e-01,  2.8119e-02,\n",
       "                   6.8461e-02, -8.5413e-02,  1.9717e-01,  1.1782e-01, -2.1723e-01,\n",
       "                   1.6075e-02, -2.4274e-02,  6.5186e-02,  3.0360e-02, -1.0585e-01,\n",
       "                  -1.0654e-01,  1.8054e-01,  7.6348e-02,  1.7218e-01,  1.5311e+00,\n",
       "                  -4.0431e-02,  2.4352e+00, -9.7781e-02, -1.5364e-01,  8.0955e-02,\n",
       "                  -2.4683e-01, -2.0696e-01,  1.0695e-01, -1.5258e-01, -1.0304e-01,\n",
       "                  -2.9539e-01, -3.8314e-02, -5.3605e-02,  1.2425e-01, -3.8008e-02]],\n",
       "                device='cuda:0'))])                                                                                                                                                        ,\n",
       "         OrderedDict([('model.agents.0.cell.weight_ih_l0', tensor([[-0.0533,  0.0297, -0.0787,  ...,  0.0243, -0.1500, -0.1282],\n",
       "                 [ 0.0853,  0.1231,  0.0393,  ..., -0.0126,  0.0164, -0.0561],\n",
       "                 [-0.2064, -0.0840, -0.1307,  ...,  0.0174,  0.0348, -0.0960],\n",
       "                 ...,\n",
       "                 [ 0.0627,  0.1368, -0.0535,  ...,  0.1515, -0.0247,  0.1602],\n",
       "                 [-0.0100, -0.1515,  0.1424,  ...,  0.0387, -0.0263,  0.1210],\n",
       "                 [ 0.0909,  0.0483,  0.0157,  ...,  0.0232,  0.0820,  0.0086]],\n",
       "                device='cuda:0')), ('model.agents.0.cell.weight_hh_l0', tensor([[-0.0144, -0.0565,  0.0646,  ...,  0.0756, -0.0369, -0.0281],\n",
       "                 [-0.0303, -0.0933, -0.0030,  ..., -0.1008,  0.1664,  0.0396],\n",
       "                 [ 0.0533,  0.0754,  0.0544,  ..., -0.1083, -0.0442,  0.1633],\n",
       "                 ...,\n",
       "                 [-0.0334,  0.0905, -0.0382,  ...,  0.0529,  0.0471,  0.0291],\n",
       "                 [-0.0498,  0.0723, -0.0516,  ..., -0.0201,  0.1264,  0.1072],\n",
       "                 [ 0.0957,  0.0463,  0.0612,  ..., -0.1167, -0.0590, -0.0173]],\n",
       "                device='cuda:0')), ('model.agents.0.readout.weight', tensor([[-0.1004, -0.0950, -0.1270,  0.0129, -0.0117,  0.1236, -0.0528, -0.1112,\n",
       "                  -0.0436,  0.0424,  0.0783, -0.0873,  0.0866,  0.1086, -0.0418, -0.0800,\n",
       "                  -0.0073, -0.0728, -0.0143,  0.1104,  0.0265,  0.1406, -0.0671,  0.0099,\n",
       "                   0.0825, -0.0242, -0.0504, -0.0751, -0.0891,  0.0018, -0.0816, -0.0623,\n",
       "                   0.0339, -0.0564, -0.0445, -0.0611,  0.0089, -0.0982, -0.1091,  0.1139,\n",
       "                   0.1049, -0.0211, -0.0333,  0.0340, -0.1495, -0.0743, -0.0391,  0.0006,\n",
       "                   0.0222, -0.1072],\n",
       "                 [ 0.0161, -0.0465,  0.0779,  0.0228,  0.0129, -0.0383, -0.0314,  0.0349,\n",
       "                  -0.0643,  0.0213, -0.0736, -0.1141,  0.1144, -0.1090, -0.0507, -0.0607,\n",
       "                  -0.0737, -0.0620, -0.0783,  0.1119,  0.0484, -0.1219, -0.0575,  0.0426,\n",
       "                   0.0618,  0.0954, -0.0487,  0.0680,  0.0819, -0.0144, -0.0626, -0.1140,\n",
       "                  -0.1297,  0.1022,  0.0535, -0.0931, -0.0414, -0.0966,  0.0512,  0.0898,\n",
       "                   0.0381, -0.0409,  0.0166,  0.0872,  0.0628, -0.0509, -0.0603, -0.0368,\n",
       "                   0.0947, -0.1246]], device='cuda:0')), ('model.agents.1.cell.weight_ih_l0', tensor([[-1.8677e-01, -3.5155e-02, -3.4640e-02,  ...,  1.1231e-01,\n",
       "                  -6.3603e-02, -6.3492e-05],\n",
       "                 [ 1.0313e-01, -2.0839e-02, -1.0118e-01,  ..., -8.5479e-02,\n",
       "                  -1.4773e-01,  3.4063e-03],\n",
       "                 [ 4.3841e-02, -1.0012e-01, -3.8527e-02,  ...,  1.2699e-01,\n",
       "                  -7.7918e-02, -1.2339e-01],\n",
       "                 ...,\n",
       "                 [-1.2513e-02, -4.8259e-02,  6.6110e-03,  ...,  9.0653e-02,\n",
       "                  -3.3060e-03,  2.7581e-02],\n",
       "                 [ 3.0086e-02,  5.0498e-02, -1.2026e-01,  ..., -1.0442e-01,\n",
       "                  -2.8646e-02, -1.5130e-01],\n",
       "                 [ 2.6249e-02,  4.4800e-02, -3.4301e-02,  ..., -7.6959e-02,\n",
       "                  -1.2662e-01, -1.3695e-01]], device='cuda:0')), ('model.agents.1.cell.weight_hh_l0', tensor([[ 0.1091, -0.0397, -0.0204,  ...,  0.7054,  0.1255,  0.0432],\n",
       "                 [ 0.0589,  0.0330, -0.0148,  ..., -0.0334,  0.0859,  0.0914],\n",
       "                 [-0.1987,  0.0577, -0.0488,  ...,  0.2869, -0.1588,  0.0073],\n",
       "                 ...,\n",
       "                 [ 0.0158,  0.0995,  0.0774,  ...,  0.4528, -0.0753,  0.0763],\n",
       "                 [ 0.1306, -0.1119,  0.0180,  ...,  0.0872,  0.0954,  0.1420],\n",
       "                 [ 0.0155, -0.0529,  0.0963,  ..., -0.0718, -0.0755,  0.1023]],\n",
       "                device='cuda:0')), ('model.agents.1.readout.weight', tensor([[-3.1654e-01,  3.6221e-03,  2.9039e-02, -2.0007e-01, -3.1233e-01,\n",
       "                   6.0962e-02,  5.9227e-02, -3.0722e-01,  1.1772e-01, -8.5053e-04,\n",
       "                   2.1438e-01, -1.9976e-01, -1.5033e-01, -9.8576e-02,  1.1102e-01,\n",
       "                   2.0148e-01,  1.0085e-01, -1.0009e-01, -1.9041e-01, -3.1069e-01,\n",
       "                  -2.1596e-01, -7.5325e-02, -8.3189e-02, -2.4096e-02,  2.3193e-01,\n",
       "                   5.6370e-02,  2.6350e-01, -6.0808e-02, -7.6288e-02, -1.2596e-04,\n",
       "                  -9.9550e-02,  1.7003e-01,  2.5114e-01, -9.9369e-02,  1.9064e-01,\n",
       "                   7.9612e-02, -2.0188e-01,  6.0452e-02,  4.6411e-02, -1.1351e-02,\n",
       "                   9.3600e-02, -5.5969e-02,  1.3542e-01, -1.4297e-01,  7.8850e-02,\n",
       "                  -1.7703e-02,  3.4532e-04,  1.8128e-01, -8.1962e-02, -9.4041e-02],\n",
       "                 [ 3.2590e-01, -2.6890e-02,  1.1016e-01,  8.8091e-02,  1.0818e-01,\n",
       "                   6.7690e-02, -1.0737e-01,  2.7211e-01, -4.1787e-02, -1.9160e-01,\n",
       "                  -2.1533e-01, -1.1520e-02,  4.2583e-02,  7.6300e-02,  5.1058e-02,\n",
       "                  -3.0527e-01, -4.0647e-02,  1.0462e-01,  1.8915e-01,  2.6866e-01,\n",
       "                   2.8736e-01, -1.2105e-01, -6.6800e-02, -1.0921e-01, -1.3384e-01,\n",
       "                   1.2152e-01, -1.6178e-01, -1.1702e-01, -3.3253e-02, -2.1632e-01,\n",
       "                   1.1902e-01, -4.0910e-02, -1.9416e-01, -7.5346e-02, -1.4945e-01,\n",
       "                   6.2398e-02,  3.4736e-01,  7.0093e-02, -5.7558e-02, -2.1203e-02,\n",
       "                  -2.5252e-01,  2.7447e-01, -1.0566e-01,  1.7434e-01, -3.7688e-02,\n",
       "                  -7.4467e-02, -1.2911e-01, -1.3306e-01,  2.7510e-02, -5.6549e-02]],\n",
       "                device='cuda:0')), ('model.connections.0.weight', tensor([[ 0.0181, -0.0497,  0.0698,  ..., -0.0733, -0.1181, -0.0214],\n",
       "                 [-0.1282,  0.0849,  0.0612,  ...,  0.1069,  0.0642,  0.0851],\n",
       "                 [ 0.0766, -0.0678,  0.0126,  ..., -0.0633, -0.0745,  0.1380],\n",
       "                 ...,\n",
       "                 [-0.0956,  0.0446, -0.3496,  ..., -0.0371, -0.0880,  0.0062],\n",
       "                 [-0.1153,  0.1401, -0.1214,  ..., -0.0858,  0.1070,  0.0052],\n",
       "                 [-0.0610, -0.0474, -0.0783,  ...,  0.0514,  0.1071, -0.1160]],\n",
       "                device='cuda:0')), ('model.connections.0.w_mask', tensor([[False, False, False,  ..., False, False, False],\n",
       "                 [False, False, False,  ..., False, False, False],\n",
       "                 [False, False, False,  ..., False, False, False],\n",
       "                 ...,\n",
       "                 [False, False,  True,  ..., False, False, False],\n",
       "                 [False, False, False,  ..., False, False, False],\n",
       "                 [False, False, False,  ..., False, False, False]], device='cuda:0')), ('model.connections.1.weight', tensor([[-0.0294, -0.0377,  0.0187,  ..., -0.0010,  0.0312,  0.0750],\n",
       "                 [-0.1303,  0.0347, -0.0068,  ..., -0.0355, -0.0797, -0.0006],\n",
       "                 [-0.1057, -0.1160,  0.0933,  ...,  0.0844, -0.1097, -0.1016],\n",
       "                 ...,\n",
       "                 [ 0.0568,  0.0738, -0.0092,  ..., -0.0709, -0.0654,  0.0015],\n",
       "                 [-0.0637, -0.1338,  0.1118,  ...,  0.1348, -0.0521, -0.0304],\n",
       "                 [-0.0813,  0.1206, -0.0814,  ...,  0.1085, -0.0992, -0.0892]],\n",
       "                device='cuda:0')), ('model.connections.1.w_mask', tensor([[False, False, False,  ..., False, False, False],\n",
       "                 [False, False, False,  ..., False, False, False],\n",
       "                 [False, False, False,  ..., False, False, False],\n",
       "                 ...,\n",
       "                 [False, False, False,  ..., False, False, False],\n",
       "                 [False, False, False,  ..., False, False, False],\n",
       "                 [False, False, False,  ..., False, False, False]], device='cuda:0')), ('scores.0_cell_weight_hh_l0', tensor([[ 0.0758,  0.0800, -0.0525,  ..., -0.0918, -0.0775, -0.0221],\n",
       "                 [-0.0641,  0.1069, -0.0697,  ..., -0.1218, -0.0244, -0.0581],\n",
       "                 [-0.0834,  0.0308,  0.0345,  ..., -0.0262,  0.1010,  0.0757],\n",
       "                 ...,\n",
       "                 [ 0.0391, -0.0838, -0.1057,  ...,  0.0769, -0.0563,  0.0427],\n",
       "                 [-0.0680, -0.0117,  0.1064,  ...,  0.1197,  0.0202, -0.0272],\n",
       "                 [-0.0466, -0.0124, -0.0718,  ..., -0.0405, -0.0601,  0.0230]],\n",
       "                device='cuda:0')), ('scores.0_readout_weight', tensor([[ 0.0856,  0.0123,  0.0060, -0.0062, -0.0467,  0.0361, -0.0203,  0.0776,\n",
       "                   0.0156,  0.0842, -0.0934, -0.0718,  0.0538, -0.1209,  0.1018,  0.0522,\n",
       "                  -0.0693, -0.1083,  0.1269, -0.0758,  0.1004, -0.1303, -0.0051,  0.0363,\n",
       "                   0.0902, -0.0481, -0.0598,  0.0611, -0.0590,  0.0960, -0.0831, -0.0455,\n",
       "                  -0.1155,  0.0913,  0.0643, -0.0847,  0.1132,  0.0468, -0.0363,  0.0487,\n",
       "                  -0.1165, -0.1070,  0.0985, -0.0735,  0.0663,  0.0895, -0.0342, -0.0333,\n",
       "                  -0.0229, -0.1068],\n",
       "                 [-0.0604,  0.0037, -0.0388, -0.0065, -0.0230,  0.0447, -0.0153, -0.0131,\n",
       "                   0.0724,  0.0378,  0.0669, -0.0756,  0.0986,  0.1161,  0.0514,  0.0253,\n",
       "                  -0.0632,  0.0707, -0.0155,  0.0736,  0.0023,  0.0334, -0.1143, -0.0193,\n",
       "                  -0.0031,  0.0799, -0.0640, -0.0466,  0.1020, -0.0677,  0.0976,  0.1016,\n",
       "                  -0.0630, -0.1095,  0.0982,  0.0809,  0.0137,  0.0443, -0.0499, -0.0148,\n",
       "                  -0.0757,  0.0431, -0.0154, -0.0347, -0.1178, -0.0466, -0.1023, -0.1280,\n",
       "                   0.1154,  0.0185]], device='cuda:0')), ('scores.1_cell_weight_hh_l0', tensor([[-0.0194, -0.0545,  0.1008,  ...,  0.0502, -0.1037,  0.0532],\n",
       "                 [-0.0658,  0.1256,  0.0575,  ..., -0.0393,  0.0882,  0.1230],\n",
       "                 [-0.0833, -0.0333,  0.0697,  ...,  0.0332, -0.0644,  0.0651],\n",
       "                 ...,\n",
       "                 [ 0.0291,  0.0558, -0.0282,  ...,  0.1046,  0.0555, -0.0057],\n",
       "                 [ 0.1287,  0.0683,  0.0830,  ..., -0.0238, -0.0558,  0.0936],\n",
       "                 [-0.1254, -0.0374,  0.1099,  ..., -0.1006, -0.1064,  0.0242]],\n",
       "                device='cuda:0')), ('scores.1_readout_weight', tensor([[ 1.8973, -0.0599, -0.1656,  1.0172, -0.9405,  0.0417, -0.1469,  2.1724,\n",
       "                  -0.3694,  0.0540, -1.1038,  0.3791, -0.3347,  0.0598, -0.0549,  1.3905,\n",
       "                  -0.0564, -0.5220, -1.1242,  2.0751,  1.2846,  0.4216, -0.3729, -0.1757,\n",
       "                  -0.9267, -0.1125, -0.8259, -0.3593,  0.0899, -0.0531, -0.2087,  0.9208,\n",
       "                   0.2355, -0.2000, -1.0004, -0.1186,  1.2248, -0.1193, -0.0501, -0.0266,\n",
       "                  -0.6642, -0.2281,  0.7643, -0.3064, -0.1145,  0.1397, -0.0330,  0.4519,\n",
       "                   0.1553, -0.0213],\n",
       "                 [ 1.7231, -0.1289,  0.2127,  0.3899, -0.4500, -0.1597, -0.0459,  1.9464,\n",
       "                  -0.0208,  0.7985, -1.1600, -0.0202, -0.2048,  0.2500, -0.0048,  1.9374,\n",
       "                  -0.1141, -0.4321, -1.1342,  1.6954,  1.6040, -0.7184,  0.1638,  0.3157,\n",
       "                  -0.4407,  0.2153, -0.4706,  0.4066,  0.0039, -1.1091, -0.3237,  0.1852,\n",
       "                   0.2659,  0.1217, -0.8353,  0.1081,  2.2237,  0.0513,  0.0216, -0.0851,\n",
       "                  -1.8077, -1.4863,  0.6155, -0.4797, -0.0482, -0.1169,  0.0160,  0.3908,\n",
       "                   0.1635,  0.1086]], device='cuda:0'))])                                                                                                                                  ],\n",
       "        dtype=object)],\n",
       " 'sparsities': array([[0.1, 0.1]])}"
      ]
     },
     "execution_count": 86,
     "metadata": {},
     "output_type": "execute_result"
    }
   ],
   "source": [
    "train_and_get_mask_metric(community, 0.1, loaders, n_tests=1, n_epochs=1, symbols=True, use_tqdm=True)"
   ]
  },
  {
   "cell_type": "code",
   "execution_count": 114,
   "metadata": {},
   "outputs": [],
   "source": [
    "test_acc = 1. \n",
    "min_acc = 0.5"
   ]
  },
  {
   "cell_type": "code",
   "execution_count": 111,
   "metadata": {},
   "outputs": [],
   "source": [
    "def conditional_loop(test_acc, min_acc):\n",
    "    condition = test_acc >= min_acc\n",
    "    print(condition)\n",
    "    while condition :\n",
    "        yield"
   ]
  },
  {
   "cell_type": "code",
   "execution_count": 115,
   "metadata": {},
   "outputs": [
    {
     "data": {
      "application/vnd.jupyter.widget-view+json": {
       "model_id": "05d01965f97943fa930bb5a924b0f5b9",
       "version_major": 2,
       "version_minor": 0
      },
      "text/plain": [
       "  0%|          | 0/100 [00:00<?, ?it/s]"
      ]
     },
     "metadata": {},
     "output_type": "display_data"
    }
   ],
   "source": [
    "from tqdm.notebook import tqdm\n",
    "pbar = tqdm(total=100)\n",
    "while test_acc > min_acc : \n",
    "    pbar.update(1)\n",
    "    pbar.set_description(f'For Mask of Sparsity {0.1}, Acc is {test_acc}')\n",
    "    test_acc *= 0.9"
   ]
  },
  {
   "cell_type": "code",
   "execution_count": 112,
   "metadata": {},
   "outputs": [
    {
     "data": {
      "application/vnd.jupyter.widget-view+json": {
       "model_id": "6258567a8b3643b58e7a13536e7b825c",
       "version_major": 2,
       "version_minor": 0
      },
      "text/plain": [
       "0it [00:00, ?it/s]"
      ]
     },
     "metadata": {},
     "output_type": "display_data"
    },
    {
     "name": "stderr",
     "output_type": "stream",
     "text": [
      "IOPub message rate exceeded.\n",
      "The notebook server will temporarily stop sending output\n",
      "to the client in order to avoid crashing it.\n",
      "To change this limit, set the config variable\n",
      "`--NotebookApp.iopub_msg_rate_limit`.\n",
      "\n",
      "Current values:\n",
      "NotebookApp.iopub_msg_rate_limit=1000.0 (msgs/sec)\n",
      "NotebookApp.rate_limit_window=3.0 (secs)\n",
      "\n"
     ]
    }
   ],
   "source": [
    "pbar = tqdm(conditional_loop(test_acc, min_acc))\n",
    "for _ in pbar : \n",
    "    pbar.set_description(f'For Mask of Sparsity {0.1}, Acc is {test_acc}')\n",
    "    test_acc *= 0.9"
   ]
  },
  {
   "cell_type": "code",
   "execution_count": 99,
   "metadata": {},
   "outputs": [
    {
     "data": {
      "text/plain": [
       "2.5e-323"
      ]
     },
     "execution_count": 99,
     "metadata": {},
     "output_type": "execute_result"
    }
   ],
   "source": [
    "min_acc"
   ]
  }
 ],
 "metadata": {
  "kernelspec": {
   "display_name": "Python 3.10.4 ('community')",
   "language": "python",
   "name": "python3"
  },
  "language_info": {
   "codemirror_mode": {
    "name": "ipython",
    "version": 3
   },
   "file_extension": ".py",
   "mimetype": "text/x-python",
   "name": "python",
   "nbconvert_exporter": "python",
   "pygments_lexer": "ipython3",
   "version": "3.10.4"
  },
  "orig_nbformat": 4,
  "vscode": {
   "interpreter": {
    "hash": "5c46eabf39b4d4e6cb6668853226ee702b3f0cb279968f228c052b13b97983d9"
   }
  }
 },
 "nbformat": 4,
 "nbformat_minor": 2
}
